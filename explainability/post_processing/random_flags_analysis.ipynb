{
 "cells": [
  {
   "cell_type": "markdown",
   "source": [
    "### Perform explanation based on randomly flagging one or more branches.\n",
    "For n_branches_active_i in n_branches:\n",
    "   &nbsp; - For trial_i in n_trials:\n",
    "   &emsp;    - Randomly select n_branches_active_i and flag them\n",
    "   &emsp;    - Compute precision, recall and other performance metrics\n",
    "   &nbsp; - Compute mean of performance metrics across trials"
   ],
   "metadata": {
    "collapsed": false
   }
  },
  {
   "cell_type": "code",
   "execution_count": 1,
   "outputs": [
    {
     "name": "stdout",
     "output_type": "stream",
     "text": [
      "Populating the interactive namespace from numpy and matplotlib\n"
     ]
    }
   ],
   "source": [
    "# import random\n",
    "import pandas as pd\n",
    "import numpy as np\n",
    "%pylab inline"
   ],
   "metadata": {
    "collapsed": false
   }
  },
  {
   "cell_type": "code",
   "execution_count": 24,
   "id": "231609c6",
   "metadata": {},
   "outputs": [],
   "source": [
    "def random_n_choice(n, n_examples, n_groupings):\n",
    "    \"\"\" Populate table of explanations randomly. Set `n` grouping of features as explanation for the score.\n",
    "\n",
    "    :param n: int, number of groupings of features set as explaining the score for any example.\n",
    "    :param n_examples: int, number of examples\n",
    "    :param n_groupings: int, number of groupings of features\n",
    "    :return:\n",
    "        NumPy array, random explanations\n",
    "    \"\"\"\n",
    "\n",
    "    random_array=np.zeros([n_examples, n_groupings])\n",
    "    for i in range(n_examples):\n",
    "        # choose n out of n_groupings\n",
    "        ind_of_pos=np.random.choice(np.arange(0,n_groupings),size=n, replace=False)\n",
    "        random_array[i][ind_of_pos]=1\n",
    "\n",
    "    return random_array"
   ]
  },
  {
   "cell_type": "code",
   "execution_count": 36,
   "id": "95dc2115",
   "metadata": {},
   "outputs": [],
   "source": [
    "# test random flags generator function\n",
    "test_2=random_n_choice(2, 3063, 5)"
   ]
  },
  {
   "cell_type": "code",
   "execution_count": 28,
   "id": "545880ab",
   "metadata": {},
   "outputs": [],
   "source": [
    "# Read SHAP scores\n",
    "test=pd.read_csv('/nobackup/khauskne/kdd/all_shap_scores.csv')"
   ]
  },
  {
   "cell_type": "code",
   "execution_count": 29,
   "id": "40773bea",
   "metadata": {},
   "outputs": [],
   "source": [
    "# Read Robovetter Minor Flags\n",
    "robo_flags=pd.read_csv('/nobackup/khauskne/kdd/robovetter_flags_all_DR25.csv')"
   ]
  },
  {
   "cell_type": "code",
   "execution_count": 30,
   "id": "a031d3c4",
   "metadata": {},
   "outputs": [],
   "source": [
    "# Merge Robovetter Minor Flags with SHAP scores\n",
    "test_csv=pd.merge(test, robo_flags, on=['target_id', 'tce_plnt_num'], how='left', validate='one_to_one')"
   ]
  },
  {
   "cell_type": "code",
   "execution_count": 31,
   "id": "2ec1057c",
   "metadata": {},
   "outputs": [],
   "source": [
    "# choose only columns of interest\n",
    "shap_array=np.array(test_csv[test_csv.columns[4:11]])\n",
    "robo_array=np.array(test_csv[test_csv.columns[20:]])"
   ]
  },
  {
   "cell_type": "code",
   "execution_count": 32,
   "id": "00f72b2b",
   "metadata": {},
   "outputs": [],
   "source": [
    "def post_process_flags(robo_flags, branch_explanations):\n",
    "\n",
    "    branch_inds_to_keep=[1,2,3,4,6]\n",
    "    \n",
    "    robo_new=np.moveaxis(robo_flags ,0, -1)[branch_inds_to_keep]\n",
    "    robo_new=np.moveaxis(robo_new, 0, -1)\n",
    "    \n",
    "    exp_new=np.moveaxis(branch_explanations, 0, -1)\n",
    "    # global_flux=exp_new[0]\n",
    "    # local_flux=exp_new[1]\n",
    "    # greater_flux=np.amax(test_csv[test_csv.columns[4:6]], axis=1)\n",
    "    greater_flux=np.amax(branch_explanations[0:2], axis=1)\n",
    "    #combined_flux=np.where(added_flux>0, 1, 0)\n",
    "    exp_new=exp_new[branch_inds_to_keep]\n",
    "    exp_new[0]=greater_flux\n",
    "    exp_new=np.moveaxis(exp_new, 0, -1)\n",
    "    \n",
    "    return robo_new, exp_new"
   ]
  },
  {
   "cell_type": "code",
   "execution_count": 33,
   "id": "33fae7d6",
   "metadata": {},
   "outputs": [],
   "source": [
    "robo, _=post_process_flags(robo_array, shap_array)"
   ]
  },
  {
   "cell_type": "code",
   "execution_count": 35,
   "id": "430db3a2",
   "metadata": {},
   "outputs": [],
   "source": [
    "from sklearn.metrics import precision_score\n",
    "from sklearn.metrics import recall_score\n",
    "from sklearn.metrics import jaccard_score\n",
    "from sklearn.metrics import accuracy_score\n",
    "from sklearn.metrics import hamming_loss"
   ]
  },
  {
   "cell_type": "code",
   "execution_count": 43,
   "id": "d2433512",
   "metadata": {},
   "outputs": [],
   "source": [
    "def run_x_trials(x, n):\n",
    "    \"\"\" Run random flag generating trials and compute performance metrics for each trial.\n",
    "\n",
    "    Args:\n",
    "        x: int, number of trials\n",
    "        n: int, number of groupings of features set as explaining the score for any example.\n",
    "\n",
    "    Returns:\n",
    "\n",
    "    \"\"\"\n",
    "\n",
    "    prec_micro=[]\n",
    "    rec_micro=[]\n",
    "    prec_macro=[]\n",
    "    rec_macro=[]\n",
    "    prec_weighted=[]\n",
    "    rec_weighted=[]\n",
    "    hamming=[]\n",
    "    accuracy=[]\n",
    "    jacc=[]\n",
    "\n",
    "    for i in range(x):\n",
    "        rand_pred=random_n_choice(n, 3063, 5)\n",
    "        prec_micro.append(precision_score(robo, rand_pred, average='micro'))\n",
    "        rec_micro.append(recall_score(robo, rand_pred, average='micro'))\n",
    "        \n",
    "        prec_macro.append(precision_score(robo, rand_pred, average='macro'))\n",
    "        rec_macro.append(recall_score(robo, rand_pred, average='macro'))\n",
    "        \n",
    "        prec_weighted.append(precision_score(robo, rand_pred, average='weighted'))\n",
    "        rec_weighted.append(recall_score(robo, rand_pred, average='weighted'))\n",
    "        \n",
    "        hamming.append(hamming_loss(robo, rand_pred))\n",
    "        accuracy.append(accuracy_score(robo, rand_pred))\n",
    "        jacc.append(jaccard_score(robo, rand_pred, average='weighted'))\n",
    "\n",
    "    print(str(np.round(np.mean(prec_micro),4))+' \\& ' + str(np.round(np.mean(rec_micro),4)))\n",
    "    print(str(np.round(np.mean(prec_macro),4))+' \\& ' + str(np.round(np.mean(rec_macro),4)))\n",
    "    print(str(np.round(np.mean(prec_weighted),4))+' \\& ' + str(np.round(np.mean(rec_weighted),4)))\n",
    "    print(np.mean(hamming))\n",
    "    print(np.mean(accuracy))\n",
    "    print(np.mean(jacc))\n",
    "\n",
    "    return\n",
    "    "
   ]
  },
  {
   "cell_type": "code",
   "execution_count": 46,
   "id": "12d957f2",
   "metadata": {},
   "outputs": [
    {
     "name": "stdout",
     "output_type": "stream",
     "text": [
      "0.1973 \\& 0.1991\n",
      "0.1963 \\& 0.1987\n",
      "0.5124 \\& 0.1991\n",
      "0.3192033953640222\n",
      "0.13114593535749264\n",
      "0.14806107163348456\n"
     ]
    }
   ],
   "source": [
    "run_x_trials(10, 1)"
   ]
  },
  {
   "cell_type": "code",
   "execution_count": 47,
   "id": "b1dfb305",
   "metadata": {},
   "outputs": [
    {
     "name": "stdout",
     "output_type": "stream",
     "text": [
      "0.1989 \\& 0.4015\n",
      "0.1987 \\& 0.3957\n",
      "0.5186 \\& 0.4015\n",
      "0.4390205680705191\n",
      "0.013679399281749915\n",
      "0.2646140680292526\n"
     ]
    }
   ],
   "source": [
    "run_x_trials(10, 2)"
   ]
  },
  {
   "cell_type": "code",
   "execution_count": 48,
   "id": "a2cd42ac",
   "metadata": {},
   "outputs": [
    {
     "name": "stdout",
     "output_type": "stream",
     "text": [
      "0.1978 \\& 0.5991\n",
      "0.1984 \\& 0.6031\n",
      "0.5143 \\& 0.5991\n",
      "0.5607182500816192\n",
      "0.0020894547828925886\n",
      "0.3565656463027673\n"
     ]
    }
   ],
   "source": [
    "run_x_trials(10, 3)"
   ]
  },
  {
   "cell_type": "code",
   "execution_count": 49,
   "id": "d79add70",
   "metadata": {},
   "outputs": [],
   "source": [
    "def per_class_prec_rec_top_n(robo_array, occlusion_array, n, branch_ind):\n",
    "\n",
    "    robo, occlusion=post_process_flags(robo_array, occlusion_array)\n",
    "\n",
    "    for index in range(len(occlusion)):\n",
    "        tce=occlusion[index]\n",
    "        max_contrib=np.argsort(tce)[-1*n:]\n",
    "        occlusion[index]=np.zeros([5])\n",
    "        occlusion[index][max_contrib]=1\n",
    "\n",
    "    robo_branch=np.moveaxis(robo, 0, -1)[branch_ind]\n",
    "    occ_branch=np.moveaxis(occlusion, 0, -1)[branch_ind]\n",
    "    weighted_prec=precision_score(robo_branch, occ_branch)\n",
    "    weighted_rec=recall_score(robo_branch,occ_branch)\n",
    "\n",
    "    print(str(np.round(weighted_prec, 4))+' \\& '+str(np.round(weighted_rec, 4)) )\n",
    "\n",
    "    return weighted_prec, weighted_rec"
   ]
  }
 ],
 "metadata": {
  "kernelspec": {
   "display_name": "Python 3 (ipykernel)",
   "language": "python",
   "name": "python3"
  },
  "language_info": {
   "codemirror_mode": {
    "name": "ipython",
    "version": 3
   },
   "file_extension": ".py",
   "mimetype": "text/x-python",
   "name": "python",
   "nbconvert_exporter": "python",
   "pygments_lexer": "ipython3",
   "version": "3.8.5"
  }
 },
 "nbformat": 4,
 "nbformat_minor": 5
}
