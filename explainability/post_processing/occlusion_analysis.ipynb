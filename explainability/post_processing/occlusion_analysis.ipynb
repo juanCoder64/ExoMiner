{
 "cells": [
  {
   "cell_type": "markdown",
   "source": [
    "### Post-processing analysis for occlusion method"
   ],
   "metadata": {
    "collapsed": false
   }
  },
  {
   "cell_type": "code",
   "execution_count": 3,
   "outputs": [
    {
     "name": "stdout",
     "output_type": "stream",
     "text": [
      "Populating the interactive namespace from numpy and matplotlib\n"
     ]
    }
   ],
   "source": [
    "# 3rd party\n",
    "import pandas as pd\n",
    "import numpy as np\n",
    "from pathlib import Path\n",
    "%pylab inline"
   ],
   "metadata": {
    "collapsed": false
   }
  },
  {
   "cell_type": "markdown",
   "source": [
    "# Reading results for train, val and test sets"
   ],
   "metadata": {
    "collapsed": false
   }
  },
  {
   "cell_type": "code",
   "execution_count": 4,
   "id": "5d650878",
   "metadata": {
    "ExecuteTime": {
     "start_time": "2023-04-20T14:10:19.248915Z",
     "end_time": "2023-04-20T14:10:19.342404Z"
    }
   },
   "outputs": [],
   "source": [
    "# Reading data from occlusion test\n",
    "occlusion_root_dir = Path('/Users/msaragoc/Library/CloudStorage/OneDrive-NASA/Projects/exoplanet_transit_classification/interns/kaylie_explainability/kdd/occlusion_data')\n",
    "# train=pd.read_csv('/nobackup/khauskne/kdd/occlusion_data/train_occlusion.csv')\n",
    "# val=pd.read_csv('/nobackup/khauskne/kdd/occlusion_data/val_occlusion.csv')\n",
    "# test=pd.read_csv('/nobackup/khauskne/kdd/occlusion_data/test_occlusion.csv')\n",
    "train=pd.read_csv(occlusion_root_dir / 'train_occlusion.csv')\n",
    "val=pd.read_csv(occlusion_root_dir / 'val_occlusion.csv')\n",
    "test=pd.read_csv(occlusion_root_dir / 'test_occlusion.csv')"
   ]
  },
  {
   "cell_type": "code",
   "execution_count": 17,
   "outputs": [
    {
     "data": {
      "text/plain": "30959"
     },
     "execution_count": 17,
     "metadata": {},
     "output_type": "execute_result"
    }
   ],
   "source": [
    "len(train) + len(val) + len(test)"
   ],
   "metadata": {
    "collapsed": false,
    "ExecuteTime": {
     "start_time": "2023-04-20T14:14:33.863849Z",
     "end_time": "2023-04-20T14:14:33.874292Z"
    }
   }
  },
  {
   "cell_type": "markdown",
   "source": [
    "# Load Roobovetter flag table"
   ],
   "metadata": {
    "collapsed": false
   }
  },
  {
   "cell_type": "code",
   "execution_count": 5,
   "id": "b6881a6a",
   "metadata": {
    "ExecuteTime": {
     "start_time": "2023-04-20T14:10:44.712219Z",
     "end_time": "2023-04-20T14:10:44.806569Z"
    }
   },
   "outputs": [],
   "source": [
    "# Loading Robovetter Minor Flags\n",
    "# robo_flags=pd.read_csv('/nobackup/khauskne/kdd/robovetter_flags_all_DR25.csv')\n",
    "robo_flags = pd.read_csv('/Users/msaragoc/Library/CloudStorage/OneDrive-NASA/Projects/exoplanet_transit_classification/interns/kaylie_explainability/kdd/robovetter_flags_all_DR25.csv')"
   ]
  },
  {
   "cell_type": "code",
   "execution_count": 8,
   "outputs": [
    {
     "data": {
      "text/plain": "   Unnamed: 0  target_id  tce_plnt_num           TCE  Robovetter_Score  \\\n0           0     757099             1  000757099-01             0.000   \n1           1     757450             1  000757450-01             0.999   \n2           2     892376             1  000892376-01             0.000   \n3           3     892376             2  000892376-02             0.000   \n4           4     892376             3  000892376-03             0.000   \n\n  Disposition  Not_Transit-Like_Flag  Stellar_Eclipse_Flag  \\\n0          FP                      1                     0   \n1          PC                      0                     0   \n2          FP                      1                     0   \n3          FP                      1                     0   \n4          FP                      1                     0   \n\n   Centroid_Offset_Flag  Ephemeris_Match_Flag  \\\n0                     0                     0   \n1                     0                     0   \n2                     0                     0   \n3                     0                     0   \n4                     0                     0   \n\n                             Minor_Descriptive_Flags  Global Flux Flag  \\\n0                  LPP_DV---LPP_ALT---MOD_NONUNIQ_DV                 0   \n1                                         NO_COMMENT                 0   \n2  INDIV_TRANS_CHASES_MARSHALL---LPP_DV---ALL_TRA...                 0   \n3             LPP_DV---MOD_NONUNIQ_DV---CENT_KIC_POS                 0   \n4  INDIV_TRANS_RUBBLE---TRANS_GAPPED---LPP_DV---L...                 0   \n\n   Local Flux Flag  Centroid Flag  Odd Even Flag  Secondary Flag  \\\n0                1              0              0               0   \n1                0              0              0               0   \n2                1              0              0               0   \n3                1              0              0               0   \n4                1              0              0               0   \n\n   Stellar Flag  DV Flag  \n0             0        0  \n1             0        0  \n2             0        0  \n3             0        0  \n4             0        0  ",
      "text/html": "<div>\n<style scoped>\n    .dataframe tbody tr th:only-of-type {\n        vertical-align: middle;\n    }\n\n    .dataframe tbody tr th {\n        vertical-align: top;\n    }\n\n    .dataframe thead th {\n        text-align: right;\n    }\n</style>\n<table border=\"1\" class=\"dataframe\">\n  <thead>\n    <tr style=\"text-align: right;\">\n      <th></th>\n      <th>Unnamed: 0</th>\n      <th>target_id</th>\n      <th>tce_plnt_num</th>\n      <th>TCE</th>\n      <th>Robovetter_Score</th>\n      <th>Disposition</th>\n      <th>Not_Transit-Like_Flag</th>\n      <th>Stellar_Eclipse_Flag</th>\n      <th>Centroid_Offset_Flag</th>\n      <th>Ephemeris_Match_Flag</th>\n      <th>Minor_Descriptive_Flags</th>\n      <th>Global Flux Flag</th>\n      <th>Local Flux Flag</th>\n      <th>Centroid Flag</th>\n      <th>Odd Even Flag</th>\n      <th>Secondary Flag</th>\n      <th>Stellar Flag</th>\n      <th>DV Flag</th>\n    </tr>\n  </thead>\n  <tbody>\n    <tr>\n      <th>0</th>\n      <td>0</td>\n      <td>757099</td>\n      <td>1</td>\n      <td>000757099-01</td>\n      <td>0.000</td>\n      <td>FP</td>\n      <td>1</td>\n      <td>0</td>\n      <td>0</td>\n      <td>0</td>\n      <td>LPP_DV---LPP_ALT---MOD_NONUNIQ_DV</td>\n      <td>0</td>\n      <td>1</td>\n      <td>0</td>\n      <td>0</td>\n      <td>0</td>\n      <td>0</td>\n      <td>0</td>\n    </tr>\n    <tr>\n      <th>1</th>\n      <td>1</td>\n      <td>757450</td>\n      <td>1</td>\n      <td>000757450-01</td>\n      <td>0.999</td>\n      <td>PC</td>\n      <td>0</td>\n      <td>0</td>\n      <td>0</td>\n      <td>0</td>\n      <td>NO_COMMENT</td>\n      <td>0</td>\n      <td>0</td>\n      <td>0</td>\n      <td>0</td>\n      <td>0</td>\n      <td>0</td>\n      <td>0</td>\n    </tr>\n    <tr>\n      <th>2</th>\n      <td>2</td>\n      <td>892376</td>\n      <td>1</td>\n      <td>000892376-01</td>\n      <td>0.000</td>\n      <td>FP</td>\n      <td>1</td>\n      <td>0</td>\n      <td>0</td>\n      <td>0</td>\n      <td>INDIV_TRANS_CHASES_MARSHALL---LPP_DV---ALL_TRA...</td>\n      <td>0</td>\n      <td>1</td>\n      <td>0</td>\n      <td>0</td>\n      <td>0</td>\n      <td>0</td>\n      <td>0</td>\n    </tr>\n    <tr>\n      <th>3</th>\n      <td>3</td>\n      <td>892376</td>\n      <td>2</td>\n      <td>000892376-02</td>\n      <td>0.000</td>\n      <td>FP</td>\n      <td>1</td>\n      <td>0</td>\n      <td>0</td>\n      <td>0</td>\n      <td>LPP_DV---MOD_NONUNIQ_DV---CENT_KIC_POS</td>\n      <td>0</td>\n      <td>1</td>\n      <td>0</td>\n      <td>0</td>\n      <td>0</td>\n      <td>0</td>\n      <td>0</td>\n    </tr>\n    <tr>\n      <th>4</th>\n      <td>4</td>\n      <td>892376</td>\n      <td>3</td>\n      <td>000892376-03</td>\n      <td>0.000</td>\n      <td>FP</td>\n      <td>1</td>\n      <td>0</td>\n      <td>0</td>\n      <td>0</td>\n      <td>INDIV_TRANS_RUBBLE---TRANS_GAPPED---LPP_DV---L...</td>\n      <td>0</td>\n      <td>1</td>\n      <td>0</td>\n      <td>0</td>\n      <td>0</td>\n      <td>0</td>\n      <td>0</td>\n    </tr>\n  </tbody>\n</table>\n</div>"
     },
     "execution_count": 8,
     "metadata": {},
     "output_type": "execute_result"
    }
   ],
   "source": [
    "robo_flags.head()"
   ],
   "metadata": {
    "collapsed": false
   }
  },
  {
   "cell_type": "code",
   "execution_count": 13,
   "outputs": [],
   "source": [
    "# Merging Robovetter Flags with test set occlusion results\n",
    "test_csv=pd.merge(test, robo_flags, on=['target_id', 'tce_plnt_num'], validate='one_to_one', how='left')"
   ],
   "metadata": {
    "collapsed": false
   }
  },
  {
   "cell_type": "code",
   "execution_count": 14,
   "outputs": [
    {
     "data": {
      "text/plain": "      Unnamed: 0_x  target_id  tce_plnt_num  label  tce_period  tce_duration  \\\n0                0   12024018             1      0    2.269770      0.282792   \n1                1   11043167             1      1   44.930801      0.276333   \n2                2    9777256             1      0    1.332520      0.171708   \n3                3    9092940             1      0    1.781950      0.430000   \n4                4   11661803             4      0  380.739990      0.136583   \n...            ...        ...           ...    ...         ...           ...   \n3058          3058    9395222             2      0    1.487320      0.091958   \n3059          3059    5265699             6      0   68.721001      0.527917   \n3060          3060    7552265             2      0    3.256160      0.323500   \n3061          3061    2162904             1      0    1.539780      0.223750   \n3062          3062    7448057             3      0  154.835999      0.257583   \n\n     original_label    full score   Global Flux    Local Flux  ...  \\\n0               NTP  1.482549e-06  9.004826e-04  1.016935e-06  ...   \n1                PC  9.969519e-01 -6.177008e-02 -5.464447e-02  ...   \n2               AFP  1.753844e-04  2.144183e-03  7.636681e-05  ...   \n3               NTP  4.553115e-12  9.893955e-06  3.038070e-10  ...   \n4               NTP  9.473344e-07  7.053150e-07 -1.835994e-07  ...   \n...             ...           ...           ...           ...  ...   \n3058            NTP  2.621491e-14  3.270125e-09  8.738597e-12  ...   \n3059            NTP  7.042158e-04  8.565247e-04  1.245781e-03  ...   \n3060            NTP  2.058248e-14  3.088955e-11  2.054040e-13  ...   \n3061            NTP  9.639923e-14  2.829257e-09  1.073271e-10  ...   \n3062            NTP  5.736630e-13  1.590002e-12  3.510522e-10  ...   \n\n      Centroid_Offset_Flag  Ephemeris_Match_Flag  \\\n0                        0                     0   \n1                        0                     0   \n2                        0                     1   \n3                        0                     0   \n4                        0                     0   \n...                    ...                   ...   \n3058                     1                     0   \n3059                     0                     0   \n3060                     0                     0   \n3061                     0                     0   \n3062                     0                     0   \n\n                                Minor_Descriptive_Flags  Global Flux Flag  \\\n0     LPP_DV---LPP_ALT---MOD_NONUNIQ_DV---MOD_NONUNI...                 0   \n1                                            NO_COMMENT                 0   \n2                          CENT_FEW_DIFFS---EPHEM_MATCH                 0   \n3                   SWEET_NTL---LPP_DV---MOD_NONUNIQ_DV                 0   \n4     INDIV_TRANS_CHASES_SKYE---ALL_TRANS_CHASES---C...                 0   \n...                                                 ...               ...   \n3058  SWEET_NTL---LPP_DV---MOD_NONUNIQ_ALT---SAME_NT...                 0   \n3059  INDIV_TRANS_RUBBLE---TRANS_GAPPED---LPP_DV---M...                 0   \n3060  INDIV_TRANS_RUBBLE_SKYE_ZUMA_TRACKER---SWEET_N...                 0   \n3061  LPP_DV---LPP_ALT---MOD_NONUNIQ_DV---MOD_NONUNI...                 0   \n3062  LPP_DV---MOD_NONUNIQ_DV---MOD_TER_DV---MOD_POS...                 0   \n\n      Local Flux Flag  Centroid Flag Odd Even Flag  Secondary Flag  \\\n0                   1              0             0               0   \n1                   0              0             0               0   \n2                   0              0             0               0   \n3                   1              0             0               0   \n4                   0              0             0               0   \n...               ...            ...           ...             ...   \n3058                1              0             0               0   \n3059                1              0             0               0   \n3060                1              0             0               0   \n3061                1              0             0               0   \n3062                1              0             0               0   \n\n     Stellar Flag  DV Flag  \n0               0        0  \n1               0        0  \n2               0        0  \n3               0        0  \n4               0        0  \n...           ...      ...  \n3058            0        1  \n3059            0        0  \n3060            0        0  \n3061            0        0  \n3062            0        0  \n\n[3063 rows x 31 columns]",
      "text/html": "<div>\n<style scoped>\n    .dataframe tbody tr th:only-of-type {\n        vertical-align: middle;\n    }\n\n    .dataframe tbody tr th {\n        vertical-align: top;\n    }\n\n    .dataframe thead th {\n        text-align: right;\n    }\n</style>\n<table border=\"1\" class=\"dataframe\">\n  <thead>\n    <tr style=\"text-align: right;\">\n      <th></th>\n      <th>Unnamed: 0_x</th>\n      <th>target_id</th>\n      <th>tce_plnt_num</th>\n      <th>label</th>\n      <th>tce_period</th>\n      <th>tce_duration</th>\n      <th>original_label</th>\n      <th>full score</th>\n      <th>Global Flux</th>\n      <th>Local Flux</th>\n      <th>...</th>\n      <th>Centroid_Offset_Flag</th>\n      <th>Ephemeris_Match_Flag</th>\n      <th>Minor_Descriptive_Flags</th>\n      <th>Global Flux Flag</th>\n      <th>Local Flux Flag</th>\n      <th>Centroid Flag</th>\n      <th>Odd Even Flag</th>\n      <th>Secondary Flag</th>\n      <th>Stellar Flag</th>\n      <th>DV Flag</th>\n    </tr>\n  </thead>\n  <tbody>\n    <tr>\n      <th>0</th>\n      <td>0</td>\n      <td>12024018</td>\n      <td>1</td>\n      <td>0</td>\n      <td>2.269770</td>\n      <td>0.282792</td>\n      <td>NTP</td>\n      <td>1.482549e-06</td>\n      <td>9.004826e-04</td>\n      <td>1.016935e-06</td>\n      <td>...</td>\n      <td>0</td>\n      <td>0</td>\n      <td>LPP_DV---LPP_ALT---MOD_NONUNIQ_DV---MOD_NONUNI...</td>\n      <td>0</td>\n      <td>1</td>\n      <td>0</td>\n      <td>0</td>\n      <td>0</td>\n      <td>0</td>\n      <td>0</td>\n    </tr>\n    <tr>\n      <th>1</th>\n      <td>1</td>\n      <td>11043167</td>\n      <td>1</td>\n      <td>1</td>\n      <td>44.930801</td>\n      <td>0.276333</td>\n      <td>PC</td>\n      <td>9.969519e-01</td>\n      <td>-6.177008e-02</td>\n      <td>-5.464447e-02</td>\n      <td>...</td>\n      <td>0</td>\n      <td>0</td>\n      <td>NO_COMMENT</td>\n      <td>0</td>\n      <td>0</td>\n      <td>0</td>\n      <td>0</td>\n      <td>0</td>\n      <td>0</td>\n      <td>0</td>\n    </tr>\n    <tr>\n      <th>2</th>\n      <td>2</td>\n      <td>9777256</td>\n      <td>1</td>\n      <td>0</td>\n      <td>1.332520</td>\n      <td>0.171708</td>\n      <td>AFP</td>\n      <td>1.753844e-04</td>\n      <td>2.144183e-03</td>\n      <td>7.636681e-05</td>\n      <td>...</td>\n      <td>0</td>\n      <td>1</td>\n      <td>CENT_FEW_DIFFS---EPHEM_MATCH</td>\n      <td>0</td>\n      <td>0</td>\n      <td>0</td>\n      <td>0</td>\n      <td>0</td>\n      <td>0</td>\n      <td>0</td>\n    </tr>\n    <tr>\n      <th>3</th>\n      <td>3</td>\n      <td>9092940</td>\n      <td>1</td>\n      <td>0</td>\n      <td>1.781950</td>\n      <td>0.430000</td>\n      <td>NTP</td>\n      <td>4.553115e-12</td>\n      <td>9.893955e-06</td>\n      <td>3.038070e-10</td>\n      <td>...</td>\n      <td>0</td>\n      <td>0</td>\n      <td>SWEET_NTL---LPP_DV---MOD_NONUNIQ_DV</td>\n      <td>0</td>\n      <td>1</td>\n      <td>0</td>\n      <td>0</td>\n      <td>0</td>\n      <td>0</td>\n      <td>0</td>\n    </tr>\n    <tr>\n      <th>4</th>\n      <td>4</td>\n      <td>11661803</td>\n      <td>4</td>\n      <td>0</td>\n      <td>380.739990</td>\n      <td>0.136583</td>\n      <td>NTP</td>\n      <td>9.473344e-07</td>\n      <td>7.053150e-07</td>\n      <td>-1.835994e-07</td>\n      <td>...</td>\n      <td>0</td>\n      <td>0</td>\n      <td>INDIV_TRANS_CHASES_SKYE---ALL_TRANS_CHASES---C...</td>\n      <td>0</td>\n      <td>0</td>\n      <td>0</td>\n      <td>0</td>\n      <td>0</td>\n      <td>0</td>\n      <td>0</td>\n    </tr>\n    <tr>\n      <th>...</th>\n      <td>...</td>\n      <td>...</td>\n      <td>...</td>\n      <td>...</td>\n      <td>...</td>\n      <td>...</td>\n      <td>...</td>\n      <td>...</td>\n      <td>...</td>\n      <td>...</td>\n      <td>...</td>\n      <td>...</td>\n      <td>...</td>\n      <td>...</td>\n      <td>...</td>\n      <td>...</td>\n      <td>...</td>\n      <td>...</td>\n      <td>...</td>\n      <td>...</td>\n      <td>...</td>\n    </tr>\n    <tr>\n      <th>3058</th>\n      <td>3058</td>\n      <td>9395222</td>\n      <td>2</td>\n      <td>0</td>\n      <td>1.487320</td>\n      <td>0.091958</td>\n      <td>NTP</td>\n      <td>2.621491e-14</td>\n      <td>3.270125e-09</td>\n      <td>8.738597e-12</td>\n      <td>...</td>\n      <td>1</td>\n      <td>0</td>\n      <td>SWEET_NTL---LPP_DV---MOD_NONUNIQ_ALT---SAME_NT...</td>\n      <td>0</td>\n      <td>1</td>\n      <td>0</td>\n      <td>0</td>\n      <td>0</td>\n      <td>0</td>\n      <td>1</td>\n    </tr>\n    <tr>\n      <th>3059</th>\n      <td>3059</td>\n      <td>5265699</td>\n      <td>6</td>\n      <td>0</td>\n      <td>68.721001</td>\n      <td>0.527917</td>\n      <td>NTP</td>\n      <td>7.042158e-04</td>\n      <td>8.565247e-04</td>\n      <td>1.245781e-03</td>\n      <td>...</td>\n      <td>0</td>\n      <td>0</td>\n      <td>INDIV_TRANS_RUBBLE---TRANS_GAPPED---LPP_DV---M...</td>\n      <td>0</td>\n      <td>1</td>\n      <td>0</td>\n      <td>0</td>\n      <td>0</td>\n      <td>0</td>\n      <td>0</td>\n    </tr>\n    <tr>\n      <th>3060</th>\n      <td>3060</td>\n      <td>7552265</td>\n      <td>2</td>\n      <td>0</td>\n      <td>3.256160</td>\n      <td>0.323500</td>\n      <td>NTP</td>\n      <td>2.058248e-14</td>\n      <td>3.088955e-11</td>\n      <td>2.054040e-13</td>\n      <td>...</td>\n      <td>0</td>\n      <td>0</td>\n      <td>INDIV_TRANS_RUBBLE_SKYE_ZUMA_TRACKER---SWEET_N...</td>\n      <td>0</td>\n      <td>1</td>\n      <td>0</td>\n      <td>0</td>\n      <td>0</td>\n      <td>0</td>\n      <td>0</td>\n    </tr>\n    <tr>\n      <th>3061</th>\n      <td>3061</td>\n      <td>2162904</td>\n      <td>1</td>\n      <td>0</td>\n      <td>1.539780</td>\n      <td>0.223750</td>\n      <td>NTP</td>\n      <td>9.639923e-14</td>\n      <td>2.829257e-09</td>\n      <td>1.073271e-10</td>\n      <td>...</td>\n      <td>0</td>\n      <td>0</td>\n      <td>LPP_DV---LPP_ALT---MOD_NONUNIQ_DV---MOD_NONUNI...</td>\n      <td>0</td>\n      <td>1</td>\n      <td>0</td>\n      <td>0</td>\n      <td>0</td>\n      <td>0</td>\n      <td>0</td>\n    </tr>\n    <tr>\n      <th>3062</th>\n      <td>3062</td>\n      <td>7448057</td>\n      <td>3</td>\n      <td>0</td>\n      <td>154.835999</td>\n      <td>0.257583</td>\n      <td>NTP</td>\n      <td>5.736630e-13</td>\n      <td>1.590002e-12</td>\n      <td>3.510522e-10</td>\n      <td>...</td>\n      <td>0</td>\n      <td>0</td>\n      <td>LPP_DV---MOD_NONUNIQ_DV---MOD_TER_DV---MOD_POS...</td>\n      <td>0</td>\n      <td>1</td>\n      <td>0</td>\n      <td>0</td>\n      <td>0</td>\n      <td>0</td>\n      <td>0</td>\n    </tr>\n  </tbody>\n</table>\n<p>3063 rows × 31 columns</p>\n</div>"
     },
     "execution_count": 14,
     "metadata": {},
     "output_type": "execute_result"
    }
   ],
   "source": [
    "test_csv.columns[8:15]"
   ],
   "metadata": {
    "collapsed": false,
    "ExecuteTime": {
     "start_time": "2023-04-20T14:12:42.192089Z",
     "end_time": "2023-04-20T14:12:42.210413Z"
    }
   }
  },
  {
   "cell_type": "code",
   "execution_count": 28,
   "outputs": [
    {
     "data": {
      "text/plain": "       Global Flux    Local Flux\n0     9.004826e-04  1.016935e-06\n1    -6.177008e-02 -5.464447e-02\n2     2.144183e-03  7.636681e-05\n3     9.893955e-06  3.038070e-10\n4     7.053150e-07 -1.835994e-07\n...            ...           ...\n3058  3.270125e-09  8.738597e-12\n3059  8.565247e-04  1.245781e-03\n3060  3.088955e-11  2.054040e-13\n3061  2.829257e-09  1.073271e-10\n3062  1.590002e-12  3.510522e-10\n\n[3063 rows x 2 columns]",
      "text/html": "<div>\n<style scoped>\n    .dataframe tbody tr th:only-of-type {\n        vertical-align: middle;\n    }\n\n    .dataframe tbody tr th {\n        vertical-align: top;\n    }\n\n    .dataframe thead th {\n        text-align: right;\n    }\n</style>\n<table border=\"1\" class=\"dataframe\">\n  <thead>\n    <tr style=\"text-align: right;\">\n      <th></th>\n      <th>Global Flux</th>\n      <th>Local Flux</th>\n    </tr>\n  </thead>\n  <tbody>\n    <tr>\n      <th>0</th>\n      <td>9.004826e-04</td>\n      <td>1.016935e-06</td>\n    </tr>\n    <tr>\n      <th>1</th>\n      <td>-6.177008e-02</td>\n      <td>-5.464447e-02</td>\n    </tr>\n    <tr>\n      <th>2</th>\n      <td>2.144183e-03</td>\n      <td>7.636681e-05</td>\n    </tr>\n    <tr>\n      <th>3</th>\n      <td>9.893955e-06</td>\n      <td>3.038070e-10</td>\n    </tr>\n    <tr>\n      <th>4</th>\n      <td>7.053150e-07</td>\n      <td>-1.835994e-07</td>\n    </tr>\n    <tr>\n      <th>...</th>\n      <td>...</td>\n      <td>...</td>\n    </tr>\n    <tr>\n      <th>3058</th>\n      <td>3.270125e-09</td>\n      <td>8.738597e-12</td>\n    </tr>\n    <tr>\n      <th>3059</th>\n      <td>8.565247e-04</td>\n      <td>1.245781e-03</td>\n    </tr>\n    <tr>\n      <th>3060</th>\n      <td>3.088955e-11</td>\n      <td>2.054040e-13</td>\n    </tr>\n    <tr>\n      <th>3061</th>\n      <td>2.829257e-09</td>\n      <td>1.073271e-10</td>\n    </tr>\n    <tr>\n      <th>3062</th>\n      <td>1.590002e-12</td>\n      <td>3.510522e-10</td>\n    </tr>\n  </tbody>\n</table>\n<p>3063 rows × 2 columns</p>\n</div>"
     },
     "execution_count": 28,
     "metadata": {},
     "output_type": "execute_result"
    }
   ],
   "source": [
    "test_csv[test_csv.columns[8:10]]"
   ],
   "metadata": {
    "collapsed": false,
    "ExecuteTime": {
     "start_time": "2023-04-20T14:28:26.413020Z",
     "end_time": "2023-04-20T14:28:26.420394Z"
    }
   }
  },
  {
   "cell_type": "code",
   "execution_count": 21,
   "id": "adb8eaf8",
   "metadata": {
    "ExecuteTime": {
     "start_time": "2023-04-20T14:23:47.294356Z",
     "end_time": "2023-04-20T14:23:47.308094Z"
    }
   },
   "outputs": [],
   "source": [
    "def post_process_flags(robo_flags, branch_explanations):\n",
    "    \"\"\" Removes branches not used in analysis (stellar flux) and merges global and local flux branches by considering highest score difference between the two.\n",
    "\n",
    "    Args:\n",
    "        robo_flags: NumPy array, branch flags based on Robovetter major and minor flags [n_examples x n_flags]\n",
    "        branch_explanations: NumPy array, score difference for each branch from the occlusion test [n_examples x n_flags]\n",
    "\n",
    "    Returns:\n",
    "        new NumPy arrays robo_new and exp_new after doing the corrections\n",
    "\n",
    "    \"\"\"\n",
    "\n",
    "    branch_inds_to_keep=[1,2,3,4,6]  # do not keep global flux and stellar flags\n",
    "    \n",
    "    robo_new=np.moveaxis(robo_flags ,0, -1)[branch_inds_to_keep]\n",
    "    robo_new=np.moveaxis(robo_new, 0, -1)\n",
    "    \n",
    "    exp_new=np.moveaxis(branch_explanations, 0, -1)\n",
    "    # global_flux=exp_new[0]\n",
    "    # local_flux=exp_new[1]\n",
    "    # keep the score difference between global and local flux occlusions that is the highest\n",
    "    # greater_flux=np.amax(test_csv[test_csv.columns[8:10]], axis=1)\n",
    "    greater_flux=np.amax(branch_explanations[0:1], axis=1)\n",
    "\n",
    "    #combined_flux=np.where(added_flux>0, 1, 0)\n",
    "    exp_new=exp_new[branch_inds_to_keep]\n",
    "    exp_new[0]=greater_flux #combined_flux #greater_flux\n",
    "    exp_new=np.moveaxis(exp_new, 0, -1)\n",
    "    \n",
    "    return robo_new, exp_new"
   ]
  },
  {
   "cell_type": "code",
   "execution_count": 22,
   "id": "0d3d972a",
   "metadata": {
    "ExecuteTime": {
     "start_time": "2023-04-20T14:23:49.135855Z",
     "end_time": "2023-04-20T14:23:49.146822Z"
    }
   },
   "outputs": [],
   "source": [
    "# get columns with scores for each occlusion grouping\n",
    "occlusion_array=np.array(test_csv[test_csv.columns[8:15]])\n",
    "# get flags for each branch\n",
    "robo_array=np.array(test_csv[test_csv.columns[24:]])"
   ]
  },
  {
   "cell_type": "code",
   "execution_count": 23,
   "id": "6c91139f",
   "metadata": {
    "ExecuteTime": {
     "start_time": "2023-04-20T14:23:52.534173Z",
     "end_time": "2023-04-20T14:23:52.554389Z"
    }
   },
   "outputs": [],
   "source": [
    "robo, occlusion=post_process_flags(robo_array, occlusion_array)"
   ]
  },
  {
   "cell_type": "code",
   "execution_count": 25,
   "outputs": [
    {
     "data": {
      "text/plain": "array([[0, 1, 0, ..., 0, 0, 0],\n       [0, 0, 0, ..., 0, 0, 0],\n       [0, 0, 0, ..., 0, 0, 0],\n       ...,\n       [0, 1, 0, ..., 0, 0, 0],\n       [0, 1, 0, ..., 0, 0, 0],\n       [0, 1, 0, ..., 0, 0, 0]])"
     },
     "execution_count": 25,
     "metadata": {},
     "output_type": "execute_result"
    }
   ],
   "source": [
    "robo_array"
   ],
   "metadata": {
    "collapsed": false,
    "ExecuteTime": {
     "start_time": "2023-04-20T14:24:48.895357Z",
     "end_time": "2023-04-20T14:24:48.905931Z"
    }
   }
  },
  {
   "cell_type": "code",
   "execution_count": 26,
   "outputs": [
    {
     "data": {
      "text/plain": "array([[1, 0, 0, 0, 0],\n       [0, 0, 0, 0, 0],\n       [0, 0, 0, 0, 0],\n       ...,\n       [1, 0, 0, 0, 0],\n       [1, 0, 0, 0, 0],\n       [1, 0, 0, 0, 0]])"
     },
     "execution_count": 26,
     "metadata": {},
     "output_type": "execute_result"
    }
   ],
   "source": [
    "robo"
   ],
   "metadata": {
    "collapsed": false,
    "ExecuteTime": {
     "start_time": "2023-04-20T14:25:16.220468Z",
     "end_time": "2023-04-20T14:25:16.231588Z"
    }
   }
  },
  {
   "cell_type": "code",
   "execution_count": 30,
   "id": "0224d6b0",
   "metadata": {
    "ExecuteTime": {
     "start_time": "2023-04-20T14:39:20.924006Z",
     "end_time": "2023-04-20T14:39:20.939738Z"
    }
   },
   "outputs": [
    {
     "data": {
      "text/plain": "array([2133,  263,   60,  257,  321])"
     },
     "execution_count": 30,
     "metadata": {},
     "output_type": "execute_result"
    }
   ],
   "source": [
    "np.sum(np.moveaxis(robo, 0, -1), axis=1)"
   ]
  },
  {
   "cell_type": "markdown",
   "source": [
    "# Compute metrics"
   ],
   "metadata": {
    "collapsed": false
   }
  },
  {
   "cell_type": "code",
   "execution_count": 31,
   "id": "6993bd3b",
   "metadata": {
    "ExecuteTime": {
     "start_time": "2023-04-20T14:39:28.785068Z",
     "end_time": "2023-04-20T14:39:29.701884Z"
    }
   },
   "outputs": [],
   "source": [
    "from sklearn.metrics import precision_score\n",
    "from sklearn.metrics import recall_score\n",
    "from sklearn.metrics import jaccard_score\n",
    "from sklearn.metrics import accuracy_score\n",
    "from sklearn.metrics import hamming_loss"
   ]
  },
  {
   "cell_type": "markdown",
   "source": [
    "# Compute precision, recall, Hamming loss, Jaccard similarity, Exact Match Ratio for occlusion experiments as function of top-n"
   ],
   "metadata": {
    "collapsed": false
   }
  },
  {
   "cell_type": "code",
   "execution_count": 32,
   "id": "303b662e",
   "metadata": {
    "ExecuteTime": {
     "start_time": "2023-04-20T14:40:55.766244Z",
     "end_time": "2023-04-20T14:40:55.777377Z"
    }
   },
   "outputs": [],
   "source": [
    "def top_n(robo_array, occlusion_array, n, average_type='weighted'):\n",
    "    \"\"\" Compute multi-label precision and recall by comparing flags for each branch based on Robovetter flags and the scores produced by the occlusion experiment. For a given `n` value, branches are sorted based on the scores and the top-n is considered to be flagged. These flags are then compared with the ground truth (i.e., the flags based on Robovetter).\n",
    "\n",
    "    Args:\n",
    "        robo_array: NumPy array, branch flags based on Robovetter major and minor flags [n_examples x n_flags]\n",
    "        occlusion_array: NumPy array, score difference for each branch from the occlusion test [n_examples x n_flags]\n",
    "        n: int, top branches to consider as flagged due to occlusion\n",
    "        average_type: str, type of averaging done for precision and recall\n",
    "\n",
    "    Returns:\n",
    "        Numpy arrays for precision and recall values\n",
    "    \"\"\"\n",
    "\n",
    "    robo, occlusion=post_process_flags(robo_array, occlusion_array)\n",
    "\n",
    "    for index in range(len(occlusion)):\n",
    "\n",
    "        tce=occlusion[index]\n",
    "\n",
    "        # pick the indices of the top n branch occlusion tests\n",
    "        max_contrib=np.argsort(tce)[-1*n:]\n",
    "        #print(max_contrib)\n",
    "\n",
    "        # set all branch occlusion tests to zero except the ones in the top n\n",
    "        occlusion[index]=np.zeros([5])\n",
    "        occlusion[index][max_contrib]=1\n",
    "        #print(occlusion[index])\n",
    "\n",
    "    weighted_prec=precision_score(robo, occlusion, average=average_type, zero_division=0)\n",
    "    weighted_rec=recall_score(robo,occlusion, average=average_type, zero_division=0)\n",
    "\n",
    "    return weighted_prec, weighted_rec"
   ]
  },
  {
   "cell_type": "code",
   "execution_count": 35,
   "id": "bc9da5ac",
   "metadata": {
    "ExecuteTime": {
     "start_time": "2023-04-20T15:42:12.873272Z",
     "end_time": "2023-04-20T15:42:12.900879Z"
    }
   },
   "outputs": [
    {
     "data": {
      "text/plain": "(0.4743715311785831, 0.478905735003296)"
     },
     "execution_count": 35,
     "metadata": {},
     "output_type": "execute_result"
    }
   ],
   "source": [
    "# computing precision and recall using micro average\n",
    "top_n(robo_array, occlusion_array, 1, 'micro')"
   ]
  },
  {
   "cell_type": "code",
   "execution_count": 11,
   "id": "117a320c",
   "metadata": {},
   "outputs": [
    {
     "data": {
      "text/plain": [
       "(0.33301923080515294, 0.32596583059619844)"
      ]
     },
     "execution_count": 11,
     "metadata": {},
     "output_type": "execute_result"
    }
   ],
   "source": [
    "# computing precision and recall using maro average\n",
    "top_n(robo_array, occlusion_array, 1, 'macro')"
   ]
  },
  {
   "cell_type": "code",
   "execution_count": 34,
   "outputs": [
    {
     "data": {
      "text/plain": "(0.33301923080515294, 0.32596583059619844)"
     },
     "execution_count": 34,
     "metadata": {},
     "output_type": "execute_result"
    }
   ],
   "source": [
    "top_n(robo_array, occlusion_array, 1, 'macro')\n"
   ],
   "metadata": {
    "collapsed": false,
    "ExecuteTime": {
     "start_time": "2023-04-20T14:41:11.654196Z",
     "end_time": "2023-04-20T14:41:11.690753Z"
    }
   }
  },
  {
   "cell_type": "code",
   "execution_count": 12,
   "id": "b20a6114",
   "metadata": {},
   "outputs": [
    {
     "data": {
      "text/plain": [
       "(0.7114473339456331, 0.478905735003296)"
      ]
     },
     "execution_count": 12,
     "metadata": {},
     "output_type": "execute_result"
    }
   ],
   "source": [
    "# computing precision and recall using weighted average\n",
    "top_n(robo_array, occlusion_array, 1, 'weighted')"
   ]
  },
  {
   "cell_type": "code",
   "execution_count": 36,
   "id": "5896e0e6",
   "metadata": {
    "ExecuteTime": {
     "start_time": "2023-04-20T15:43:01.766127Z",
     "end_time": "2023-04-20T15:43:01.806643Z"
    }
   },
   "outputs": [
    {
     "data": {
      "text/plain": "(0.3596147567744042, 0.7261041529334212)"
     },
     "execution_count": 36,
     "metadata": {},
     "output_type": "execute_result"
    }
   ],
   "source": [
    "top_n(robo_array, occlusion_array, 2, 'micro')"
   ]
  },
  {
   "cell_type": "code",
   "execution_count": 14,
   "id": "1827880b",
   "metadata": {},
   "outputs": [
    {
     "data": {
      "text/plain": [
       "(0.27824789730986144, 0.5290014614269845)"
      ]
     },
     "execution_count": 14,
     "metadata": {},
     "output_type": "execute_result"
    }
   ],
   "source": [
    "top_n(robo_array, occlusion_array, 2, 'macro')"
   ]
  },
  {
   "cell_type": "code",
   "execution_count": 15,
   "id": "bc571127",
   "metadata": {},
   "outputs": [
    {
     "data": {
      "text/plain": [
       "(0.6509340437015965, 0.7261041529334212)"
      ]
     },
     "execution_count": 15,
     "metadata": {},
     "output_type": "execute_result"
    }
   ],
   "source": [
    "top_n(robo_array, occlusion_array, 2, 'weighted')"
   ]
  },
  {
   "cell_type": "code",
   "execution_count": 37,
   "id": "d12c5301",
   "metadata": {
    "ExecuteTime": {
     "start_time": "2023-04-20T15:43:13.498748Z",
     "end_time": "2023-04-20T15:43:13.550358Z"
    }
   },
   "outputs": [
    {
     "data": {
      "text/plain": "(0.280552834911307, 0.8497033618984838)"
     },
     "execution_count": 37,
     "metadata": {},
     "output_type": "execute_result"
    }
   ],
   "source": [
    "top_n(robo_array, occlusion_array, 3, 'micro')"
   ]
  },
  {
   "cell_type": "code",
   "execution_count": 17,
   "id": "96cf7afe",
   "metadata": {},
   "outputs": [
    {
     "data": {
      "text/plain": [
       "(0.25377876683618367, 0.7037024978548733)"
      ]
     },
     "execution_count": 17,
     "metadata": {},
     "output_type": "execute_result"
    }
   ],
   "source": [
    "top_n(robo_array, occlusion_array, 3, 'macro')"
   ]
  },
  {
   "cell_type": "code",
   "execution_count": 18,
   "id": "63f4c7fd",
   "metadata": {},
   "outputs": [
    {
     "data": {
      "text/plain": [
       "(0.617598680365637, 0.8497033618984838)"
      ]
     },
     "execution_count": 18,
     "metadata": {},
     "output_type": "execute_result"
    }
   ],
   "source": [
    "top_n(robo_array, occlusion_array, 3, 'weighted')"
   ]
  },
  {
   "cell_type": "code",
   "execution_count": 46,
   "id": "80ab097c",
   "metadata": {
    "ExecuteTime": {
     "start_time": "2023-04-20T15:53:24.630494Z",
     "end_time": "2023-04-20T15:53:24.641859Z"
    }
   },
   "outputs": [],
   "source": [
    "def top_n_hamming(robo_array, occlusion_array, n):\n",
    "    \"\"\" Compute 1-Hamming loss by comparing flags for each branch based on Robovetter flags and the scores produced by the occlusion experiment. For a given `n` value, branches are sorted based on the scores and the top-n is considered to be flagged. These flags are then compared with the ground truth (i.e., the flags based on Robovetter).\n",
    "\n",
    "    Args:\n",
    "        robo_array: NumPy array, branch flags based on Robovetter major and minor flags [n_examples x n_flags]\n",
    "        occlusion_array: NumPy array, score difference for each branch from the occlusion test [n_examples x n_flags]\n",
    "        n: int, top branches to consider as flagged due to occlusion\n",
    "\n",
    "    Returns:\n",
    "        Numpy array for 1-hamming_loss\n",
    "    \"\"\"\n",
    "\n",
    "    robo, occlusion=post_process_flags(robo_array, occlusion_array)\n",
    "\n",
    "    for index in range(len(occlusion)):\n",
    "\n",
    "        tce=occlusion[index]\n",
    "\n",
    "        # pick the indices of the top n branch occlusion tests\n",
    "        max_contrib=np.argsort(tce)[-1*n:]\n",
    "        #print(max_contrib)\n",
    "\n",
    "        # set all branch occlusion tests to zero except the ones in the top n\n",
    "        occlusion[index]=np.zeros([5])\n",
    "        occlusion[index][max_contrib]=1\n",
    "        #print(occlusion[index])\n",
    "\n",
    "    weighted_prec=1-hamming_loss(robo, occlusion)\n",
    "    #weighted_rec=recall_score(robo,occlusion, average=average_type)\n",
    "\n",
    "    return weighted_prec#, weighted_rec"
   ]
  },
  {
   "cell_type": "code",
   "execution_count": 47,
   "id": "5663acb0",
   "metadata": {
    "ExecuteTime": {
     "start_time": "2023-04-20T15:53:26.401593Z",
     "end_time": "2023-04-20T15:53:26.431360Z"
    }
   },
   "outputs": [
    {
     "data": {
      "text/plain": "0.7916421808684296"
     },
     "execution_count": 47,
     "metadata": {},
     "output_type": "execute_result"
    }
   ],
   "source": [
    "top_n_hamming(robo_array, occlusion_array, 1)"
   ]
  },
  {
   "cell_type": "code",
   "execution_count": 50,
   "id": "f99509a9",
   "metadata": {
    "ExecuteTime": {
     "start_time": "2023-04-20T15:54:36.418157Z",
     "end_time": "2023-04-20T15:54:36.448132Z"
    }
   },
   "outputs": [
    {
     "data": {
      "text/plain": "0.6895853738165197"
     },
     "execution_count": 50,
     "metadata": {},
     "output_type": "execute_result"
    }
   ],
   "source": [
    "top_n_hamming(robo_array, occlusion_array, 2)"
   ]
  },
  {
   "cell_type": "code",
   "execution_count": 51,
   "outputs": [
    {
     "data": {
      "text/plain": "0.5385569702905648"
     },
     "execution_count": 51,
     "metadata": {},
     "output_type": "execute_result"
    }
   ],
   "source": [
    "top_n_hamming(robo_array, occlusion_array,3)\n"
   ],
   "metadata": {
    "collapsed": false,
    "ExecuteTime": {
     "start_time": "2023-04-20T15:54:38.129247Z",
     "end_time": "2023-04-20T15:54:38.158909Z"
    }
   }
  },
  {
   "cell_type": "code",
   "execution_count": 42,
   "id": "81973497",
   "metadata": {
    "ExecuteTime": {
     "start_time": "2023-04-20T15:47:19.450598Z",
     "end_time": "2023-04-20T15:47:19.467997Z"
    }
   },
   "outputs": [],
   "source": [
    "def top_n_acc(robo_array, occlusion_array, n):\n",
    "    \"\"\" Compute exact match ratio by comparing flags for each branch based on Robovetter flags and the scores produced by the occlusion experiment. For a given `n` value, branches are sorted based on the scores and the top-n is considered to be flagged. These flags are then compared with the ground truth (i.e., the flags based on Robovetter).\n",
    "\n",
    "    Args:\n",
    "        robo_array: NumPy array, branch flags based on Robovetter major and minor flags [n_examples x n_flags]\n",
    "        occlusion_array: NumPy array, score difference for each branch from the occlusion test [n_examples x n_flags]\n",
    "        n: int, top branches to consider as flagged due to occlusion\n",
    "\n",
    "    Returns:\n",
    "        Numpy array for exact match ratio\n",
    "    \"\"\"\n",
    "\n",
    "    robo, occlusion=post_process_flags(robo_array, occlusion_array)\n",
    "\n",
    "    for index in range(len(occlusion)):\n",
    "\n",
    "        tce=occlusion[index]\n",
    "\n",
    "        # pick the indices of the top n branch occlusion tests\n",
    "        max_contrib=np.argsort(tce)[-1*n:]\n",
    "        #print(max_contrib)\n",
    "\n",
    "        # set all branch occlusion tests to zero except the ones in the top n\n",
    "        occlusion[index]=np.zeros([5])\n",
    "        occlusion[index][max_contrib]=1\n",
    "        #print(occlusion[index])\n",
    "\n",
    "    weighted_prec=accuracy_score(robo, occlusion)\n",
    "    #weighted_rec=recall_score(robo,occlusion, average=average_type)\n",
    "\n",
    "    return weighted_prec#, weighted_rec"
   ]
  },
  {
   "cell_type": "code",
   "execution_count": 43,
   "id": "342eace5",
   "metadata": {
    "ExecuteTime": {
     "start_time": "2023-04-20T15:47:22.492825Z",
     "end_time": "2023-04-20T15:47:22.532098Z"
    }
   },
   "outputs": [
    {
     "data": {
      "text/plain": "0.3676134508651649"
     },
     "execution_count": 43,
     "metadata": {},
     "output_type": "execute_result"
    }
   ],
   "source": [
    "top_n_acc(robo_array, occlusion_array, 1)"
   ]
  },
  {
   "cell_type": "code",
   "execution_count": 44,
   "id": "d5d5358f",
   "metadata": {
    "ExecuteTime": {
     "start_time": "2023-04-20T15:47:24.452484Z",
     "end_time": "2023-04-20T15:47:24.493213Z"
    }
   },
   "outputs": [
    {
     "data": {
      "text/plain": "0.02513875285667646"
     },
     "execution_count": 44,
     "metadata": {},
     "output_type": "execute_result"
    }
   ],
   "source": [
    "top_n_acc(robo_array, occlusion_array, 2)"
   ]
  },
  {
   "cell_type": "code",
   "execution_count": 45,
   "id": "74ffa0af",
   "metadata": {
    "ExecuteTime": {
     "start_time": "2023-04-20T15:47:26.440883Z",
     "end_time": "2023-04-20T15:47:26.468740Z"
    }
   },
   "outputs": [
    {
     "data": {
      "text/plain": "0.00652954619653934"
     },
     "execution_count": 45,
     "metadata": {},
     "output_type": "execute_result"
    }
   ],
   "source": [
    "top_n_acc(robo_array, occlusion_array, 3)"
   ]
  },
  {
   "cell_type": "code",
   "execution_count": 52,
   "id": "059dab2d",
   "metadata": {
    "ExecuteTime": {
     "start_time": "2023-04-20T16:00:37.603632Z",
     "end_time": "2023-04-20T16:00:37.616236Z"
    }
   },
   "outputs": [],
   "source": [
    "def top_n_jaccard(robo_array , occlusion_array, n, average_type='weighted'):\n",
    "    \"\"\" Compute Jaccard  similarity by comparing flags for each branch based on Robovetter flags and the scores produced by the occlusion experiment. For a given `n` value, branches are sorted based on the scores and the top-n is considered to be flagged. These flags are then compared with the ground truth (i.e., the flags based on Robovetter).\n",
    "\n",
    "    Args:\n",
    "        robo_array: NumPy array, branch flags based on Robovetter major and minor flags [n_examples x n_flags]\n",
    "        occlusion_array: NumPy array, score difference for each branch from the occlusion test [n_examples x n_flags]\n",
    "        n: int, top branches to consider as flagged due to occlusion\n",
    "\n",
    "    Returns:\n",
    "        Numpy array for Jaccard similarity\n",
    "    \"\"\"\n",
    "\n",
    "    robo, occlusion=post_process_flags(robo_array, occlusion_array)\n",
    "\n",
    "    for index in range(len(occlusion)):\n",
    "\n",
    "        tce=occlusion[index]\n",
    "\n",
    "        # pick the indices of the top n branch occlusion tests\n",
    "        max_contrib=np.argsort(tce)[-1*n:]\n",
    "        #print(max_contrib)\n",
    "\n",
    "        # set all branch occlusion tests to zero except the ones in the top n\n",
    "        occlusion[index]=np.zeros([5])\n",
    "        occlusion[index][max_contrib]=1\n",
    "        #print(occlusion[index])\n",
    "\n",
    "    weighted_prec=jaccard_score(robo, occlusion, average=average_type)\n",
    "    #weighted_rec=recall_score(robo,occlusion, average=average_type)\n",
    "\n",
    "    return weighted_prec#, weighted_rec"
   ]
  },
  {
   "cell_type": "code",
   "execution_count": 53,
   "id": "42bee08a",
   "metadata": {
    "ExecuteTime": {
     "start_time": "2023-04-20T16:00:39.257035Z",
     "end_time": "2023-04-20T16:00:39.301254Z"
    }
   },
   "outputs": [
    {
     "data": {
      "text/plain": "0.40128124468012205"
     },
     "execution_count": 53,
     "metadata": {},
     "output_type": "execute_result"
    }
   ],
   "source": [
    "top_n_jaccard(robo_array, occlusion_array, 1)"
   ]
  },
  {
   "cell_type": "code",
   "execution_count": 54,
   "id": "a760a73d",
   "metadata": {
    "ExecuteTime": {
     "start_time": "2023-04-20T16:00:41.466555Z",
     "end_time": "2023-04-20T16:00:41.500717Z"
    }
   },
   "outputs": [
    {
     "data": {
      "text/plain": "0.546551363967395"
     },
     "execution_count": 54,
     "metadata": {},
     "output_type": "execute_result"
    }
   ],
   "source": [
    "top_n_jaccard(robo_array, occlusion_array, 2)"
   ]
  },
  {
   "cell_type": "code",
   "execution_count": 55,
   "id": "57177cb5",
   "metadata": {
    "ExecuteTime": {
     "start_time": "2023-04-20T16:00:42.648087Z",
     "end_time": "2023-04-20T16:00:42.689038Z"
    }
   },
   "outputs": [
    {
     "data": {
      "text/plain": "0.5710807334334363"
     },
     "execution_count": 55,
     "metadata": {},
     "output_type": "execute_result"
    }
   ],
   "source": [
    "top_n_jaccard(robo_array, occlusion_array, 3)"
   ]
  },
  {
   "cell_type": "code",
   "execution_count": 31,
   "id": "c642ecdf",
   "metadata": {},
   "outputs": [
    {
     "data": {
      "text/plain": [
       "array([0, 1, 0, 0, 0, 0, 0])"
      ]
     },
     "execution_count": 31,
     "metadata": {},
     "output_type": "execute_result"
    }
   ],
   "source": [
    "robo_array[0]"
   ]
  },
  {
   "cell_type": "markdown",
   "source": [
    "# Compute precision, recall, for each occluded branch as function of top-n"
   ],
   "metadata": {
    "collapsed": false
   }
  },
  {
   "cell_type": "code",
   "execution_count": null,
   "id": "82367466",
   "metadata": {},
   "outputs": [],
   "source": [
    "def eval_PCs(stat_func, num_pcs, trials):\n",
    "    stats=summary_statistics(stat_func, num_pcs,trials)\n",
    "    precision_list=[]\n",
    "    recall_list=[]\n",
    "    for i in range(trials):\n",
    "        #print(i)\n",
    "        train_exp=stats[0][i]['branch_explanations']\n",
    "        val_exp=stats[1][i]['branch_explanations']\n",
    "        test_exp=stats[2][i]['branch_explanations']\n",
    "        train_robo=stats[0][i]['robo_flags']\n",
    "        val_robo=stats[1][i]['robo_flags']\n",
    "        test_robo=stats[2][i]['robo_flags']\n",
    "        label=np.zeros(3063)\n",
    "        label[np.where(stats[2][i]['original_label']=='PC')]=1\n",
    "        \n",
    "        \n",
    "        scores=post_process_flags(test_robo, test_exp)\n",
    "        sum_scores=np.sum(scores[1], axis=1)\n",
    "        sum_scores[np.where(sum_scores>0)]=-1\n",
    "        sum_scores[np.where(sum_scores==0)]=1\n",
    "        sum_scores[np.where(sum_scores==-1)]=0\n",
    "        true=label   \n",
    "        pred=sum_scores\n",
    "        prec=precision_score(true, pred)\n",
    "        rec=recall_score(true, pred)\n",
    "        precision_list.append(prec)\n",
    "        recall_list.append(rec)\n",
    "        \n",
    "    return np.mean(precision_list), np.std(precision_list), np.mean(recall_list), np.std(recall_list)"
   ]
  },
  {
   "cell_type": "code",
   "execution_count": 16,
   "id": "fb386c6e",
   "metadata": {},
   "outputs": [],
   "source": [
    "robo, occlusion=post_process_flags(robo_array, occlusion_array)"
   ]
  },
  {
   "cell_type": "code",
   "execution_count": 17,
   "id": "00b702a3",
   "metadata": {},
   "outputs": [
    {
     "data": {
      "text/plain": [
       "array([[ 9.0048260e-04,  1.3056538e-06,  1.6234151e-07,  4.7029807e-05,\n",
       "        -9.1224024e-08],\n",
       "       [-5.4644465e-02, -1.0547638e-03,  1.0043383e-04, -1.3821721e-03,\n",
       "        -3.9309323e-02],\n",
       "       [ 2.1441828e-03,  3.3428336e-03,  3.2398573e-05,  1.9448604e-04,\n",
       "        -1.3093113e-04],\n",
       "       ...,\n",
       "       [ 3.0889548e-11,  6.3084440e-15,  9.3263410e-17,  2.6263270e-06,\n",
       "         1.6702782e-14],\n",
       "       [ 2.8292575e-09,  1.7700520e-13,  1.5365862e-14,  1.7115097e-10,\n",
       "        -1.4027963e-14],\n",
       "       [ 3.5105224e-10, -2.3921240e-14,  2.2018659e-12,  8.0819280e-07,\n",
       "         7.7780105e-13]])"
      ]
     },
     "execution_count": 17,
     "metadata": {},
     "output_type": "execute_result"
    }
   ],
   "source": [
    "occlusion"
   ]
  },
  {
   "cell_type": "markdown",
   "source": [
    "### Compute precision and recall values for each occlusion feature grouping"
   ],
   "metadata": {
    "collapsed": false
   }
  },
  {
   "cell_type": "code",
   "execution_count": 60,
   "id": "5abf0a0e",
   "metadata": {
    "ExecuteTime": {
     "start_time": "2023-04-20T16:21:24.923655Z",
     "end_time": "2023-04-20T16:21:24.934680Z"
    }
   },
   "outputs": [],
   "source": [
    "def per_class_prec_rec_top_n(robo_array, occlusion_array, n, branch_ind):\n",
    "    \"\"\" Compute precision and recall values for a given feature grouping associated with index `branch_ind` based on Robovetter flags and the scores produced by the occlusion experiment. For a given `n` value, branches are sorted based on the scores and the top-n is considered to be flagged. These flags are then compared with the ground truth (i.e., the flags based on Robovetter).\n",
    "\n",
    "    Args:\n",
    "        robo_array: NumPy array, branch flags based on Robovetter major and minor flags [n_examples x n_flags]\n",
    "        occlusion_array: NumPy array, score difference for each branch from the occlusion test [n_examples x n_flags]\n",
    "        n: int, top branches to consider as flagged due to occlusion\n",
    "        branch_ind: int, index of branch considered for analysis\n",
    "\n",
    "    Returns:\n",
    "        Numpy array for precision and recall values for a given branch\n",
    "    \"\"\"\n",
    "\n",
    "    robo, occlusion=post_process_flags(robo_array, occlusion_array)\n",
    "\n",
    "    for index in range(len(occlusion)):\n",
    "\n",
    "        tce=occlusion[index]\n",
    "\n",
    "        # pick the indices of the top n branch occlusion tests\n",
    "        max_contrib=np.argsort(tce)[-1*n:]\n",
    "\n",
    "        # set all branch occlusion tests to zero except the ones in the top n\n",
    "        occlusion[index]=np.zeros([5])\n",
    "        occlusion[index][max_contrib]=1\n",
    "\n",
    "    # choose branch index to compute precision and recall values\n",
    "    robo_branch=np.moveaxis(robo, 0, -1)[branch_ind]\n",
    "    occ_branch=np.moveaxis(occlusion, 0, -1)[branch_ind]\n",
    "\n",
    "    weighted_prec=precision_score(robo_branch, occ_branch)\n",
    "    weighted_rec=recall_score(robo_branch,occ_branch)\n",
    "\n",
    "    return weighted_prec, weighted_rec"
   ]
  },
  {
   "cell_type": "code",
   "execution_count": 61,
   "id": "0651dbda",
   "metadata": {
    "ExecuteTime": {
     "start_time": "2023-04-20T16:21:27.208572Z",
     "end_time": "2023-04-20T16:21:27.237696Z"
    }
   },
   "outputs": [
    {
     "data": {
      "text/plain": "(0.9156908665105387, 0.549929676511955)"
     },
     "execution_count": 61,
     "metadata": {},
     "output_type": "execute_result"
    }
   ],
   "source": [
    "per_class_prec_rec_top_n(robo_array, occlusion_array, 1, 0)"
   ]
  },
  {
   "cell_type": "code",
   "execution_count": 62,
   "id": "beee8a40",
   "metadata": {
    "ExecuteTime": {
     "start_time": "2023-04-20T16:21:29.100818Z",
     "end_time": "2023-04-20T16:21:29.137216Z"
    }
   },
   "outputs": [
    {
     "data": {
      "text/plain": "(0.3953488372093023, 0.19391634980988592)"
     },
     "execution_count": 62,
     "metadata": {},
     "output_type": "execute_result"
    }
   ],
   "source": [
    "per_class_prec_rec_top_n(robo_array, occlusion_array, 1, 1)"
   ]
  },
  {
   "cell_type": "code",
   "execution_count": 63,
   "id": "fa457007",
   "metadata": {
    "ExecuteTime": {
     "start_time": "2023-04-20T16:21:30.725438Z",
     "end_time": "2023-04-20T16:21:30.767313Z"
    }
   },
   "outputs": [
    {
     "data": {
      "text/plain": "(0.0025906735751295338, 0.016666666666666666)"
     },
     "execution_count": 63,
     "metadata": {},
     "output_type": "execute_result"
    }
   ],
   "source": [
    "per_class_prec_rec_top_n(robo_array, occlusion_array, 1, 2)"
   ]
  },
  {
   "cell_type": "code",
   "execution_count": 64,
   "id": "a84fbd17",
   "metadata": {
    "ExecuteTime": {
     "start_time": "2023-04-20T16:21:34.267580Z",
     "end_time": "2023-04-20T16:21:34.296800Z"
    }
   },
   "outputs": [
    {
     "data": {
      "text/plain": "(0.18109540636042404, 0.7976653696498055)"
     },
     "execution_count": 64,
     "metadata": {},
     "output_type": "execute_result"
    }
   ],
   "source": [
    "per_class_prec_rec_top_n(robo_array, occlusion_array, 1, 3)"
   ]
  },
  {
   "cell_type": "code",
   "execution_count": 65,
   "id": "977f480d",
   "metadata": {
    "ExecuteTime": {
     "start_time": "2023-04-20T16:31:28.059404Z",
     "end_time": "2023-04-20T16:31:28.103801Z"
    }
   },
   "outputs": [
    {
     "data": {
      "text/plain": "(0.17037037037037037, 0.07165109034267912)"
     },
     "execution_count": 65,
     "metadata": {},
     "output_type": "execute_result"
    }
   ],
   "source": [
    "per_class_prec_rec_top_n(robo_array, occlusion_array, 1, 4)"
   ]
  },
  {
   "cell_type": "code",
   "execution_count": 66,
   "id": "d42de069",
   "metadata": {
    "ExecuteTime": {
     "start_time": "2023-04-20T16:31:29.720017Z",
     "end_time": "2023-04-20T16:31:29.750491Z"
    }
   },
   "outputs": [
    {
     "data": {
      "text/plain": "(0.8570731707317073, 0.823722456633849)"
     },
     "execution_count": 66,
     "metadata": {},
     "output_type": "execute_result"
    }
   ],
   "source": [
    "per_class_prec_rec_top_n(robo_array, occlusion_array, 2, 0)"
   ]
  },
  {
   "cell_type": "code",
   "execution_count": 67,
   "id": "caceb179",
   "metadata": {
    "ExecuteTime": {
     "start_time": "2023-04-20T16:31:30.767784Z",
     "end_time": "2023-04-20T16:31:30.798587Z"
    }
   },
   "outputs": [
    {
     "data": {
      "text/plain": "(0.2392638036809816, 0.4448669201520912)"
     },
     "execution_count": 67,
     "metadata": {},
     "output_type": "execute_result"
    }
   ],
   "source": [
    "per_class_prec_rec_top_n(robo_array, occlusion_array, 2, 1)"
   ]
  },
  {
   "cell_type": "code",
   "execution_count": 68,
   "id": "dfde118c",
   "metadata": {
    "ExecuteTime": {
     "start_time": "2023-04-20T16:31:34.900673Z",
     "end_time": "2023-04-20T16:31:34.941902Z"
    }
   },
   "outputs": [
    {
     "data": {
      "text/plain": "(0.01793103448275862, 0.21666666666666667)"
     },
     "execution_count": 68,
     "metadata": {},
     "output_type": "execute_result"
    }
   ],
   "source": [
    "per_class_prec_rec_top_n(robo_array, occlusion_array, 2, 2)"
   ]
  },
  {
   "cell_type": "code",
   "execution_count": 69,
   "id": "af586d24",
   "metadata": {
    "ExecuteTime": {
     "start_time": "2023-04-20T16:31:36.425016Z",
     "end_time": "2023-04-20T16:31:36.467102Z"
    }
   },
   "outputs": [
    {
     "data": {
      "text/plain": "(0.09551986475063398, 0.8793774319066148)"
     },
     "execution_count": 69,
     "metadata": {},
     "output_type": "execute_result"
    }
   ],
   "source": [
    "per_class_prec_rec_top_n(robo_array, occlusion_array, 2, 3)"
   ]
  },
  {
   "cell_type": "code",
   "execution_count": 70,
   "id": "2e916e23",
   "metadata": {
    "ExecuteTime": {
     "start_time": "2023-04-20T16:31:37.456589Z",
     "end_time": "2023-04-20T16:31:37.483827Z"
    }
   },
   "outputs": [
    {
     "data": {
      "text/plain": "(0.1814516129032258, 0.2803738317757009)"
     },
     "execution_count": 70,
     "metadata": {},
     "output_type": "execute_result"
    }
   ],
   "source": [
    "per_class_prec_rec_top_n(robo_array, occlusion_array, 2, 4)"
   ]
  },
  {
   "cell_type": "code",
   "execution_count": 71,
   "id": "eda49393",
   "metadata": {
    "ExecuteTime": {
     "start_time": "2023-04-20T16:31:38.197764Z",
     "end_time": "2023-04-20T16:31:38.237591Z"
    }
   },
   "outputs": [
    {
     "data": {
      "text/plain": "(0.819949281487743, 0.9095171120487576)"
     },
     "execution_count": 71,
     "metadata": {},
     "output_type": "execute_result"
    }
   ],
   "source": [
    "per_class_prec_rec_top_n(robo_array, occlusion_array, 3, 0)"
   ]
  },
  {
   "cell_type": "code",
   "execution_count": 72,
   "id": "f36ee576",
   "metadata": {
    "ExecuteTime": {
     "start_time": "2023-04-20T16:31:39.057836Z",
     "end_time": "2023-04-20T16:31:39.085926Z"
    }
   },
   "outputs": [
    {
     "data": {
      "text/plain": "(0.18640955004591367, 0.7718631178707225)"
     },
     "execution_count": 72,
     "metadata": {},
     "output_type": "execute_result"
    }
   ],
   "source": [
    "per_class_prec_rec_top_n(robo_array, occlusion_array, 3, 1)"
   ]
  },
  {
   "cell_type": "code",
   "execution_count": 73,
   "id": "6dad4528",
   "metadata": {
    "ExecuteTime": {
     "start_time": "2023-04-20T16:31:40.394741Z",
     "end_time": "2023-04-20T16:31:40.431369Z"
    }
   },
   "outputs": [
    {
     "data": {
      "text/plain": "(0.011989100817438692, 0.36666666666666664)"
     },
     "execution_count": 73,
     "metadata": {},
     "output_type": "execute_result"
    }
   ],
   "source": [
    "per_class_prec_rec_top_n(robo_array, occlusion_array, 3, 2)"
   ]
  },
  {
   "cell_type": "code",
   "execution_count": 74,
   "id": "11560089",
   "metadata": {
    "ExecuteTime": {
     "start_time": "2023-04-20T16:31:41.299082Z",
     "end_time": "2023-04-20T16:31:41.328430Z"
    }
   },
   "outputs": [
    {
     "data": {
      "text/plain": "(0.08324552160168598, 0.9221789883268483)"
     },
     "execution_count": 74,
     "metadata": {},
     "output_type": "execute_result"
    }
   ],
   "source": [
    "per_class_prec_rec_top_n(robo_array, occlusion_array, 3, 3)"
   ]
  },
  {
   "cell_type": "code",
   "execution_count": 75,
   "id": "56e6f13e",
   "metadata": {
    "ExecuteTime": {
     "start_time": "2023-04-20T16:31:43.438780Z",
     "end_time": "2023-04-20T16:31:43.479009Z"
    }
   },
   "outputs": [
    {
     "data": {
      "text/plain": "(0.16730038022813687, 0.5482866043613707)"
     },
     "execution_count": 75,
     "metadata": {},
     "output_type": "execute_result"
    }
   ],
   "source": [
    "per_class_prec_rec_top_n(robo_array, occlusion_array, 3, 4)"
   ]
  },
  {
   "cell_type": "markdown",
   "source": [
    "# Plot precision and recall for occlusion as function of top-n"
   ],
   "metadata": {
    "collapsed": false
   }
  },
  {
   "cell_type": "code",
   "execution_count": 97,
   "id": "06d8eaef",
   "metadata": {
    "ExecuteTime": {
     "start_time": "2023-04-20T18:29:50.345637Z",
     "end_time": "2023-04-20T18:29:50.460775Z"
    }
   },
   "outputs": [],
   "source": [
    "prec_vals=[]\n",
    "rec_vals=[]\n",
    "for n in range(1,6):\n",
    "    prec, rec=top_n(robo_array, occlusion_array, n, 'micro')\n",
    "    prec_vals.append(prec)\n",
    "    rec_vals.append(rec)"
   ]
  },
  {
   "cell_type": "code",
   "execution_count": 98,
   "id": "03f444aa",
   "metadata": {
    "ExecuteTime": {
     "start_time": "2023-04-20T18:29:51.302497Z",
     "end_time": "2023-04-20T18:29:51.475940Z"
    }
   },
   "outputs": [
    {
     "data": {
      "text/plain": "Text(0.5, 0, 'Top n')"
     },
     "execution_count": 98,
     "metadata": {},
     "output_type": "execute_result"
    },
    {
     "data": {
      "text/plain": "<Figure size 432x288 with 1 Axes>",
      "image/png": "[encoded data removed]"
     },
     "metadata": {
      "needs_background": "light"
     },
     "output_type": "display_data"
    }
   ],
   "source": [
    "plt.scatter(np.arange(1,6), prec_vals, label='Precision')\n",
    "plt.scatter(np.arange(1,6), rec_vals, label='Recall')\n",
    "plt.legend()\n",
    "plt.xlabel('Top n')\n",
    "# plt.ylabel('')\n",
    "# plt.title('Micro Precision and Recall for Top n labeled with Occlusion')"
   ]
  },
  {
   "cell_type": "markdown",
   "source": [
    "# Compute precision and recall but using a threshold instead of top-n"
   ],
   "metadata": {
    "collapsed": false
   }
  },
  {
   "cell_type": "code",
   "execution_count": 89,
   "id": "443e2e57",
   "metadata": {
    "ExecuteTime": {
     "start_time": "2023-04-20T18:21:01.918303Z",
     "end_time": "2023-04-20T18:21:01.938368Z"
    }
   },
   "outputs": [],
   "source": [
    "def threshold_occlusion(robo_array , occlusion_array, threshold, average_type='weighted'):\n",
    "    \"\"\" Compute multi-label precision and recall by comparing flags for each branch based on Robovetter flags and the scores produced by the occlusion experiment. For a given `n` value, branches are considered to be flagged only if the scores are larger than `threshold`. These flags are then compared with the ground truth (i.e., the flags based on Robovetter).\n",
    "\n",
    "    Args:\n",
    "        robo_array: NumPy array, branch flags based on Robovetter major and minor flags [n_examples x n_flags]\n",
    "        occlusion_array: NumPy array, score difference for each branch from the occlusion test [n_examples x n_flags]\n",
    "        n: int, top branches to consider as flagged due to occlusion\n",
    "        average_type: str, type of averaging done for precision and recall\n",
    "\n",
    "    Returns:\n",
    "        Numpy arrays for precision and recall\n",
    "    \"\"\"\n",
    "\n",
    "    # occlusion_array=np.array(test_csv[test_csv.columns[8:15]])\n",
    "    # robo=np.array(test_csv[test_csv.columns[24:]])\n",
    "\n",
    "    robo, occlusion=post_process_flags(robo_array, occlusion_array)\n",
    "\n",
    "    for index in range(len(occlusion)):\n",
    "        # tce=occlusion[index]\n",
    "       # print(tce)\n",
    "        occlusion[index]=np.where(occlusion[index]>threshold, 1, 0)\n",
    "    #$print(occlusion)\n",
    "\n",
    "    weighted_prec=precision_score(robo, occlusion, average=average_type, zero_division=0)\n",
    "    weighted_rec=recall_score(robo,occlusion, average=average_type, zero_division=0)\n",
    "\n",
    "    return weighted_prec, weighted_rec"
   ]
  },
  {
   "cell_type": "code",
   "execution_count": 20,
   "id": "edef1120",
   "metadata": {},
   "outputs": [],
   "source": [
    "def threshold_occlusion_PC(threshold, average_type='weighted'):\n",
    "    occlusion_array=np.array(test_csv[test_csv.columns[8:15]])\n",
    "    robo=np.array(test_csv[test_csv.columns[24:]])\n",
    "    robo, occlusion=post_process_flags(robo, occlusion_array)\n",
    "    label=np.zeros(3063)\n",
    "    label[np.where(test_csv['original_label']=='PC')]=1\n",
    "    for index in range(len(occlusion)):\n",
    "        tce=occlusion[index]\n",
    "       # print(tce)\n",
    "        occlusion[index]=np.where(occlusion[index]>threshold, 1, 0)\n",
    "    sum_scores=np.sum(occlusion, axis=1)\n",
    "    sum_scores[np.where(sum_scores>0)]=-1\n",
    "    sum_scores[np.where(sum_scores==0)]=1\n",
    "    sum_scores[np.where(sum_scores==-1)]=0\n",
    "    true=label   \n",
    "    pred=sum_scores\n",
    "\n",
    "    prec=precision_score(true, pred, zero_division=0, average=average_type)\n",
    "    rec=recall_score(true, pred, zero_division=0, average=average_type)\n",
    "\n",
    "    return prec, rec"
   ]
  },
  {
   "cell_type": "code",
   "execution_count": 44,
   "id": "da010d8b",
   "metadata": {},
   "outputs": [],
   "source": [
    "prec_vals=[]\n",
    "rec_vals=[]\n",
    "average_type = 'micro'\n",
    "for i in np.logspace(-30, 0, 1000):\n",
    "    prec, rec=threshold_occlusion_PC(i, average_type)\n",
    "    prec_vals.append(prec)\n",
    "    rec_vals.append(rec)"
   ]
  },
  {
   "cell_type": "code",
   "execution_count": 45,
   "id": "4ca6a479",
   "metadata": {},
   "outputs": [
    {
     "data": {
      "image/png": "[encoded data removed]",
      "text/plain": [
       "<Figure size 360x288 with 1 Axes>"
      ]
     },
     "metadata": {
      "needs_background": "light"
     },
     "output_type": "display_data"
    }
   ],
   "source": [
    "plt.figure(figsize(5,4))\n",
    "plt.plot(np.logspace(-30, 0, 1000), prec_vals, label='Precision')\n",
    "plt.plot(np.logspace(-30, 0, 1000), rec_vals, label='Recall')\n",
    "plt.legend()\n",
    "#plt.xscale('log')\n",
    "#plt.xlim([0, 0.1])\n",
    "plt.xlabel('Threshold')\n",
    "plt.ylabel('Precision/Recall')\n",
    "plt.title('Precision/Recall of PC Selection with Occlusion')\n",
    "plt.savefig('PC_selection_occlusion_notlog.pdf')"
   ]
  },
  {
   "cell_type": "markdown",
   "source": [
    "# Plot precision/recall curves for occlusion as function of threshold"
   ],
   "metadata": {
    "collapsed": false
   }
  },
  {
   "cell_type": "code",
   "execution_count": 88,
   "id": "b34e3d37",
   "metadata": {
    "ExecuteTime": {
     "start_time": "2023-04-20T18:20:10.956883Z",
     "end_time": "2023-04-20T18:20:15.596478Z"
    }
   },
   "outputs": [],
   "source": [
    "prec_vals=[]\n",
    "rec_vals=[]\n",
    "for i in np.linspace(0, 1, 200):\n",
    "    prec, rec=threshold_occlusion(robo_array , occlusion_array, i)\n",
    "    prec_vals.append(prec)\n",
    "    rec_vals.append(rec)"
   ]
  },
  {
   "cell_type": "code",
   "execution_count": 91,
   "id": "4ca2a261",
   "metadata": {
    "ExecuteTime": {
     "start_time": "2023-04-20T18:21:15.721675Z",
     "end_time": "2023-04-20T18:21:15.839647Z"
    }
   },
   "outputs": [
    {
     "data": {
      "text/plain": "Text(0.5, 0, 'Threshold')"
     },
     "execution_count": 91,
     "metadata": {},
     "output_type": "execute_result"
    },
    {
     "data": {
      "text/plain": "<Figure size 432x288 with 1 Axes>",
      "image/png": "[encoded data removed]"
     },
     "metadata": {
      "needs_background": "light"
     },
     "output_type": "display_data"
    }
   ],
   "source": [
    "plt.plot(np.linspace(0, 1, 200), prec_vals, label='Precision')\n",
    "plt.plot(np.linspace(0, 1, 200), rec_vals, label='Recall')\n",
    "plt.legend()\n",
    "plt.xlabel('Threshold')\n",
    "# plt.title('Weighted Precision and Recall vs. Threshold with Occlusion')"
   ]
  },
  {
   "cell_type": "code",
   "execution_count": 14,
   "id": "f25ebcc6",
   "metadata": {},
   "outputs": [],
   "source": [
    "np.save('/nobackup/khauskne/kdd/prec_thresh_occl.npy',[np.linspace(0, 1, 200), prec_vals])\n",
    "np.save('/nobackup/khauskne/kdd/rec_thresh_occl.npy',[np.linspace(0, 1, 200), rec_vals])"
   ]
  },
  {
   "cell_type": "markdown",
   "source": [
    "# Computing precision and recall on a logarithmic range"
   ],
   "metadata": {
    "collapsed": false
   }
  },
  {
   "cell_type": "code",
   "execution_count": 92,
   "id": "799bb105",
   "metadata": {
    "ExecuteTime": {
     "start_time": "2023-04-20T18:26:34.974300Z",
     "end_time": "2023-04-20T18:28:10.248730Z"
    }
   },
   "outputs": [],
   "source": [
    "prec_vals=[]\n",
    "rec_vals=[]\n",
    "for i in np.logspace(-10, 0, 5000):\n",
    "    prec, rec=threshold_occlusion(robo_array , occlusion_array, i)\n",
    "    prec_vals.append(prec)\n",
    "    rec_vals.append(rec)"
   ]
  },
  {
   "cell_type": "code",
   "execution_count": 93,
   "id": "d5ce8c98",
   "metadata": {
    "ExecuteTime": {
     "start_time": "2023-04-20T18:28:22.045081Z",
     "end_time": "2023-04-20T18:28:22.954471Z"
    }
   },
   "outputs": [
    {
     "data": {
      "text/plain": "Text(0.5, 0, 'Threshold')"
     },
     "execution_count": 93,
     "metadata": {},
     "output_type": "execute_result"
    },
    {
     "data": {
      "text/plain": "<Figure size 432x288 with 1 Axes>",
      "image/png": "[encoded data removed]"
     },
     "metadata": {
      "needs_background": "light"
     },
     "output_type": "display_data"
    }
   ],
   "source": [
    "plt.loglog(np.logspace(-10, 0, 5000), prec_vals, label='Precision')\n",
    "plt.loglog(np.logspace(-10, 0, 5000), rec_vals, label='Recall')\n",
    "plt.legend()\n",
    "plt.xlabel('Threshold')\n",
    "# plt.title('Weighted Precision and Recall vs. Threshold with Occlusion')"
   ]
  },
  {
   "cell_type": "code",
   "execution_count": 94,
   "id": "159c40d8",
   "metadata": {
    "ExecuteTime": {
     "start_time": "2023-04-20T18:28:30.082415Z",
     "end_time": "2023-04-20T18:28:30.296756Z"
    }
   },
   "outputs": [
    {
     "data": {
      "text/plain": "Text(0.5, 0, 'Threshold')"
     },
     "execution_count": 94,
     "metadata": {},
     "output_type": "execute_result"
    },
    {
     "data": {
      "text/plain": "<Figure size 432x288 with 1 Axes>",
      "image/png": "[encoded data removed]"
     },
     "metadata": {
      "needs_background": "light"
     },
     "output_type": "display_data"
    }
   ],
   "source": [
    "plt.plot(np.logspace(-10, 0, 5000), prec_vals, label='Precision')\n",
    "plt.plot(np.logspace(-10, 0, 5000), rec_vals, label='Recall')\n",
    "plt.xscale('log')\n",
    "plt.ylim([0,1])\n",
    "plt.legend()\n",
    "plt.xlabel('Threshold')\n",
    "# plt.title('Weighted Precision and Recall vs. Threshold for Occlusion')"
   ]
  },
  {
   "cell_type": "markdown",
   "id": "a7cbf985",
   "metadata": {},
   "source": [
    "Issue of what if no branches are flagged by Robovetter? \n",
    "1) should we change/add a new metric to look only at cases where robovetter flags something\n",
    "2) should we change the way we're doing this by introducing a threshold so that it can be completely analogous to the way we're doing our explainability?\n",
    "3) should we add a new metric to analyze our explainability with where we only look at the maximally contributing branch in every case?"
   ]
  },
  {
   "cell_type": "markdown",
   "id": "abe7aef3",
   "metadata": {},
   "source": [
    "# Percentage of cases where there is at least one robovetter flag on that the maximally contributing branch (found via occlusion) agrees with one of the Robovetter flags"
   ]
  },
  {
   "cell_type": "code",
   "execution_count": 26,
   "id": "8b449e9e",
   "metadata": {},
   "outputs": [
    {
     "name": "stdout",
     "output_type": "stream",
     "text": [
      "0.5834677419354839\n"
     ]
    }
   ],
   "source": [
    "occlusion_array=np.array(test_csv[test_csv.columns[8:15]])\n",
    "robo_array=np.array(test_csv[test_csv.columns[24:]])\n",
    "num=0\n",
    "denom=0\n",
    "for index in range(len(occlusion_array)):\n",
    "    tce=occlusion_array[index]\n",
    "    max_contrib=np.argmax(tce)\n",
    "    #print(max_contrib)\n",
    "    robo_flags_on=np.where(robo_array[index]==1)[0]\n",
    "    if (np.shape(robo_flags_on)[0]>0):\n",
    "        denom=denom+1\n",
    "        if (max_contrib in robo_flags_on):\n",
    "            num=num+1\n",
    "        elif (1 in robo_flags_on):\n",
    "            if (max_contrib==0):\n",
    "                num=num+1\n",
    "print(num/denom)"
   ]
  },
  {
   "cell_type": "markdown",
   "id": "0ac70ade",
   "metadata": {},
   "source": [
    "# Percentage of cases where there is at least one robovetter flag on that the top two maximally contributing branch (found via occlusion) agrees with one of the Robovetter flags"
   ]
  },
  {
   "cell_type": "code",
   "execution_count": 36,
   "id": "115dd364",
   "metadata": {},
   "outputs": [
    {
     "name": "stdout",
     "output_type": "stream",
     "text": [
      "0.8330645161290322\n"
     ]
    }
   ],
   "source": [
    "occlusion_array=np.array(test_csv[test_csv.columns[8:15]])\n",
    "robo_array=np.array(test_csv[test_csv.columns[24:]])\n",
    "num=0\n",
    "denom=0\n",
    "for index in range(len(occlusion_array)):\n",
    "    tce=occlusion_array[index]\n",
    "    max_contrib=np.argsort(tce)[-2:]\n",
    "    robo_flags_on=np.where(robo_array[index]==1)[0]\n",
    "    \n",
    "    if (np.shape(robo_flags_on)[0]>0):\n",
    "        denom=denom+1\n",
    "        common_flags=np.intersect1d(robo_flags_on, max_contrib)\n",
    "        if (np.shape(common_flags)[0]>0):\n",
    "            num=num+1\n",
    "        elif (1 in robo_flags_on):\n",
    "            #print(robo_flags_on)\n",
    "            if (0 in max_contrib):\n",
    "               # print(max_contrib)\n",
    "                num=num+1\n",
    "print(num/denom)"
   ]
  },
  {
   "cell_type": "markdown",
   "id": "56574442",
   "metadata": {},
   "source": [
    "## Comparison of Occlusion and Our Methodology"
   ]
  },
  {
   "cell_type": "code",
   "execution_count": 70,
   "id": "688f9fdd",
   "metadata": {},
   "outputs": [],
   "source": [
    "def apply_statistics(branches, files, num_PCs):\n",
    "    new_csv=files[0].copy()\n",
    "    new_csv.pop('Unnamed: 0')\n",
    "    for branch in branches:\n",
    "        all_scores=np.zeros(tuple((num_PCs, np.shape(files[0])[0])))\n",
    "        for example in range(len(files)):\n",
    "            all_scores[example]=files[example][branch]\n",
    "        col_index=new_csv.columns.get_loc(branch)\n",
    "        new_csv[branch]=np.mean(all_scores, axis=0)\n",
    "        new_csv.insert(col_index+1, branch+' Std', np.std(all_scores, axis=0))\n",
    "        new_csv.insert(col_index+1, branch+' Max', np.max(all_scores, axis=0))\n",
    "        new_csv.insert(col_index+1, branch+' Min', np.min(all_scores, axis=0))\n",
    "        new_csv.insert(col_index+1, branch+' Med', np.median(all_scores, axis=0))\n",
    "        new_csv.insert(col_index+1, branch+' Mean+Std', np.mean(all_scores, axis=0)+np.std(all_scores, axis=0))\n",
    "        new_csv.insert(col_index+1, branch+' Mean-Std', np.mean(all_scores, axis=0)-np.std(all_scores, axis=0))\n",
    "    return new_csv\n",
    "\n",
    "\n",
    "\n",
    "def evaluate_mean(csv, branches):\n",
    "    csv=pd.merge(csv, robo_flags, on=['target_id', 'tce_plnt_num'])\n",
    "    robo=np.array(csv[csv.columns[-7:]])\n",
    "    reduced_csv=csv\n",
    "    branch_explanation=np.zeros([len(branches), len(csv)])\n",
    "    for i in range(len(branches)):\n",
    "        branch_explanation[i]=(reduced_csv[branches[i]]<-0.5)\n",
    "    branch_explanation=np.moveaxis(branch_explanation, 0, -1)\n",
    "    \n",
    "    mean_dict={'target_id': csv['target_id'], 'tce_plnt_num': csv['tce_plnt_num'], 'original_label':csv['original_label'],\n",
    "              'full_score': csv['full score'], 'minor_flags':csv['Minor_Descriptive_Flags'],'branch_explanations': branch_explanation, 'robo_flags': robo}\n",
    "    return mean_dict\n",
    "\n",
    "def evaluate_min(csv, branches):\n",
    "    csv=pd.merge(csv, robo_flags, on=['target_id', 'tce_plnt_num'])\n",
    "    robo=np.array(csv[csv.columns[-7:]])\n",
    "    reduced_csv=csv\n",
    "    branch_explanation=np.zeros([len(branches), len(csv)])\n",
    "    for i in range(len(branches)):\n",
    "        branch_explanation[i]=(reduced_csv[branches[i]+ ' Min']<-0.5)\n",
    "    branch_explanation=np.moveaxis(branch_explanation, 0, -1)\n",
    "    mean_dict={'target_id': csv['target_id'], 'tce_plnt_num': csv['tce_plnt_num'], 'original_label':csv['original_label'],\n",
    "              'full_score': csv['full score'],  'minor_flags':csv['Minor_Descriptive_Flags'], 'branch_explanations': branch_explanation, 'robo_flags': robo}\n",
    "    return mean_dict\n",
    "\n",
    "def evaluate_max(csv, branches):\n",
    "    csv=pd.merge(csv, robo_flags, on=['target_id', 'tce_plnt_num'])\n",
    "    robo=np.array(csv[csv.columns[-7:]])\n",
    "    reduced_csv=csv\n",
    "    branch_explanation=np.zeros([len(branches), len(csv)])\n",
    "    for i in range(len(branches)):\n",
    "        branch_explanation[i]=(reduced_csv[branches[i]+ ' Max']<-0.5)\n",
    "    branch_explanation=np.moveaxis(branch_explanation, 0, -1)\n",
    "    \n",
    "    mean_dict={'target_id': csv['target_id'], 'tce_plnt_num': csv['tce_plnt_num'], 'original_label':csv['original_label'],\n",
    "              'full_score': csv['full score'],  'minor_flags':csv['Minor_Descriptive_Flags'], 'branch_explanations': branch_explanation, 'robo_flags': robo}\n",
    "    return mean_dict\n",
    "\n",
    "def evaluate_med(csv, branches):\n",
    "    csv=pd.merge(csv, robo_flags, on=['target_id', 'tce_plnt_num'])\n",
    "    robo=np.array(csv[csv.columns[-7:]])\n",
    "    reduced_csv=csv\n",
    "    branch_explanation=np.zeros([len(branches), len(csv)])\n",
    "    for i in range(len(branches)):\n",
    "        branch_explanation[i]=(reduced_csv[branches[i]+ ' Med']<-0.5)\n",
    "    branch_explanation=np.moveaxis(branch_explanation, 0, -1)\n",
    "    csv=pd.merge(csv, robo_flags, on=['target_id', 'tce_plnt_num'])\n",
    "    mean_dict={'target_id': csv['target_id'], 'tce_plnt_num': csv['tce_plnt_num'], 'original_label':csv['original_label'],\n",
    "              'full_score': csv['full score'],  'minor_flags':csv['Minor_Descriptive_Flags'], 'branch_explanations': branch_explanation, 'robo_flags': robo}\n",
    "    return mean_dict\n"
   ]
  },
  {
   "cell_type": "code",
   "execution_count": 85,
   "id": "aa4c4db8",
   "metadata": {},
   "outputs": [],
   "source": [
    "def get_csv_with_stat(num_PCs, trial):\n",
    "    run='/nobackup/khauskne/kdd/explainability_runs/exp_'+str(num_PCs)+'_PCs_trial_'+str(trial)+'/'\n",
    "    all_train_groups=[]\n",
    "    for index in range(num_PCs):\n",
    "        train_group=pd.read_csv(run+'train_top_'+str(index)+'.csv')\n",
    "        all_train_groups.append(train_group)\n",
    "    \n",
    "\n",
    "    all_val_groups=[]\n",
    "    for index in range(num_PCs):\n",
    "        val_group=pd.read_csv(run+'val_top_'+str(index)+'.csv')\n",
    "        all_val_groups.append(val_group)\n",
    "\n",
    "    all_test_groups=[]\n",
    "    for index in range(num_PCs):\n",
    "        test_group=pd.read_csv(run+'test_top_'+str(index)+'.csv')\n",
    "        all_test_groups.append(test_group)\n",
    "\n",
    "    branches=['Global Flux', 'Local Flux', 'Centroid', 'Odd Even', 'Secondary', 'Stellar', 'DV']\n",
    "    train_statistics=apply_statistics(branches, all_train_groups, num_PCs)\n",
    "    val_statistics=apply_statistics(branches, all_val_groups, num_PCs)\n",
    "    test_statistics=apply_statistics(branches, all_test_groups, num_PCs)\n",
    "    return train_statistics[['Global Flux Min', 'Local Flux Min', 'Centroid Min', 'Odd Even Min',\n",
    "                                         'Secondary Min', 'Stellar Min', 'DV Min']], val_statistics[['Global Flux Min', 'Local Flux Min', 'Centroid Min', 'Odd Even Min',\n",
    "                                         'Secondary Min', 'Stellar Min', 'DV Min']], test_statistics[['Global Flux Min', 'Local Flux Min', 'Centroid Min', 'Odd Even Min',\n",
    "                                         'Secondary Min', 'Stellar Min', 'DV Min']]"
   ]
  },
  {
   "cell_type": "code",
   "execution_count": 159,
   "id": "00a36542",
   "metadata": {},
   "outputs": [],
   "source": [
    "num_PCs=np.shape(np.where(test_csv['original_label']=='PC')[0])[0]\n",
    "total_test=np.shape(test_csv)[0]\n",
    "threshold_vals=np.logspace(-9, 0, 1000)"
   ]
  },
  {
   "cell_type": "code",
   "execution_count": 160,
   "id": "beedb2a0",
   "metadata": {},
   "outputs": [],
   "source": [
    "num_flagged=[]\n",
    "for i in threshold_vals:\n",
    "    threshold_flagged=np.shape(np.unique(np.where(test_csv[test_csv.columns[8:15]]>i)[0]))[0]\n",
    "    num_flagged.append(threshold_flagged)\n",
    "num_flagged=np.array(num_flagged)"
   ]
  },
  {
   "cell_type": "code",
   "execution_count": 161,
   "id": "32633dba",
   "metadata": {},
   "outputs": [],
   "source": [
    "test_new_exp=get_csv_with_stat(15, 2)[2]"
   ]
  },
  {
   "cell_type": "code",
   "execution_count": 162,
   "id": "eea9f7c4",
   "metadata": {},
   "outputs": [],
   "source": [
    "num_flagged_new_exp=[]\n",
    "for i in threshold_vals:\n",
    "    threshold_flagged=np.shape(np.unique(np.where(test_new_exp<-1*i)[0]))[0]\n",
    "    num_flagged_new_exp.append(threshold_flagged)\n",
    "num_flagged_new_exp=np.array(num_flagged_new_exp)"
   ]
  },
  {
   "cell_type": "code",
   "execution_count": 168,
   "id": "8ca996cb",
   "metadata": {},
   "outputs": [
    {
     "data": {
      "text/plain": [
       "<matplotlib.legend.Legend at 0x2aab5f810910>"
      ]
     },
     "execution_count": 168,
     "metadata": {},
     "output_type": "execute_result"
    },
    {
     "data": {
      "image/png": "[encoded data removed]",
      "text/plain": [
       "<Figure size 432x288 with 1 Axes>"
      ]
     },
     "metadata": {
      "needs_background": "light"
     },
     "output_type": "display_data"
    }
   ],
   "source": [
    "plt.title('Percentage of TCEs flagged at Different Thresholds')\n",
    "plt.xlabel('Threshold for Labeling')\n",
    "plt.ylabel('Percentage of TCEs flagged')\n",
    "\n",
    "\n",
    "\n",
    "plt.loglog(threshold_vals, num_flagged_new_exp/total_test, 'o', label='New Explainability')\n",
    "plt.loglog(threshold_vals, num_flagged/total_test, 'o', label='Occlusion')\n",
    "plt.axhline(1-(num_PCs/total_test), color='r', label='Percentage of FPs')\n",
    "plt.legend()\n",
    "#plt.scatter(threshold_vals, num_flagged_new_exp/total_test)\n",
    "#plt.scatter(threshold_vals, num_flagged/total_test)\n"
   ]
  },
  {
   "cell_type": "code",
   "execution_count": 169,
   "id": "16012c69",
   "metadata": {},
   "outputs": [],
   "source": [
    "num_PCs=np.shape(np.where(test_csv['original_label']=='PC')[0])[0]\n",
    "total_test=np.shape(test_csv)[0]\n",
    "threshold_vals=np.linspace(0, 1, 10000)"
   ]
  },
  {
   "cell_type": "code",
   "execution_count": 170,
   "id": "a3d46b79",
   "metadata": {},
   "outputs": [],
   "source": [
    "num_flagged=[]\n",
    "for i in threshold_vals:\n",
    "    threshold_flagged=np.shape(np.unique(np.where(test_csv[test_csv.columns[8:15]]>i)[0]))[0]\n",
    "    num_flagged.append(threshold_flagged)\n",
    "num_flagged=np.array(num_flagged)"
   ]
  },
  {
   "cell_type": "code",
   "execution_count": 171,
   "id": "c1c13652",
   "metadata": {},
   "outputs": [],
   "source": [
    "test_new_exp=get_csv_with_stat(10, 2)[2]"
   ]
  },
  {
   "cell_type": "code",
   "execution_count": 172,
   "id": "84501ec2",
   "metadata": {},
   "outputs": [],
   "source": [
    "num_flagged_new_exp=[]\n",
    "for i in threshold_vals:\n",
    "    threshold_flagged=np.shape(np.unique(np.where(test_new_exp<-1*i)[0]))[0]\n",
    "    num_flagged_new_exp.append(threshold_flagged)\n",
    "num_flagged_new_exp=np.array(num_flagged_new_exp)"
   ]
  },
  {
   "cell_type": "code",
   "execution_count": 174,
   "id": "4b9e8d0d",
   "metadata": {},
   "outputs": [
    {
     "data": {
      "text/plain": [
       "<matplotlib.legend.Legend at 0x2aab5f8f8f40>"
      ]
     },
     "execution_count": 174,
     "metadata": {},
     "output_type": "execute_result"
    },
    {
     "data": {
      "image/png": "[encoded data removed]",
      "text/plain": [
       "<Figure size 432x288 with 1 Axes>"
      ]
     },
     "metadata": {
      "needs_background": "light"
     },
     "output_type": "display_data"
    }
   ],
   "source": [
    "plt.title('Percentage of TCEs flagged at Different Thresholds')\n",
    "plt.xlabel('Threshold for Labeling')\n",
    "plt.ylabel('Percentage of TCEs flagged')\n",
    "\n",
    "#plt.loglog(threshold_vals, num_flagged_new_exp/total_test, 'o')\n",
    "#plt.loglog(threshold_vals, num_flagged/total_test, 'o')\n",
    "\n",
    "plt.scatter(threshold_vals, num_flagged_new_exp/total_test, label='New Explainability')\n",
    "plt.scatter(threshold_vals, num_flagged/total_test, label='Occlusion')\n",
    "plt.axhline(1-(num_PCs/total_test), label='Percentage of FPs')\n",
    "plt.legend()"
   ]
  },
  {
   "cell_type": "markdown",
   "id": "dcf29c27",
   "metadata": {},
   "source": [
    "## Comparison of the Number of PCs Used"
   ]
  },
  {
   "cell_type": "code",
   "execution_count": 177,
   "id": "137a9666",
   "metadata": {},
   "outputs": [],
   "source": [
    "num_PCs=np.shape(np.where(test_csv['original_label']=='PC')[0])[0]\n",
    "total_test=np.shape(test_csv)[0]\n",
    "threshold_vals=np.linspace(0, 1, 1000)"
   ]
  },
  {
   "cell_type": "code",
   "execution_count": 181,
   "id": "24fa104a",
   "metadata": {},
   "outputs": [],
   "source": [
    "num_flagged_array=np.zeros([16, 1000])\n",
    "for num_PCs in range(1, 15):\n",
    "    test_new_exp=get_csv_with_stat(num_PCs, 2)[2]\n",
    "    num_flagged=[]\n",
    "    for i in threshold_vals:\n",
    "        threshold_flagged=np.shape(np.unique(np.where(test_new_exp<-1*i)[0]))[0]\n",
    "        num_flagged.append(threshold_flagged)\n",
    "    num_flagged=np.array(num_flagged)\n",
    "    num_flagged_array[num_PCs]=num_flagged"
   ]
  },
  {
   "cell_type": "code",
   "execution_count": 191,
   "id": "de14ddd4",
   "metadata": {},
   "outputs": [
    {
     "data": {
      "text/plain": [
       "<matplotlib.legend.Legend at 0x2aab5fc7ef10>"
      ]
     },
     "execution_count": 191,
     "metadata": {},
     "output_type": "execute_result"
    },
    {
     "data": {
      "image/png": "[encoded data removed]",
      "text/plain": [
       "<Figure size 432x288 with 1 Axes>"
      ]
     },
     "metadata": {
      "needs_background": "light"
     },
     "output_type": "display_data"
    }
   ],
   "source": [
    "i=2\n",
    "while i in range(1, 15):\n",
    "    plt.plot(threshold_vals, num_flagged_array[i]/total_test, label=str(i))\n",
    "    i=i+3\n",
    "plt.legend()"
   ]
  },
  {
   "cell_type": "code",
   "execution_count": null,
   "id": "7f4590aa",
   "metadata": {},
   "outputs": [],
   "source": []
  }
 ],
 "metadata": {
  "kernelspec": {
   "display_name": "Python 3 (ipykernel)",
   "language": "python",
   "name": "python3"
  },
  "language_info": {
   "codemirror_mode": {
    "name": "ipython",
    "version": 3
   },
   "file_extension": ".py",
   "mimetype": "text/x-python",
   "name": "python",
   "nbconvert_exporter": "python",
   "pygments_lexer": "ipython3",
   "version": "3.8.5"
  }
 },
 "nbformat": 4,
 "nbformat_minor": 5
}
