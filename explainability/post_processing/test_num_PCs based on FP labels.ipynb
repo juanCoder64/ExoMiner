{
 "cells": [
  {
   "cell_type": "code",
   "execution_count": 1,
   "id": "f4c4dbc5",
   "metadata": {
    "pycharm": {
     "name": "#%%\n"
    }
   },
   "outputs": [],
   "source": [
    "import pandas as pd\n",
    "import numpy as np\n"
   ]
  },
  {
   "cell_type": "code",
   "execution_count": 2,
   "id": "5027a343",
   "metadata": {
    "pycharm": {
     "name": "#%%\n"
    }
   },
   "outputs": [],
   "source": [
    "def summary_statistics(stat_func, num_PCs, trials):\n",
    "    train=[]\n",
    "    val=[]\n",
    "    test=[]\n",
    "    for trial in range(1, trials+1):\n",
    "        run='/nobackup/khauskne/kdd/explainability_runs/exp_'+str(num_PCs)+'_PCs_trial_'+str(trial)+'/'\n",
    "        all_train_groups=[]\n",
    "        for index in range(num_PCs):\n",
    "            train_group=pd.read_csv(run+'train_top_'+str(index)+'.csv')\n",
    "            all_train_groups.append(train_group)\n",
    "\n",
    "        all_val_groups=[]\n",
    "        for index in range(num_PCs):\n",
    "            val_group=pd.read_csv(run+'val_top_'+str(index)+'.csv')\n",
    "            all_val_groups.append(val_group)\n",
    "\n",
    "        all_test_groups=[]\n",
    "        for index in range(num_PCs):\n",
    "            test_group=pd.read_csv(run+'test_top_'+str(index)+'.csv')\n",
    "            all_test_groups.append(test_group)\n",
    "\n",
    "        branches=['Global Flux', 'Local Flux', 'Centroid', 'Odd Even', 'Secondary', 'Stellar', 'DV']\n",
    "        train_statistics=apply_statistics(branches, all_train_groups, num_PCs)\n",
    "        val_statistics=apply_statistics(branches, all_val_groups, num_PCs)\n",
    "        test_statistics=apply_statistics(branches, all_test_groups, num_PCs)\n",
    "\n",
    "        train_stat=precision_recall(stat_func(train_statistics, branches))\n",
    "        val_stat=precision_recall(stat_func(val_statistics, branches))\n",
    "        test_stat=precision_recall(stat_func(test_statistics, branches))\n",
    "        train.append(train_stat)\n",
    "        val.append(val_stat)\n",
    "        test.append(test_stat)\n",
    "\n",
    "    train=np.moveaxis(train, 0, -1)\n",
    "    val=np.moveaxis(val, 0, -1)\n",
    "    test=np.moveaxis(test, 0, -1)\n",
    "    train_dict={'dataset':'train', 'recall_afp':train[0], 'recall_ntp':train[1] , 'recall_fp':train[2], 'precision_fp':train[3]}\n",
    "    val_dict={'dataset':'val', 'recall_afp':val[0], 'recall_ntp':val[1] , 'recall_fp':val[2], 'precision_fp':val[3]}\n",
    "    test_dict={'dataset':'test', 'recall_afp':test[0], 'recall_ntp':test[1] , 'recall_fp':test[2], 'precision_fp':test[3]}\n",
    "    return train_dict, val_dict, test_dict"
   ]
  },
  {
   "cell_type": "code",
   "execution_count": 3,
   "id": "44ed9eb2",
   "metadata": {
    "pycharm": {
     "name": "#%%\n"
    }
   },
   "outputs": [
    {
     "name": "stdout",
     "output_type": "stream",
     "text": [
      "Populating the interactive namespace from numpy and matplotlib\n"
     ]
    }
   ],
   "source": [
    "%pylab inline"
   ]
  },
  {
   "cell_type": "code",
   "execution_count": 4,
   "id": "45497e69",
   "metadata": {
    "pycharm": {
     "name": "#%%\n"
    }
   },
   "outputs": [
    {
     "ename": "NameError",
     "evalue": "name 'evaluate_min' is not defined",
     "output_type": "error",
     "traceback": [
      "\u001B[0;31m---------------------------------------------------------------------------\u001B[0m",
      "\u001B[0;31mNameError\u001B[0m                                 Traceback (most recent call last)",
      "\u001B[0;32m/tmp/ipykernel_84349/3350252131.py\u001B[0m in \u001B[0;36m<module>\u001B[0;34m\u001B[0m\n\u001B[0;32m----> 1\u001B[0;31m \u001B[0msummary_statistics\u001B[0m\u001B[0;34m(\u001B[0m\u001B[0mevaluate_min\u001B[0m\u001B[0;34m,\u001B[0m \u001B[0;36m1\u001B[0m\u001B[0;34m,\u001B[0m \u001B[0;36m9\u001B[0m\u001B[0;34m)\u001B[0m\u001B[0;34m[\u001B[0m\u001B[0;36m2\u001B[0m\u001B[0;34m]\u001B[0m\u001B[0;34m\u001B[0m\u001B[0;34m\u001B[0m\u001B[0m\n\u001B[0m",
      "\u001B[0;31mNameError\u001B[0m: name 'evaluate_min' is not defined"
     ]
    }
   ],
   "source": [
    "summary_statistics(evaluate_min, 1, 9)[2]"
   ]
  },
  {
   "cell_type": "code",
   "execution_count": 10,
   "id": "ca698c87",
   "metadata": {
    "pycharm": {
     "name": "#%%\n"
    }
   },
   "outputs": [],
   "source": [
    "pc_1=summary_statistics(evaluate_min, 1, 9)[2]\n",
    "pc_2=summary_statistics(evaluate_min, 2, 9)[2]\n",
    "pc_3=summary_statistics(evaluate_min, 3, 9)[2]\n",
    "pc_4=summary_statistics(evaluate_min, 4, 9)[2]\n",
    "pc_5=summary_statistics(evaluate_min, 5, 9)[2]\n",
    "pc_6=summary_statistics(evaluate_min, 6, 9)[2]\n",
    "pc_7=summary_statistics(evaluate_min, 7, 9)[2]\n",
    "pc_8=summary_statistics(evaluate_min, 8, 9)[2]\n",
    "pc_9=summary_statistics(evaluate_min, 9, 9)[2]\n",
    "pc_10=summary_statistics(evaluate_min, 10, 9)[2]\n",
    "pc_11=summary_statistics(evaluate_min, 11, 9)[2]\n",
    "pc_12=summary_statistics(evaluate_min, 12, 9)[2]\n",
    "pc_13=summary_statistics(evaluate_min, 13, 9)[2]\n",
    "pc_14=summary_statistics(evaluate_min, 14, 9)[2]\n",
    "pc_15=summary_statistics(evaluate_min, 15, 9)[2]"
   ]
  },
  {
   "cell_type": "code",
   "execution_count": 11,
   "id": "31766f1e",
   "metadata": {
    "pycharm": {
     "name": "#%%\n"
    }
   },
   "outputs": [],
   "source": [
    "def plot_statistics(data_arrays, statistic):\n",
    "    mean_statistics=[]\n",
    "    std_statistics=[]\n",
    "    for array in data_arrays:\n",
    "        mean=np.mean(array[statistic])\n",
    "        mean_statistics.append(mean)\n",
    "        std=np.std(array[statistic])\n",
    "        std_statistics.append(std)\n",
    "    return mean_statistics, std_statistics"
   ]
  },
  {
   "cell_type": "code",
   "execution_count": 12,
   "id": "ed2db12f",
   "metadata": {
    "pycharm": {
     "name": "#%%\n"
    }
   },
   "outputs": [],
   "source": [
    "recall_afp=plot_statistics([pc_1,pc_2,pc_3, pc_4, pc_5,pc_6, pc_7, pc_8, \n",
    "                            pc_9,pc_10, pc_11, pc_12, pc_13, pc_14 , pc_15], 'recall_afp')\n",
    "recall_fp=plot_statistics([pc_1,pc_2,pc_3, pc_4, pc_5,pc_6, pc_7, pc_8, \n",
    "                           pc_9,pc_10, pc_11, pc_12, pc_13, pc_14 , pc_15], 'recall_fp')\n",
    "recall_ntp=plot_statistics([pc_1,pc_2,pc_3, pc_4, pc_5,pc_6, pc_7,  pc_8, \n",
    "                            pc_9,pc_10, pc_11, pc_12, pc_13, pc_14 , pc_15], 'recall_ntp')\n",
    "precision_fp=plot_statistics([pc_1,pc_2,pc_3, pc_4, pc_5, pc_6, pc_7, pc_8, \n",
    "                              pc_9,pc_10, pc_11, pc_12, pc_13, pc_14 , pc_15], 'precision_fp')"
   ]
  },
  {
   "cell_type": "code",
   "execution_count": 22,
   "id": "85e34e53",
   "metadata": {
    "pycharm": {
     "name": "#%%\n"
    }
   },
   "outputs": [
    {
     "data": {
      "image/png": "[encoded data removed]",
      "text/plain": [
       "<Figure size 432x288 with 1 Axes>"
      ]
     },
     "metadata": {
      "needs_background": "light"
     },
     "output_type": "display_data"
    }
   ],
   "source": [
    "plt.figure(figsize=(6,4))\n",
    "num_pcs=np.arange(1,16)\n",
    "#plt.errorbar(num_pcs, precision_fp[0], precision_fp[1], fmt='o')\n",
    "plt.errorbar(num_pcs, recall_fp[0], recall_fp[1], fmt='o')\n",
    "plt.xlabel('Number of PCs')\n",
    "plt.ylabel('Recall')\n",
    "plt.title('Explainability Recall vs. Number of PCs Used')\n",
    "plt.savefig('/nobackup/khauskne/kdd/figures/exp_recall_min_stat_based_on_FP_labels.pdf',format='pdf')"
   ]
  },
  {
   "cell_type": "code",
   "execution_count": 23,
   "id": "28aaaf80",
   "metadata": {
    "pycharm": {
     "name": "#%%\n"
    }
   },
   "outputs": [
    {
     "data": {
      "image/png": "[encoded data removed]",
      "text/plain": [
       "<Figure size 432x288 with 1 Axes>"
      ]
     },
     "metadata": {
      "needs_background": "light"
     },
     "output_type": "display_data"
    }
   ],
   "source": [
    "plt.figure(figsize=(6,4))\n",
    "num_pcs=np.arange(1,16)\n",
    "plt.errorbar(num_pcs, precision_fp[0], precision_fp[1], fmt='o')\n",
    "#plt.errorbar(num_pcs, recall_fp[0], recall_fp[1], fmt='o')\n",
    "plt.xlabel('Number of PCs')\n",
    "plt.ylabel('Precision')\n",
    "plt.title('Explainability Precision vs. Number of PCs Used')\n",
    "plt.savefig('/nobackup/khauskne/kdd/figures/exp_precision_min_stat_based_on_FP_labels.pdf',format='pdf')"
   ]
  },
  {
   "cell_type": "code",
   "execution_count": 20,
   "id": "c48cc0e7",
   "metadata": {
    "pycharm": {
     "name": "#%%\n"
    }
   },
   "outputs": [
    {
     "data": {
      "text/plain": [
       "Text(0.5, 1.0, 'Explainability Recall AFP vs. Number of PCs Used')"
      ]
     },
     "execution_count": 20,
     "metadata": {},
     "output_type": "execute_result"
    },
    {
     "data": {
      "image/png": "[encoded data removed]",
      "text/plain": [
       "<Figure size 432x288 with 1 Axes>"
      ]
     },
     "metadata": {
      "needs_background": "light"
     },
     "output_type": "display_data"
    }
   ],
   "source": [
    "num_pcs=np.arange(1,16)\n",
    "#plt.errorbar(num_pcs, precision_fp[0], precision_fp[1], fmt='o')\n",
    "plt.errorbar(num_pcs, recall_afp[0], recall_afp[1], fmt='o')\n",
    "plt.xlabel('Number of PCs')\n",
    "plt.ylabel('Recall')\n",
    "plt.title('Explainability Recall AFP vs. Number of PCs Used')"
   ]
  },
  {
   "cell_type": "code",
   "execution_count": 18,
   "id": "5af31915",
   "metadata": {
    "pycharm": {
     "name": "#%%\n"
    }
   },
   "outputs": [],
   "source": [
    "pc_1_mean=summary_statistics(evaluate_mean, 1, 9)[2]\n",
    "pc_2_mean=summary_statistics(evaluate_mean, 2, 9)[2]\n",
    "pc_3_mean=summary_statistics(evaluate_mean, 3, 9)[2]\n",
    "pc_4_mean=summary_statistics(evaluate_mean, 4, 9)[2]\n",
    "pc_5_mean=summary_statistics(evaluate_mean, 5, 9)[2]\n",
    "pc_6_mean=summary_statistics(evaluate_mean, 6, 9)[2]\n",
    "pc_7_mean=summary_statistics(evaluate_mean, 7, 9)[2]\n",
    "pc_8_mean=summary_statistics(evaluate_mean, 8, 9)[2]\n",
    "pc_9_mean=summary_statistics(evaluate_mean, 9, 9)[2]\n",
    "pc_10_mean=summary_statistics(evaluate_mean, 10, 9)[2]\n",
    "pc_11_mean=summary_statistics(evaluate_mean, 11, 9)[2]\n",
    "pc_12_mean=summary_statistics(evaluate_mean, 12, 9)[2]\n",
    "pc_13_mean=summary_statistics(evaluate_mean, 13, 9)[2]\n",
    "pc_14_mean=summary_statistics(evaluate_mean, 14, 9)[2]\n",
    "pc_15_mean=summary_statistics(evaluate_mean, 15, 9)[2]"
   ]
  },
  {
   "cell_type": "code",
   "execution_count": 19,
   "id": "eac6967e",
   "metadata": {
    "pycharm": {
     "name": "#%%\n"
    }
   },
   "outputs": [],
   "source": [
    "recall_afp_mean=plot_statistics([pc_1_mean,pc_2_mean,pc_3_mean, pc_4_mean, pc_5_mean,pc_6_mean, pc_7_mean, pc_8_mean, \n",
    "                            pc_9_mean,pc_10_mean, pc_11_mean, pc_12_mean, pc_13_mean, pc_14_mean , pc_15_mean], 'recall_afp')\n",
    "recall_fp_mean=plot_statistics([pc_1_mean,pc_2_mean,pc_3_mean, pc_4_mean, pc_5_mean,pc_6_mean, pc_7_mean, pc_8_mean, \n",
    "                            pc_9_mean,pc_10_mean, pc_11_mean, pc_12_mean, pc_13_mean, pc_14_mean , pc_15_mean], 'recall_fp')\n",
    "recall_ntp_mean=plot_statistics([pc_1_mean,pc_2_mean,pc_3_mean, pc_4_mean, pc_5_mean,pc_6_mean, pc_7_mean, pc_8_mean, \n",
    "                            pc_9_mean,pc_10_mean, pc_11_mean, pc_12_mean, pc_13_mean, pc_14_mean , pc_15_mean], 'recall_ntp')\n",
    "precision_fp_mean=plot_statistics([pc_1_mean,pc_2_mean,pc_3_mean, pc_4_mean, pc_5_mean,pc_6_mean, pc_7_mean, pc_8_mean, \n",
    "                            pc_9_mean,pc_10_mean, pc_11_mean, pc_12_mean, pc_13_mean, pc_14_mean , pc_15_mean], 'precision_fp')"
   ]
  },
  {
   "cell_type": "code",
   "execution_count": 24,
   "id": "fe99f17d",
   "metadata": {
    "pycharm": {
     "name": "#%%\n"
    }
   },
   "outputs": [
    {
     "data": {
      "image/png": "[encoded data removed]",
      "text/plain": [
       "<Figure size 432x288 with 1 Axes>"
      ]
     },
     "metadata": {
      "needs_background": "light"
     },
     "output_type": "display_data"
    }
   ],
   "source": [
    "plt.figure(figsize=(6,4))\n",
    "num_pcs=np.arange(1,16)\n",
    "#plt.errorbar(num_pcs, precision_fp[0], precision_fp[1], fmt='o')\n",
    "plt.errorbar(num_pcs, recall_fp_mean[0], recall_fp_mean[1], fmt='o')\n",
    "plt.xlabel('Number of PCs')\n",
    "plt.ylabel('Recall')\n",
    "plt.title('Explainability Recall vs. Number of PCs Used (Mean Statistic)')\n",
    "plt.savefig('/nobackup/khauskne/kdd/figures/exp_recall_mean_stat_based_on_FP_labels.pdf',format='pdf')"
   ]
  },
  {
   "cell_type": "code",
   "execution_count": 25,
   "id": "18afdda4",
   "metadata": {
    "pycharm": {
     "name": "#%%\n"
    }
   },
   "outputs": [
    {
     "data": {
      "image/png": "[encoded data removed]",
      "text/plain": [
       "<Figure size 432x288 with 1 Axes>"
      ]
     },
     "metadata": {
      "needs_background": "light"
     },
     "output_type": "display_data"
    }
   ],
   "source": [
    "plt.figure(figsize=(6,4))\n",
    "num_pcs=np.arange(1,16)\n",
    "#plt.errorbar(num_pcs, precision_fp[0], precision_fp[1], fmt='o')\n",
    "plt.errorbar(num_pcs, precision_fp_mean[0], precision_fp_mean[1], fmt='o')\n",
    "plt.xlabel('Number of PCs')\n",
    "plt.ylabel('Precision')\n",
    "plt.title('Explainability Precision vs. Number of PCs Used (Mean Statistic)')\n",
    "plt.savefig('/nobackup/khauskne/kdd/figures/exp_precision_mean_stat_based_on_FP_labels.pdf',format='pdf')"
   ]
  },
  {
   "cell_type": "code",
   "execution_count": null,
   "id": "e790ead2",
   "metadata": {
    "pycharm": {
     "name": "#%%\n"
    }
   },
   "outputs": [],
   "source": [
    "#How many to choose to get certain percent accuracy?"
   ]
  },
  {
   "cell_type": "code",
   "execution_count": 8,
   "id": "7150a3aa",
   "metadata": {
    "pycharm": {
     "name": "#%%\n"
    }
   },
   "outputs": [],
   "source": [
    "def apply_statistics(branches, files, num_PCs):\n",
    "    new_csv=files[0].copy()\n",
    "    new_csv.pop('Unnamed: 0')\n",
    "    for branch in branches:\n",
    "        all_scores=np.zeros(tuple((num_PCs, np.shape(files[0])[0])))\n",
    "        for example in range(len(files)):\n",
    "            all_scores[example]=files[example][branch]\n",
    "        col_index=new_csv.columns.get_loc(branch)\n",
    "        new_csv[branch]=np.mean(all_scores, axis=0)\n",
    "        new_csv.insert(col_index+1, branch+' Std', np.std(all_scores, axis=0))\n",
    "        new_csv.insert(col_index+1, branch+' Max', np.max(all_scores, axis=0))\n",
    "        new_csv.insert(col_index+1, branch+' Min', np.min(all_scores, axis=0))\n",
    "        new_csv.insert(col_index+1, branch+' Med', np.median(all_scores, axis=0))\n",
    "        new_csv.insert(col_index+1, branch+' Mean+Std', np.mean(all_scores, axis=0)+np.std(all_scores, axis=0))\n",
    "        new_csv.insert(col_index+1, branch+' Mean-Std', np.mean(all_scores, axis=0)-np.std(all_scores, axis=0))\n",
    "    return new_csv\n",
    "\n",
    "\n",
    "\n",
    "def evaluate_mean(csv, branches):\n",
    "    reduced_csv=csv\n",
    "    branch_explanation=np.zeros([len(branches), len(csv)])\n",
    "    for i in range(len(branches)):\n",
    "        branch_explanation[i]=(reduced_csv[branches[i]]<-0.5)\n",
    "    branch_explanation=np.moveaxis(branch_explanation, 0, -1)\n",
    "    \n",
    "    mean_dict={'target_id': csv['target_id'], 'tce_plnt_num': csv['tce_plnt_num'], 'original_label':csv['original_label'],\n",
    "              'full_score': csv['full score'], 'branch_explanations': branch_explanation}\n",
    "    return mean_dict\n",
    "\n",
    "def evaluate_min(csv, branches):\n",
    "    reduced_csv=csv\n",
    "    branch_explanation=np.zeros([len(branches), len(csv)])\n",
    "    for i in range(len(branches)):\n",
    "        branch_explanation[i]=(reduced_csv[branches[i]+ ' Min']<-0.5)\n",
    "    branch_explanation=np.moveaxis(branch_explanation, 0, -1)\n",
    "    \n",
    "    mean_dict={'target_id': csv['target_id'], 'tce_plnt_num': csv['tce_plnt_num'], 'original_label':csv['original_label'],\n",
    "              'full_score': csv['full score'], 'branch_explanations': branch_explanation}\n",
    "    return mean_dict\n",
    "\n",
    "def evaluate_max(csv, branches):\n",
    "    reduced_csv=csv\n",
    "    branch_explanation=np.zeros([len(branches), len(csv)])\n",
    "    for i in range(len(branches)):\n",
    "        branch_explanation[i]=(reduced_csv[branches[i]+ ' Max']<-0.5)\n",
    "    branch_explanation=np.moveaxis(branch_explanation, 0, -1)\n",
    "    \n",
    "    mean_dict={'target_id': csv['target_id'], 'tce_plnt_num': csv['tce_plnt_num'], 'original_label':csv['original_label'],\n",
    "              'full_score': csv['full score'], 'branch_explanations': branch_explanation}\n",
    "    return mean_dict\n",
    "\n",
    "def evaluate_med(csv, branches):\n",
    "    reduced_csv=csv\n",
    "    branch_explanation=np.zeros([len(branches), len(csv)])\n",
    "    for i in range(len(branches)):\n",
    "        branch_explanation[i]=(reduced_csv[branches[i]+ ' Med']<-0.5)\n",
    "    branch_explanation=np.moveaxis(branch_explanation, 0, -1)\n",
    "    \n",
    "    mean_dict={'target_id': csv['target_id'], 'tce_plnt_num': csv['tce_plnt_num'], 'original_label':csv['original_label'],\n",
    "              'full_score': csv['full score'], 'branch_explanations': branch_explanation}\n",
    "    return mean_dict\n",
    "\n"
   ]
  },
  {
   "cell_type": "code",
   "execution_count": 9,
   "id": "eef3991d",
   "metadata": {
    "pycharm": {
     "name": "#%%\n"
    }
   },
   "outputs": [],
   "source": [
    "def precision_recall(dictionary):\n",
    "    ind_of_afp=np.where(dictionary['original_label']=='AFP')\n",
    "    num_of_afps=np.shape(ind_of_afp)[1]\n",
    "    num_of_contributing_branches_afp=np.sum(dictionary['branch_explanations'][ind_of_afp], axis=1)\n",
    "    num_of_unexplained_afps=np.shape(np.where(num_of_contributing_branches_afp==0))[1]\n",
    "    recall_afp=np.round((num_of_afps-num_of_unexplained_afps)/num_of_afps, 5)\n",
    "\n",
    "    ind_of_ntp=np.where(dictionary['original_label']=='NTP')\n",
    "    num_of_ntps=np.shape(ind_of_ntp)[1]\n",
    "    num_of_contributing_branches_ntp=np.sum(dictionary['branch_explanations'][ind_of_ntp], axis=1)\n",
    "    num_of_unexplained_ntps=np.shape(np.where(num_of_contributing_branches_ntp==0))[1]\n",
    "    recall_ntp=np.round((num_of_ntps-num_of_unexplained_ntps)/num_of_ntps, 5)\n",
    "    \n",
    "    \n",
    "    ind_of_fp=np.where(dictionary['original_label']!='PC')\n",
    "    num_of_fps=np.shape(ind_of_fp)[1]\n",
    "    num_of_contributing_branches_fp=np.sum(dictionary['branch_explanations'][ind_of_fp], axis=1)\n",
    "    num_of_unexplained_fps=np.shape(np.where(num_of_contributing_branches_fp==0))[1]\n",
    "    recall_fp=np.round((num_of_fps-num_of_unexplained_fps)/num_of_fps,5)\n",
    "\n",
    "    \n",
    "    num_of_contributing_branches_total=np.sum(dictionary['branch_explanations'], axis=1)\n",
    "    ind_of_explained=np.where(num_of_contributing_branches_total>0)[0]\n",
    "    num_of_explained=np.shape(ind_of_explained)[0]\n",
    "    num_of_explained_PCs=np.shape(np.where(dictionary['original_label'][ind_of_explained]=='PC'))[1]\n",
    "    precision_fp=np.round((num_of_explained-num_of_explained_PCs)/num_of_explained, 5)\n",
    "    \n",
    "    #print('P denominator: '+ str(num_of_explained))\n",
    "    #print('P numerator: ' +str((num_of_explained-num_of_explained_PCs)))\n",
    "    \n",
    "    return [recall_afp, recall_ntp, recall_fp, precision_fp]\n"
   ]
  },
  {
   "cell_type": "code",
   "execution_count": 20,
   "id": "bff4035f",
   "metadata": {
    "pycharm": {
     "name": "#%%\n"
    }
   },
   "outputs": [],
   "source": [
    "file=pd.read_csv('/nobackup/khauskne/exoplanets/exp_'+str(1)+'_PCs_trial_'+str(1)+'/'+'test_top_'+str(0)+'.csv')"
   ]
  },
  {
   "cell_type": "code",
   "execution_count": 21,
   "id": "d133c6ea",
   "metadata": {
    "pycharm": {
     "name": "#%%\n"
    }
   },
   "outputs": [],
   "source": [
    "branches=['Global Flux', 'Local Flux', 'Centroid', 'Odd Even', 'Secondary', 'Stellar', 'DV']"
   ]
  },
  {
   "cell_type": "code",
   "execution_count": 22,
   "id": "6a220178",
   "metadata": {
    "pycharm": {
     "name": "#%%\n"
    }
   },
   "outputs": [
    {
     "ename": "FileNotFoundError",
     "evalue": "[Errno 2] No such file or directory: '/nobackup/khauskne/exoplanets/exp_1_PCs_trial_1/test_top_1.csv'",
     "output_type": "error",
     "traceback": [
      "\u001B[0;31m---------------------------------------------------------------------------\u001B[0m",
      "\u001B[0;31mFileNotFoundError\u001B[0m                         Traceback (most recent call last)",
      "\u001B[0;32m/tmp/ipykernel_93146/4173398107.py\u001B[0m in \u001B[0;36m<module>\u001B[0;34m\u001B[0m\n\u001B[1;32m      2\u001B[0m \u001B[0mrun\u001B[0m\u001B[0;34m=\u001B[0m\u001B[0;34m'/nobackup/khauskne/exoplanets/exp_'\u001B[0m\u001B[0;34m+\u001B[0m\u001B[0mstr\u001B[0m\u001B[0;34m(\u001B[0m\u001B[0;36m1\u001B[0m\u001B[0;34m)\u001B[0m\u001B[0;34m+\u001B[0m\u001B[0;34m'_PCs_trial_'\u001B[0m\u001B[0;34m+\u001B[0m\u001B[0mstr\u001B[0m\u001B[0;34m(\u001B[0m\u001B[0;36m1\u001B[0m\u001B[0;34m)\u001B[0m\u001B[0;34m+\u001B[0m\u001B[0;34m'/'\u001B[0m\u001B[0;34m\u001B[0m\u001B[0;34m\u001B[0m\u001B[0m\n\u001B[1;32m      3\u001B[0m \u001B[0;32mfor\u001B[0m \u001B[0mindex\u001B[0m \u001B[0;32min\u001B[0m \u001B[0mrange\u001B[0m\u001B[0;34m(\u001B[0m\u001B[0;36m5\u001B[0m\u001B[0;34m)\u001B[0m\u001B[0;34m:\u001B[0m\u001B[0;34m\u001B[0m\u001B[0;34m\u001B[0m\u001B[0m\n\u001B[0;32m----> 4\u001B[0;31m         \u001B[0mtest_group\u001B[0m\u001B[0;34m=\u001B[0m\u001B[0mpd\u001B[0m\u001B[0;34m.\u001B[0m\u001B[0mread_csv\u001B[0m\u001B[0;34m(\u001B[0m\u001B[0mrun\u001B[0m\u001B[0;34m+\u001B[0m\u001B[0;34m'test_top_'\u001B[0m\u001B[0;34m+\u001B[0m\u001B[0mstr\u001B[0m\u001B[0;34m(\u001B[0m\u001B[0mindex\u001B[0m\u001B[0;34m)\u001B[0m\u001B[0;34m+\u001B[0m\u001B[0;34m'.csv'\u001B[0m\u001B[0;34m)\u001B[0m\u001B[0;34m\u001B[0m\u001B[0;34m\u001B[0m\u001B[0m\n\u001B[0m\u001B[1;32m      5\u001B[0m         \u001B[0mall_test_groups\u001B[0m\u001B[0;34m.\u001B[0m\u001B[0mappend\u001B[0m\u001B[0;34m(\u001B[0m\u001B[0mtest_group\u001B[0m\u001B[0;34m)\u001B[0m\u001B[0;34m\u001B[0m\u001B[0;34m\u001B[0m\u001B[0m\n",
      "\u001B[0;32m~/.conda/envs/ML_env/lib/python3.8/site-packages/pandas/io/parsers.py\u001B[0m in \u001B[0;36mread_csv\u001B[0;34m(filepath_or_buffer, sep, delimiter, header, names, index_col, usecols, squeeze, prefix, mangle_dupe_cols, dtype, engine, converters, true_values, false_values, skipinitialspace, skiprows, skipfooter, nrows, na_values, keep_default_na, na_filter, verbose, skip_blank_lines, parse_dates, infer_datetime_format, keep_date_col, date_parser, dayfirst, cache_dates, iterator, chunksize, compression, thousands, decimal, lineterminator, quotechar, quoting, doublequote, escapechar, comment, encoding, dialect, error_bad_lines, warn_bad_lines, delim_whitespace, low_memory, memory_map, float_precision)\u001B[0m\n\u001B[1;32m    684\u001B[0m     )\n\u001B[1;32m    685\u001B[0m \u001B[0;34m\u001B[0m\u001B[0m\n\u001B[0;32m--> 686\u001B[0;31m     \u001B[0;32mreturn\u001B[0m \u001B[0m_read\u001B[0m\u001B[0;34m(\u001B[0m\u001B[0mfilepath_or_buffer\u001B[0m\u001B[0;34m,\u001B[0m \u001B[0mkwds\u001B[0m\u001B[0;34m)\u001B[0m\u001B[0;34m\u001B[0m\u001B[0;34m\u001B[0m\u001B[0m\n\u001B[0m\u001B[1;32m    687\u001B[0m \u001B[0;34m\u001B[0m\u001B[0m\n\u001B[1;32m    688\u001B[0m \u001B[0;34m\u001B[0m\u001B[0m\n",
      "\u001B[0;32m~/.conda/envs/ML_env/lib/python3.8/site-packages/pandas/io/parsers.py\u001B[0m in \u001B[0;36m_read\u001B[0;34m(filepath_or_buffer, kwds)\u001B[0m\n\u001B[1;32m    450\u001B[0m \u001B[0;34m\u001B[0m\u001B[0m\n\u001B[1;32m    451\u001B[0m     \u001B[0;31m# Create the parser.\u001B[0m\u001B[0;34m\u001B[0m\u001B[0;34m\u001B[0m\u001B[0;34m\u001B[0m\u001B[0m\n\u001B[0;32m--> 452\u001B[0;31m     \u001B[0mparser\u001B[0m \u001B[0;34m=\u001B[0m \u001B[0mTextFileReader\u001B[0m\u001B[0;34m(\u001B[0m\u001B[0mfp_or_buf\u001B[0m\u001B[0;34m,\u001B[0m \u001B[0;34m**\u001B[0m\u001B[0mkwds\u001B[0m\u001B[0;34m)\u001B[0m\u001B[0;34m\u001B[0m\u001B[0;34m\u001B[0m\u001B[0m\n\u001B[0m\u001B[1;32m    453\u001B[0m \u001B[0;34m\u001B[0m\u001B[0m\n\u001B[1;32m    454\u001B[0m     \u001B[0;32mif\u001B[0m \u001B[0mchunksize\u001B[0m \u001B[0;32mor\u001B[0m \u001B[0miterator\u001B[0m\u001B[0;34m:\u001B[0m\u001B[0;34m\u001B[0m\u001B[0;34m\u001B[0m\u001B[0m\n",
      "\u001B[0;32m~/.conda/envs/ML_env/lib/python3.8/site-packages/pandas/io/parsers.py\u001B[0m in \u001B[0;36m__init__\u001B[0;34m(self, f, engine, **kwds)\u001B[0m\n\u001B[1;32m    934\u001B[0m             \u001B[0mself\u001B[0m\u001B[0;34m.\u001B[0m\u001B[0moptions\u001B[0m\u001B[0;34m[\u001B[0m\u001B[0;34m\"has_index_names\"\u001B[0m\u001B[0;34m]\u001B[0m \u001B[0;34m=\u001B[0m \u001B[0mkwds\u001B[0m\u001B[0;34m[\u001B[0m\u001B[0;34m\"has_index_names\"\u001B[0m\u001B[0;34m]\u001B[0m\u001B[0;34m\u001B[0m\u001B[0;34m\u001B[0m\u001B[0m\n\u001B[1;32m    935\u001B[0m \u001B[0;34m\u001B[0m\u001B[0m\n\u001B[0;32m--> 936\u001B[0;31m         \u001B[0mself\u001B[0m\u001B[0;34m.\u001B[0m\u001B[0m_make_engine\u001B[0m\u001B[0;34m(\u001B[0m\u001B[0mself\u001B[0m\u001B[0;34m.\u001B[0m\u001B[0mengine\u001B[0m\u001B[0;34m)\u001B[0m\u001B[0;34m\u001B[0m\u001B[0;34m\u001B[0m\u001B[0m\n\u001B[0m\u001B[1;32m    937\u001B[0m \u001B[0;34m\u001B[0m\u001B[0m\n\u001B[1;32m    938\u001B[0m     \u001B[0;32mdef\u001B[0m \u001B[0mclose\u001B[0m\u001B[0;34m(\u001B[0m\u001B[0mself\u001B[0m\u001B[0;34m)\u001B[0m\u001B[0;34m:\u001B[0m\u001B[0;34m\u001B[0m\u001B[0;34m\u001B[0m\u001B[0m\n",
      "\u001B[0;32m~/.conda/envs/ML_env/lib/python3.8/site-packages/pandas/io/parsers.py\u001B[0m in \u001B[0;36m_make_engine\u001B[0;34m(self, engine)\u001B[0m\n\u001B[1;32m   1166\u001B[0m     \u001B[0;32mdef\u001B[0m \u001B[0m_make_engine\u001B[0m\u001B[0;34m(\u001B[0m\u001B[0mself\u001B[0m\u001B[0;34m,\u001B[0m \u001B[0mengine\u001B[0m\u001B[0;34m=\u001B[0m\u001B[0;34m\"c\"\u001B[0m\u001B[0;34m)\u001B[0m\u001B[0;34m:\u001B[0m\u001B[0;34m\u001B[0m\u001B[0;34m\u001B[0m\u001B[0m\n\u001B[1;32m   1167\u001B[0m         \u001B[0;32mif\u001B[0m \u001B[0mengine\u001B[0m \u001B[0;34m==\u001B[0m \u001B[0;34m\"c\"\u001B[0m\u001B[0;34m:\u001B[0m\u001B[0;34m\u001B[0m\u001B[0;34m\u001B[0m\u001B[0m\n\u001B[0;32m-> 1168\u001B[0;31m             \u001B[0mself\u001B[0m\u001B[0;34m.\u001B[0m\u001B[0m_engine\u001B[0m \u001B[0;34m=\u001B[0m \u001B[0mCParserWrapper\u001B[0m\u001B[0;34m(\u001B[0m\u001B[0mself\u001B[0m\u001B[0;34m.\u001B[0m\u001B[0mf\u001B[0m\u001B[0;34m,\u001B[0m \u001B[0;34m**\u001B[0m\u001B[0mself\u001B[0m\u001B[0;34m.\u001B[0m\u001B[0moptions\u001B[0m\u001B[0;34m)\u001B[0m\u001B[0;34m\u001B[0m\u001B[0;34m\u001B[0m\u001B[0m\n\u001B[0m\u001B[1;32m   1169\u001B[0m         \u001B[0;32melse\u001B[0m\u001B[0;34m:\u001B[0m\u001B[0;34m\u001B[0m\u001B[0;34m\u001B[0m\u001B[0m\n\u001B[1;32m   1170\u001B[0m             \u001B[0;32mif\u001B[0m \u001B[0mengine\u001B[0m \u001B[0;34m==\u001B[0m \u001B[0;34m\"python\"\u001B[0m\u001B[0;34m:\u001B[0m\u001B[0;34m\u001B[0m\u001B[0;34m\u001B[0m\u001B[0m\n",
      "\u001B[0;32m~/.conda/envs/ML_env/lib/python3.8/site-packages/pandas/io/parsers.py\u001B[0m in \u001B[0;36m__init__\u001B[0;34m(self, src, **kwds)\u001B[0m\n\u001B[1;32m   1996\u001B[0m         \u001B[0mkwds\u001B[0m\u001B[0;34m[\u001B[0m\u001B[0;34m\"usecols\"\u001B[0m\u001B[0;34m]\u001B[0m \u001B[0;34m=\u001B[0m \u001B[0mself\u001B[0m\u001B[0;34m.\u001B[0m\u001B[0musecols\u001B[0m\u001B[0;34m\u001B[0m\u001B[0;34m\u001B[0m\u001B[0m\n\u001B[1;32m   1997\u001B[0m \u001B[0;34m\u001B[0m\u001B[0m\n\u001B[0;32m-> 1998\u001B[0;31m         \u001B[0mself\u001B[0m\u001B[0;34m.\u001B[0m\u001B[0m_reader\u001B[0m \u001B[0;34m=\u001B[0m \u001B[0mparsers\u001B[0m\u001B[0;34m.\u001B[0m\u001B[0mTextReader\u001B[0m\u001B[0;34m(\u001B[0m\u001B[0msrc\u001B[0m\u001B[0;34m,\u001B[0m \u001B[0;34m**\u001B[0m\u001B[0mkwds\u001B[0m\u001B[0;34m)\u001B[0m\u001B[0;34m\u001B[0m\u001B[0;34m\u001B[0m\u001B[0m\n\u001B[0m\u001B[1;32m   1999\u001B[0m         \u001B[0mself\u001B[0m\u001B[0;34m.\u001B[0m\u001B[0munnamed_cols\u001B[0m \u001B[0;34m=\u001B[0m \u001B[0mself\u001B[0m\u001B[0;34m.\u001B[0m\u001B[0m_reader\u001B[0m\u001B[0;34m.\u001B[0m\u001B[0munnamed_cols\u001B[0m\u001B[0;34m\u001B[0m\u001B[0;34m\u001B[0m\u001B[0m\n\u001B[1;32m   2000\u001B[0m \u001B[0;34m\u001B[0m\u001B[0m\n",
      "\u001B[0;32mpandas/_libs/parsers.pyx\u001B[0m in \u001B[0;36mpandas._libs.parsers.TextReader.__cinit__\u001B[0;34m()\u001B[0m\n",
      "\u001B[0;32mpandas/_libs/parsers.pyx\u001B[0m in \u001B[0;36mpandas._libs.parsers.TextReader._setup_parser_source\u001B[0;34m()\u001B[0m\n",
      "\u001B[0;31mFileNotFoundError\u001B[0m: [Errno 2] No such file or directory: '/nobackup/khauskne/exoplanets/exp_1_PCs_trial_1/test_top_1.csv'"
     ]
    }
   ],
   "source": [
    "all_test_groups=[]\n",
    "run='/nobackup/khauskne/exoplanets/exp_'+str(1)+'_PCs_trial_'+str(1)+'/'\n",
    "for index in range(5):\n",
    "        test_group=pd.read_csv(run+'test_top_'+str(index)+'.csv')\n",
    "        all_test_groups.append(test_group)"
   ]
  },
  {
   "cell_type": "code",
   "execution_count": null,
   "id": "2fb44a93",
   "metadata": {
    "pycharm": {
     "name": "#%%\n"
    }
   },
   "outputs": [],
   "source": []
  }
 ],
 "metadata": {
  "kernelspec": {
   "display_name": "Python 3 (ipykernel)",
   "language": "python",
   "name": "python3"
  },
  "language_info": {
   "codemirror_mode": {
    "name": "ipython",
    "version": 3
   },
   "file_extension": ".py",
   "mimetype": "text/x-python",
   "name": "python",
   "nbconvert_exporter": "python",
   "pygments_lexer": "ipython3",
   "version": "3.8.5"
  }
 },
 "nbformat": 4,
 "nbformat_minor": 5
}