{
 "cells": [
  {
   "cell_type": "code",
   "execution_count": 10,
   "id": "f05cb8a1",
   "metadata": {
    "pycharm": {
     "name": "#%%\n"
    }
   },
   "outputs": [
    {
     "name": "stdout",
     "output_type": "stream",
     "text": [
      "Populating the interactive namespace from numpy and matplotlib\n"
     ]
    }
   ],
   "source": [
    "import pandas as pd\n",
    "import numpy as np\n",
    "%pylab inline"
   ]
  },
  {
   "cell_type": "code",
   "execution_count": 11,
   "id": "6e2065cf",
   "metadata": {
    "pycharm": {
     "name": "#%%\n"
    }
   },
   "outputs": [],
   "source": [
    "robo_flags=pd.read_csv('/nobackup/khauskne/kdd/robovetter_flags_all_DR25.csv')"
   ]
  },
  {
   "cell_type": "code",
   "execution_count": 12,
   "id": "856d9d9a",
   "metadata": {
    "pycharm": {
     "name": "#%%\n"
    }
   },
   "outputs": [],
   "source": [
    "def apply_statistics(branches, files, num_PCs):\n",
    "    new_csv=files[0].copy()\n",
    "    new_csv.pop('Unnamed: 0')\n",
    "    for branch in branches:\n",
    "        all_scores=np.zeros(tuple((num_PCs, np.shape(files[0])[0])))\n",
    "        for example in range(len(files)):\n",
    "            all_scores[example]=files[example][branch]\n",
    "        col_index=new_csv.columns.get_loc(branch)\n",
    "        new_csv[branch]=np.mean(all_scores, axis=0)\n",
    "        new_csv.insert(col_index+1, branch+' Std', np.std(all_scores, axis=0))\n",
    "        new_csv.insert(col_index+1, branch+' Max', np.max(all_scores, axis=0))\n",
    "        new_csv.insert(col_index+1, branch+' Min', np.min(all_scores, axis=0))\n",
    "        new_csv.insert(col_index+1, branch+' Med', np.median(all_scores, axis=0))\n",
    "        new_csv.insert(col_index+1, branch+' Mean+Std', np.mean(all_scores, axis=0)+np.std(all_scores, axis=0))\n",
    "        new_csv.insert(col_index+1, branch+' Mean-Std', np.mean(all_scores, axis=0)-np.std(all_scores, axis=0))\n",
    "    return new_csv\n",
    "\n",
    "\n",
    "\n",
    "def evaluate_mean(csv, branches):\n",
    "    csv=pd.merge(csv, robo_flags, on=['target_id', 'tce_plnt_num'])\n",
    "    robo=np.array(csv[csv.columns[-7:]])\n",
    "    reduced_csv=csv\n",
    "    branch_explanation=np.zeros([len(branches), len(csv)])\n",
    "    for i in range(len(branches)):\n",
    "        branch_explanation[i]=(reduced_csv[branches[i]]<-0.5)\n",
    "    branch_explanation=np.moveaxis(branch_explanation, 0, -1)\n",
    "    \n",
    "    mean_dict={'target_id': csv['target_id'], 'tce_plnt_num': csv['tce_plnt_num'], 'original_label':csv['original_label'],\n",
    "              'full_score': csv['full score'], 'minor_flags':csv['Minor_Descriptive_Flags'],'branch_explanations': branch_explanation, 'robo_flags': robo}\n",
    "    return mean_dict\n",
    "\n",
    "def evaluate_min(csv, branches):\n",
    "    csv=pd.merge(csv, robo_flags, on=['target_id', 'tce_plnt_num'])\n",
    "    robo=np.array(csv[csv.columns[-7:]])\n",
    "    reduced_csv=csv\n",
    "    branch_explanation=np.zeros([len(branches), len(csv)])\n",
    "    for i in range(len(branches)):\n",
    "        branch_explanation[i]=(reduced_csv[branches[i]+ ' Min']<-0.5)\n",
    "    branch_explanation=np.moveaxis(branch_explanation, 0, -1)\n",
    "    mean_dict={'target_id': csv['target_id'], 'tce_plnt_num': csv['tce_plnt_num'], 'original_label':csv['original_label'],\n",
    "              'full_score': csv['full score'],  'minor_flags':csv['Minor_Descriptive_Flags'], 'branch_explanations': branch_explanation, 'robo_flags': robo}\n",
    "    return mean_dict\n",
    "\n",
    "def evaluate_max(csv, branches):\n",
    "    csv=pd.merge(csv, robo_flags, on=['target_id', 'tce_plnt_num'])\n",
    "    robo=np.array(csv[csv.columns[-7:]])\n",
    "    reduced_csv=csv\n",
    "    branch_explanation=np.zeros([len(branches), len(csv)])\n",
    "    for i in range(len(branches)):\n",
    "        branch_explanation[i]=(reduced_csv[branches[i]+ ' Max']<-0.5)\n",
    "    branch_explanation=np.moveaxis(branch_explanation, 0, -1)\n",
    "    \n",
    "    mean_dict={'target_id': csv['target_id'], 'tce_plnt_num': csv['tce_plnt_num'], 'original_label':csv['original_label'],\n",
    "              'full_score': csv['full score'],  'minor_flags':csv['Minor_Descriptive_Flags'], 'branch_explanations': branch_explanation, 'robo_flags': robo}\n",
    "    return mean_dict\n",
    "\n",
    "def evaluate_med(csv, branches):\n",
    "    csv=pd.merge(csv, robo_flags, on=['target_id', 'tce_plnt_num'])\n",
    "    robo=np.array(csv[csv.columns[-7:]])\n",
    "    reduced_csv=csv\n",
    "    branch_explanation=np.zeros([len(branches), len(csv)])\n",
    "    for i in range(len(branches)):\n",
    "        branch_explanation[i]=(reduced_csv[branches[i]+ ' Med']<-0.5)\n",
    "    branch_explanation=np.moveaxis(branch_explanation, 0, -1)\n",
    "    csv=pd.merge(csv, robo_flags, on=['target_id', 'tce_plnt_num'])\n",
    "    mean_dict={'target_id': csv['target_id'], 'tce_plnt_num': csv['tce_plnt_num'], 'original_label':csv['original_label'],\n",
    "              'full_score': csv['full score'],  'minor_flags':csv['Minor_Descriptive_Flags'], 'branch_explanations': branch_explanation, 'robo_flags': robo}\n",
    "    return mean_dict\n"
   ]
  },
  {
   "cell_type": "code",
   "execution_count": 13,
   "id": "9592ef8f",
   "metadata": {
    "pycharm": {
     "name": "#%%\n"
    }
   },
   "outputs": [],
   "source": [
    "def summary_statistics(stat_func, num_PCs, trials):\n",
    "    train=[]\n",
    "    val=[]\n",
    "    test=[]\n",
    "    for trial in range(1, trials+1):\n",
    "        run='/nobackup/khauskne/kdd/explainability_runs/exp_'+str(num_PCs)+'_PCs_trial_'+str(trial)+'/'\n",
    "        #print(run)\n",
    "        all_train_groups=[]\n",
    "        for index in range(num_PCs):\n",
    "            train_group=pd.read_csv(run+'train_top_'+str(index)+'.csv')\n",
    "            all_train_groups.append(train_group)\n",
    "    \n",
    "\n",
    "        all_val_groups=[]\n",
    "        for index in range(num_PCs):\n",
    "            val_group=pd.read_csv(run+'val_top_'+str(index)+'.csv')\n",
    "            all_val_groups.append(val_group)\n",
    "\n",
    "        all_test_groups=[]\n",
    "        for index in range(num_PCs):\n",
    "            test_group=pd.read_csv(run+'test_top_'+str(index)+'.csv')\n",
    "            all_test_groups.append(test_group)\n",
    "\n",
    "        branches=['Global Flux', 'Local Flux', 'Centroid', 'Odd Even', 'Secondary', 'Stellar', 'DV']\n",
    "        train_statistics=apply_statistics(branches, all_train_groups, num_PCs)\n",
    "        val_statistics=apply_statistics(branches, all_val_groups, num_PCs)\n",
    "        test_statistics=apply_statistics(branches, all_test_groups, num_PCs)\n",
    "        \n",
    "        train.append(stat_func(train_statistics, branches))\n",
    "        val.append(stat_func(val_statistics, branches))\n",
    "        test.append(stat_func(test_statistics, branches))\n",
    "\n",
    "    return train, val, test"
   ]
  },
  {
   "cell_type": "code",
   "execution_count": 14,
   "id": "f8b682e4",
   "metadata": {
    "pycharm": {
     "name": "#%%\n"
    }
   },
   "outputs": [],
   "source": [
    "stats=summary_statistics(evaluate_min, 1, 10)"
   ]
  },
  {
   "cell_type": "code",
   "execution_count": 15,
   "id": "8c867cc8",
   "metadata": {
    "pycharm": {
     "name": "#%%\n"
    }
   },
   "outputs": [
    {
     "data": {
      "text/plain": [
       "array([1, 0, 0, ..., 1, 1, 1])"
      ]
     },
     "execution_count": 15,
     "metadata": {},
     "output_type": "execute_result"
    }
   ],
   "source": [
    "np.where((np.moveaxis(stats[2][0]['branch_explanations'], 0, -1)[0]+np.moveaxis(stats[2][0]['branch_explanations'], 0, -1)[1])>0, 1, 0)"
   ]
  },
  {
   "cell_type": "code",
   "execution_count": 16,
   "id": "c96f324f",
   "metadata": {
    "pycharm": {
     "name": "#%%\n"
    }
   },
   "outputs": [],
   "source": [
    "def post_process_flags(robo_flags, branch_explanations):\n",
    "    branch_inds_to_keep=[1,2,3,4,6]\n",
    "    \n",
    "    robo_new=np.moveaxis(robo_flags ,0, -1)[branch_inds_to_keep]\n",
    "    robo_new=np.moveaxis(robo_new, 0, -1)\n",
    "    \n",
    "    exp_new=np.moveaxis(branch_explanations, 0, -1)\n",
    "    global_flux=exp_new[0]\n",
    "    local_flux=exp_new[1]\n",
    "    added_flux=exp_new[0]+exp_new[1]\n",
    "    combined_flux=np.where(added_flux>0, 1, 0)\n",
    "    exp_new=exp_new[branch_inds_to_keep]\n",
    "    exp_new[0]=combined_flux\n",
    "    exp_new=np.moveaxis(exp_new, 0, -1)\n",
    "    \n",
    "    return robo_new, exp_new"
   ]
  },
  {
   "cell_type": "code",
   "execution_count": 17,
   "id": "6ed3b6a0",
   "metadata": {
    "pycharm": {
     "name": "#%%\n"
    }
   },
   "outputs": [
    {
     "ename": "KeyError",
     "evalue": "'minor_fl'",
     "output_type": "error",
     "traceback": [
      "\u001B[0;31m---------------------------------------------------------------------------\u001B[0m",
      "\u001B[0;31mKeyError\u001B[0m                                  Traceback (most recent call last)",
      "\u001B[0;32m/tmp/ipykernel_40483/3028748669.py\u001B[0m in \u001B[0;36m<module>\u001B[0;34m\u001B[0m\n\u001B[0;32m----> 1\u001B[0;31m \u001B[0mstats\u001B[0m\u001B[0;34m[\u001B[0m\u001B[0;36m2\u001B[0m\u001B[0;34m]\u001B[0m\u001B[0;34m[\u001B[0m\u001B[0;36m0\u001B[0m\u001B[0;34m]\u001B[0m\u001B[0;34m[\u001B[0m\u001B[0;34m'minor_fl'\u001B[0m\u001B[0;34m]\u001B[0m\u001B[0;34m[\u001B[0m\u001B[0;36m115\u001B[0m\u001B[0;34m]\u001B[0m\u001B[0;34m\u001B[0m\u001B[0;34m\u001B[0m\u001B[0m\n\u001B[0m",
      "\u001B[0;31mKeyError\u001B[0m: 'minor_fl'"
     ]
    }
   ],
   "source": [
    "stats[2][0]['minor_fl'][115]"
   ]
  },
  {
   "cell_type": "code",
   "execution_count": null,
   "id": "a8b0a2d3",
   "metadata": {
    "pycharm": {
     "name": "#%%\n"
    }
   },
   "outputs": [],
   "source": [
    "post_process_flags(stats[2][0]['robo_flags'], stats[2][0]['branch_explanations'])"
   ]
  },
  {
   "cell_type": "code",
   "execution_count": null,
   "id": "f8553a92",
   "metadata": {
    "pycharm": {
     "name": "#%%\n"
    }
   },
   "outputs": [],
   "source": [
    "[stats[2][0]['target_id'][115], stats[2][0]['tce_plnt_num'][115]]"
   ]
  },
  {
   "cell_type": "code",
   "execution_count": 37,
   "id": "0dfe8b0b",
   "metadata": {
    "pycharm": {
     "name": "#%%\n"
    }
   },
   "outputs": [],
   "source": [
    "from sklearn.metrics import precision_score\n",
    "from sklearn.metrics import recall_score"
   ]
  },
  {
   "cell_type": "code",
   "execution_count": null,
   "id": "180c0614",
   "metadata": {
    "pycharm": {
     "name": "#%%\n"
    }
   },
   "outputs": [],
   "source": [
    "precision_score(scores[0], scores[1], average='micro')"
   ]
  },
  {
   "cell_type": "code",
   "execution_count": 37,
   "id": "d135098f",
   "metadata": {
    "pycharm": {
     "name": "#%%\n"
    }
   },
   "outputs": [
    {
     "ename": "NameError",
     "evalue": "name 'scores' is not defined",
     "output_type": "error",
     "traceback": [
      "\u001B[0;31m---------------------------------------------------------------------------\u001B[0m",
      "\u001B[0;31mNameError\u001B[0m                                 Traceback (most recent call last)",
      "\u001B[0;32m/tmp/ipykernel_85893/556307100.py\u001B[0m in \u001B[0;36m<module>\u001B[0;34m\u001B[0m\n\u001B[0;32m----> 1\u001B[0;31m \u001B[0mprecision_score\u001B[0m\u001B[0;34m(\u001B[0m\u001B[0mscores\u001B[0m\u001B[0;34m[\u001B[0m\u001B[0;36m0\u001B[0m\u001B[0;34m]\u001B[0m\u001B[0;34m,\u001B[0m \u001B[0mscores\u001B[0m\u001B[0;34m[\u001B[0m\u001B[0;36m1\u001B[0m\u001B[0;34m]\u001B[0m\u001B[0;34m,\u001B[0m \u001B[0maverage\u001B[0m\u001B[0;34m=\u001B[0m\u001B[0;34m'macro'\u001B[0m\u001B[0;34m)\u001B[0m\u001B[0;34m\u001B[0m\u001B[0;34m\u001B[0m\u001B[0m\n\u001B[0m",
      "\u001B[0;31mNameError\u001B[0m: name 'scores' is not defined"
     ]
    }
   ],
   "source": [
    "precision_score(scores[0], scores[1], average='macro')"
   ]
  },
  {
   "cell_type": "code",
   "execution_count": 38,
   "id": "74502f24",
   "metadata": {
    "pycharm": {
     "name": "#%%\n"
    }
   },
   "outputs": [
    {
     "ename": "NameError",
     "evalue": "name 'scores' is not defined",
     "output_type": "error",
     "traceback": [
      "\u001B[0;31m---------------------------------------------------------------------------\u001B[0m",
      "\u001B[0;31mNameError\u001B[0m                                 Traceback (most recent call last)",
      "\u001B[0;32m/tmp/ipykernel_85893/1141303174.py\u001B[0m in \u001B[0;36m<module>\u001B[0;34m\u001B[0m\n\u001B[0;32m----> 1\u001B[0;31m \u001B[0mprecision_score\u001B[0m\u001B[0;34m(\u001B[0m\u001B[0mscores\u001B[0m\u001B[0;34m[\u001B[0m\u001B[0;36m0\u001B[0m\u001B[0;34m]\u001B[0m\u001B[0;34m,\u001B[0m \u001B[0mscores\u001B[0m\u001B[0;34m[\u001B[0m\u001B[0;36m1\u001B[0m\u001B[0;34m]\u001B[0m\u001B[0;34m,\u001B[0m \u001B[0maverage\u001B[0m\u001B[0;34m=\u001B[0m\u001B[0;34m'weighted'\u001B[0m\u001B[0;34m)\u001B[0m\u001B[0;34m\u001B[0m\u001B[0;34m\u001B[0m\u001B[0m\n\u001B[0m",
      "\u001B[0;31mNameError\u001B[0m: name 'scores' is not defined"
     ]
    }
   ],
   "source": [
    "precision_score(scores[0], scores[1], average='weighted')"
   ]
  },
  {
   "cell_type": "code",
   "execution_count": 20,
   "id": "26cfe760",
   "metadata": {
    "pycharm": {
     "name": "#%%\n"
    }
   },
   "outputs": [
    {
     "data": {
      "text/plain": [
       "0.8889255108767304"
      ]
     },
     "execution_count": 20,
     "metadata": {},
     "output_type": "execute_result"
    }
   ],
   "source": [
    "recall_score(scores[0], scores[1], average='micro')"
   ]
  },
  {
   "cell_type": "code",
   "execution_count": 21,
   "id": "d3cf3b86",
   "metadata": {
    "pycharm": {
     "name": "#%%\n"
    }
   },
   "outputs": [
    {
     "data": {
      "text/plain": [
       "0.6683590519452342"
      ]
     },
     "execution_count": 21,
     "metadata": {},
     "output_type": "execute_result"
    }
   ],
   "source": [
    "recall_score(scores[0], scores[1], average='macro')"
   ]
  },
  {
   "cell_type": "markdown",
   "id": "cc42e8d5",
   "metadata": {
    "pycharm": {
     "name": "#%% md\n"
    }
   },
   "source": [
    "## Loop"
   ]
  },
  {
   "cell_type": "code",
   "execution_count": 46,
   "id": "7d68308c",
   "metadata": {
    "pycharm": {
     "name": "#%%\n"
    }
   },
   "outputs": [],
   "source": [
    "from sklearn.metrics import jaccard_score\n",
    "from sklearn.metrics import accuracy_score\n",
    "from sklearn.metrics import hamming_loss"
   ]
  },
  {
   "cell_type": "code",
   "execution_count": 40,
   "id": "0d1d8485",
   "metadata": {
    "pycharm": {
     "name": "#%%\n"
    }
   },
   "outputs": [],
   "source": [
    "def eval_jaccard(stat_func, num_pcs, trials, average_type='weighted'):\n",
    "    stats=summary_statistics(stat_func, num_pcs,trials)\n",
    "    \n",
    "    precision_list=[]\n",
    "    recall_list=[]\n",
    "    for i in range(trials):\n",
    "        #print(i)\n",
    "        train_exp=stats[0][i]['branch_explanations']\n",
    "        val_exp=stats[1][i]['branch_explanations']\n",
    "        test_exp=stats[2][i]['branch_explanations']\n",
    "        train_robo=stats[0][i]['robo_flags']\n",
    "        val_robo=stats[1][i]['robo_flags']\n",
    "        test_robo=stats[2][i]['robo_flags']\n",
    "        \n",
    "        scores=post_process_flags(test_robo, test_exp)\n",
    "        weighted_prec=jaccard_score(scores[0], scores[1], average=average_type)\n",
    "        #weighted_rec=recall_score(scores[0], scores[1], average=average_type)\n",
    "        precision_list.append(weighted_prec)\n",
    "        #recall_list.append(weighted_rec)\n",
    "        \n",
    "    return np.mean(precision_list), np.std(precision_list)#, np.mean(recall_list), np.std(recall_list)\n",
    "        "
   ]
  },
  {
   "cell_type": "code",
   "execution_count": 41,
   "id": "7ac7452d",
   "metadata": {
    "pycharm": {
     "name": "#%%\n"
    }
   },
   "outputs": [
    {
     "data": {
      "text/plain": [
       "(0.6071058307411425, 0.004595509247011755)"
      ]
     },
     "execution_count": 41,
     "metadata": {},
     "output_type": "execute_result"
    }
   ],
   "source": [
    "eval_jaccard(evaluate_min, 15, 10)"
   ]
  },
  {
   "cell_type": "code",
   "execution_count": 42,
   "id": "fd3b9ab6",
   "metadata": {
    "pycharm": {
     "name": "#%%\n"
    }
   },
   "outputs": [],
   "source": [
    "def eval_acc(stat_func, num_pcs, trials):\n",
    "    stats=summary_statistics(stat_func, num_pcs,trials)\n",
    "    \n",
    "    precision_list=[]\n",
    "    recall_list=[]\n",
    "    for i in range(trials):\n",
    "        #print(i)\n",
    "        train_exp=stats[0][i]['branch_explanations']\n",
    "        val_exp=stats[1][i]['branch_explanations']\n",
    "        test_exp=stats[2][i]['branch_explanations']\n",
    "        train_robo=stats[0][i]['robo_flags']\n",
    "        val_robo=stats[1][i]['robo_flags']\n",
    "        test_robo=stats[2][i]['robo_flags']\n",
    "        \n",
    "        scores=post_process_flags(test_robo, test_exp)\n",
    "        weighted_prec=accuracy_score(scores[0], scores[1])\n",
    "        #weighted_rec=recall_score(scores[0], scores[1], average=average_type)\n",
    "        precision_list.append(weighted_prec)\n",
    "        #recall_list.append(weighted_rec)\n",
    "        \n",
    "    return np.mean(precision_list), np.std(precision_list)#, np.mean(recall_list), np.std(recall_list)\n",
    "        "
   ]
  },
  {
   "cell_type": "code",
   "execution_count": 45,
   "id": "d4ae8f81",
   "metadata": {
    "pycharm": {
     "name": "#%%\n"
    }
   },
   "outputs": [
    {
     "data": {
      "text/plain": [
       "(0.1632386549134835, 0.015574712899907084)"
      ]
     },
     "execution_count": 45,
     "metadata": {},
     "output_type": "execute_result"
    }
   ],
   "source": [
    "eval_acc(evaluate_min, 15, 10)"
   ]
  },
  {
   "cell_type": "code",
   "execution_count": 47,
   "id": "6df1d8dc",
   "metadata": {
    "pycharm": {
     "name": "#%%\n"
    }
   },
   "outputs": [],
   "source": [
    "def eval_hamming(stat_func, num_pcs, trials):\n",
    "    stats=summary_statistics(stat_func, num_pcs,trials)\n",
    "    \n",
    "    precision_list=[]\n",
    "    recall_list=[]\n",
    "    for i in range(trials):\n",
    "        #print(i)\n",
    "        train_exp=stats[0][i]['branch_explanations']\n",
    "        val_exp=stats[1][i]['branch_explanations']\n",
    "        test_exp=stats[2][i]['branch_explanations']\n",
    "        train_robo=stats[0][i]['robo_flags']\n",
    "        val_robo=stats[1][i]['robo_flags']\n",
    "        test_robo=stats[2][i]['robo_flags']\n",
    "        \n",
    "        scores=post_process_flags(test_robo, test_exp)\n",
    "        weighted_prec=hamming_loss(scores[0], scores[1])\n",
    "        #weighted_rec=recall_score(scores[0], scores[1], average=average_type)\n",
    "        precision_list.append(weighted_prec)\n",
    "        #recall_list.append(weighted_rec)\n",
    "        \n",
    "    return np.mean(precision_list), np.std(precision_list)"
   ]
  },
  {
   "cell_type": "code",
   "execution_count": 48,
   "id": "a9df52f5",
   "metadata": {
    "pycharm": {
     "name": "#%%\n"
    }
   },
   "outputs": [
    {
     "data": {
      "text/plain": [
       "(0.3208488410055501, 0.017004016489277678)"
      ]
     },
     "execution_count": 48,
     "metadata": {},
     "output_type": "execute_result"
    }
   ],
   "source": [
    "eval_hamming(evaluate_min, 15, 10)"
   ]
  },
  {
   "cell_type": "code",
   "execution_count": 33,
   "id": "39a7ec52",
   "metadata": {
    "pycharm": {
     "name": "#%%\n"
    }
   },
   "outputs": [
    {
     "data": {
      "text/plain": [
       "Text(0.5, 1.0, 'Micro Precision and Recall for Top n labeled with Occlusion')"
      ]
     },
     "execution_count": 33,
     "metadata": {},
     "output_type": "execute_result"
    },
    {
     "data": {
      "image/png": "[encoded data removed]",
      "text/plain": [
       "<Figure size 432x288 with 1 Axes>"
      ]
     },
     "metadata": {
      "needs_background": "light"
     },
     "output_type": "display_data"
    }
   ],
   "source": [
    "plt.scatter(np.arange(1,6), prec_vals, label='Precision')\n",
    "plt.scatter(np.arange(1,6), rec_vals, label='Recall')\n",
    "plt.legend()\n",
    "plt.xlabel('Top n')\n",
    "plt.title('Micro Precision and Recall for Top n labeled with Occlusion')"
   ]
  },
  {
   "cell_type": "code",
   "execution_count": 11,
   "id": "d3b84835",
   "metadata": {
    "pycharm": {
     "name": "#%%\n"
    }
   },
   "outputs": [],
   "source": [
    "def eval_weighted_metrics(stat_func, num_pcs, trials, average_type='weighted'):\n",
    "    stats=summary_statistics(stat_func, num_pcs,trials)\n",
    "    \n",
    "    precision_list=[]\n",
    "    recall_list=[]\n",
    "    for i in range(trials):\n",
    "        #print(i)\n",
    "        train_exp=stats[0][i]['branch_explanations']\n",
    "        val_exp=stats[1][i]['branch_explanations']\n",
    "        test_exp=stats[2][i]['branch_explanations']\n",
    "        train_robo=stats[0][i]['robo_flags']\n",
    "        val_robo=stats[1][i]['robo_flags']\n",
    "        test_robo=stats[2][i]['robo_flags']\n",
    "        \n",
    "        scores=post_process_flags(test_robo, test_exp)\n",
    "        weighted_prec=precision_score(scores[0], scores[1], average=average_type)\n",
    "        weighted_rec=recall_score(scores[0], scores[1], average=average_type)\n",
    "        precision_list.append(weighted_prec)\n",
    "        recall_list.append(weighted_rec)\n",
    "        \n",
    "    return np.mean(precision_list), np.std(precision_list), np.mean(recall_list), np.std(recall_list)\n",
    "        \n",
    "    "
   ]
  },
  {
   "cell_type": "code",
   "execution_count": 27,
   "id": "0883126c",
   "metadata": {
    "pycharm": {
     "name": "#%%\n"
    }
   },
   "outputs": [
    {
     "data": {
      "text/plain": [
       "(0.37073388742158797,\n",
       " 0.012440694861750186,\n",
       " 0.8837837837837839,\n",
       " 0.00987826378110965)"
      ]
     },
     "execution_count": 27,
     "metadata": {},
     "output_type": "execute_result"
    }
   ],
   "source": [
    "eval_weighted_metrics(evaluate_min, 15, 10, 'micro')"
   ]
  },
  {
   "cell_type": "code",
   "execution_count": 28,
   "id": "4db26990",
   "metadata": {
    "pycharm": {
     "name": "#%%\n"
    }
   },
   "outputs": [
    {
     "data": {
      "text/plain": [
       "(0.2878941480122471,\n",
       " 0.0122323037374948,\n",
       " 0.656210469741655,\n",
       " 0.020502829569494337)"
      ]
     },
     "execution_count": 28,
     "metadata": {},
     "output_type": "execute_result"
    }
   ],
   "source": [
    "eval_weighted_metrics(evaluate_min, 15, 10, 'macro')"
   ]
  },
  {
   "cell_type": "code",
   "execution_count": 29,
   "id": "70546791",
   "metadata": {
    "pycharm": {
     "name": "#%%\n"
    }
   },
   "outputs": [
    {
     "data": {
      "text/plain": [
       "(0.6322190998781286,\n",
       " 0.009061035361970586,\n",
       " 0.8837837837837839,\n",
       " 0.00987826378110965)"
      ]
     },
     "execution_count": 29,
     "metadata": {},
     "output_type": "execute_result"
    }
   ],
   "source": [
    "eval_weighted_metrics(evaluate_min, 15, 10, 'weighted')"
   ]
  },
  {
   "cell_type": "code",
   "execution_count": 20,
   "id": "371d38d9",
   "metadata": {
    "pycharm": {
     "name": "#%%\n"
    }
   },
   "outputs": [
    {
     "name": "stdout",
     "output_type": "stream",
     "text": [
      "0.6914361457363418\n",
      "0.7648648648648648\n",
      "0.6823358207003833\n",
      "0.7767303889255108\n",
      "0.6739085814518725\n",
      "0.7998352010547133\n",
      "0.6775304477251631\n",
      "0.7992748846407383\n",
      "0.6589163905248137\n",
      "0.8352999340804217\n",
      "0.6642665692164897\n",
      "0.8293012524719842\n",
      "0.6523468803830351\n",
      "0.8563612392880685\n",
      "0.6544627931175311\n",
      "0.8520105471324984\n",
      "0.6463386628671931\n",
      "0.86430454845089\n",
      "0.6414684250369782\n",
      "0.872874093605801\n",
      "0.649133026763153\n",
      "0.8624917600527355\n",
      "0.6416260217316718\n",
      "0.8718852999340804\n",
      "0.6573194966990561\n",
      "0.8457811470006593\n",
      "0.6520411646776982\n",
      "0.860744891232696\n"
     ]
    }
   ],
   "source": [
    "prec_vals=[]\n",
    "prec_vals_std=[]\n",
    "rec_vals=[]\n",
    "rec_vals_std=[]\n",
    "for i in range(1,15):\n",
    "    vals=eval_weighted_metrics(evaluate_min, i, 10)\n",
    "    prec_vals.append(vals[0])\n",
    "    prec_vals_std.append(vals[1])\n",
    "    rec_vals.append(vals[2])\n",
    "    rec_vals_std.append(vals[3])\n",
    "    print(vals[0])\n",
    "    print(vals[2])"
   ]
  },
  {
   "cell_type": "code",
   "execution_count": 23,
   "id": "a0eb688c",
   "metadata": {
    "pycharm": {
     "name": "#%%\n"
    }
   },
   "outputs": [
    {
     "data": {
      "text/plain": [
       "Text(0.5, 0, 'Number of PCs')"
      ]
     },
     "execution_count": 23,
     "metadata": {},
     "output_type": "execute_result"
    },
    {
     "data": {
      "image/png": "[encoded data removed]",
      "text/plain": [
       "<Figure size 432x288 with 1 Axes>"
      ]
     },
     "metadata": {
      "needs_background": "light"
     },
     "output_type": "display_data"
    }
   ],
   "source": [
    "plt.errorbar(np.arange(1, 15), prec_vals, prec_vals_std, fmt='o', label='Weighted Precision')\n",
    "plt.errorbar(np.arange(1, 15), rec_vals, rec_vals_std, fmt='o', label='Weighted Recall')\n",
    "plt.ylim([0.5, 1])\n",
    "plt.legend()\n",
    "plt.title('Weighted Precision and Recall for the Minimum Statistic')\n",
    "plt.xlabel('Number of PCs')"
   ]
  },
  {
   "cell_type": "code",
   "execution_count": 24,
   "id": "bb831fe1",
   "metadata": {
    "pycharm": {
     "name": "#%%\n"
    }
   },
   "outputs": [
    {
     "name": "stdout",
     "output_type": "stream",
     "text": [
      "0.6914361457363418\n",
      "0.7648648648648648\n",
      "0.6998123314196992\n",
      "0.734838497033619\n",
      "0.704380275201921\n",
      "0.734377059986816\n",
      "0.7034886123904975\n",
      "0.7337837837837837\n",
      "0.7025187611662151\n",
      "0.7362228081740277\n",
      "0.7043089044030836\n",
      "0.7342122610415294\n",
      "0.6994183794811865\n",
      "0.7448912326961107\n",
      "0.7043634725307653\n",
      "0.7344759393539882\n",
      "0.7018664947342482\n",
      "0.740870138431114\n",
      "0.6993940788069164\n",
      "0.7442979564930785\n",
      "0.7011568638023479\n",
      "0.7393210283454186\n",
      "0.6997470206799836\n",
      "0.7429136453526698\n",
      "0.7079035434006837\n",
      "0.7210283454185893\n",
      "0.7052881699117487\n",
      "0.7254779169413315\n"
     ]
    }
   ],
   "source": [
    "prec_vals_mean=[]\n",
    "prec_vals_std_mean=[]\n",
    "rec_vals_mean=[]\n",
    "rec_vals_std_mean=[]\n",
    "for i in range(1,15):\n",
    "    vals=eval_weighted_metrics(evaluate_mean, i, 10)\n",
    "    prec_vals_mean.append(vals[0])\n",
    "    prec_vals_std_mean.append(vals[1])\n",
    "    rec_vals_mean.append(vals[2])\n",
    "    rec_vals_std_mean.append(vals[3])\n",
    "    print(vals[0])\n",
    "    print(vals[2])"
   ]
  },
  {
   "cell_type": "code",
   "execution_count": 25,
   "id": "9c0ea5b8",
   "metadata": {
    "pycharm": {
     "name": "#%%\n"
    }
   },
   "outputs": [
    {
     "data": {
      "text/plain": [
       "Text(0.5, 0, 'Number of PCs')"
      ]
     },
     "execution_count": 25,
     "metadata": {},
     "output_type": "execute_result"
    },
    {
     "data": {
      "image/png": "[encoded data removed]",
      "text/plain": [
       "<Figure size 432x288 with 1 Axes>"
      ]
     },
     "metadata": {
      "needs_background": "light"
     },
     "output_type": "display_data"
    }
   ],
   "source": [
    "plt.errorbar(np.arange(1, 15), prec_vals_mean, prec_vals_std_mean, fmt='o', label='Weighted Precision')\n",
    "plt.errorbar(np.arange(1, 15), rec_vals_mean, rec_vals_std_mean, fmt='o', label='Weighted Recall')\n",
    "plt.ylim([0.5, 1])\n",
    "plt.legend()\n",
    "plt.title('Weighted Precision and Recall for the Mean Statistic')\n",
    "plt.xlabel('Number of PCs')"
   ]
  },
  {
   "cell_type": "code",
   "execution_count": 18,
   "id": "1f004061",
   "metadata": {
    "pycharm": {
     "name": "#%%\n"
    }
   },
   "outputs": [
    {
     "data": {
      "text/plain": [
       "0.27614933540189074"
      ]
     },
     "execution_count": 18,
     "metadata": {},
     "output_type": "execute_result"
    }
   ],
   "source": [
    "precision_score(scores[0], scores[1], average='macro')"
   ]
  },
  {
   "cell_type": "code",
   "execution_count": 14,
   "id": "8927774c",
   "metadata": {
    "pycharm": {
     "name": "#%%\n"
    }
   },
   "outputs": [
    {
     "name": "stdout",
     "output_type": "stream",
     "text": [
      "0.3438930545038723\n",
      "0.5326448740386679\n",
      "0.3331627617201214\n",
      "0.5556952513560893\n",
      "0.32825827742709385\n",
      "0.5642998595583089\n",
      "0.32752495826365646\n",
      "0.572632353322183\n",
      "0.3131478012585049\n",
      "0.6047652950777751\n",
      "0.3155076961783013\n",
      "0.6101187964424084\n",
      "0.3064775856863642\n",
      "0.6318879349682265\n",
      "0.31633564533786374\n",
      "0.6175501617994267\n",
      "0.30538352839712457\n",
      "0.6327764354338316\n",
      "0.29368299432328915\n",
      "0.6519198890364836\n",
      "0.3052081256415134\n",
      "0.6360308718161021\n",
      "0.29029654736716715\n",
      "0.651474119672746\n",
      "0.31092775078998935\n",
      "0.61910589304962\n",
      "0.3013403275624606\n",
      "0.6481680329645114\n"
     ]
    }
   ],
   "source": [
    "prec_vals_micro=[]\n",
    "prec_vals_std_micro=[]\n",
    "rec_vals_micro=[]\n",
    "rec_vals_std_micro=[]\n",
    "for i in range(1,15):\n",
    "    vals=eval_weighted_metrics(evaluate_min, i, 10, average_type='macro')\n",
    "    prec_vals_micro.append(vals[0])\n",
    "    prec_vals_std_micro.append(vals[1])\n",
    "    rec_vals_micro.append(vals[2])\n",
    "    rec_vals_std_micro.append(vals[3])\n",
    "    print(vals[0])\n",
    "    print(vals[2])"
   ]
  },
  {
   "cell_type": "code",
   "execution_count": 16,
   "id": "7d2a7ef3",
   "metadata": {
    "pycharm": {
     "name": "#%%\n"
    }
   },
   "outputs": [
    {
     "data": {
      "text/plain": [
       "Text(0.5, 0, 'Number of PCs')"
      ]
     },
     "execution_count": 16,
     "metadata": {},
     "output_type": "execute_result"
    },
    {
     "data": {
      "image/png": "[encoded data removed]",
      "text/plain": [
       "<Figure size 432x288 with 1 Axes>"
      ]
     },
     "metadata": {
      "needs_background": "light"
     },
     "output_type": "display_data"
    }
   ],
   "source": [
    "plt.errorbar(np.arange(1, 15), prec_vals_micro, prec_vals_std_micro, fmt='o', label='Macro Precision')\n",
    "plt.errorbar(np.arange(1, 15), rec_vals_micro, rec_vals_std_micro, fmt='o', label='Macro Recall')\n",
    "plt.ylim([0, 1])\n",
    "plt.legend()\n",
    "plt.title('Macro Precision and Recall for the Minimum Statistic')\n",
    "plt.xlabel('Number of PCs')"
   ]
  },
  {
   "cell_type": "code",
   "execution_count": 48,
   "id": "5766a496",
   "metadata": {
    "pycharm": {
     "name": "#%%\n"
    }
   },
   "outputs": [
    {
     "data": {
      "text/plain": [
       "1452"
      ]
     },
     "execution_count": 48,
     "metadata": {},
     "output_type": "execute_result"
    }
   ],
   "source": [
    "np.sum(robo_flags['Centroid Flag'].iloc[np.where(robo_flags['Not_Transit-Like_Flag']==1)])"
   ]
  },
  {
   "cell_type": "code",
   "execution_count": 49,
   "id": "11f0e10e",
   "metadata": {
    "pycharm": {
     "name": "#%%\n"
    }
   },
   "outputs": [
    {
     "data": {
      "text/plain": [
       "1136"
      ]
     },
     "execution_count": 49,
     "metadata": {},
     "output_type": "execute_result"
    }
   ],
   "source": [
    "np.sum(robo_flags['Secondary Flag'].iloc[np.where(robo_flags['Not_Transit-Like_Flag']==1)])"
   ]
  },
  {
   "cell_type": "code",
   "execution_count": 50,
   "id": "f9b4f5d3",
   "metadata": {
    "pycharm": {
     "name": "#%%\n"
    }
   },
   "outputs": [
    {
     "data": {
      "text/plain": [
       "0"
      ]
     },
     "execution_count": 50,
     "metadata": {},
     "output_type": "execute_result"
    }
   ],
   "source": [
    "np.sum(robo_flags['Odd Even Flag'].iloc[np.where(robo_flags['Not_Transit-Like_Flag']==1)])"
   ]
  },
  {
   "cell_type": "code",
   "execution_count": 61,
   "id": "b3e159ca",
   "metadata": {
    "pycharm": {
     "name": "#%%\n"
    }
   },
   "outputs": [
    {
     "data": {
      "text/plain": [
       "array(['LPP_DV---LPP_ALT---MOD_NONUNIQ_DV---MOD_NONUNIQ_ALT---CENT_RESOLVED_OFFSET'],\n",
       "      dtype=object)"
      ]
     },
     "execution_count": 61,
     "metadata": {},
     "output_type": "execute_result"
    }
   ],
   "source": [
    "np.array(robo_flags.iloc[np.where(robo_flags['Not_Transit-Like_Flag']==1)][33:34]['Minor_Descriptive_Flags'])"
   ]
  },
  {
   "cell_type": "code",
   "execution_count": 7,
   "id": "354b166c",
   "metadata": {
    "pycharm": {
     "name": "#%%\n"
    }
   },
   "outputs": [],
   "source": [
    "def eval_branch(stat_func, num_pcs, trials,branch_ind):\n",
    "    stats=summary_statistics(stat_func, num_pcs,trials)\n",
    "    \n",
    "    precision_list=[]\n",
    "    recall_list=[]\n",
    "    for i in range(trials):\n",
    "        #print(i)\n",
    "        train_exp=stats[0][i]['branch_explanations']\n",
    "        val_exp=stats[1][i]['branch_explanations']\n",
    "        test_exp=stats[2][i]['branch_explanations']\n",
    "        train_robo=stats[0][i]['robo_flags']\n",
    "        val_robo=stats[1][i]['robo_flags']\n",
    "        test_robo=stats[2][i]['robo_flags']\n",
    "        \n",
    "        scores=post_process_flags(test_robo, test_exp)\n",
    "        true=np.moveaxis(scores[0], 0, -1)[branch_ind]    \n",
    "        pred=np.moveaxis(scores[1], 0, -1)[branch_ind]\n",
    "        prec=precision_score(true, pred)\n",
    "        rec=recall_score(true, pred)\n",
    "        precision_list.append(prec)\n",
    "        recall_list.append(rec)\n",
    "        \n",
    "    return np.mean(precision_list), np.std(precision_list), np.mean(recall_list), np.std(recall_list)"
   ]
  },
  {
   "cell_type": "code",
   "execution_count": 11,
   "id": "c168e5c3",
   "metadata": {
    "pycharm": {
     "name": "#%%\n"
    }
   },
   "outputs": [
    {
     "data": {
      "text/plain": [
       "(0.8191767103967671,\n",
       " 0.010625133857475592,\n",
       " 0.9570557899671824,\n",
       " 0.013763296565654079)"
      ]
     },
     "execution_count": 11,
     "metadata": {},
     "output_type": "execute_result"
    }
   ],
   "source": [
    "eval_branch(evaluate_min, 15, 10, 0)"
   ]
  },
  {
   "cell_type": "code",
   "execution_count": 20,
   "id": "1121caa1",
   "metadata": {
    "pycharm": {
     "name": "#%%\n"
    }
   },
   "outputs": [
    {
     "data": {
      "text/plain": [
       "(0.35918196835178573,\n",
       " 0.05508055252226271,\n",
       " 0.7665399239543726,\n",
       " 0.023939279450490025)"
      ]
     },
     "execution_count": 20,
     "metadata": {},
     "output_type": "execute_result"
    }
   ],
   "source": [
    "eval_branch(evaluate_min, 15, 10, 1)"
   ]
  },
  {
   "cell_type": "code",
   "execution_count": 13,
   "id": "472225e9",
   "metadata": {
    "pycharm": {
     "name": "#%%\n"
    }
   },
   "outputs": [
    {
     "data": {
      "text/plain": [
       "(0.0030115842238315725, 0.0002617315043909363, 0.03333333333333333, 0.0)"
      ]
     },
     "execution_count": 13,
     "metadata": {},
     "output_type": "execute_result"
    }
   ],
   "source": [
    "eval_branch(evaluate_min, 15, 10, 2)"
   ]
  },
  {
   "cell_type": "code",
   "execution_count": 23,
   "id": "9e1bc268",
   "metadata": {
    "pycharm": {
     "name": "#%%\n"
    }
   },
   "outputs": [
    {
     "data": {
      "text/plain": [
       "(0.10385906439894468,\n",
       " 0.003425237810001112,\n",
       " 0.82568093385214,\n",
       " 0.010265296465582054)"
      ]
     },
     "execution_count": 23,
     "metadata": {},
     "output_type": "execute_result"
    }
   ],
   "source": [
    "eval_branch(evaluate_min, 15, 10, 3)"
   ]
  },
  {
   "cell_type": "code",
   "execution_count": 15,
   "id": "06da2487",
   "metadata": {
    "pycharm": {
     "name": "#%%\n"
    }
   },
   "outputs": [
    {
     "data": {
      "text/plain": [
       "(0.15424141268990627,\n",
       " 0.005524624959212785,\n",
       " 0.6984423676012461,\n",
       " 0.1026317829328936)"
      ]
     },
     "execution_count": 15,
     "metadata": {},
     "output_type": "execute_result"
    }
   ],
   "source": [
    "eval_branch(evaluate_min, 15, 10, 4)"
   ]
  },
  {
   "cell_type": "markdown",
   "id": "d9c9a8af",
   "metadata": {
    "pycharm": {
     "name": "#%% md\n"
    }
   },
   "source": [
    "# Thresholding\n"
   ]
  },
  {
   "cell_type": "code",
   "execution_count": 29,
   "id": "aa15d0d2",
   "metadata": {
    "pycharm": {
     "name": "#%%\n"
    }
   },
   "outputs": [],
   "source": [
    "def evaluate_min_thresh(csv, branches, threshold):\n",
    "    csv=pd.merge(csv, robo_flags, on=['target_id', 'tce_plnt_num'])\n",
    "    robo=np.array(csv[csv.columns[-7:]])\n",
    "    reduced_csv=csv\n",
    "    branch_explanation=np.zeros([len(branches), len(csv)])\n",
    "    for i in range(len(branches)):\n",
    "        branch_explanation[i]=(reduced_csv[branches[i]+ ' Min']<-1*threshold)\n",
    "    branch_explanation=np.moveaxis(branch_explanation, 0, -1)\n",
    "    mean_dict={'target_id': csv['target_id'], 'tce_plnt_num': csv['tce_plnt_num'], 'original_label':csv['original_label'],\n",
    "              'full_score': csv['full score'],  'minor_flags':csv['Minor_Descriptive_Flags'], 'branch_explanations': branch_explanation, 'robo_flags': robo}\n",
    "    return mean_dict"
   ]
  },
  {
   "cell_type": "code",
   "execution_count": 30,
   "id": "8091451f",
   "metadata": {
    "pycharm": {
     "name": "#%%\n"
    }
   },
   "outputs": [],
   "source": [
    "def summary_threshold(num_PCs, trials):\n",
    "   # train=[]\n",
    "   # val=[]\n",
    "    test=[]\n",
    "    for trial in range(1, trials+1):\n",
    "        run='/nobackup/khauskne/kdd/explainability_runs/exp_'+str(num_PCs)+'_PCs_trial_'+str(trial)+'/'\n",
    "        #print(run)\n",
    "\n",
    "        all_test_groups=[]\n",
    "        for index in range(num_PCs):\n",
    "            test_group=pd.read_csv(run+'test_top_'+str(index)+'.csv')\n",
    "            all_test_groups.append(test_group)\n",
    "\n",
    "        branches=['Global Flux', 'Local Flux', 'Centroid', 'Odd Even', 'Secondary', 'Stellar', 'DV']\n",
    "       # train_statistics=apply_statistics(branches, all_train_groups, num_PCs)\n",
    "        #val_statistics=apply_statistics(branches, all_val_groups, num_PCs)\n",
    "        test_statistics=apply_statistics(branches, all_test_groups, num_PCs)\n",
    "        \n",
    "       # train.append(train_statistics)\n",
    "        #val.append(val_statistics)\n",
    "        test.append(test_statistics)\n",
    "\n",
    "    return test"
   ]
  },
  {
   "cell_type": "code",
   "execution_count": 31,
   "id": "ee2ee22d",
   "metadata": {
    "pycharm": {
     "name": "#%%\n"
    }
   },
   "outputs": [],
   "source": [
    "all_15=summary_threshold(15, 10)"
   ]
  },
  {
   "cell_type": "code",
   "execution_count": 32,
   "id": "8ed085b5",
   "metadata": {
    "pycharm": {
     "name": "#%%\n"
    }
   },
   "outputs": [],
   "source": [
    "branches=['Global Flux', 'Local Flux', 'Centroid', 'Odd Even', 'Secondary', 'Stellar', 'DV']"
   ]
  },
  {
   "cell_type": "code",
   "execution_count": 40,
   "id": "ff48b5a8",
   "metadata": {
    "pycharm": {
     "name": "#%%\n"
    }
   },
   "outputs": [],
   "source": [
    "def eval_thresh(trials):\n",
    "    prec_arr=[]\n",
    "    rec_arr=[]\n",
    "    for threshold in np.linspace(0, 1, 100):\n",
    "        precision_list=[]\n",
    "        recall_list=[]\n",
    "        for i in range(trials):\n",
    "            trial_val=evaluate_min_thresh(all_15[i], branches, threshold)\n",
    "            test_exp=trial_val['branch_explanations']\n",
    "            test_robo=trial_val['robo_flags']\n",
    "\n",
    "            scores=post_process_flags(test_robo, test_exp)\n",
    "            weighted_prec=precision_score(scores[0], scores[1], average='weighted')\n",
    "            weighted_rec=recall_score(scores[0], scores[1], average='weighted')\n",
    "            precision_list.append(weighted_prec)\n",
    "            recall_list.append(weighted_rec)\n",
    "        prec_arr.append(np.mean(precision_list))\n",
    "        rec_arr.append(np.mean(recall_list))\n",
    "    return prec_arr, rec_arr\n"
   ]
  },
  {
   "cell_type": "code",
   "execution_count": 42,
   "id": "15da0a96",
   "metadata": {
    "pycharm": {
     "name": "#%%\n"
    }
   },
   "outputs": [
    {
     "name": "stderr",
     "output_type": "stream",
     "text": [
      "/home4/khauskne/.conda/envs/ML_env/lib/python3.8/site-packages/sklearn/metrics/_classification.py:1318: UndefinedMetricWarning: Precision is ill-defined and being set to 0.0 in labels with no predicted samples. Use `zero_division` parameter to control this behavior.\n",
      "  _warn_prf(average, modifier, msg_start, len(result))\n",
      "/home4/khauskne/.conda/envs/ML_env/lib/python3.8/site-packages/sklearn/metrics/_classification.py:1318: UndefinedMetricWarning: Precision is ill-defined and being set to 0.0 in labels with no predicted samples. Use `zero_division` parameter to control this behavior.\n",
      "  _warn_prf(average, modifier, msg_start, len(result))\n",
      "/home4/khauskne/.conda/envs/ML_env/lib/python3.8/site-packages/sklearn/metrics/_classification.py:1318: UndefinedMetricWarning: Precision is ill-defined and being set to 0.0 in labels with no predicted samples. Use `zero_division` parameter to control this behavior.\n",
      "  _warn_prf(average, modifier, msg_start, len(result))\n",
      "/home4/khauskne/.conda/envs/ML_env/lib/python3.8/site-packages/sklearn/metrics/_classification.py:1318: UndefinedMetricWarning: Precision is ill-defined and being set to 0.0 in labels with no predicted samples. Use `zero_division` parameter to control this behavior.\n",
      "  _warn_prf(average, modifier, msg_start, len(result))\n",
      "/home4/khauskne/.conda/envs/ML_env/lib/python3.8/site-packages/sklearn/metrics/_classification.py:1318: UndefinedMetricWarning: Precision is ill-defined and being set to 0.0 in labels with no predicted samples. Use `zero_division` parameter to control this behavior.\n",
      "  _warn_prf(average, modifier, msg_start, len(result))\n",
      "/home4/khauskne/.conda/envs/ML_env/lib/python3.8/site-packages/sklearn/metrics/_classification.py:1318: UndefinedMetricWarning: Precision is ill-defined and being set to 0.0 in labels with no predicted samples. Use `zero_division` parameter to control this behavior.\n",
      "  _warn_prf(average, modifier, msg_start, len(result))\n"
     ]
    }
   ],
   "source": [
    "thresholding=eval_thresh(4)"
   ]
  },
  {
   "cell_type": "code",
   "execution_count": 44,
   "id": "fd2ac4ec",
   "metadata": {
    "pycharm": {
     "name": "#%%\n"
    }
   },
   "outputs": [
    {
     "data": {
      "text/plain": [
       "Text(0.5, 1.0, 'Weighted Precision and Recall vs. Threshold for Proposed Method')"
      ]
     },
     "execution_count": 44,
     "metadata": {},
     "output_type": "execute_result"
    },
    {
     "data": {
      "image/png": "[encoded data removed]",
      "text/plain": [
       "<Figure size 432x288 with 1 Axes>"
      ]
     },
     "metadata": {
      "needs_background": "light"
     },
     "output_type": "display_data"
    }
   ],
   "source": [
    "plt.plot(np.linspace(0, 1, 100), thresholding[0], label='Precision')\n",
    "plt.plot(np.linspace(0, 1, 100), thresholding[1], label='Recall')\n",
    "plt.legend()\n",
    "plt.ylim([0, 1])\n",
    "plt.xlabel('Threshold')\n",
    "plt.title('Weighted Precision and Recall vs. Threshold for Proposed Method')"
   ]
  },
  {
   "cell_type": "code",
   "execution_count": null,
   "id": "94141c9e",
   "metadata": {
    "pycharm": {
     "name": "#%%\n"
    }
   },
   "outputs": [],
   "source": []
  }
 ],
 "metadata": {
  "kernelspec": {
   "display_name": "Python 3 (ipykernel)",
   "language": "python",
   "name": "python3"
  },
  "language_info": {
   "codemirror_mode": {
    "name": "ipython",
    "version": 3
   },
   "file_extension": ".py",
   "mimetype": "text/x-python",
   "name": "python",
   "nbconvert_exporter": "python",
   "pygments_lexer": "ipython3",
   "version": "3.8.5"
  }
 },
 "nbformat": 4,
 "nbformat_minor": 5
}