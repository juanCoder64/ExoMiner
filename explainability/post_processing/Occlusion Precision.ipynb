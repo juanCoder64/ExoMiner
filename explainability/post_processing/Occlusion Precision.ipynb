{
 "cells": [
  {
   "cell_type": "code",
   "execution_count": 2,
   "id": "5508b7b9",
   "metadata": {
    "pycharm": {
     "name": "#%%\n"
    }
   },
   "outputs": [
    {
     "name": "stdout",
     "output_type": "stream",
     "text": [
      "Populating the interactive namespace from numpy and matplotlib\n"
     ]
    }
   ],
   "source": [
    "# 3rd party\n",
    "import pandas as pd\n",
    "import numpy as np\n",
    "%pylab inline"
   ]
  },
  {
   "cell_type": "code",
   "execution_count": 3,
   "id": "5d650878",
   "metadata": {
    "pycharm": {
     "name": "#%%\n"
    }
   },
   "outputs": [],
   "source": [
    "# Reading data from occlusion test\n",
    "train=pd.read_csv('/nobackup/khauskne/kdd/occlusion_data/train_occlusion.csv')\n",
    "val=pd.read_csv('/nobackup/khauskne/kdd/occlusion_data/val_occlusion.csv')\n",
    "test=pd.read_csv('/nobackup/khauskne/kdd/occlusion_data/test_occlusion.csv')"
   ]
  },
  {
   "cell_type": "code",
   "execution_count": 4,
   "id": "b6881a6a",
   "metadata": {
    "pycharm": {
     "name": "#%%\n"
    }
   },
   "outputs": [],
   "source": [
    "# Loading Robovetter Minor Flags\n",
    "robo_flags=pd.read_csv('/nobackup/khauskne/kdd/robovetter_flags_all_DR25.csv')"
   ]
  },
  {
   "cell_type": "code",
   "execution_count": 5,
   "id": "baea476f",
   "metadata": {
    "pycharm": {
     "name": "#%%\n"
    }
   },
   "outputs": [],
   "source": [
    "# Merging Robovetter Flags with test set occlusion results\n",
    "test_csv=pd.merge(test, robo_flags, on=['target_id', 'tce_plnt_num'])"
   ]
  },
  {
   "cell_type": "code",
   "execution_count": 9,
   "id": "adb8eaf8",
   "metadata": {
    "pycharm": {
     "name": "#%%\n"
    }
   },
   "outputs": [],
   "source": [
    "def post_process_flags(robo_flags, branch_explanations):\n",
    "    branch_inds_to_keep=[1,2,3,4,6]\n",
    "    \n",
    "    robo_new=np.moveaxis(robo_flags ,0, -1)[branch_inds_to_keep]\n",
    "    robo_new=np.moveaxis(robo_new, 0, -1)\n",
    "    \n",
    "    exp_new=np.moveaxis(branch_explanations, 0, -1)\n",
    "    global_flux=exp_new[0]\n",
    "    local_flux=exp_new[1]\n",
    "    greater_flux=np.amax(test_csv[test_csv.columns[8:10]], axis=1)\n",
    "    #combined_flux=np.where(added_flux>0, 1, 0)\n",
    "    exp_new=exp_new[branch_inds_to_keep]\n",
    "    exp_new[0]=greater_flux #combined_flux #greater_flux\n",
    "    exp_new=np.moveaxis(exp_new, 0, -1)\n",
    "    \n",
    "    return robo_new, exp_new"
   ]
  },
  {
   "cell_type": "code",
   "execution_count": 10,
   "id": "0d3d972a",
   "metadata": {
    "pycharm": {
     "name": "#%%\n"
    }
   },
   "outputs": [],
   "source": [
    "occlusion_array=np.array(test_csv[test_csv.columns[8:15]])\n",
    "robo_array=np.array(test_csv[test_csv.columns[24:]])"
   ]
  },
  {
   "cell_type": "code",
   "execution_count": 11,
   "id": "6c91139f",
   "metadata": {
    "pycharm": {
     "name": "#%%\n"
    }
   },
   "outputs": [],
   "source": [
    "robo, occlusion=post_process_flags(robo_array, occlusion_array)"
   ]
  },
  {
   "cell_type": "code",
   "execution_count": 8,
   "id": "0224d6b0",
   "metadata": {
    "pycharm": {
     "name": "#%%\n"
    }
   },
   "outputs": [
    {
     "data": {
      "text/plain": [
       "array([2133,  263,   60,  257,  321])"
      ]
     },
     "execution_count": 8,
     "metadata": {},
     "output_type": "execute_result"
    }
   ],
   "source": [
    "np.sum(np.moveaxis(robo, 0, -1), axis=1)"
   ]
  },
  {
   "cell_type": "code",
   "execution_count": 14,
   "id": "6993bd3b",
   "metadata": {
    "pycharm": {
     "name": "#%%\n"
    }
   },
   "outputs": [],
   "source": [
    "from sklearn.metrics import precision_score\n",
    "from sklearn.metrics import recall_score\n",
    "from sklearn.metrics import jaccard_score\n",
    "from sklearn.metrics import accuracy_score\n",
    "from sklearn.metrics import hamming_loss"
   ]
  },
  {
   "cell_type": "code",
   "execution_count": 11,
   "id": "303b662e",
   "metadata": {
    "pycharm": {
     "name": "#%%\n"
    }
   },
   "outputs": [],
   "source": [
    "def top_n(robo, occlusion_array, n, average_type='weighted'):\n",
    "    robo, occlusion=post_process_flags(robo_array, occlusion_array)\n",
    "    for index in range(len(occlusion)):\n",
    "        tce=occlusion[index]\n",
    "        max_contrib=np.argsort(tce)[-1*n:]\n",
    "        #print(max_contrib)\n",
    "        occlusion[index]=np.zeros([5])\n",
    "        occlusion[index][max_contrib]=1\n",
    "        #print(occlusion[index])\n",
    "    weighted_prec=precision_score(robo, occlusion, average=average_type, zero_division=0)\n",
    "    weighted_rec=recall_score(robo,occlusion, average=average_type, zero_division=0)\n",
    "    return weighted_prec, weighted_rec"
   ]
  },
  {
   "cell_type": "code",
   "execution_count": 10,
   "id": "bc9da5ac",
   "metadata": {
    "pycharm": {
     "name": "#%%\n"
    }
   },
   "outputs": [
    {
     "data": {
      "text/plain": [
       "(0.4743715311785831, 0.478905735003296)"
      ]
     },
     "execution_count": 10,
     "metadata": {},
     "output_type": "execute_result"
    }
   ],
   "source": [
    "top_n(robo_array, occlusion_array, 1, 'micro')"
   ]
  },
  {
   "cell_type": "code",
   "execution_count": 11,
   "id": "117a320c",
   "metadata": {
    "pycharm": {
     "name": "#%%\n"
    }
   },
   "outputs": [
    {
     "data": {
      "text/plain": [
       "(0.33301923080515294, 0.32596583059619844)"
      ]
     },
     "execution_count": 11,
     "metadata": {},
     "output_type": "execute_result"
    }
   ],
   "source": [
    "top_n(robo_array, occlusion_array, 1, 'macro')"
   ]
  },
  {
   "cell_type": "code",
   "execution_count": 12,
   "id": "b20a6114",
   "metadata": {
    "pycharm": {
     "name": "#%%\n"
    }
   },
   "outputs": [
    {
     "data": {
      "text/plain": [
       "(0.7114473339456331, 0.478905735003296)"
      ]
     },
     "execution_count": 12,
     "metadata": {},
     "output_type": "execute_result"
    }
   ],
   "source": [
    "top_n(robo_array, occlusion_array, 1, 'weighted')"
   ]
  },
  {
   "cell_type": "code",
   "execution_count": 13,
   "id": "5896e0e6",
   "metadata": {
    "pycharm": {
     "name": "#%%\n"
    }
   },
   "outputs": [
    {
     "data": {
      "text/plain": [
       "(0.3596147567744042, 0.7261041529334212)"
      ]
     },
     "execution_count": 13,
     "metadata": {},
     "output_type": "execute_result"
    }
   ],
   "source": [
    "top_n(robo_array, occlusion_array, 2, 'micro')"
   ]
  },
  {
   "cell_type": "code",
   "execution_count": 14,
   "id": "1827880b",
   "metadata": {
    "pycharm": {
     "name": "#%%\n"
    }
   },
   "outputs": [
    {
     "data": {
      "text/plain": [
       "(0.27824789730986144, 0.5290014614269845)"
      ]
     },
     "execution_count": 14,
     "metadata": {},
     "output_type": "execute_result"
    }
   ],
   "source": [
    "top_n(robo_array, occlusion_array, 2, 'macro')"
   ]
  },
  {
   "cell_type": "code",
   "execution_count": 15,
   "id": "bc571127",
   "metadata": {
    "pycharm": {
     "name": "#%%\n"
    }
   },
   "outputs": [
    {
     "data": {
      "text/plain": [
       "(0.6509340437015965, 0.7261041529334212)"
      ]
     },
     "execution_count": 15,
     "metadata": {},
     "output_type": "execute_result"
    }
   ],
   "source": [
    "top_n(robo_array, occlusion_array, 2, 'weighted')"
   ]
  },
  {
   "cell_type": "code",
   "execution_count": 16,
   "id": "d12c5301",
   "metadata": {
    "pycharm": {
     "name": "#%%\n"
    }
   },
   "outputs": [
    {
     "data": {
      "text/plain": [
       "(0.280552834911307, 0.8497033618984838)"
      ]
     },
     "execution_count": 16,
     "metadata": {},
     "output_type": "execute_result"
    }
   ],
   "source": [
    "top_n(robo_array, occlusion_array, 3, 'micro')"
   ]
  },
  {
   "cell_type": "code",
   "execution_count": 17,
   "id": "96cf7afe",
   "metadata": {
    "pycharm": {
     "name": "#%%\n"
    }
   },
   "outputs": [
    {
     "data": {
      "text/plain": [
       "(0.25377876683618367, 0.7037024978548733)"
      ]
     },
     "execution_count": 17,
     "metadata": {},
     "output_type": "execute_result"
    }
   ],
   "source": [
    "top_n(robo_array, occlusion_array, 3, 'macro')"
   ]
  },
  {
   "cell_type": "code",
   "execution_count": 18,
   "id": "63f4c7fd",
   "metadata": {
    "pycharm": {
     "name": "#%%\n"
    }
   },
   "outputs": [
    {
     "data": {
      "text/plain": [
       "(0.617598680365637, 0.8497033618984838)"
      ]
     },
     "execution_count": 18,
     "metadata": {},
     "output_type": "execute_result"
    }
   ],
   "source": [
    "top_n(robo_array, occlusion_array, 3, 'weighted')"
   ]
  },
  {
   "cell_type": "code",
   "execution_count": 19,
   "id": "80ab097c",
   "metadata": {
    "pycharm": {
     "name": "#%%\n"
    }
   },
   "outputs": [],
   "source": [
    "def top_n_hamming(robo, occlusion_array, n):\n",
    "    robo, occlusion=post_process_flags(robo_array, occlusion_array)\n",
    "    for index in range(len(occlusion)):\n",
    "        tce=occlusion[index]\n",
    "        max_contrib=np.argsort(tce)[-1*n:]\n",
    "        #print(max_contrib)\n",
    "        occlusion[index]=np.zeros([5])\n",
    "        occlusion[index][max_contrib]=1\n",
    "        #print(occlusion[index])\n",
    "    weighted_prec=hamming_loss(robo, occlusion)\n",
    "    #weighted_rec=recall_score(robo,occlusion, average=average_type)\n",
    "    return weighted_prec#, weighted_rec"
   ]
  },
  {
   "cell_type": "code",
   "execution_count": 20,
   "id": "5663acb0",
   "metadata": {
    "pycharm": {
     "name": "#%%\n"
    }
   },
   "outputs": [
    {
     "data": {
      "text/plain": [
       "0.20835781913157037"
      ]
     },
     "execution_count": 20,
     "metadata": {},
     "output_type": "execute_result"
    }
   ],
   "source": [
    "top_n_hamming(robo_array, occlusion_array, 1)"
   ]
  },
  {
   "cell_type": "code",
   "execution_count": 21,
   "id": "f99509a9",
   "metadata": {
    "pycharm": {
     "name": "#%%\n"
    }
   },
   "outputs": [
    {
     "data": {
      "text/plain": [
       "0.31041462618348026"
      ]
     },
     "execution_count": 21,
     "metadata": {},
     "output_type": "execute_result"
    }
   ],
   "source": [
    "top_n_hamming(robo_array, occlusion_array, 2)"
   ]
  },
  {
   "cell_type": "code",
   "execution_count": 22,
   "id": "81973497",
   "metadata": {
    "pycharm": {
     "name": "#%%\n"
    }
   },
   "outputs": [],
   "source": [
    "def top_n_acc(robo, occlusion_array, n):\n",
    "    robo, occlusion=post_process_flags(robo_array, occlusion_array)\n",
    "    for index in range(len(occlusion)):\n",
    "        tce=occlusion[index]\n",
    "        max_contrib=np.argsort(tce)[-1*n:]\n",
    "        #print(max_contrib)\n",
    "        occlusion[index]=np.zeros([5])\n",
    "        occlusion[index][max_contrib]=1\n",
    "        #print(occlusion[index])\n",
    "    weighted_prec=accuracy_score(robo, occlusion)\n",
    "    #weighted_rec=recall_score(robo,occlusion, average=average_type)\n",
    "    return weighted_prec#, weighted_rec"
   ]
  },
  {
   "cell_type": "code",
   "execution_count": 23,
   "id": "342eace5",
   "metadata": {
    "pycharm": {
     "name": "#%%\n"
    }
   },
   "outputs": [
    {
     "data": {
      "text/plain": [
       "0.3676134508651649"
      ]
     },
     "execution_count": 23,
     "metadata": {},
     "output_type": "execute_result"
    }
   ],
   "source": [
    "top_n_acc(robo_array, occlusion_array, 1)"
   ]
  },
  {
   "cell_type": "code",
   "execution_count": 24,
   "id": "d5d5358f",
   "metadata": {
    "pycharm": {
     "name": "#%%\n"
    }
   },
   "outputs": [
    {
     "data": {
      "text/plain": [
       "0.02513875285667646"
      ]
     },
     "execution_count": 24,
     "metadata": {},
     "output_type": "execute_result"
    }
   ],
   "source": [
    "top_n_acc(robo_array, occlusion_array, 2)"
   ]
  },
  {
   "cell_type": "code",
   "execution_count": 25,
   "id": "74ffa0af",
   "metadata": {
    "pycharm": {
     "name": "#%%\n"
    }
   },
   "outputs": [
    {
     "data": {
      "text/plain": [
       "0.00652954619653934"
      ]
     },
     "execution_count": 25,
     "metadata": {},
     "output_type": "execute_result"
    }
   ],
   "source": [
    "top_n_acc(robo_array, occlusion_array, 3)"
   ]
  },
  {
   "cell_type": "code",
   "execution_count": null,
   "id": "059dab2d",
   "metadata": {
    "pycharm": {
     "name": "#%%\n"
    }
   },
   "outputs": [],
   "source": [
    "def top_n_jaccard(robo, occlusion_array, n, average_type='weighted'):\n",
    "    robo, occlusion=post_process_flags(robo_array, occlusion_array)\n",
    "    for index in range(len(occlusion)):\n",
    "        tce=occlusion[index]\n",
    "        max_contrib=np.argsort(tce)[-1*n:]\n",
    "        #print(max_contrib)\n",
    "        occlusion[index]=np.zeros([5])\n",
    "        occlusion[index][max_contrib]=1\n",
    "        #print(occlusion[index])\n",
    "    weighted_prec=jaccard_score(robo, occlusion, average=average_type)\n",
    "    #weighted_rec=recall_score(robo,occlusion, average=average_type)\n",
    "    return weighted_prec#, weighted_rec"
   ]
  },
  {
   "cell_type": "code",
   "execution_count": 27,
   "id": "42bee08a",
   "metadata": {
    "pycharm": {
     "name": "#%%\n"
    }
   },
   "outputs": [
    {
     "data": {
      "text/plain": [
       "0.40128124468012205"
      ]
     },
     "execution_count": 27,
     "metadata": {},
     "output_type": "execute_result"
    }
   ],
   "source": [
    "top_n_jaccard(robo_array, occlusion_array, 1)"
   ]
  },
  {
   "cell_type": "code",
   "execution_count": 28,
   "id": "a760a73d",
   "metadata": {
    "pycharm": {
     "name": "#%%\n"
    }
   },
   "outputs": [
    {
     "data": {
      "text/plain": [
       "0.546551363967395"
      ]
     },
     "execution_count": 28,
     "metadata": {},
     "output_type": "execute_result"
    }
   ],
   "source": [
    "top_n_jaccard(robo_array, occlusion_array, 2)"
   ]
  },
  {
   "cell_type": "code",
   "execution_count": 29,
   "id": "57177cb5",
   "metadata": {
    "pycharm": {
     "name": "#%%\n"
    }
   },
   "outputs": [
    {
     "data": {
      "text/plain": [
       "0.5710807334334363"
      ]
     },
     "execution_count": 29,
     "metadata": {},
     "output_type": "execute_result"
    }
   ],
   "source": [
    "top_n_jaccard(robo_array, occlusion_array, 3)"
   ]
  },
  {
   "cell_type": "code",
   "execution_count": 31,
   "id": "c642ecdf",
   "metadata": {
    "pycharm": {
     "name": "#%%\n"
    }
   },
   "outputs": [
    {
     "data": {
      "text/plain": [
       "array([0, 1, 0, 0, 0, 0, 0])"
      ]
     },
     "execution_count": 31,
     "metadata": {},
     "output_type": "execute_result"
    }
   ],
   "source": [
    "robo_array[0]"
   ]
  },
  {
   "cell_type": "code",
   "execution_count": null,
   "id": "82367466",
   "metadata": {
    "pycharm": {
     "name": "#%%\n"
    }
   },
   "outputs": [],
   "source": [
    "def eval_PCs(stat_func, num_pcs, trials):\n",
    "    stats=summary_statistics(stat_func, num_pcs,trials)\n",
    "    precision_list=[]\n",
    "    recall_list=[]\n",
    "    for i in range(trials):\n",
    "        #print(i)\n",
    "        train_exp=stats[0][i]['branch_explanations']\n",
    "        val_exp=stats[1][i]['branch_explanations']\n",
    "        test_exp=stats[2][i]['branch_explanations']\n",
    "        train_robo=stats[0][i]['robo_flags']\n",
    "        val_robo=stats[1][i]['robo_flags']\n",
    "        test_robo=stats[2][i]['robo_flags']\n",
    "        label=np.zeros(3063)\n",
    "        label[np.where(stats[2][i]['original_label']=='PC')]=1\n",
    "        \n",
    "        \n",
    "        scores=post_process_flags(test_robo, test_exp)\n",
    "        sum_scores=np.sum(scores[1], axis=1)\n",
    "        sum_scores[np.where(sum_scores>0)]=-1\n",
    "        sum_scores[np.where(sum_scores==0)]=1\n",
    "        sum_scores[np.where(sum_scores==-1)]=0\n",
    "        true=label   \n",
    "        pred=sum_scores\n",
    "        prec=precision_score(true, pred)\n",
    "        rec=recall_score(true, pred)\n",
    "        precision_list.append(prec)\n",
    "        recall_list.append(rec)\n",
    "        \n",
    "    return np.mean(precision_list), np.std(precision_list), np.mean(recall_list), np.std(recall_list)"
   ]
  },
  {
   "cell_type": "code",
   "execution_count": 16,
   "id": "fb386c6e",
   "metadata": {
    "pycharm": {
     "name": "#%%\n"
    }
   },
   "outputs": [],
   "source": [
    "robo, occlusion=post_process_flags(robo_array, occlusion_array)"
   ]
  },
  {
   "cell_type": "code",
   "execution_count": 17,
   "id": "00b702a3",
   "metadata": {
    "pycharm": {
     "name": "#%%\n"
    }
   },
   "outputs": [
    {
     "data": {
      "text/plain": [
       "array([[ 9.0048260e-04,  1.3056538e-06,  1.6234151e-07,  4.7029807e-05,\n",
       "        -9.1224024e-08],\n",
       "       [-5.4644465e-02, -1.0547638e-03,  1.0043383e-04, -1.3821721e-03,\n",
       "        -3.9309323e-02],\n",
       "       [ 2.1441828e-03,  3.3428336e-03,  3.2398573e-05,  1.9448604e-04,\n",
       "        -1.3093113e-04],\n",
       "       ...,\n",
       "       [ 3.0889548e-11,  6.3084440e-15,  9.3263410e-17,  2.6263270e-06,\n",
       "         1.6702782e-14],\n",
       "       [ 2.8292575e-09,  1.7700520e-13,  1.5365862e-14,  1.7115097e-10,\n",
       "        -1.4027963e-14],\n",
       "       [ 3.5105224e-10, -2.3921240e-14,  2.2018659e-12,  8.0819280e-07,\n",
       "         7.7780105e-13]])"
      ]
     },
     "execution_count": 17,
     "metadata": {},
     "output_type": "execute_result"
    }
   ],
   "source": [
    "occlusion"
   ]
  },
  {
   "cell_type": "code",
   "execution_count": 32,
   "id": "5abf0a0e",
   "metadata": {
    "pycharm": {
     "name": "#%%\n"
    }
   },
   "outputs": [],
   "source": [
    "def per_class_prec_rec_top_n(robo, occlusion_array, n, branch_ind):\n",
    "    robo, occlusion=post_process_flags(robo_array, occlusion_array)\n",
    "    for index in range(len(occlusion)):\n",
    "        tce=occlusion[index]\n",
    "        max_contrib=np.argsort(tce)[-1*n:]\n",
    "        occlusion[index]=np.zeros([5])\n",
    "        occlusion[index][max_contrib]=1\n",
    "    robo_branch=np.moveaxis(robo, 0, -1)[branch_ind]\n",
    "    occ_branch=np.moveaxis(occlusion, 0, -1)[branch_ind]\n",
    "    weighted_prec=precision_score(robo_branch, occ_branch)\n",
    "    weighted_rec=recall_score(robo_branch,occ_branch)\n",
    "    return weighted_prec, weighted_rec"
   ]
  },
  {
   "cell_type": "code",
   "execution_count": 33,
   "id": "0651dbda",
   "metadata": {
    "pycharm": {
     "name": "#%%\n"
    }
   },
   "outputs": [
    {
     "data": {
      "text/plain": [
       "(0.9156908665105387, 0.549929676511955)"
      ]
     },
     "execution_count": 33,
     "metadata": {},
     "output_type": "execute_result"
    }
   ],
   "source": [
    "per_class_prec_rec_top_n(robo_array, occlusion_array, 1, 0)"
   ]
  },
  {
   "cell_type": "code",
   "execution_count": 34,
   "id": "beee8a40",
   "metadata": {
    "pycharm": {
     "name": "#%%\n"
    }
   },
   "outputs": [
    {
     "data": {
      "text/plain": [
       "(0.3953488372093023, 0.19391634980988592)"
      ]
     },
     "execution_count": 34,
     "metadata": {},
     "output_type": "execute_result"
    }
   ],
   "source": [
    "per_class_prec_rec_top_n(robo_array, occlusion_array, 1, 1)"
   ]
  },
  {
   "cell_type": "code",
   "execution_count": 35,
   "id": "fa457007",
   "metadata": {
    "pycharm": {
     "name": "#%%\n"
    }
   },
   "outputs": [
    {
     "data": {
      "text/plain": [
       "(0.0025906735751295338, 0.016666666666666666)"
      ]
     },
     "execution_count": 35,
     "metadata": {},
     "output_type": "execute_result"
    }
   ],
   "source": [
    "per_class_prec_rec_top_n(robo_array, occlusion_array, 1, 2)"
   ]
  },
  {
   "cell_type": "code",
   "execution_count": 36,
   "id": "a84fbd17",
   "metadata": {
    "pycharm": {
     "name": "#%%\n"
    }
   },
   "outputs": [
    {
     "data": {
      "text/plain": [
       "(0.18109540636042404, 0.7976653696498055)"
      ]
     },
     "execution_count": 36,
     "metadata": {},
     "output_type": "execute_result"
    }
   ],
   "source": [
    "per_class_prec_rec_top_n(robo_array, occlusion_array, 1, 3)"
   ]
  },
  {
   "cell_type": "code",
   "execution_count": 37,
   "id": "977f480d",
   "metadata": {
    "pycharm": {
     "name": "#%%\n"
    }
   },
   "outputs": [
    {
     "data": {
      "text/plain": [
       "(0.17037037037037037, 0.07165109034267912)"
      ]
     },
     "execution_count": 37,
     "metadata": {},
     "output_type": "execute_result"
    }
   ],
   "source": [
    "per_class_prec_rec_top_n(robo_array, occlusion_array, 1, 4)"
   ]
  },
  {
   "cell_type": "code",
   "execution_count": 40,
   "id": "d42de069",
   "metadata": {
    "pycharm": {
     "name": "#%%\n"
    }
   },
   "outputs": [
    {
     "data": {
      "text/plain": [
       "(0.8570731707317073, 0.823722456633849)"
      ]
     },
     "execution_count": 40,
     "metadata": {},
     "output_type": "execute_result"
    }
   ],
   "source": [
    "per_class_prec_rec_top_n(robo_array, occlusion_array, 2, 0)"
   ]
  },
  {
   "cell_type": "code",
   "execution_count": 41,
   "id": "caceb179",
   "metadata": {
    "pycharm": {
     "name": "#%%\n"
    }
   },
   "outputs": [
    {
     "data": {
      "text/plain": [
       "(0.2392638036809816, 0.4448669201520912)"
      ]
     },
     "execution_count": 41,
     "metadata": {},
     "output_type": "execute_result"
    }
   ],
   "source": [
    "per_class_prec_rec_top_n(robo_array, occlusion_array, 2, 1)"
   ]
  },
  {
   "cell_type": "code",
   "execution_count": 42,
   "id": "dfde118c",
   "metadata": {
    "pycharm": {
     "name": "#%%\n"
    }
   },
   "outputs": [
    {
     "data": {
      "text/plain": [
       "(0.01793103448275862, 0.21666666666666667)"
      ]
     },
     "execution_count": 42,
     "metadata": {},
     "output_type": "execute_result"
    }
   ],
   "source": [
    "per_class_prec_rec_top_n(robo_array, occlusion_array, 2, 2)"
   ]
  },
  {
   "cell_type": "code",
   "execution_count": 43,
   "id": "af586d24",
   "metadata": {
    "pycharm": {
     "name": "#%%\n"
    }
   },
   "outputs": [
    {
     "data": {
      "text/plain": [
       "(0.09551986475063398, 0.8793774319066148)"
      ]
     },
     "execution_count": 43,
     "metadata": {},
     "output_type": "execute_result"
    }
   ],
   "source": [
    "per_class_prec_rec_top_n(robo_array, occlusion_array, 2, 3)"
   ]
  },
  {
   "cell_type": "code",
   "execution_count": 44,
   "id": "2e916e23",
   "metadata": {
    "pycharm": {
     "name": "#%%\n"
    }
   },
   "outputs": [
    {
     "data": {
      "text/plain": [
       "(0.1814516129032258, 0.2803738317757009)"
      ]
     },
     "execution_count": 44,
     "metadata": {},
     "output_type": "execute_result"
    }
   ],
   "source": [
    "per_class_prec_rec_top_n(robo_array, occlusion_array, 2, 4)"
   ]
  },
  {
   "cell_type": "code",
   "execution_count": 45,
   "id": "eda49393",
   "metadata": {
    "pycharm": {
     "name": "#%%\n"
    }
   },
   "outputs": [
    {
     "data": {
      "text/plain": [
       "(0.819949281487743, 0.9095171120487576)"
      ]
     },
     "execution_count": 45,
     "metadata": {},
     "output_type": "execute_result"
    }
   ],
   "source": [
    "per_class_prec_rec_top_n(robo_array, occlusion_array, 3, 0)"
   ]
  },
  {
   "cell_type": "code",
   "execution_count": 46,
   "id": "f36ee576",
   "metadata": {
    "pycharm": {
     "name": "#%%\n"
    }
   },
   "outputs": [
    {
     "data": {
      "text/plain": [
       "(0.18640955004591367, 0.7718631178707225)"
      ]
     },
     "execution_count": 46,
     "metadata": {},
     "output_type": "execute_result"
    }
   ],
   "source": [
    "per_class_prec_rec_top_n(robo_array, occlusion_array, 3, 1)"
   ]
  },
  {
   "cell_type": "code",
   "execution_count": 47,
   "id": "6dad4528",
   "metadata": {
    "pycharm": {
     "name": "#%%\n"
    }
   },
   "outputs": [
    {
     "data": {
      "text/plain": [
       "(0.011989100817438692, 0.36666666666666664)"
      ]
     },
     "execution_count": 47,
     "metadata": {},
     "output_type": "execute_result"
    }
   ],
   "source": [
    "per_class_prec_rec_top_n(robo_array, occlusion_array, 3, 2)"
   ]
  },
  {
   "cell_type": "code",
   "execution_count": 48,
   "id": "11560089",
   "metadata": {
    "pycharm": {
     "name": "#%%\n"
    }
   },
   "outputs": [
    {
     "data": {
      "text/plain": [
       "(0.08324552160168598, 0.9221789883268483)"
      ]
     },
     "execution_count": 48,
     "metadata": {},
     "output_type": "execute_result"
    }
   ],
   "source": [
    "per_class_prec_rec_top_n(robo_array, occlusion_array, 3, 3)"
   ]
  },
  {
   "cell_type": "code",
   "execution_count": 49,
   "id": "56e6f13e",
   "metadata": {
    "pycharm": {
     "name": "#%%\n"
    }
   },
   "outputs": [
    {
     "data": {
      "text/plain": [
       "(0.16730038022813687, 0.5482866043613707)"
      ]
     },
     "execution_count": 49,
     "metadata": {},
     "output_type": "execute_result"
    }
   ],
   "source": [
    "per_class_prec_rec_top_n(robo_array, occlusion_array, 3, 4)"
   ]
  },
  {
   "cell_type": "code",
   "execution_count": 12,
   "id": "06d8eaef",
   "metadata": {
    "pycharm": {
     "name": "#%%\n"
    }
   },
   "outputs": [],
   "source": [
    "prec_vals=[]\n",
    "rec_vals=[]\n",
    "for n in range(1,6):\n",
    "    prec, rec=top_n(robo_array, occlusion_array, n, 'micro')\n",
    "    prec_vals.append(prec)\n",
    "    rec_vals.append(rec)"
   ]
  },
  {
   "cell_type": "code",
   "execution_count": 13,
   "id": "03f444aa",
   "metadata": {
    "pycharm": {
     "name": "#%%\n"
    }
   },
   "outputs": [
    {
     "data": {
      "text/plain": [
       "Text(0.5, 1.0, 'Micro Precision and Recall for Top n labeled with Occlusion')"
      ]
     },
     "execution_count": 13,
     "metadata": {},
     "output_type": "execute_result"
    },
    {
     "data": {
      "image/png": "[encoded data removed]",
      "text/plain": [
       "<Figure size 432x288 with 1 Axes>"
      ]
     },
     "metadata": {
      "needs_background": "light"
     },
     "output_type": "display_data"
    }
   ],
   "source": [
    "plt.scatter(np.arange(1,6), prec_vals, label='Precision')\n",
    "plt.scatter(np.arange(1,6), rec_vals, label='Recall')\n",
    "plt.legend()\n",
    "plt.xlabel('Top n')\n",
    "plt.title('Micro Precision and Recall for Top n labeled with Occlusion')"
   ]
  },
  {
   "cell_type": "code",
   "execution_count": 10,
   "id": "443e2e57",
   "metadata": {
    "pycharm": {
     "name": "#%%\n"
    }
   },
   "outputs": [],
   "source": [
    "def threshold_occlusion(threshold, average_type='weighted'):\n",
    "    occlusion_array=np.array(test_csv[test_csv.columns[8:15]])\n",
    "    robo=np.array(test_csv[test_csv.columns[24:]])\n",
    "    robo, occlusion=post_process_flags(robo, occlusion_array)\n",
    "    for index in range(len(occlusion)):\n",
    "        tce=occlusion[index]\n",
    "       # print(tce)\n",
    "        occlusion[index]=np.where(occlusion[index]>threshold, 1, 0)\n",
    "        \n",
    "    #$print(occlusion)\n",
    "    weighted_prec=precision_score(robo, occlusion, average=average_type, zero_division=0)\n",
    "    weighted_rec=recall_score(robo,occlusion, average=average_type, zero_division=0)\n",
    "    return weighted_prec, weighted_rec"
   ]
  },
  {
   "cell_type": "code",
   "execution_count": 20,
   "id": "edef1120",
   "metadata": {
    "pycharm": {
     "name": "#%%\n"
    }
   },
   "outputs": [],
   "source": [
    "def threshold_occlusion_PC(threshold, average_type='weighted'):\n",
    "    occlusion_array=np.array(test_csv[test_csv.columns[8:15]])\n",
    "    robo=np.array(test_csv[test_csv.columns[24:]])\n",
    "    robo, occlusion=post_process_flags(robo, occlusion_array)\n",
    "    label=np.zeros(3063)\n",
    "    label[np.where(test_csv['original_label']=='PC')]=1\n",
    "    for index in range(len(occlusion)):\n",
    "        tce=occlusion[index]\n",
    "       # print(tce)\n",
    "        occlusion[index]=np.where(occlusion[index]>threshold, 1, 0)\n",
    "    sum_scores=np.sum(occlusion, axis=1)\n",
    "    sum_scores[np.where(sum_scores>0)]=-1\n",
    "    sum_scores[np.where(sum_scores==0)]=1\n",
    "    sum_scores[np.where(sum_scores==-1)]=0\n",
    "    true=label   \n",
    "    pred=sum_scores\n",
    "    prec=precision_score(true, pred, zero_division=0)\n",
    "    rec=recall_score(true, pred, zero_division=0)\n",
    "    return prec, rec"
   ]
  },
  {
   "cell_type": "code",
   "execution_count": 44,
   "id": "da010d8b",
   "metadata": {
    "pycharm": {
     "name": "#%%\n"
    }
   },
   "outputs": [],
   "source": [
    "prec_vals=[]\n",
    "rec_vals=[]\n",
    "for i in np.logspace(-30, 0, 1000):\n",
    "    prec, rec=threshold_occlusion_PC(i)\n",
    "    prec_vals.append(prec)\n",
    "    rec_vals.append(rec)"
   ]
  },
  {
   "cell_type": "code",
   "execution_count": 45,
   "id": "4ca6a479",
   "metadata": {
    "pycharm": {
     "name": "#%%\n"
    }
   },
   "outputs": [
    {
     "data": {
      "image/png": "[encoded data removed]",
      "text/plain": [
       "<Figure size 360x288 with 1 Axes>"
      ]
     },
     "metadata": {
      "needs_background": "light"
     },
     "output_type": "display_data"
    }
   ],
   "source": [
    "plt.figure(figsize(5,4))\n",
    "plt.plot(np.logspace(-30, 0, 1000), prec_vals, label='Precision')\n",
    "plt.plot(np.logspace(-30, 0, 1000), rec_vals, label='Recall')\n",
    "plt.legend()\n",
    "#plt.xscale('log')\n",
    "#plt.xlim([0, 0.1])\n",
    "plt.xlabel('Threshold')\n",
    "plt.ylabel('Precision/Recall')\n",
    "plt.title('Precision/Recall of PC Selection with Occlusion')\n",
    "plt.savefig('PC_selection_occlusion_notlog.pdf')"
   ]
  },
  {
   "cell_type": "code",
   "execution_count": 11,
   "id": "b34e3d37",
   "metadata": {
    "pycharm": {
     "name": "#%%\n"
    }
   },
   "outputs": [],
   "source": [
    "prec_vals=[]\n",
    "rec_vals=[]\n",
    "for i in np.linspace(0, 1, 200):\n",
    "    prec, rec=threshold_occlusion(i)\n",
    "    prec_vals.append(prec)\n",
    "    rec_vals.append(rec)"
   ]
  },
  {
   "cell_type": "code",
   "execution_count": 12,
   "id": "4ca2a261",
   "metadata": {
    "pycharm": {
     "name": "#%%\n"
    }
   },
   "outputs": [
    {
     "data": {
      "text/plain": [
       "Text(0.5, 1.0, 'Weighted Precision and Recall vs. Threshold with Occlusion')"
      ]
     },
     "execution_count": 12,
     "metadata": {},
     "output_type": "execute_result"
    },
    {
     "data": {
      "image/png": "[encoded data removed]",
      "text/plain": [
       "<Figure size 432x288 with 1 Axes>"
      ]
     },
     "metadata": {
      "needs_background": "light"
     },
     "output_type": "display_data"
    }
   ],
   "source": [
    "plt.plot(np.linspace(0, 1, 200), prec_vals, label='Precision')\n",
    "plt.plot(np.linspace(0, 1, 200), rec_vals, label='Recall')\n",
    "plt.legend()\n",
    "plt.xlabel('Threshold')\n",
    "plt.title('Weighted Precision and Recall vs. Threshold with Occlusion')"
   ]
  },
  {
   "cell_type": "code",
   "execution_count": 14,
   "id": "f25ebcc6",
   "metadata": {
    "pycharm": {
     "name": "#%%\n"
    }
   },
   "outputs": [],
   "source": [
    "np.save('/nobackup/khauskne/kdd/prec_thresh_occl.npy',[np.linspace(0, 1, 200), prec_vals])\n",
    "np.save('/nobackup/khauskne/kdd/rec_thresh_occl.npy',[np.linspace(0, 1, 200), rec_vals])"
   ]
  },
  {
   "cell_type": "code",
   "execution_count": 29,
   "id": "799bb105",
   "metadata": {
    "pycharm": {
     "name": "#%%\n"
    }
   },
   "outputs": [],
   "source": [
    "prec_vals=[]\n",
    "rec_vals=[]\n",
    "for i in np.logspace(-10, 0, 5000):\n",
    "    prec, rec=threshold_occlusion(i)\n",
    "    prec_vals.append(prec)\n",
    "    rec_vals.append(rec)"
   ]
  },
  {
   "cell_type": "code",
   "execution_count": 33,
   "id": "d5ce8c98",
   "metadata": {
    "pycharm": {
     "name": "#%%\n"
    }
   },
   "outputs": [
    {
     "data": {
      "text/plain": [
       "Text(0.5, 1.0, 'Weighted Precision and Recall vs. Threshold with Occlusion')"
      ]
     },
     "execution_count": 33,
     "metadata": {},
     "output_type": "execute_result"
    },
    {
     "data": {
      "image/png": "[encoded data removed]",
      "text/plain": [
       "<Figure size 432x288 with 1 Axes>"
      ]
     },
     "metadata": {
      "needs_background": "light"
     },
     "output_type": "display_data"
    }
   ],
   "source": [
    "plt.loglog(np.logspace(-10, 0, 5000), prec_vals, label='Precision')\n",
    "plt.loglog(np.logspace(-10, 0, 5000), rec_vals, label='Recall')\n",
    "plt.legend()\n",
    "plt.xlabel('Threshold')\n",
    "plt.title('Weighted Precision and Recall vs. Threshold with Occlusion')"
   ]
  },
  {
   "cell_type": "code",
   "execution_count": 35,
   "id": "159c40d8",
   "metadata": {
    "pycharm": {
     "name": "#%%\n"
    }
   },
   "outputs": [
    {
     "data": {
      "text/plain": [
       "Text(0.5, 1.0, 'Weighted Precision and Recall vs. Threshold for Occlusion')"
      ]
     },
     "execution_count": 35,
     "metadata": {},
     "output_type": "execute_result"
    },
    {
     "data": {
      "image/png": "[encoded data removed]",
      "text/plain": [
       "<Figure size 432x288 with 1 Axes>"
      ]
     },
     "metadata": {
      "needs_background": "light"
     },
     "output_type": "display_data"
    }
   ],
   "source": [
    "plt.plot(np.logspace(-10, 0, 5000), prec_vals, label='Precision')\n",
    "plt.plot(np.logspace(-10, 0, 5000), rec_vals, label='Recall')\n",
    "plt.xscale('log')\n",
    "plt.ylim([0,1])\n",
    "plt.legend()\n",
    "plt.xlabel('Threshold')\n",
    "plt.title('Weighted Precision and Recall vs. Threshold for Occlusion')"
   ]
  },
  {
   "cell_type": "markdown",
   "id": "a7cbf985",
   "metadata": {
    "pycharm": {
     "name": "#%% md\n"
    }
   },
   "source": [
    "Issue of what if no branches are flagged by Robovetter? \n",
    "1) should we change/add a new metric to look only at cases where robovetter flags something\n",
    "2) should we change the way we're doing this by introducing a threshold so that it can be completely analogous to the way we're doing our explainability?\n",
    "3) should we add a new metric to analyze our explainability with where we only look at the maximally contributing branch in every case?"
   ]
  },
  {
   "cell_type": "markdown",
   "id": "abe7aef3",
   "metadata": {
    "pycharm": {
     "name": "#%% md\n"
    }
   },
   "source": [
    "# Percentage of cases where there is at least one robovetter flag on that the maximally contributing branch (found via occlusion) agrees with one of the Robovetter flags"
   ]
  },
  {
   "cell_type": "code",
   "execution_count": 26,
   "id": "8b449e9e",
   "metadata": {
    "pycharm": {
     "name": "#%%\n"
    }
   },
   "outputs": [
    {
     "name": "stdout",
     "output_type": "stream",
     "text": [
      "0.5834677419354839\n"
     ]
    }
   ],
   "source": [
    "occlusion_array=np.array(test_csv[test_csv.columns[8:15]])\n",
    "robo_array=np.array(test_csv[test_csv.columns[24:]])\n",
    "num=0\n",
    "denom=0\n",
    "for index in range(len(occlusion_array)):\n",
    "    tce=occlusion_array[index]\n",
    "    max_contrib=np.argmax(tce)\n",
    "    #print(max_contrib)\n",
    "    robo_flags_on=np.where(robo_array[index]==1)[0]\n",
    "    if (np.shape(robo_flags_on)[0]>0):\n",
    "        denom=denom+1\n",
    "        if (max_contrib in robo_flags_on):\n",
    "            num=num+1\n",
    "        elif (1 in robo_flags_on):\n",
    "            if (max_contrib==0):\n",
    "                num=num+1\n",
    "print(num/denom)"
   ]
  },
  {
   "cell_type": "code",
   "execution_count": null,
   "id": "f76830bb",
   "metadata": {
    "pycharm": {
     "name": "#%%\n"
    }
   },
   "outputs": [],
   "source": []
  },
  {
   "cell_type": "markdown",
   "id": "0ac70ade",
   "metadata": {
    "pycharm": {
     "name": "#%% md\n"
    }
   },
   "source": [
    "# Percentage of cases where there is at least one robovetter flag on that the top two maximally contributing branch (found via occlusion) agrees with one of the Robovetter flags"
   ]
  },
  {
   "cell_type": "code",
   "execution_count": 36,
   "id": "115dd364",
   "metadata": {
    "pycharm": {
     "name": "#%%\n"
    }
   },
   "outputs": [
    {
     "name": "stdout",
     "output_type": "stream",
     "text": [
      "0.8330645161290322\n"
     ]
    }
   ],
   "source": [
    "occlusion_array=np.array(test_csv[test_csv.columns[8:15]])\n",
    "robo_array=np.array(test_csv[test_csv.columns[24:]])\n",
    "num=0\n",
    "denom=0\n",
    "for index in range(len(occlusion_array)):\n",
    "    tce=occlusion_array[index]\n",
    "    max_contrib=np.argsort(tce)[-2:]\n",
    "    robo_flags_on=np.where(robo_array[index]==1)[0]\n",
    "    \n",
    "    if (np.shape(robo_flags_on)[0]>0):\n",
    "        denom=denom+1\n",
    "        common_flags=np.intersect1d(robo_flags_on, max_contrib)\n",
    "        if (np.shape(common_flags)[0]>0):\n",
    "            num=num+1\n",
    "        elif (1 in robo_flags_on):\n",
    "            #print(robo_flags_on)\n",
    "            if (0 in max_contrib):\n",
    "               # print(max_contrib)\n",
    "                num=num+1\n",
    "print(num/denom)"
   ]
  },
  {
   "cell_type": "markdown",
   "id": "56574442",
   "metadata": {
    "pycharm": {
     "name": "#%% md\n"
    }
   },
   "source": [
    "## Comparison of Occlusion and Our Methodology"
   ]
  },
  {
   "cell_type": "code",
   "execution_count": 70,
   "id": "688f9fdd",
   "metadata": {
    "pycharm": {
     "name": "#%%\n"
    }
   },
   "outputs": [],
   "source": [
    "def apply_statistics(branches, files, num_PCs):\n",
    "    new_csv=files[0].copy()\n",
    "    new_csv.pop('Unnamed: 0')\n",
    "    for branch in branches:\n",
    "        all_scores=np.zeros(tuple((num_PCs, np.shape(files[0])[0])))\n",
    "        for example in range(len(files)):\n",
    "            all_scores[example]=files[example][branch]\n",
    "        col_index=new_csv.columns.get_loc(branch)\n",
    "        new_csv[branch]=np.mean(all_scores, axis=0)\n",
    "        new_csv.insert(col_index+1, branch+' Std', np.std(all_scores, axis=0))\n",
    "        new_csv.insert(col_index+1, branch+' Max', np.max(all_scores, axis=0))\n",
    "        new_csv.insert(col_index+1, branch+' Min', np.min(all_scores, axis=0))\n",
    "        new_csv.insert(col_index+1, branch+' Med', np.median(all_scores, axis=0))\n",
    "        new_csv.insert(col_index+1, branch+' Mean+Std', np.mean(all_scores, axis=0)+np.std(all_scores, axis=0))\n",
    "        new_csv.insert(col_index+1, branch+' Mean-Std', np.mean(all_scores, axis=0)-np.std(all_scores, axis=0))\n",
    "    return new_csv\n",
    "\n",
    "\n",
    "\n",
    "def evaluate_mean(csv, branches):\n",
    "    csv=pd.merge(csv, robo_flags, on=['target_id', 'tce_plnt_num'])\n",
    "    robo=np.array(csv[csv.columns[-7:]])\n",
    "    reduced_csv=csv\n",
    "    branch_explanation=np.zeros([len(branches), len(csv)])\n",
    "    for i in range(len(branches)):\n",
    "        branch_explanation[i]=(reduced_csv[branches[i]]<-0.5)\n",
    "    branch_explanation=np.moveaxis(branch_explanation, 0, -1)\n",
    "    \n",
    "    mean_dict={'target_id': csv['target_id'], 'tce_plnt_num': csv['tce_plnt_num'], 'original_label':csv['original_label'],\n",
    "              'full_score': csv['full score'], 'minor_flags':csv['Minor_Descriptive_Flags'],'branch_explanations': branch_explanation, 'robo_flags': robo}\n",
    "    return mean_dict\n",
    "\n",
    "def evaluate_min(csv, branches):\n",
    "    csv=pd.merge(csv, robo_flags, on=['target_id', 'tce_plnt_num'])\n",
    "    robo=np.array(csv[csv.columns[-7:]])\n",
    "    reduced_csv=csv\n",
    "    branch_explanation=np.zeros([len(branches), len(csv)])\n",
    "    for i in range(len(branches)):\n",
    "        branch_explanation[i]=(reduced_csv[branches[i]+ ' Min']<-0.5)\n",
    "    branch_explanation=np.moveaxis(branch_explanation, 0, -1)\n",
    "    mean_dict={'target_id': csv['target_id'], 'tce_plnt_num': csv['tce_plnt_num'], 'original_label':csv['original_label'],\n",
    "              'full_score': csv['full score'],  'minor_flags':csv['Minor_Descriptive_Flags'], 'branch_explanations': branch_explanation, 'robo_flags': robo}\n",
    "    return mean_dict\n",
    "\n",
    "def evaluate_max(csv, branches):\n",
    "    csv=pd.merge(csv, robo_flags, on=['target_id', 'tce_plnt_num'])\n",
    "    robo=np.array(csv[csv.columns[-7:]])\n",
    "    reduced_csv=csv\n",
    "    branch_explanation=np.zeros([len(branches), len(csv)])\n",
    "    for i in range(len(branches)):\n",
    "        branch_explanation[i]=(reduced_csv[branches[i]+ ' Max']<-0.5)\n",
    "    branch_explanation=np.moveaxis(branch_explanation, 0, -1)\n",
    "    \n",
    "    mean_dict={'target_id': csv['target_id'], 'tce_plnt_num': csv['tce_plnt_num'], 'original_label':csv['original_label'],\n",
    "              'full_score': csv['full score'],  'minor_flags':csv['Minor_Descriptive_Flags'], 'branch_explanations': branch_explanation, 'robo_flags': robo}\n",
    "    return mean_dict\n",
    "\n",
    "def evaluate_med(csv, branches):\n",
    "    csv=pd.merge(csv, robo_flags, on=['target_id', 'tce_plnt_num'])\n",
    "    robo=np.array(csv[csv.columns[-7:]])\n",
    "    reduced_csv=csv\n",
    "    branch_explanation=np.zeros([len(branches), len(csv)])\n",
    "    for i in range(len(branches)):\n",
    "        branch_explanation[i]=(reduced_csv[branches[i]+ ' Med']<-0.5)\n",
    "    branch_explanation=np.moveaxis(branch_explanation, 0, -1)\n",
    "    csv=pd.merge(csv, robo_flags, on=['target_id', 'tce_plnt_num'])\n",
    "    mean_dict={'target_id': csv['target_id'], 'tce_plnt_num': csv['tce_plnt_num'], 'original_label':csv['original_label'],\n",
    "              'full_score': csv['full score'],  'minor_flags':csv['Minor_Descriptive_Flags'], 'branch_explanations': branch_explanation, 'robo_flags': robo}\n",
    "    return mean_dict\n"
   ]
  },
  {
   "cell_type": "code",
   "execution_count": 85,
   "id": "aa4c4db8",
   "metadata": {
    "pycharm": {
     "name": "#%%\n"
    }
   },
   "outputs": [],
   "source": [
    "def get_csv_with_stat(num_PCs, trial):\n",
    "    run='/nobackup/khauskne/kdd/explainability_runs/exp_'+str(num_PCs)+'_PCs_trial_'+str(trial)+'/'\n",
    "    all_train_groups=[]\n",
    "    for index in range(num_PCs):\n",
    "        train_group=pd.read_csv(run+'train_top_'+str(index)+'.csv')\n",
    "        all_train_groups.append(train_group)\n",
    "    \n",
    "\n",
    "    all_val_groups=[]\n",
    "    for index in range(num_PCs):\n",
    "        val_group=pd.read_csv(run+'val_top_'+str(index)+'.csv')\n",
    "        all_val_groups.append(val_group)\n",
    "\n",
    "    all_test_groups=[]\n",
    "    for index in range(num_PCs):\n",
    "        test_group=pd.read_csv(run+'test_top_'+str(index)+'.csv')\n",
    "        all_test_groups.append(test_group)\n",
    "\n",
    "    branches=['Global Flux', 'Local Flux', 'Centroid', 'Odd Even', 'Secondary', 'Stellar', 'DV']\n",
    "    train_statistics=apply_statistics(branches, all_train_groups, num_PCs)\n",
    "    val_statistics=apply_statistics(branches, all_val_groups, num_PCs)\n",
    "    test_statistics=apply_statistics(branches, all_test_groups, num_PCs)\n",
    "    return train_statistics[['Global Flux Min', 'Local Flux Min', 'Centroid Min', 'Odd Even Min',\n",
    "                                         'Secondary Min', 'Stellar Min', 'DV Min']], val_statistics[['Global Flux Min', 'Local Flux Min', 'Centroid Min', 'Odd Even Min',\n",
    "                                         'Secondary Min', 'Stellar Min', 'DV Min']], test_statistics[['Global Flux Min', 'Local Flux Min', 'Centroid Min', 'Odd Even Min',\n",
    "                                         'Secondary Min', 'Stellar Min', 'DV Min']]"
   ]
  },
  {
   "cell_type": "code",
   "execution_count": 159,
   "id": "00a36542",
   "metadata": {
    "pycharm": {
     "name": "#%%\n"
    }
   },
   "outputs": [],
   "source": [
    "num_PCs=np.shape(np.where(test_csv['original_label']=='PC')[0])[0]\n",
    "total_test=np.shape(test_csv)[0]\n",
    "threshold_vals=np.logspace(-9, 0, 1000)"
   ]
  },
  {
   "cell_type": "code",
   "execution_count": 160,
   "id": "beedb2a0",
   "metadata": {
    "pycharm": {
     "name": "#%%\n"
    }
   },
   "outputs": [],
   "source": [
    "num_flagged=[]\n",
    "for i in threshold_vals:\n",
    "    threshold_flagged=np.shape(np.unique(np.where(test_csv[test_csv.columns[8:15]]>i)[0]))[0]\n",
    "    num_flagged.append(threshold_flagged)\n",
    "num_flagged=np.array(num_flagged)"
   ]
  },
  {
   "cell_type": "code",
   "execution_count": 161,
   "id": "32633dba",
   "metadata": {
    "pycharm": {
     "name": "#%%\n"
    }
   },
   "outputs": [],
   "source": [
    "test_new_exp=get_csv_with_stat(15, 2)[2]"
   ]
  },
  {
   "cell_type": "code",
   "execution_count": 162,
   "id": "eea9f7c4",
   "metadata": {
    "pycharm": {
     "name": "#%%\n"
    }
   },
   "outputs": [],
   "source": [
    "num_flagged_new_exp=[]\n",
    "for i in threshold_vals:\n",
    "    threshold_flagged=np.shape(np.unique(np.where(test_new_exp<-1*i)[0]))[0]\n",
    "    num_flagged_new_exp.append(threshold_flagged)\n",
    "num_flagged_new_exp=np.array(num_flagged_new_exp)"
   ]
  },
  {
   "cell_type": "code",
   "execution_count": 168,
   "id": "8ca996cb",
   "metadata": {
    "pycharm": {
     "name": "#%%\n"
    }
   },
   "outputs": [
    {
     "data": {
      "text/plain": [
       "<matplotlib.legend.Legend at 0x2aab5f810910>"
      ]
     },
     "execution_count": 168,
     "metadata": {},
     "output_type": "execute_result"
    },
    {
     "data": {
      "image/png": "[encoded data removed]",
      "text/plain": [
       "<Figure size 432x288 with 1 Axes>"
      ]
     },
     "metadata": {
      "needs_background": "light"
     },
     "output_type": "display_data"
    }
   ],
   "source": [
    "plt.title('Percentage of TCEs flagged at Different Thresholds')\n",
    "plt.xlabel('Threshold for Labeling')\n",
    "plt.ylabel('Percentage of TCEs flagged')\n",
    "\n",
    "\n",
    "\n",
    "plt.loglog(threshold_vals, num_flagged_new_exp/total_test, 'o', label='New Explainability')\n",
    "plt.loglog(threshold_vals, num_flagged/total_test, 'o', label='Occlusion')\n",
    "plt.axhline(1-(num_PCs/total_test), color='r', label='Percentage of FPs')\n",
    "plt.legend()\n",
    "#plt.scatter(threshold_vals, num_flagged_new_exp/total_test)\n",
    "#plt.scatter(threshold_vals, num_flagged/total_test)\n"
   ]
  },
  {
   "cell_type": "code",
   "execution_count": 169,
   "id": "16012c69",
   "metadata": {
    "pycharm": {
     "name": "#%%\n"
    }
   },
   "outputs": [],
   "source": [
    "num_PCs=np.shape(np.where(test_csv['original_label']=='PC')[0])[0]\n",
    "total_test=np.shape(test_csv)[0]\n",
    "threshold_vals=np.linspace(0, 1, 10000)"
   ]
  },
  {
   "cell_type": "code",
   "execution_count": 170,
   "id": "a3d46b79",
   "metadata": {
    "pycharm": {
     "name": "#%%\n"
    }
   },
   "outputs": [],
   "source": [
    "num_flagged=[]\n",
    "for i in threshold_vals:\n",
    "    threshold_flagged=np.shape(np.unique(np.where(test_csv[test_csv.columns[8:15]]>i)[0]))[0]\n",
    "    num_flagged.append(threshold_flagged)\n",
    "num_flagged=np.array(num_flagged)"
   ]
  },
  {
   "cell_type": "code",
   "execution_count": 171,
   "id": "c1c13652",
   "metadata": {
    "pycharm": {
     "name": "#%%\n"
    }
   },
   "outputs": [],
   "source": [
    "test_new_exp=get_csv_with_stat(10, 2)[2]"
   ]
  },
  {
   "cell_type": "code",
   "execution_count": 172,
   "id": "84501ec2",
   "metadata": {
    "pycharm": {
     "name": "#%%\n"
    }
   },
   "outputs": [],
   "source": [
    "num_flagged_new_exp=[]\n",
    "for i in threshold_vals:\n",
    "    threshold_flagged=np.shape(np.unique(np.where(test_new_exp<-1*i)[0]))[0]\n",
    "    num_flagged_new_exp.append(threshold_flagged)\n",
    "num_flagged_new_exp=np.array(num_flagged_new_exp)"
   ]
  },
  {
   "cell_type": "code",
   "execution_count": 174,
   "id": "4b9e8d0d",
   "metadata": {
    "pycharm": {
     "name": "#%%\n"
    }
   },
   "outputs": [
    {
     "data": {
      "text/plain": [
       "<matplotlib.legend.Legend at 0x2aab5f8f8f40>"
      ]
     },
     "execution_count": 174,
     "metadata": {},
     "output_type": "execute_result"
    },
    {
     "data": {
      "image/png": "[encoded data removed]",
      "text/plain": [
       "<Figure size 432x288 with 1 Axes>"
      ]
     },
     "metadata": {
      "needs_background": "light"
     },
     "output_type": "display_data"
    }
   ],
   "source": [
    "plt.title('Percentage of TCEs flagged at Different Thresholds')\n",
    "plt.xlabel('Threshold for Labeling')\n",
    "plt.ylabel('Percentage of TCEs flagged')\n",
    "\n",
    "#plt.loglog(threshold_vals, num_flagged_new_exp/total_test, 'o')\n",
    "#plt.loglog(threshold_vals, num_flagged/total_test, 'o')\n",
    "\n",
    "plt.scatter(threshold_vals, num_flagged_new_exp/total_test, label='New Explainability')\n",
    "plt.scatter(threshold_vals, num_flagged/total_test, label='Occlusion')\n",
    "plt.axhline(1-(num_PCs/total_test), label='Percentage of FPs')\n",
    "plt.legend()"
   ]
  },
  {
   "cell_type": "markdown",
   "id": "dcf29c27",
   "metadata": {
    "pycharm": {
     "name": "#%% md\n"
    }
   },
   "source": [
    "## Comparison of the Number of PCs Used"
   ]
  },
  {
   "cell_type": "code",
   "execution_count": 177,
   "id": "137a9666",
   "metadata": {
    "pycharm": {
     "name": "#%%\n"
    }
   },
   "outputs": [],
   "source": [
    "num_PCs=np.shape(np.where(test_csv['original_label']=='PC')[0])[0]\n",
    "total_test=np.shape(test_csv)[0]\n",
    "threshold_vals=np.linspace(0, 1, 1000)"
   ]
  },
  {
   "cell_type": "code",
   "execution_count": 181,
   "id": "24fa104a",
   "metadata": {
    "pycharm": {
     "name": "#%%\n"
    }
   },
   "outputs": [],
   "source": [
    "num_flagged_array=np.zeros([16, 1000])\n",
    "for num_PCs in range(1, 15):\n",
    "    test_new_exp=get_csv_with_stat(num_PCs, 2)[2]\n",
    "    num_flagged=[]\n",
    "    for i in threshold_vals:\n",
    "        threshold_flagged=np.shape(np.unique(np.where(test_new_exp<-1*i)[0]))[0]\n",
    "        num_flagged.append(threshold_flagged)\n",
    "    num_flagged=np.array(num_flagged)\n",
    "    num_flagged_array[num_PCs]=num_flagged"
   ]
  },
  {
   "cell_type": "code",
   "execution_count": 191,
   "id": "de14ddd4",
   "metadata": {
    "pycharm": {
     "name": "#%%\n"
    }
   },
   "outputs": [
    {
     "data": {
      "text/plain": [
       "<matplotlib.legend.Legend at 0x2aab5fc7ef10>"
      ]
     },
     "execution_count": 191,
     "metadata": {},
     "output_type": "execute_result"
    },
    {
     "data": {
      "image/png": "[encoded data removed]",
      "text/plain": [
       "<Figure size 432x288 with 1 Axes>"
      ]
     },
     "metadata": {
      "needs_background": "light"
     },
     "output_type": "display_data"
    }
   ],
   "source": [
    "i=2\n",
    "while i in range(1, 15):\n",
    "    plt.plot(threshold_vals, num_flagged_array[i]/total_test, label=str(i))\n",
    "    i=i+3\n",
    "plt.legend()"
   ]
  },
  {
   "cell_type": "code",
   "execution_count": null,
   "id": "7f4590aa",
   "metadata": {
    "pycharm": {
     "name": "#%%\n"
    }
   },
   "outputs": [],
   "source": []
  }
 ],
 "metadata": {
  "kernelspec": {
   "display_name": "Python 3 (ipykernel)",
   "language": "python",
   "name": "python3"
  },
  "language_info": {
   "codemirror_mode": {
    "name": "ipython",
    "version": 3
   },
   "file_extension": ".py",
   "mimetype": "text/x-python",
   "name": "python",
   "nbconvert_exporter": "python",
   "pygments_lexer": "ipython3",
   "version": "3.8.5"
  }
 },
 "nbformat": 4,
 "nbformat_minor": 5
}