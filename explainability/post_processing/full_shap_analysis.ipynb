{
 "cells": [
  {
   "cell_type": "markdown",
   "source": [
    "# Post-processing of full SHAP results"
   ],
   "metadata": {
    "collapsed": false
   }
  },
  {
   "cell_type": "code",
   "execution_count": 1,
   "outputs": [],
   "source": [
    "import pandas as pd\n",
    "import matplotlib.pyplot as plt\n",
    "import numpy as np\n",
    "# %pylab inline"
   ],
   "metadata": {
    "collapsed": false,
    "ExecuteTime": {
     "start_time": "2023-04-24T12:24:26.238922Z",
     "end_time": "2023-04-24T12:24:26.239019Z"
    }
   }
  },
  {
   "cell_type": "code",
   "execution_count": 2,
   "id": "faed9a5a",
   "metadata": {
    "ExecuteTime": {
     "start_time": "2023-04-24T12:24:26.239249Z",
     "end_time": "2023-04-24T12:24:26.239300Z"
    }
   },
   "outputs": [],
   "source": [
    "test=pd.read_csv('/Users/msaragoc/Library/CloudStorage/OneDrive-NASA/Projects/exoplanet_transit_classification/interns/kaylie_explainability/kdd/shap.csv')"
   ]
  },
  {
   "cell_type": "code",
   "execution_count": 3,
   "id": "c9bac678",
   "metadata": {
    "ExecuteTime": {
     "start_time": "2023-04-24T12:24:26.239376Z",
     "end_time": "2023-04-24T12:24:26.239405Z"
    }
   },
   "outputs": [],
   "source": [
    "test=test.iloc[np.where(test['dataset']=='test')]"
   ]
  },
  {
   "cell_type": "code",
   "execution_count": 4,
   "id": "22b9f09a",
   "metadata": {
    "ExecuteTime": {
     "start_time": "2023-04-24T12:24:26.259032Z",
     "end_time": "2023-04-24T12:24:26.259117Z"
    }
   },
   "outputs": [],
   "source": [
    "robo_flags=pd.read_csv('/Users/msaragoc/Library/CloudStorage/OneDrive-NASA/Projects/exoplanet_transit_classification/interns/kaylie_explainability/kdd/robovetter_flags_all_DR25.csv')"
   ]
  },
  {
   "cell_type": "code",
   "execution_count": 5,
   "id": "b7d1d9eb",
   "metadata": {
    "ExecuteTime": {
     "start_time": "2023-04-24T12:24:26.345768Z",
     "end_time": "2023-04-24T12:24:26.345858Z"
    }
   },
   "outputs": [
    {
     "data": {
      "text/plain": "       Unnamed: 0  target_id  tce_plnt_num           TCE  Robovetter_Score  \\\n0               0     757099             1  000757099-01             0.000   \n1               1     757450             1  000757450-01             0.999   \n2               2     892376             1  000892376-01             0.000   \n3               3     892376             2  000892376-02             0.000   \n4               4     892376             3  000892376-03             0.000   \n...           ...        ...           ...           ...               ...   \n32529       32529   12885212             1  012885212-01             0.001   \n32530       32530   12885212             2  012885212-02             0.638   \n32531       32531   12885505             1  012885505-01             0.000   \n32532       32532   12935144             1  012935144-01             0.000   \n32533       32533  100001645             1  100001645-01             0.000   \n\n      Disposition  Not_Transit-Like_Flag  Stellar_Eclipse_Flag  \\\n0              FP                      1                     0   \n1              PC                      0                     0   \n2              FP                      1                     0   \n3              FP                      1                     0   \n4              FP                      1                     0   \n...           ...                    ...                   ...   \n32529          FP                      0                     0   \n32530          PC                      0                     0   \n32531          FP                      1                     0   \n32532          FP                      0                     0   \n32533          FP                      1                     0   \n\n       Centroid_Offset_Flag  Ephemeris_Match_Flag  \\\n0                         0                     0   \n1                         0                     0   \n2                         0                     0   \n3                         0                     0   \n4                         0                     0   \n...                     ...                   ...   \n32529                     1                     0   \n32530                     0                     0   \n32531                     0                     0   \n32532                     1                     0   \n32533                     0                     0   \n\n                                 Minor_Descriptive_Flags  Global Flux Flag  \\\n0                      LPP_DV---LPP_ALT---MOD_NONUNIQ_DV                 0   \n1                                             NO_COMMENT                 0   \n2      INDIV_TRANS_CHASES_MARSHALL---LPP_DV---ALL_TRA...                 0   \n3                 LPP_DV---MOD_NONUNIQ_DV---CENT_KIC_POS                 0   \n4      INDIV_TRANS_RUBBLE---TRANS_GAPPED---LPP_DV---L...                 0   \n...                                                  ...               ...   \n32529                               CENT_RESOLVED_OFFSET                 0   \n32530                                         NO_COMMENT                 0   \n32531  INDIV_TRANS_MARSHALL---LPP_DV---INCONSISTENT_T...                 0   \n32532                  CENT_RESOLVED_OFFSET---HALO_GHOST                 0   \n32533  LPP_DV---LPP_ALT---ALL_TRANS_CHASES---MOD_NONU...                 0   \n\n       Local Flux Flag  Centroid Flag  Odd Even Flag  Secondary Flag  \\\n0                    1              0              0               0   \n1                    0              0              0               0   \n2                    1              0              0               0   \n3                    1              0              0               0   \n4                    1              0              0               0   \n...                ...            ...            ...             ...   \n32529                0              1              0               0   \n32530                0              0              0               0   \n32531                1              0              0               0   \n32532                0              1              0               0   \n32533                1              0              0               0   \n\n       Stellar Flag  DV Flag  \n0                 0        0  \n1                 0        0  \n2                 0        0  \n3                 0        0  \n4                 0        0  \n...             ...      ...  \n32529             0        0  \n32530             0        0  \n32531             0        0  \n32532             0        1  \n32533             0        0  \n\n[32534 rows x 18 columns]",
      "text/html": "<div>\n<style scoped>\n    .dataframe tbody tr th:only-of-type {\n        vertical-align: middle;\n    }\n\n    .dataframe tbody tr th {\n        vertical-align: top;\n    }\n\n    .dataframe thead th {\n        text-align: right;\n    }\n</style>\n<table border=\"1\" class=\"dataframe\">\n  <thead>\n    <tr style=\"text-align: right;\">\n      <th></th>\n      <th>Unnamed: 0</th>\n      <th>target_id</th>\n      <th>tce_plnt_num</th>\n      <th>TCE</th>\n      <th>Robovetter_Score</th>\n      <th>Disposition</th>\n      <th>Not_Transit-Like_Flag</th>\n      <th>Stellar_Eclipse_Flag</th>\n      <th>Centroid_Offset_Flag</th>\n      <th>Ephemeris_Match_Flag</th>\n      <th>Minor_Descriptive_Flags</th>\n      <th>Global Flux Flag</th>\n      <th>Local Flux Flag</th>\n      <th>Centroid Flag</th>\n      <th>Odd Even Flag</th>\n      <th>Secondary Flag</th>\n      <th>Stellar Flag</th>\n      <th>DV Flag</th>\n    </tr>\n  </thead>\n  <tbody>\n    <tr>\n      <th>0</th>\n      <td>0</td>\n      <td>757099</td>\n      <td>1</td>\n      <td>000757099-01</td>\n      <td>0.000</td>\n      <td>FP</td>\n      <td>1</td>\n      <td>0</td>\n      <td>0</td>\n      <td>0</td>\n      <td>LPP_DV---LPP_ALT---MOD_NONUNIQ_DV</td>\n      <td>0</td>\n      <td>1</td>\n      <td>0</td>\n      <td>0</td>\n      <td>0</td>\n      <td>0</td>\n      <td>0</td>\n    </tr>\n    <tr>\n      <th>1</th>\n      <td>1</td>\n      <td>757450</td>\n      <td>1</td>\n      <td>000757450-01</td>\n      <td>0.999</td>\n      <td>PC</td>\n      <td>0</td>\n      <td>0</td>\n      <td>0</td>\n      <td>0</td>\n      <td>NO_COMMENT</td>\n      <td>0</td>\n      <td>0</td>\n      <td>0</td>\n      <td>0</td>\n      <td>0</td>\n      <td>0</td>\n      <td>0</td>\n    </tr>\n    <tr>\n      <th>2</th>\n      <td>2</td>\n      <td>892376</td>\n      <td>1</td>\n      <td>000892376-01</td>\n      <td>0.000</td>\n      <td>FP</td>\n      <td>1</td>\n      <td>0</td>\n      <td>0</td>\n      <td>0</td>\n      <td>INDIV_TRANS_CHASES_MARSHALL---LPP_DV---ALL_TRA...</td>\n      <td>0</td>\n      <td>1</td>\n      <td>0</td>\n      <td>0</td>\n      <td>0</td>\n      <td>0</td>\n      <td>0</td>\n    </tr>\n    <tr>\n      <th>3</th>\n      <td>3</td>\n      <td>892376</td>\n      <td>2</td>\n      <td>000892376-02</td>\n      <td>0.000</td>\n      <td>FP</td>\n      <td>1</td>\n      <td>0</td>\n      <td>0</td>\n      <td>0</td>\n      <td>LPP_DV---MOD_NONUNIQ_DV---CENT_KIC_POS</td>\n      <td>0</td>\n      <td>1</td>\n      <td>0</td>\n      <td>0</td>\n      <td>0</td>\n      <td>0</td>\n      <td>0</td>\n    </tr>\n    <tr>\n      <th>4</th>\n      <td>4</td>\n      <td>892376</td>\n      <td>3</td>\n      <td>000892376-03</td>\n      <td>0.000</td>\n      <td>FP</td>\n      <td>1</td>\n      <td>0</td>\n      <td>0</td>\n      <td>0</td>\n      <td>INDIV_TRANS_RUBBLE---TRANS_GAPPED---LPP_DV---L...</td>\n      <td>0</td>\n      <td>1</td>\n      <td>0</td>\n      <td>0</td>\n      <td>0</td>\n      <td>0</td>\n      <td>0</td>\n    </tr>\n    <tr>\n      <th>...</th>\n      <td>...</td>\n      <td>...</td>\n      <td>...</td>\n      <td>...</td>\n      <td>...</td>\n      <td>...</td>\n      <td>...</td>\n      <td>...</td>\n      <td>...</td>\n      <td>...</td>\n      <td>...</td>\n      <td>...</td>\n      <td>...</td>\n      <td>...</td>\n      <td>...</td>\n      <td>...</td>\n      <td>...</td>\n      <td>...</td>\n    </tr>\n    <tr>\n      <th>32529</th>\n      <td>32529</td>\n      <td>12885212</td>\n      <td>1</td>\n      <td>012885212-01</td>\n      <td>0.001</td>\n      <td>FP</td>\n      <td>0</td>\n      <td>0</td>\n      <td>1</td>\n      <td>0</td>\n      <td>CENT_RESOLVED_OFFSET</td>\n      <td>0</td>\n      <td>0</td>\n      <td>1</td>\n      <td>0</td>\n      <td>0</td>\n      <td>0</td>\n      <td>0</td>\n    </tr>\n    <tr>\n      <th>32530</th>\n      <td>32530</td>\n      <td>12885212</td>\n      <td>2</td>\n      <td>012885212-02</td>\n      <td>0.638</td>\n      <td>PC</td>\n      <td>0</td>\n      <td>0</td>\n      <td>0</td>\n      <td>0</td>\n      <td>NO_COMMENT</td>\n      <td>0</td>\n      <td>0</td>\n      <td>0</td>\n      <td>0</td>\n      <td>0</td>\n      <td>0</td>\n      <td>0</td>\n    </tr>\n    <tr>\n      <th>32531</th>\n      <td>32531</td>\n      <td>12885505</td>\n      <td>1</td>\n      <td>012885505-01</td>\n      <td>0.000</td>\n      <td>FP</td>\n      <td>1</td>\n      <td>0</td>\n      <td>0</td>\n      <td>0</td>\n      <td>INDIV_TRANS_MARSHALL---LPP_DV---INCONSISTENT_T...</td>\n      <td>0</td>\n      <td>1</td>\n      <td>0</td>\n      <td>0</td>\n      <td>0</td>\n      <td>0</td>\n      <td>0</td>\n    </tr>\n    <tr>\n      <th>32532</th>\n      <td>32532</td>\n      <td>12935144</td>\n      <td>1</td>\n      <td>012935144-01</td>\n      <td>0.000</td>\n      <td>FP</td>\n      <td>0</td>\n      <td>0</td>\n      <td>1</td>\n      <td>0</td>\n      <td>CENT_RESOLVED_OFFSET---HALO_GHOST</td>\n      <td>0</td>\n      <td>0</td>\n      <td>1</td>\n      <td>0</td>\n      <td>0</td>\n      <td>0</td>\n      <td>1</td>\n    </tr>\n    <tr>\n      <th>32533</th>\n      <td>32533</td>\n      <td>100001645</td>\n      <td>1</td>\n      <td>100001645-01</td>\n      <td>0.000</td>\n      <td>FP</td>\n      <td>1</td>\n      <td>0</td>\n      <td>0</td>\n      <td>0</td>\n      <td>LPP_DV---LPP_ALT---ALL_TRANS_CHASES---MOD_NONU...</td>\n      <td>0</td>\n      <td>1</td>\n      <td>0</td>\n      <td>0</td>\n      <td>0</td>\n      <td>0</td>\n      <td>0</td>\n    </tr>\n  </tbody>\n</table>\n<p>32534 rows × 18 columns</p>\n</div>"
     },
     "execution_count": 5,
     "metadata": {},
     "output_type": "execute_result"
    }
   ],
   "source": [
    "robo_flags"
   ]
  },
  {
   "cell_type": "code",
   "execution_count": 6,
   "id": "6e81a61a",
   "metadata": {
    "ExecuteTime": {
     "start_time": "2023-04-24T12:24:26.346486Z",
     "end_time": "2023-04-24T12:24:26.346528Z"
    }
   },
   "outputs": [],
   "source": [
    "test_csv=pd.merge(test, robo_flags, on=['target_id', 'tce_plnt_num'], how='left', validate='one_to_one')"
   ]
  },
  {
   "cell_type": "code",
   "execution_count": 7,
   "id": "1e2f7764",
   "metadata": {
    "ExecuteTime": {
     "start_time": "2023-04-24T12:24:26.347577Z",
     "end_time": "2023-04-24T12:24:26.347620Z"
    }
   },
   "outputs": [
    {
     "data": {
      "text/plain": "      target_id  tce_plnt_num  label original_label  tce_duration  tce_period  \\\n0       9349482             1      1             PC      0.535417  110.963997   \n1       7021681             1      1             PC      0.171625   27.521999   \n2      11194032             1      1             PC      0.197292   28.511200   \n3       8183288             1      1             PC      0.247750   66.650497   \n4      10810838             1      1             PC      0.144458   56.354099   \n...         ...           ...    ...            ...           ...         ...   \n3058   10753734             3      0            NTP      0.625000    9.702870   \n3059    6526875             1      0            NTP      0.852083    3.629680   \n3060   10059338             1      0            NTP      0.662083  387.423004   \n3061    9837578             5      0            NTP      0.445833  333.649994   \n3062    9818732            10      0            NTP      0.625000  407.553986   \n\n      tce_time0bk  transit_depth     score  predicted class  ...  \\\n0      187.046997    1302.000000  0.999616                1  ...   \n1      134.779999    2312.000000  0.999546                1  ...   \n2      158.852005    1826.000000  0.999505                1  ...   \n3      171.181000     532.299988  0.999498                1  ...   \n4      144.837006    1036.000000  0.999424                1  ...   \n...           ...            ...       ...              ...  ...   \n3058   139.901993   34840.000000  0.000000                0  ...   \n3059   132.968002       0.000403  0.000000                0  ...   \n3060   326.726990      39.689999  0.000000                0  ...   \n3061   244.113007     382.799988  0.000000                0  ...   \n3062   365.605011    5181.000000  0.000000                0  ...   \n\n     Centroid_Offset_Flag  Ephemeris_Match_Flag  \\\n0                       0                     0   \n1                       0                     0   \n2                       0                     0   \n3                       0                     0   \n4                       0                     0   \n...                   ...                   ...   \n3058                    0                     0   \n3059                    0                     0   \n3060                    1                     0   \n3061                    0                     0   \n3062                    1                     0   \n\n                                Minor_Descriptive_Flags  Global Flux Flag  \\\n0                                            NO_COMMENT                 0   \n1                                            NO_COMMENT                 0   \n2                                            NO_COMMENT                 0   \n3                                            NO_COMMENT                 0   \n4                                          CENT_KIC_POS                 0   \n...                                                 ...               ...   \n3058  INDIV_TRANS_RUBBLE_SKYE_ZUMA---LPP_DV---LPP_AL...                 0   \n3059  SWEET_NTL---LPP_DV---LPP_ALT---MOD_NONUNIQ_DV-...                 0   \n3060  INDIV_TRANS_MARSHALL_ZUMA---LPP_DV---ALL_TRANS...                 0   \n3061  INDIV_TRANS_CHASES_MARSHALL_SKYE---LPP_DV---LP...                 0   \n3062  INDIV_TRANS_RUBBLE_ZUMA---LPP_DV---LPP_ALT---A...                 0   \n\n      Local Flux Flag  Centroid Flag  Odd Even Flag  Secondary Flag  \\\n0                   0              0              0               0   \n1                   0              0              0               0   \n2                   0              0              0               0   \n3                   0              0              0               0   \n4                   0              0              0               0   \n...               ...            ...            ...             ...   \n3058                1              0              0               0   \n3059                1              0              0               0   \n3060                1              0              0               0   \n3061                1              0              0               0   \n3062                1              0              0               0   \n\n      Stellar Flag DV Flag  \n0                0       0  \n1                0       0  \n2                0       0  \n3                0       0  \n4                0       0  \n...            ...     ...  \n3058             0       0  \n3059             0       0  \n3060             0       1  \n3061             0       0  \n3062             0       1  \n\n[3063 rows x 34 columns]",
      "text/html": "<div>\n<style scoped>\n    .dataframe tbody tr th:only-of-type {\n        vertical-align: middle;\n    }\n\n    .dataframe tbody tr th {\n        vertical-align: top;\n    }\n\n    .dataframe thead th {\n        text-align: right;\n    }\n</style>\n<table border=\"1\" class=\"dataframe\">\n  <thead>\n    <tr style=\"text-align: right;\">\n      <th></th>\n      <th>target_id</th>\n      <th>tce_plnt_num</th>\n      <th>label</th>\n      <th>original_label</th>\n      <th>tce_duration</th>\n      <th>tce_period</th>\n      <th>tce_time0bk</th>\n      <th>transit_depth</th>\n      <th>score</th>\n      <th>predicted class</th>\n      <th>...</th>\n      <th>Centroid_Offset_Flag</th>\n      <th>Ephemeris_Match_Flag</th>\n      <th>Minor_Descriptive_Flags</th>\n      <th>Global Flux Flag</th>\n      <th>Local Flux Flag</th>\n      <th>Centroid Flag</th>\n      <th>Odd Even Flag</th>\n      <th>Secondary Flag</th>\n      <th>Stellar Flag</th>\n      <th>DV Flag</th>\n    </tr>\n  </thead>\n  <tbody>\n    <tr>\n      <th>0</th>\n      <td>9349482</td>\n      <td>1</td>\n      <td>1</td>\n      <td>PC</td>\n      <td>0.535417</td>\n      <td>110.963997</td>\n      <td>187.046997</td>\n      <td>1302.000000</td>\n      <td>0.999616</td>\n      <td>1</td>\n      <td>...</td>\n      <td>0</td>\n      <td>0</td>\n      <td>NO_COMMENT</td>\n      <td>0</td>\n      <td>0</td>\n      <td>0</td>\n      <td>0</td>\n      <td>0</td>\n      <td>0</td>\n      <td>0</td>\n    </tr>\n    <tr>\n      <th>1</th>\n      <td>7021681</td>\n      <td>1</td>\n      <td>1</td>\n      <td>PC</td>\n      <td>0.171625</td>\n      <td>27.521999</td>\n      <td>134.779999</td>\n      <td>2312.000000</td>\n      <td>0.999546</td>\n      <td>1</td>\n      <td>...</td>\n      <td>0</td>\n      <td>0</td>\n      <td>NO_COMMENT</td>\n      <td>0</td>\n      <td>0</td>\n      <td>0</td>\n      <td>0</td>\n      <td>0</td>\n      <td>0</td>\n      <td>0</td>\n    </tr>\n    <tr>\n      <th>2</th>\n      <td>11194032</td>\n      <td>1</td>\n      <td>1</td>\n      <td>PC</td>\n      <td>0.197292</td>\n      <td>28.511200</td>\n      <td>158.852005</td>\n      <td>1826.000000</td>\n      <td>0.999505</td>\n      <td>1</td>\n      <td>...</td>\n      <td>0</td>\n      <td>0</td>\n      <td>NO_COMMENT</td>\n      <td>0</td>\n      <td>0</td>\n      <td>0</td>\n      <td>0</td>\n      <td>0</td>\n      <td>0</td>\n      <td>0</td>\n    </tr>\n    <tr>\n      <th>3</th>\n      <td>8183288</td>\n      <td>1</td>\n      <td>1</td>\n      <td>PC</td>\n      <td>0.247750</td>\n      <td>66.650497</td>\n      <td>171.181000</td>\n      <td>532.299988</td>\n      <td>0.999498</td>\n      <td>1</td>\n      <td>...</td>\n      <td>0</td>\n      <td>0</td>\n      <td>NO_COMMENT</td>\n      <td>0</td>\n      <td>0</td>\n      <td>0</td>\n      <td>0</td>\n      <td>0</td>\n      <td>0</td>\n      <td>0</td>\n    </tr>\n    <tr>\n      <th>4</th>\n      <td>10810838</td>\n      <td>1</td>\n      <td>1</td>\n      <td>PC</td>\n      <td>0.144458</td>\n      <td>56.354099</td>\n      <td>144.837006</td>\n      <td>1036.000000</td>\n      <td>0.999424</td>\n      <td>1</td>\n      <td>...</td>\n      <td>0</td>\n      <td>0</td>\n      <td>CENT_KIC_POS</td>\n      <td>0</td>\n      <td>0</td>\n      <td>0</td>\n      <td>0</td>\n      <td>0</td>\n      <td>0</td>\n      <td>0</td>\n    </tr>\n    <tr>\n      <th>...</th>\n      <td>...</td>\n      <td>...</td>\n      <td>...</td>\n      <td>...</td>\n      <td>...</td>\n      <td>...</td>\n      <td>...</td>\n      <td>...</td>\n      <td>...</td>\n      <td>...</td>\n      <td>...</td>\n      <td>...</td>\n      <td>...</td>\n      <td>...</td>\n      <td>...</td>\n      <td>...</td>\n      <td>...</td>\n      <td>...</td>\n      <td>...</td>\n      <td>...</td>\n      <td>...</td>\n    </tr>\n    <tr>\n      <th>3058</th>\n      <td>10753734</td>\n      <td>3</td>\n      <td>0</td>\n      <td>NTP</td>\n      <td>0.625000</td>\n      <td>9.702870</td>\n      <td>139.901993</td>\n      <td>34840.000000</td>\n      <td>0.000000</td>\n      <td>0</td>\n      <td>...</td>\n      <td>0</td>\n      <td>0</td>\n      <td>INDIV_TRANS_RUBBLE_SKYE_ZUMA---LPP_DV---LPP_AL...</td>\n      <td>0</td>\n      <td>1</td>\n      <td>0</td>\n      <td>0</td>\n      <td>0</td>\n      <td>0</td>\n      <td>0</td>\n    </tr>\n    <tr>\n      <th>3059</th>\n      <td>6526875</td>\n      <td>1</td>\n      <td>0</td>\n      <td>NTP</td>\n      <td>0.852083</td>\n      <td>3.629680</td>\n      <td>132.968002</td>\n      <td>0.000403</td>\n      <td>0.000000</td>\n      <td>0</td>\n      <td>...</td>\n      <td>0</td>\n      <td>0</td>\n      <td>SWEET_NTL---LPP_DV---LPP_ALT---MOD_NONUNIQ_DV-...</td>\n      <td>0</td>\n      <td>1</td>\n      <td>0</td>\n      <td>0</td>\n      <td>0</td>\n      <td>0</td>\n      <td>0</td>\n    </tr>\n    <tr>\n      <th>3060</th>\n      <td>10059338</td>\n      <td>1</td>\n      <td>0</td>\n      <td>NTP</td>\n      <td>0.662083</td>\n      <td>387.423004</td>\n      <td>326.726990</td>\n      <td>39.689999</td>\n      <td>0.000000</td>\n      <td>0</td>\n      <td>...</td>\n      <td>1</td>\n      <td>0</td>\n      <td>INDIV_TRANS_MARSHALL_ZUMA---LPP_DV---ALL_TRANS...</td>\n      <td>0</td>\n      <td>1</td>\n      <td>0</td>\n      <td>0</td>\n      <td>0</td>\n      <td>0</td>\n      <td>1</td>\n    </tr>\n    <tr>\n      <th>3061</th>\n      <td>9837578</td>\n      <td>5</td>\n      <td>0</td>\n      <td>NTP</td>\n      <td>0.445833</td>\n      <td>333.649994</td>\n      <td>244.113007</td>\n      <td>382.799988</td>\n      <td>0.000000</td>\n      <td>0</td>\n      <td>...</td>\n      <td>0</td>\n      <td>0</td>\n      <td>INDIV_TRANS_CHASES_MARSHALL_SKYE---LPP_DV---LP...</td>\n      <td>0</td>\n      <td>1</td>\n      <td>0</td>\n      <td>0</td>\n      <td>0</td>\n      <td>0</td>\n      <td>0</td>\n    </tr>\n    <tr>\n      <th>3062</th>\n      <td>9818732</td>\n      <td>10</td>\n      <td>0</td>\n      <td>NTP</td>\n      <td>0.625000</td>\n      <td>407.553986</td>\n      <td>365.605011</td>\n      <td>5181.000000</td>\n      <td>0.000000</td>\n      <td>0</td>\n      <td>...</td>\n      <td>1</td>\n      <td>0</td>\n      <td>INDIV_TRANS_RUBBLE_ZUMA---LPP_DV---LPP_ALT---A...</td>\n      <td>0</td>\n      <td>1</td>\n      <td>0</td>\n      <td>0</td>\n      <td>0</td>\n      <td>0</td>\n      <td>1</td>\n    </tr>\n  </tbody>\n</table>\n<p>3063 rows × 34 columns</p>\n</div>"
     },
     "execution_count": 7,
     "metadata": {},
     "output_type": "execute_result"
    }
   ],
   "source": [
    "test_csv"
   ]
  },
  {
   "cell_type": "code",
   "execution_count": 8,
   "id": "b72c5c38",
   "metadata": {
    "ExecuteTime": {
     "start_time": "2023-04-24T12:24:26.347782Z",
     "end_time": "2023-04-24T12:24:26.347813Z"
    }
   },
   "outputs": [
    {
     "data": {
      "text/plain": "Index(['gf', 'lf', 'oe', 'gc-lc', 'wks', 's', 'dvtf'], dtype='object')"
     },
     "execution_count": 8,
     "metadata": {},
     "output_type": "execute_result"
    }
   ],
   "source": [
    "test_csv.columns[11:18]"
   ]
  },
  {
   "cell_type": "code",
   "execution_count": 9,
   "id": "6f79b90f",
   "metadata": {
    "ExecuteTime": {
     "start_time": "2023-04-24T12:24:26.347879Z",
     "end_time": "2023-04-24T12:24:26.347905Z"
    }
   },
   "outputs": [],
   "source": [
    "#shap_array=np.array(test_csv[test_csv.columns[4:11]])\n",
    "#robo_array=np.array(test_csv[test_csv.columns[20:]])"
   ]
  },
  {
   "cell_type": "code",
   "execution_count": 10,
   "id": "5941d18a",
   "metadata": {
    "ExecuteTime": {
     "start_time": "2023-04-24T12:24:26.347966Z",
     "end_time": "2023-04-24T12:24:26.347994Z"
    }
   },
   "outputs": [],
   "source": [
    "shap_array=np.array(test_csv[test_csv.columns[11:18]])\n",
    "robo_array=np.array(test_csv[test_csv.columns[27:]])"
   ]
  },
  {
   "cell_type": "code",
   "execution_count": 11,
   "id": "5c8443c9",
   "metadata": {
    "ExecuteTime": {
     "start_time": "2023-04-24T12:24:26.348055Z",
     "end_time": "2023-04-24T12:24:26.348080Z"
    }
   },
   "outputs": [],
   "source": [
    "def post_process_flags(robo_flags, branch_explanations):\n",
    "\n",
    "    branch_inds_to_keep_robo=[1,2,3,4,6]\n",
    "    branch_inds_to_keep_shap=[1,2,4,3,6]\n",
    "    \n",
    "    robo_new=np.moveaxis(robo_flags ,0, -1)[branch_inds_to_keep_robo]\n",
    "    robo_new=np.moveaxis(robo_new, 0, -1)\n",
    "    \n",
    "    exp_new=np.moveaxis(branch_explanations, 0, -1)\n",
    "    # global_flux=exp_new[0]\n",
    "    # local_flux=exp_new[1]\n",
    "    #greater_flux=np.amax(test_csv[test_csv.columns[4:6]], axis=1)\n",
    "    # greater_flux=np.amax(branch_explanations[:, 0:13], axis=1)\n",
    "    greater_flux=np.amax(branch_explanations[:, 0:2], axis=1)\n",
    "\n",
    "    #combined_flux=np.where(added_flux>0, 1, 0)\n",
    "    exp_new=exp_new[branch_inds_to_keep_shap]\n",
    "    exp_new[0]=greater_flux\n",
    "    exp_new=np.moveaxis(exp_new, 0, -1)\n",
    "    \n",
    "    return robo_new, exp_new"
   ]
  },
  {
   "cell_type": "code",
   "execution_count": 12,
   "id": "6c965727",
   "metadata": {
    "ExecuteTime": {
     "start_time": "2023-04-24T12:24:26.348261Z",
     "end_time": "2023-04-24T12:24:26.348295Z"
    }
   },
   "outputs": [],
   "source": [
    "robo, shap=post_process_flags(robo_array, shap_array)"
   ]
  },
  {
   "cell_type": "markdown",
   "source": [
    "### Compute performance metrics"
   ],
   "metadata": {
    "collapsed": false
   }
  },
  {
   "cell_type": "code",
   "execution_count": 13,
   "id": "d1214cab",
   "metadata": {
    "ExecuteTime": {
     "start_time": "2023-04-24T12:24:26.707916Z",
     "end_time": "2023-04-24T12:24:26.708034Z"
    }
   },
   "outputs": [],
   "source": [
    "from sklearn.metrics import precision_score\n",
    "from sklearn.metrics import recall_score\n",
    "from sklearn.metrics import jaccard_score\n",
    "from sklearn.metrics import accuracy_score\n",
    "from sklearn.metrics import hamming_loss"
   ]
  },
  {
   "cell_type": "code",
   "execution_count": 14,
   "id": "f7b26f33",
   "metadata": {
    "ExecuteTime": {
     "start_time": "2023-04-24T12:24:26.717261Z",
     "end_time": "2023-04-24T12:24:26.717367Z"
    }
   },
   "outputs": [],
   "source": [
    "def top_n(robo_array, occlusion_array, n, average_type='weighted'):\n",
    "    robo, occlusion=post_process_flags(robo_array, occlusion_array)\n",
    "    for index in range(len(occlusion)):\n",
    "        tce=occlusion[index]\n",
    "       # print(tce)\n",
    "        max_contrib=np.argsort(tce)[:n]\n",
    "       # print(max_contrib)\n",
    "        occlusion[index]=np.zeros([5])\n",
    "        occlusion[index][max_contrib]=1\n",
    "        #print(occlusion[index])\n",
    "    weighted_prec=precision_score(robo, occlusion, average=average_type)\n",
    "    weighted_rec=recall_score(robo,occlusion, average=average_type)\n",
    "    print(str(np.round(weighted_prec, 4))+' \\& '+str(np.round(weighted_rec, 4)) )\n",
    "    return weighted_prec, weighted_rec"
   ]
  },
  {
   "cell_type": "code",
   "execution_count": 15,
   "id": "61eeb4df",
   "metadata": {
    "ExecuteTime": {
     "start_time": "2023-04-24T12:24:26.773273Z",
     "end_time": "2023-04-24T12:24:26.773329Z"
    }
   },
   "outputs": [
    {
     "name": "stdout",
     "output_type": "stream",
     "text": [
      "0.2112 \\& 0.2132\n"
     ]
    },
    {
     "data": {
      "text/plain": "(0.21123081945804767, 0.21324983520105473)"
     },
     "execution_count": 15,
     "metadata": {},
     "output_type": "execute_result"
    }
   ],
   "source": [
    "top_n(robo_array, shap_array, 1, 'micro')"
   ]
  },
  {
   "cell_type": "code",
   "execution_count": 16,
   "id": "59b1a347",
   "metadata": {
    "ExecuteTime": {
     "start_time": "2023-04-24T12:24:26.773684Z",
     "end_time": "2023-04-24T12:24:26.773714Z"
    }
   },
   "outputs": [
    {
     "name": "stdout",
     "output_type": "stream",
     "text": [
      "0.2406 \\& 0.1979\n"
     ]
    },
    {
     "data": {
      "text/plain": "(0.24055885250407094, 0.19790303011659854)"
     },
     "execution_count": 16,
     "metadata": {},
     "output_type": "execute_result"
    }
   ],
   "source": [
    "top_n(robo_array, shap_array, 1, 'macro')"
   ]
  },
  {
   "cell_type": "code",
   "execution_count": 17,
   "id": "89f3a5bd",
   "metadata": {
    "ExecuteTime": {
     "start_time": "2023-04-24T12:24:26.893159Z",
     "end_time": "2023-04-24T12:24:26.893248Z"
    }
   },
   "outputs": [
    {
     "name": "stdout",
     "output_type": "stream",
     "text": [
      "0.6589 \\& 0.2132\n"
     ]
    },
    {
     "data": {
      "text/plain": "(0.6589041224153, 0.21324983520105473)"
     },
     "execution_count": 17,
     "metadata": {},
     "output_type": "execute_result"
    }
   ],
   "source": [
    "top_n(robo_array, shap_array, 1, 'weighted')"
   ]
  },
  {
   "cell_type": "code",
   "execution_count": 18,
   "id": "7533d195",
   "metadata": {
    "ExecuteTime": {
     "start_time": "2023-04-24T12:24:26.894526Z",
     "end_time": "2023-04-24T12:24:26.894591Z"
    }
   },
   "outputs": [
    {
     "name": "stdout",
     "output_type": "stream",
     "text": [
      "0.2183 \\& 0.4407\n"
     ]
    },
    {
     "data": {
      "text/plain": "(0.21825008161932746, 0.4406723796967699)"
     },
     "execution_count": 18,
     "metadata": {},
     "output_type": "execute_result"
    }
   ],
   "source": [
    "top_n(robo_array, shap_array, 2, 'micro')"
   ]
  },
  {
   "cell_type": "code",
   "execution_count": 19,
   "id": "54bedb97",
   "metadata": {
    "ExecuteTime": {
     "start_time": "2023-04-24T12:24:26.896545Z",
     "end_time": "2023-04-24T12:24:26.896584Z"
    }
   },
   "outputs": [
    {
     "name": "stdout",
     "output_type": "stream",
     "text": [
      "0.2494 \\& 0.398\n"
     ]
    },
    {
     "data": {
      "text/plain": "(0.24944332534953967, 0.3980366380582505)"
     },
     "execution_count": 19,
     "metadata": {},
     "output_type": "execute_result"
    }
   ],
   "source": [
    "top_n(robo_array, shap_array, 2, 'macro')"
   ]
  },
  {
   "cell_type": "code",
   "execution_count": 20,
   "id": "e4a457f0",
   "metadata": {
    "ExecuteTime": {
     "start_time": "2023-04-24T12:24:26.897765Z",
     "end_time": "2023-04-24T12:24:26.897803Z"
    }
   },
   "outputs": [
    {
     "name": "stdout",
     "output_type": "stream",
     "text": [
      "0.6409 \\& 0.4407\n"
     ]
    },
    {
     "data": {
      "text/plain": "(0.6409178204221992, 0.4406723796967699)"
     },
     "execution_count": 20,
     "metadata": {},
     "output_type": "execute_result"
    }
   ],
   "source": [
    "top_n(robo_array, shap_array, 2, 'weighted')"
   ]
  },
  {
   "cell_type": "code",
   "execution_count": 21,
   "id": "d12fcb5a",
   "metadata": {
    "ExecuteTime": {
     "start_time": "2023-04-24T12:24:26.944289Z",
     "end_time": "2023-04-24T12:24:26.944356Z"
    }
   },
   "outputs": [
    {
     "name": "stdout",
     "output_type": "stream",
     "text": [
      "0.2169 \\& 0.6569\n"
     ]
    },
    {
     "data": {
      "text/plain": "(0.21688975949504843, 0.6568885959129862)"
     },
     "execution_count": 21,
     "metadata": {},
     "output_type": "execute_result"
    }
   ],
   "source": [
    "top_n(robo_array, shap_array, 3, 'micro')"
   ]
  },
  {
   "cell_type": "code",
   "execution_count": 22,
   "id": "8f0cf93e",
   "metadata": {
    "ExecuteTime": {
     "start_time": "2023-04-24T12:24:27.061168Z",
     "end_time": "2023-04-24T12:24:27.061229Z"
    }
   },
   "outputs": [
    {
     "name": "stdout",
     "output_type": "stream",
     "text": [
      "0.2288 \\& 0.5764\n"
     ]
    },
    {
     "data": {
      "text/plain": "(0.22879905424772212, 0.5764105651002265)"
     },
     "execution_count": 22,
     "metadata": {},
     "output_type": "execute_result"
    }
   ],
   "source": [
    "top_n(robo_array, shap_array, 3, 'macro')"
   ]
  },
  {
   "cell_type": "code",
   "execution_count": 23,
   "id": "02f5b5f4",
   "metadata": {
    "ExecuteTime": {
     "start_time": "2023-04-24T12:24:27.062462Z",
     "end_time": "2023-04-24T12:24:27.062504Z"
    }
   },
   "outputs": [
    {
     "name": "stdout",
     "output_type": "stream",
     "text": [
      "0.5867 \\& 0.6569\n"
     ]
    },
    {
     "data": {
      "text/plain": "(0.5867384265570343, 0.6568885959129861)"
     },
     "execution_count": 23,
     "metadata": {},
     "output_type": "execute_result"
    }
   ],
   "source": [
    "top_n(robo_array, shap_array, 3, 'weighted')"
   ]
  },
  {
   "cell_type": "code",
   "execution_count": 24,
   "id": "42dae1f9",
   "metadata": {
    "ExecuteTime": {
     "start_time": "2023-04-24T12:24:27.062606Z",
     "end_time": "2023-04-24T12:24:27.062637Z"
    }
   },
   "outputs": [],
   "source": [
    "def top_n_hamming(robo_array, occlusion_array, n):\n",
    "    robo, occlusion=post_process_flags(robo_array, occlusion_array)\n",
    "    for index in range(len(occlusion)):\n",
    "        tce=occlusion[index]\n",
    "        max_contrib=np.argsort(tce)[:n]\n",
    "        #print(max_contrib)\n",
    "        occlusion[index]=np.zeros([5])\n",
    "        occlusion[index][max_contrib]=1\n",
    "        #print(occlusion[index])\n",
    "    weighted_prec=1-hamming_loss(robo, occlusion)\n",
    "    #weighted_rec=recall_score(robo,occlusion, average=average_type)\n",
    "    print(str(np.round(weighted_prec, 4)))\n",
    "    return weighted_prec#, weighted_rec"
   ]
  },
  {
   "cell_type": "code",
   "execution_count": 25,
   "id": "ce641468",
   "metadata": {
    "ExecuteTime": {
     "start_time": "2023-04-24T12:24:27.063266Z",
     "end_time": "2023-04-24T12:24:27.063301Z"
    }
   },
   "outputs": [
    {
     "name": "stdout",
     "output_type": "stream",
     "text": [
      "0.6864\n"
     ]
    },
    {
     "data": {
      "text/plain": "0.6863858961802154"
     },
     "execution_count": 25,
     "metadata": {},
     "output_type": "execute_result"
    }
   ],
   "source": [
    "top_n_hamming(robo_array, shap_array, 1)"
   ]
  },
  {
   "cell_type": "code",
   "execution_count": 26,
   "id": "b2d6bb83",
   "metadata": {
    "ExecuteTime": {
     "start_time": "2023-04-24T12:24:27.064353Z",
     "end_time": "2023-04-24T12:24:27.064386Z"
    }
   },
   "outputs": [
    {
     "name": "stdout",
     "output_type": "stream",
     "text": [
      "0.5765\n"
     ]
    },
    {
     "data": {
      "text/plain": "0.5764936336924584"
     },
     "execution_count": 26,
     "metadata": {},
     "output_type": "execute_result"
    }
   ],
   "source": [
    "top_n_hamming(robo_array, shap_array, 2)"
   ]
  },
  {
   "cell_type": "code",
   "execution_count": 27,
   "id": "7369e936",
   "metadata": {
    "ExecuteTime": {
     "start_time": "2023-04-24T12:24:27.065581Z",
     "end_time": "2023-04-24T12:24:27.065636Z"
    }
   },
   "outputs": [
    {
     "name": "stdout",
     "output_type": "stream",
     "text": [
      "0.4622\n"
     ]
    },
    {
     "data": {
      "text/plain": "0.4621612797910545"
     },
     "execution_count": 27,
     "metadata": {},
     "output_type": "execute_result"
    }
   ],
   "source": [
    "top_n_hamming(robo_array, shap_array, 3)"
   ]
  },
  {
   "cell_type": "code",
   "execution_count": 28,
   "id": "43299ba0",
   "metadata": {
    "ExecuteTime": {
     "start_time": "2023-04-24T12:24:27.065777Z",
     "end_time": "2023-04-24T12:24:27.065809Z"
    }
   },
   "outputs": [],
   "source": [
    "def top_n_acc(robo_array, occlusion_array, n):\n",
    "    robo, occlusion=post_process_flags(robo_array, occlusion_array)\n",
    "    for index in range(len(occlusion)):\n",
    "        tce=occlusion[index]\n",
    "        max_contrib=np.argsort(tce)[:n]\n",
    "        #print(max_contrib)\n",
    "        occlusion[index]=np.zeros([5])\n",
    "        occlusion[index][max_contrib]=1\n",
    "        #print(occlusion[index])\n",
    "    weighted_prec=accuracy_score(robo, occlusion)\n",
    "    #weighted_rec=recall_score(robo,occlusion, average=average_type)\n",
    "    print(str(np.round(weighted_prec, 4)))\n",
    "    return weighted_prec#, weighted_rec"
   ]
  },
  {
   "cell_type": "code",
   "execution_count": 29,
   "id": "91d924fd",
   "metadata": {
    "ExecuteTime": {
     "start_time": "2023-04-24T12:24:27.088950Z",
     "end_time": "2023-04-24T12:24:27.089025Z"
    }
   },
   "outputs": [
    {
     "name": "stdout",
     "output_type": "stream",
     "text": [
      "0.1518\n"
     ]
    },
    {
     "data": {
      "text/plain": "0.15181194906953965"
     },
     "execution_count": 29,
     "metadata": {},
     "output_type": "execute_result"
    }
   ],
   "source": [
    "top_n_acc(robo_array, shap_array, 1)"
   ]
  },
  {
   "cell_type": "code",
   "execution_count": 30,
   "id": "e96454b5",
   "metadata": {
    "ExecuteTime": {
     "start_time": "2023-04-24T12:24:27.090650Z",
     "end_time": "2023-04-24T12:24:27.090696Z"
    }
   },
   "outputs": [
    {
     "name": "stdout",
     "output_type": "stream",
     "text": [
      "0.0062\n"
     ]
    },
    {
     "data": {
      "text/plain": "0.006203068886712374"
     },
     "execution_count": 30,
     "metadata": {},
     "output_type": "execute_result"
    }
   ],
   "source": [
    "top_n_acc(robo_array, shap_array, 2)"
   ]
  },
  {
   "cell_type": "code",
   "execution_count": 31,
   "id": "8cdae015",
   "metadata": {
    "ExecuteTime": {
     "start_time": "2023-04-24T12:24:27.304058Z",
     "end_time": "2023-04-24T12:24:27.304121Z"
    }
   },
   "outputs": [
    {
     "name": "stdout",
     "output_type": "stream",
     "text": [
      "0.0003\n"
     ]
    },
    {
     "data": {
      "text/plain": "0.000326477309826967"
     },
     "execution_count": 31,
     "metadata": {},
     "output_type": "execute_result"
    }
   ],
   "source": [
    "top_n_acc(robo_array, shap_array, 3)"
   ]
  },
  {
   "cell_type": "code",
   "execution_count": 32,
   "id": "38d27ee7",
   "metadata": {
    "ExecuteTime": {
     "start_time": "2023-04-24T12:24:27.304595Z",
     "end_time": "2023-04-24T12:24:27.304630Z"
    }
   },
   "outputs": [],
   "source": [
    "def top_n_jaccard(robo_array, occlusion_array, n, average_type='weighted'):\n",
    "\n",
    "    robo, occlusion=post_process_flags(robo_array, occlusion_array)\n",
    "\n",
    "    for index in range(len(occlusion)):\n",
    "        tce=occlusion[index]\n",
    "        #print(tce)\n",
    "        max_contrib=np.argsort(tce)[:n]\n",
    "        #print(max_contrib)\n",
    "        #print(max_contrib)\n",
    "        occlusion[index]=np.zeros([5])\n",
    "        occlusion[index][max_contrib]=1\n",
    "        #print(occlusion[index])\n",
    "\n",
    "    weighted_prec=jaccard_score(robo, occlusion, average=average_type)\n",
    "    #print(str(np.round(weighted_prec, 4)))\n",
    "    #weighted_rec=recall_score(robo,occlusion, average=average_type)\n",
    "\n",
    "    return weighted_prec#, weighted_rec"
   ]
  },
  {
   "cell_type": "code",
   "execution_count": 33,
   "id": "c0c895f7",
   "metadata": {
    "ExecuteTime": {
     "start_time": "2023-04-24T12:24:27.304822Z",
     "end_time": "2023-04-24T12:24:27.304852Z"
    }
   },
   "outputs": [
    {
     "data": {
      "text/plain": "0.18347251213823546"
     },
     "execution_count": 33,
     "metadata": {},
     "output_type": "execute_result"
    }
   ],
   "source": [
    "top_n_jaccard(robo_array, shap_array, 1)"
   ]
  },
  {
   "cell_type": "code",
   "execution_count": 34,
   "id": "2fae3322",
   "metadata": {
    "ExecuteTime": {
     "start_time": "2023-04-24T12:24:27.305430Z",
     "end_time": "2023-04-24T12:24:27.305496Z"
    }
   },
   "outputs": [
    {
     "data": {
      "text/plain": "0.33645637362530106"
     },
     "execution_count": 34,
     "metadata": {},
     "output_type": "execute_result"
    }
   ],
   "source": [
    "top_n_jaccard(robo_array, shap_array, 2)"
   ]
  },
  {
   "cell_type": "code",
   "execution_count": 35,
   "id": "c5214469",
   "metadata": {
    "ExecuteTime": {
     "start_time": "2023-04-24T12:24:27.305708Z",
     "end_time": "2023-04-24T12:24:27.305748Z"
    }
   },
   "outputs": [
    {
     "data": {
      "text/plain": "0.4388370326955349"
     },
     "execution_count": 35,
     "metadata": {},
     "output_type": "execute_result"
    }
   ],
   "source": [
    "top_n_jaccard(robo_array, shap_array, 3)"
   ]
  },
  {
   "cell_type": "markdown",
   "source": [
    "### Compute precision and recall for each flag"
   ],
   "metadata": {
    "collapsed": false
   }
  },
  {
   "cell_type": "code",
   "execution_count": 36,
   "id": "e56a8033",
   "metadata": {
    "ExecuteTime": {
     "start_time": "2023-04-24T12:24:27.306620Z",
     "end_time": "2023-04-24T12:24:27.306669Z"
    }
   },
   "outputs": [],
   "source": [
    "def per_class_prec_rec_top_n(robo_array, occlusion_array, n, branch_ind):\n",
    "    robo, occlusion=post_process_flags(robo_array, occlusion_array)\n",
    "    for index in range(len(occlusion)):\n",
    "        tce=occlusion[index]\n",
    "        max_contrib=np.argsort(tce)[:n]\n",
    "        occlusion[index]=np.zeros([5])\n",
    "        occlusion[index][max_contrib]=1\n",
    "    robo_branch=np.moveaxis(robo, 0, -1)[branch_ind]\n",
    "    occ_branch=np.moveaxis(occlusion, 0, -1)[branch_ind]\n",
    "    weighted_prec=precision_score(robo_branch, occ_branch)\n",
    "    weighted_rec=recall_score(robo_branch,occ_branch)\n",
    "    print(str(np.round(weighted_prec, 4))+' \\& '+str(np.round(weighted_rec, 4)) )\n",
    "    return weighted_prec, weighted_rec"
   ]
  },
  {
   "cell_type": "markdown",
   "source": [],
   "metadata": {
    "collapsed": false
   }
  },
  {
   "cell_type": "code",
   "execution_count": 37,
   "id": "fe14cc81",
   "metadata": {
    "ExecuteTime": {
     "start_time": "2023-04-24T12:24:27.307449Z",
     "end_time": "2023-04-24T12:24:27.307481Z"
    }
   },
   "outputs": [
    {
     "name": "stdout",
     "output_type": "stream",
     "text": [
      "0.8964 \\& 0.2433\n"
     ]
    },
    {
     "data": {
      "text/plain": "(0.8963730569948186, 0.24331926863572434)"
     },
     "execution_count": 37,
     "metadata": {},
     "output_type": "execute_result"
    }
   ],
   "source": [
    "per_class_prec_rec_top_n(robo_array, shap_array, 1, 0)"
   ]
  },
  {
   "cell_type": "code",
   "execution_count": 38,
   "id": "ff64d4a4",
   "metadata": {
    "ExecuteTime": {
     "start_time": "2023-04-24T12:24:27.371764Z",
     "end_time": "2023-04-24T12:24:27.371829Z"
    }
   },
   "outputs": [
    {
     "name": "stdout",
     "output_type": "stream",
     "text": [
      "0.0185 \\& 0.0456\n"
     ]
    },
    {
     "data": {
      "text/plain": "(0.01854714064914992, 0.045627376425855515)"
     },
     "execution_count": 38,
     "metadata": {},
     "output_type": "execute_result"
    }
   ],
   "source": [
    "per_class_prec_rec_top_n(robo_array, shap_array, 1, 1)"
   ]
  },
  {
   "cell_type": "code",
   "execution_count": 39,
   "id": "15275e20",
   "metadata": {
    "ExecuteTime": {
     "start_time": "2023-04-24T12:24:27.372844Z",
     "end_time": "2023-04-24T12:24:27.372890Z"
    }
   },
   "outputs": [
    {
     "name": "stdout",
     "output_type": "stream",
     "text": [
      "0.0197 \\& 0.4\n"
     ]
    },
    {
     "data": {
      "text/plain": "(0.01972062448644207, 0.4)"
     },
     "execution_count": 39,
     "metadata": {},
     "output_type": "execute_result"
    }
   ],
   "source": [
    "per_class_prec_rec_top_n(robo_array, shap_array, 1, 2)"
   ]
  },
  {
   "cell_type": "code",
   "execution_count": 40,
   "id": "26094bcb",
   "metadata": {
    "ExecuteTime": {
     "start_time": "2023-04-24T12:24:27.373375Z",
     "end_time": "2023-04-24T12:24:27.373408Z"
    }
   },
   "outputs": [
    {
     "name": "stdout",
     "output_type": "stream",
     "text": [
      "0.0779 \\& 0.07\n"
     ]
    },
    {
     "data": {
      "text/plain": "(0.07792207792207792, 0.07003891050583658)"
     },
     "execution_count": 40,
     "metadata": {},
     "output_type": "execute_result"
    }
   ],
   "source": [
    "per_class_prec_rec_top_n(robo_array, shap_array, 1, 3)"
   ]
  },
  {
   "cell_type": "code",
   "execution_count": 41,
   "id": "7bbe9135",
   "metadata": {
    "ExecuteTime": {
     "start_time": "2023-04-24T12:24:27.373699Z",
     "end_time": "2023-04-24T12:24:27.373730Z"
    }
   },
   "outputs": [
    {
     "name": "stdout",
     "output_type": "stream",
     "text": [
      "0.1902 \\& 0.2305\n"
     ]
    },
    {
     "data": {
      "text/plain": "(0.19023136246786632, 0.23052959501557632)"
     },
     "execution_count": 41,
     "metadata": {},
     "output_type": "execute_result"
    }
   ],
   "source": [
    "per_class_prec_rec_top_n(robo_array, shap_array, 1, 4)"
   ]
  },
  {
   "cell_type": "code",
   "execution_count": 42,
   "id": "73660877",
   "metadata": {
    "ExecuteTime": {
     "start_time": "2023-04-24T12:24:27.374130Z",
     "end_time": "2023-04-24T12:24:27.374160Z"
    }
   },
   "outputs": [
    {
     "name": "stdout",
     "output_type": "stream",
     "text": [
      "0.8614 \\& 0.4693\n"
     ]
    },
    {
     "data": {
      "text/plain": "(0.8614457831325302, 0.4692920768870136)"
     },
     "execution_count": 42,
     "metadata": {},
     "output_type": "execute_result"
    }
   ],
   "source": [
    "per_class_prec_rec_top_n(robo_array, shap_array, 2, 0)"
   ]
  },
  {
   "cell_type": "code",
   "execution_count": 43,
   "id": "ba6ee80b",
   "metadata": {
    "ExecuteTime": {
     "start_time": "2023-04-24T12:24:27.643216Z",
     "end_time": "2023-04-24T12:24:27.643280Z"
    }
   },
   "outputs": [
    {
     "name": "stdout",
     "output_type": "stream",
     "text": [
      "0.0219 \\& 0.1141\n"
     ]
    },
    {
     "data": {
      "text/plain": "(0.02191380569758948, 0.11406844106463879)"
     },
     "execution_count": 43,
     "metadata": {},
     "output_type": "execute_result"
    }
   ],
   "source": [
    "per_class_prec_rec_top_n(robo_array, shap_array, 2, 1)"
   ]
  },
  {
   "cell_type": "code",
   "execution_count": 44,
   "id": "1b4444e7",
   "metadata": {
    "ExecuteTime": {
     "start_time": "2023-04-24T12:24:27.643612Z",
     "end_time": "2023-04-24T12:24:27.643645Z"
    }
   },
   "outputs": [
    {
     "name": "stdout",
     "output_type": "stream",
     "text": [
      "0.0137 \\& 0.45\n"
     ]
    },
    {
     "data": {
      "text/plain": "(0.013663967611336033, 0.45)"
     },
     "execution_count": 44,
     "metadata": {},
     "output_type": "execute_result"
    }
   ],
   "source": [
    "per_class_prec_rec_top_n(robo_array, shap_array, 2, 2)"
   ]
  },
  {
   "cell_type": "code",
   "execution_count": 45,
   "id": "91553d51",
   "metadata": {
    "ExecuteTime": {
     "start_time": "2023-04-24T12:24:27.644485Z",
     "end_time": "2023-04-24T12:24:27.644517Z"
    }
   },
   "outputs": [
    {
     "name": "stdout",
     "output_type": "stream",
     "text": [
      "0.1862 \\& 0.4397\n"
     ]
    },
    {
     "data": {
      "text/plain": "(0.18616144975288304, 0.4396887159533074)"
     },
     "execution_count": 45,
     "metadata": {},
     "output_type": "execute_result"
    }
   ],
   "source": [
    "per_class_prec_rec_top_n(robo_array, shap_array, 2, 3)"
   ]
  },
  {
   "cell_type": "code",
   "execution_count": 46,
   "id": "fbc68804",
   "metadata": {
    "ExecuteTime": {
     "start_time": "2023-04-24T12:24:27.645124Z",
     "end_time": "2023-04-24T12:24:27.645156Z"
    }
   },
   "outputs": [
    {
     "name": "stdout",
     "output_type": "stream",
     "text": [
      "0.164 \\& 0.5171\n"
     ]
    },
    {
     "data": {
      "text/plain": "(0.16403162055335968, 0.5171339563862928)"
     },
     "execution_count": 46,
     "metadata": {},
     "output_type": "execute_result"
    }
   ],
   "source": [
    "per_class_prec_rec_top_n(robo_array, shap_array, 2, 4)"
   ]
  },
  {
   "cell_type": "code",
   "execution_count": 47,
   "id": "e3e6cf31",
   "metadata": {
    "ExecuteTime": {
     "start_time": "2023-04-24T12:24:27.646168Z",
     "end_time": "2023-04-24T12:24:27.646198Z"
    }
   },
   "outputs": [
    {
     "name": "stdout",
     "output_type": "stream",
     "text": [
      "0.7888 \\& 0.6882\n"
     ]
    },
    {
     "data": {
      "text/plain": "(0.7888232133261688, 0.6882325363338021)"
     },
     "execution_count": 47,
     "metadata": {},
     "output_type": "execute_result"
    }
   ],
   "source": [
    "per_class_prec_rec_top_n(robo_array, shap_array, 3, 0)"
   ]
  },
  {
   "cell_type": "code",
   "execution_count": 48,
   "id": "c493088c",
   "metadata": {
    "ExecuteTime": {
     "start_time": "2023-04-24T12:24:27.646803Z",
     "end_time": "2023-04-24T12:24:27.646834Z"
    }
   },
   "outputs": [
    {
     "name": "stdout",
     "output_type": "stream",
     "text": [
      "0.0331 \\& 0.2471\n"
     ]
    },
    {
     "data": {
      "text/plain": "(0.03307888040712468, 0.24714828897338403)"
     },
     "execution_count": 48,
     "metadata": {},
     "output_type": "execute_result"
    }
   ],
   "source": [
    "per_class_prec_rec_top_n(robo_array, shap_array, 3, 1)"
   ]
  },
  {
   "cell_type": "code",
   "execution_count": 49,
   "id": "0972d58c",
   "metadata": {
    "ExecuteTime": {
     "start_time": "2023-04-24T12:24:27.647097Z",
     "end_time": "2023-04-24T12:24:27.647127Z"
    }
   },
   "outputs": [
    {
     "name": "stdout",
     "output_type": "stream",
     "text": [
      "0.0115 \\& 0.4667\n"
     ]
    },
    {
     "data": {
      "text/plain": "(0.01154639175257732, 0.4666666666666667)"
     },
     "execution_count": 49,
     "metadata": {},
     "output_type": "execute_result"
    }
   ],
   "source": [
    "per_class_prec_rec_top_n(robo_array, shap_array, 3, 2)"
   ]
  },
  {
   "cell_type": "code",
   "execution_count": 50,
   "id": "090839f8",
   "metadata": {
    "ExecuteTime": {
     "start_time": "2023-04-24T12:24:27.647538Z",
     "end_time": "2023-04-24T12:24:27.647569Z"
    }
   },
   "outputs": [
    {
     "name": "stdout",
     "output_type": "stream",
     "text": [
      "0.1793 \\& 0.6732\n"
     ]
    },
    {
     "data": {
      "text/plain": "(0.17927461139896372, 0.6731517509727627)"
     },
     "execution_count": 50,
     "metadata": {},
     "output_type": "execute_result"
    }
   ],
   "source": [
    "per_class_prec_rec_top_n(robo_array, shap_array, 3, 3)"
   ]
  },
  {
   "cell_type": "code",
   "execution_count": 51,
   "id": "da9b4129",
   "metadata": {
    "ExecuteTime": {
     "start_time": "2023-04-24T12:24:27.670196Z",
     "end_time": "2023-04-24T12:24:27.670256Z"
    }
   },
   "outputs": [
    {
     "name": "stdout",
     "output_type": "stream",
     "text": [
      "0.1313 \\& 0.8069\n"
     ]
    },
    {
     "data": {
      "text/plain": "(0.13127217435377597, 0.8068535825545171)"
     },
     "execution_count": 51,
     "metadata": {},
     "output_type": "execute_result"
    }
   ],
   "source": [
    "per_class_prec_rec_top_n(robo_array, shap_array, 3, 4)"
   ]
  },
  {
   "cell_type": "markdown",
   "source": [
    "### Plot precision and recall as function of top-n"
   ],
   "metadata": {
    "collapsed": false
   }
  },
  {
   "cell_type": "code",
   "execution_count": 52,
   "id": "b69dcf3f",
   "metadata": {
    "ExecuteTime": {
     "start_time": "2023-04-24T12:24:27.672211Z",
     "end_time": "2023-04-24T12:24:27.672255Z"
    }
   },
   "outputs": [
    {
     "name": "stdout",
     "output_type": "stream",
     "text": [
      "0.2112 \\& 0.2132\n",
      "0.2183 \\& 0.4407\n",
      "0.2169 \\& 0.6569\n",
      "0.2156 \\& 0.8708\n",
      "0.1981 \\& 1.0\n"
     ]
    }
   ],
   "source": [
    "prec_vals=[]\n",
    "rec_vals=[]\n",
    "for n in range(1,6):\n",
    "    prec, rec=top_n(robo_array, shap_array, n, 'micro')\n",
    "    prec_vals.append(prec)\n",
    "    rec_vals.append(rec)"
   ]
  },
  {
   "cell_type": "code",
   "execution_count": 53,
   "id": "413781b0",
   "metadata": {
    "ExecuteTime": {
     "start_time": "2023-04-24T12:24:28.005770Z",
     "end_time": "2023-04-24T12:24:28.005847Z"
    }
   },
   "outputs": [
    {
     "data": {
      "text/plain": "Text(0.5, 0, 'Top n')"
     },
     "execution_count": 53,
     "metadata": {},
     "output_type": "execute_result"
    },
    {
     "data": {
      "text/plain": "<Figure size 432x288 with 1 Axes>",
      "image/png": "[encoded data removed]"
     },
     "metadata": {
      "needs_background": "light"
     },
     "output_type": "display_data"
    }
   ],
   "source": [
    "f, ax = plt.subplots()\n",
    "ax.scatter(np.arange(1,6), prec_vals, label='Precision')\n",
    "ax.scatter(np.arange(1,6), rec_vals, label='Recall')\n",
    "ax.legend()\n",
    "ax.set_xlabel('Top n')\n",
    "# plt.title('Micro Precision and Recall for Top n labeled with Simple Shap')"
   ]
  },
  {
   "cell_type": "code",
   "execution_count": 13,
   "id": "ea319c59",
   "metadata": {},
   "outputs": [
    {
     "data": {
      "text/plain": [
       "(array([[0, 0, 0, 0, 0],\n",
       "        [0, 0, 0, 0, 0],\n",
       "        [0, 0, 0, 0, 0],\n",
       "        ...,\n",
       "        [1, 1, 0, 0, 0],\n",
       "        [0, 0, 0, 0, 0],\n",
       "        [0, 0, 0, 0, 0]]),\n",
       " array([[ 0.16874212,  0.1382109 ,  0.1738901 ,  0.05635251,  0.18593534],\n",
       "        [ 0.16825878,  0.12522594,  0.17546416,  0.09401524,  0.19147571],\n",
       "        [ 0.15734226,  0.13278777,  0.16170654,  0.10130111,  0.17128954],\n",
       "        ...,\n",
       "        [-0.0223876 ,  0.01602946, -0.02239072, -0.02234536, -0.02230279],\n",
       "        [-0.0369461 , -0.0369461 , -0.03694384,  0.02753638, -0.03596524],\n",
       "        [-0.02930534, -0.02925463, -0.02930531,  0.07001121, -0.02870717]]))"
      ]
     },
     "execution_count": 13,
     "metadata": {},
     "output_type": "execute_result"
    }
   ],
   "source": [
    "post_process_flags(robo_array, shap_array)"
   ]
  },
  {
   "cell_type": "code",
   "execution_count": 19,
   "id": "53b2e910",
   "metadata": {},
   "outputs": [],
   "source": [
    "shap_array=np.array(test_csv[test_csv.columns[4:11]])"
   ]
  },
  {
   "cell_type": "code",
   "execution_count": 20,
   "id": "cd6d44a2",
   "metadata": {},
   "outputs": [],
   "source": [
    "robo_array=np.array(test_csv[test_csv.columns[20:]])"
   ]
  },
  {
   "cell_type": "markdown",
   "source": [
    "### Compute precision and recall as function of threshold instead of top-n"
   ],
   "metadata": {
    "collapsed": false
   }
  },
  {
   "cell_type": "code",
   "execution_count": 54,
   "id": "56f8db9f",
   "metadata": {
    "ExecuteTime": {
     "start_time": "2023-04-24T12:24:32.720572Z",
     "end_time": "2023-04-24T12:24:32.720659Z"
    }
   },
   "outputs": [],
   "source": [
    "def threshold_occlusion(threshold, average_type='weighted'):\n",
    "    #shap_array=np.array(test_csv[test_csv.columns[4:11]])\n",
    "    #robo_array=np.array(test_csv[test_csv.columns[20:]])\n",
    "    shap_array=np.array(test_csv[test_csv.columns[11:18]])\n",
    "    robo_array=np.array(test_csv[test_csv.columns[27:]])\n",
    "    robo, occlusion=post_process_flags(robo_array, shap_array)\n",
    "    #print(occlusion)\n",
    "    #print(len(occlusion))\n",
    "    for index in range(len(occlusion)):\n",
    "        # tce=occlusion[index]\n",
    "       # print(threshold)\n",
    "        #print(occlusion[index])\n",
    "        occlusion[index]=np.where(occlusion[index]<-1*threshold, 1, 0)\n",
    "        \n",
    "    #$print(occlusion)\n",
    "    weighted_prec=precision_score(robo, occlusion, average=average_type, zero_division=0)\n",
    "    weighted_rec=recall_score(robo,occlusion, average=average_type, zero_division=0)\n",
    "    return weighted_prec, weighted_rec"
   ]
  },
  {
   "cell_type": "code",
   "execution_count": 55,
   "id": "caee8140",
   "metadata": {
    "ExecuteTime": {
     "start_time": "2023-04-24T12:24:39.183185Z",
     "end_time": "2023-04-24T12:24:39.183288Z"
    }
   },
   "outputs": [],
   "source": [
    "prec_vals=[]\n",
    "rec_vals=[]\n",
    "average_type = 'micro'\n",
    "for i in np.linspace(0, 1, 200):\n",
    "    prec, rec=threshold_occlusion(i, average_type=average_type)\n",
    "    prec_vals.append(prec)\n",
    "    rec_vals.append(rec)"
   ]
  },
  {
   "cell_type": "code",
   "execution_count": 56,
   "id": "1f3bb5d4",
   "metadata": {
    "ExecuteTime": {
     "start_time": "2023-04-24T12:24:40.056969Z",
     "end_time": "2023-04-24T12:24:40.057077Z"
    }
   },
   "outputs": [
    {
     "data": {
      "text/plain": "Text(0.5, 0, 'Threshold')"
     },
     "execution_count": 56,
     "metadata": {},
     "output_type": "execute_result"
    },
    {
     "data": {
      "text/plain": "<Figure size 432x288 with 1 Axes>",
      "image/png": "[encoded data removed]"
     },
     "metadata": {
      "needs_background": "light"
     },
     "output_type": "display_data"
    }
   ],
   "source": [
    "plt.plot(np.linspace(0, 1, 200), prec_vals, label='Precision')\n",
    "plt.plot(np.linspace(0, 1, 200), rec_vals, label='Recall')\n",
    "plt.legend()\n",
    "#plt.ylim([0, 1])\n",
    "plt.xlabel('Threshold')\n",
    "# plt.title('Weighted Precision and Recall vs. Threshold for Full Shap')"
   ]
  },
  {
   "cell_type": "code",
   "execution_count": 21,
   "id": "781c96f2",
   "metadata": {},
   "outputs": [
    {
     "data": {
      "text/plain": [
       "Text(0.5, 1.0, 'Weighted Precision and Recall vs. Threshold for Simple Shap')"
      ]
     },
     "execution_count": 21,
     "metadata": {},
     "output_type": "execute_result"
    },
    {
     "data": {
      "image/png": "[encoded data removed]",
      "text/plain": [
       "<Figure size 432x288 with 1 Axes>"
      ]
     },
     "metadata": {
      "needs_background": "light"
     },
     "output_type": "display_data"
    }
   ],
   "source": [
    "plt.plot(np.linspace(0, 1, 200), prec_vals, label='Precision')\n",
    "plt.plot(np.linspace(0, 1, 200), rec_vals, label='Recall')\n",
    "plt.legend()\n",
    "#plt.ylim([0, 1])\n",
    "plt.xlabel('Threshold')\n",
    "# plt.title('Weighted Precision and Recall vs. Threshold for Simple Shap')"
   ]
  },
  {
   "cell_type": "code",
   "execution_count": 22,
   "id": "312bfb24",
   "metadata": {},
   "outputs": [],
   "source": [
    "np.save('/nobackup/khauskne/kdd/prec_thresh_simpleshap.npy',[np.linspace(0, 1, 200), prec_vals])\n",
    "np.save('/nobackup/khauskne/kdd/rec_thresh_simpleshap.npy',[np.linspace(0, 1, 200), rec_vals])"
   ]
  },
  {
   "cell_type": "code",
   "execution_count": 65,
   "id": "52f776d7",
   "metadata": {},
   "outputs": [
    {
     "data": {
      "text/plain": [
       "Text(0.5, 1.0, 'Weighted Precision and Recall vs. Threshold for Simple Shap')"
      ]
     },
     "execution_count": 65,
     "metadata": {},
     "output_type": "execute_result"
    },
    {
     "data": {
      "image/png": "[encoded data removed]",
      "text/plain": [
       "<Figure size 432x288 with 1 Axes>"
      ]
     },
     "metadata": {
      "needs_background": "light"
     },
     "output_type": "display_data"
    }
   ],
   "source": [
    "plt.plot(np.linspace(0, 1, 5000), prec_vals, label='Precision')\n",
    "plt.plot(np.linspace(0, 1, 5000), rec_vals, label='Recall')\n",
    "plt.legend()\n",
    "#plt.ylim([0, 1])\n",
    "plt.xlabel('Threshold')\n",
    "plt.title('Weighted Precision and Recall vs. Threshold for Simple Shap')"
   ]
  },
  {
   "cell_type": "code",
   "execution_count": 66,
   "id": "cddf74d4",
   "metadata": {},
   "outputs": [],
   "source": [
    "prec_vals=[]\n",
    "rec_vals=[]\n",
    "for i in np.logspace(-10, 0, 5000):\n",
    "    prec, rec=threshold_occlusion(i)\n",
    "    prec_vals.append(prec)\n",
    "    rec_vals.append(rec)"
   ]
  },
  {
   "cell_type": "code",
   "execution_count": 68,
   "id": "c2ac553a",
   "metadata": {},
   "outputs": [
    {
     "data": {
      "text/plain": [
       "Text(0.5, 1.0, 'Weighted Precision and Recall vs. Threshold for Simple Shap')"
      ]
     },
     "execution_count": 68,
     "metadata": {},
     "output_type": "execute_result"
    },
    {
     "data": {
      "image/png": "[encoded data removed]",
      "text/plain": [
       "<Figure size 432x288 with 1 Axes>"
      ]
     },
     "metadata": {
      "needs_background": "light"
     },
     "output_type": "display_data"
    }
   ],
   "source": [
    "plt.plot(np.logspace(-10, 0, 5000), prec_vals, label='Precision')\n",
    "plt.plot(np.logspace(-10, 0, 5000), rec_vals, label='Recall')\n",
    "plt.legend()\n",
    "plt.xscale('log')\n",
    "plt.ylim([0, 1])\n",
    "plt.xlabel('Threshold')\n",
    "plt.title('Weighted Precision and Recall vs. Threshold for Simple Shap')"
   ]
  },
  {
   "cell_type": "markdown",
   "id": "7927f090",
   "metadata": {},
   "source": [
    "Issue of what if no branches are flagged by Robovetter? \n",
    "1) should we change/add a new metric to look only at cases where robovetter flags something\n",
    "2) should we change the way we're doing this by introducing a threshold so that it can be completely analogous to the way we're doing our explainability?\n",
    "3) should we add a new metric to analyze our explainability with where we only look at the maximally contributing branch in every case?"
   ]
  },
  {
   "cell_type": "markdown",
   "id": "0a14819e",
   "metadata": {},
   "source": [
    "# Percentage of cases where there is at least one robovetter flag on that the maximally contributing branch (found via occlusion) agrees with one of the Robovetter flags"
   ]
  },
  {
   "cell_type": "code",
   "execution_count": 26,
   "id": "7156e060",
   "metadata": {},
   "outputs": [
    {
     "name": "stdout",
     "output_type": "stream",
     "text": [
      "0.5834677419354839\n"
     ]
    }
   ],
   "source": [
    "occlusion_array=np.array(test_csv[test_csv.columns[8:15]])\n",
    "robo_array=np.array(test_csv[test_csv.columns[24:]])\n",
    "num=0\n",
    "denom=0\n",
    "for index in range(len(occlusion_array)):\n",
    "    tce=occlusion_array[index]\n",
    "    max_contrib=np.argmax(tce)\n",
    "    #print(max_contrib)\n",
    "    robo_flags_on=np.where(robo_array[index]==1)[0]\n",
    "    if (np.shape(robo_flags_on)[0]>0):\n",
    "        denom=denom+1\n",
    "        if (max_contrib in robo_flags_on):\n",
    "            num=num+1\n",
    "        elif (1 in robo_flags_on):\n",
    "            if (max_contrib==0):\n",
    "                num=num+1\n",
    "print(num/denom)"
   ]
  },
  {
   "cell_type": "code",
   "execution_count": null,
   "id": "996f771f",
   "metadata": {},
   "outputs": [],
   "source": []
  },
  {
   "cell_type": "markdown",
   "id": "fff794a9",
   "metadata": {},
   "source": [
    "# Percentage of cases where there is at least one robovetter flag on that the top two maximally contributing branch (found via occlusion) agrees with one of the Robovetter flags"
   ]
  },
  {
   "cell_type": "code",
   "execution_count": 36,
   "id": "0e296a72",
   "metadata": {},
   "outputs": [
    {
     "name": "stdout",
     "output_type": "stream",
     "text": [
      "0.8330645161290322\n"
     ]
    }
   ],
   "source": [
    "occlusion_array=np.array(test_csv[test_csv.columns[8:15]])\n",
    "robo_array=np.array(test_csv[test_csv.columns[24:]])\n",
    "num=0\n",
    "denom=0\n",
    "for index in range(len(occlusion_array)):\n",
    "    tce=occlusion_array[index]\n",
    "    max_contrib=np.argsort(tce)[-2:]\n",
    "    robo_flags_on=np.where(robo_array[index]==1)[0]\n",
    "    \n",
    "    if (np.shape(robo_flags_on)[0]>0):\n",
    "        denom=denom+1\n",
    "        common_flags=np.intersect1d(robo_flags_on, max_contrib)\n",
    "        if (np.shape(common_flags)[0]>0):\n",
    "            num=num+1\n",
    "        elif (1 in robo_flags_on):\n",
    "            #print(robo_flags_on)\n",
    "            if (0 in max_contrib):\n",
    "               # print(max_contrib)\n",
    "                num=num+1\n",
    "print(num/denom)"
   ]
  },
  {
   "cell_type": "markdown",
   "id": "b3fd423d",
   "metadata": {},
   "source": [
    "## Comparison of Occlusion and Our Methodology"
   ]
  },
  {
   "cell_type": "code",
   "execution_count": 70,
   "id": "bea25ed4",
   "metadata": {},
   "outputs": [],
   "source": [
    "def apply_statistics(branches, files, num_PCs):\n",
    "    new_csv=files[0].copy()\n",
    "    new_csv.pop('Unnamed: 0')\n",
    "    for branch in branches:\n",
    "        all_scores=np.zeros(tuple((num_PCs, np.shape(files[0])[0])))\n",
    "        for example in range(len(files)):\n",
    "            all_scores[example]=files[example][branch]\n",
    "        col_index=new_csv.columns.get_loc(branch)\n",
    "        new_csv[branch]=np.mean(all_scores, axis=0)\n",
    "        new_csv.insert(col_index+1, branch+' Std', np.std(all_scores, axis=0))\n",
    "        new_csv.insert(col_index+1, branch+' Max', np.max(all_scores, axis=0))\n",
    "        new_csv.insert(col_index+1, branch+' Min', np.min(all_scores, axis=0))\n",
    "        new_csv.insert(col_index+1, branch+' Med', np.median(all_scores, axis=0))\n",
    "        new_csv.insert(col_index+1, branch+' Mean+Std', np.mean(all_scores, axis=0)+np.std(all_scores, axis=0))\n",
    "        new_csv.insert(col_index+1, branch+' Mean-Std', np.mean(all_scores, axis=0)-np.std(all_scores, axis=0))\n",
    "    return new_csv\n",
    "\n",
    "\n",
    "\n",
    "def evaluate_mean(csv, branches):\n",
    "    csv=pd.merge(csv, robo_flags, on=['target_id', 'tce_plnt_num'])\n",
    "    robo=np.array(csv[csv.columns[-7:]])\n",
    "    reduced_csv=csv\n",
    "    branch_explanation=np.zeros([len(branches), len(csv)])\n",
    "    for i in range(len(branches)):\n",
    "        branch_explanation[i]=(reduced_csv[branches[i]]<-0.5)\n",
    "    branch_explanation=np.moveaxis(branch_explanation, 0, -1)\n",
    "    \n",
    "    mean_dict={'target_id': csv['target_id'], 'tce_plnt_num': csv['tce_plnt_num'], 'original_label':csv['original_label'],\n",
    "              'full_score': csv['full score'], 'minor_flags':csv['Minor_Descriptive_Flags'],'branch_explanations': branch_explanation, 'robo_flags': robo}\n",
    "    return mean_dict\n",
    "\n",
    "def evaluate_min(csv, branches):\n",
    "    csv=pd.merge(csv, robo_flags, on=['target_id', 'tce_plnt_num'])\n",
    "    robo=np.array(csv[csv.columns[-7:]])\n",
    "    reduced_csv=csv\n",
    "    branch_explanation=np.zeros([len(branches), len(csv)])\n",
    "    for i in range(len(branches)):\n",
    "        branch_explanation[i]=(reduced_csv[branches[i]+ ' Min']<-0.5)\n",
    "    branch_explanation=np.moveaxis(branch_explanation, 0, -1)\n",
    "    mean_dict={'target_id': csv['target_id'], 'tce_plnt_num': csv['tce_plnt_num'], 'original_label':csv['original_label'],\n",
    "              'full_score': csv['full score'],  'minor_flags':csv['Minor_Descriptive_Flags'], 'branch_explanations': branch_explanation, 'robo_flags': robo}\n",
    "    return mean_dict\n",
    "\n",
    "def evaluate_max(csv, branches):\n",
    "    csv=pd.merge(csv, robo_flags, on=['target_id', 'tce_plnt_num'])\n",
    "    robo=np.array(csv[csv.columns[-7:]])\n",
    "    reduced_csv=csv\n",
    "    branch_explanation=np.zeros([len(branches), len(csv)])\n",
    "    for i in range(len(branches)):\n",
    "        branch_explanation[i]=(reduced_csv[branches[i]+ ' Max']<-0.5)\n",
    "    branch_explanation=np.moveaxis(branch_explanation, 0, -1)\n",
    "    \n",
    "    mean_dict={'target_id': csv['target_id'], 'tce_plnt_num': csv['tce_plnt_num'], 'original_label':csv['original_label'],\n",
    "              'full_score': csv['full score'],  'minor_flags':csv['Minor_Descriptive_Flags'], 'branch_explanations': branch_explanation, 'robo_flags': robo}\n",
    "    return mean_dict\n",
    "\n",
    "def evaluate_med(csv, branches):\n",
    "    csv=pd.merge(csv, robo_flags, on=['target_id', 'tce_plnt_num'])\n",
    "    robo=np.array(csv[csv.columns[-7:]])\n",
    "    reduced_csv=csv\n",
    "    branch_explanation=np.zeros([len(branches), len(csv)])\n",
    "    for i in range(len(branches)):\n",
    "        branch_explanation[i]=(reduced_csv[branches[i]+ ' Med']<-0.5)\n",
    "    branch_explanation=np.moveaxis(branch_explanation, 0, -1)\n",
    "    csv=pd.merge(csv, robo_flags, on=['target_id', 'tce_plnt_num'])\n",
    "    mean_dict={'target_id': csv['target_id'], 'tce_plnt_num': csv['tce_plnt_num'], 'original_label':csv['original_label'],\n",
    "              'full_score': csv['full score'],  'minor_flags':csv['Minor_Descriptive_Flags'], 'branch_explanations': branch_explanation, 'robo_flags': robo}\n",
    "    return mean_dict\n"
   ]
  },
  {
   "cell_type": "code",
   "execution_count": 85,
   "id": "587103bd",
   "metadata": {},
   "outputs": [],
   "source": [
    "def get_csv_with_stat(num_PCs, trial):\n",
    "    run='/nobackup/khauskne/kdd/explainability_runs/exp_'+str(num_PCs)+'_PCs_trial_'+str(trial)+'/'\n",
    "    all_train_groups=[]\n",
    "    for index in range(num_PCs):\n",
    "        train_group=pd.read_csv(run+'train_top_'+str(index)+'.csv')\n",
    "        all_train_groups.append(train_group)\n",
    "    \n",
    "\n",
    "    all_val_groups=[]\n",
    "    for index in range(num_PCs):\n",
    "        val_group=pd.read_csv(run+'val_top_'+str(index)+'.csv')\n",
    "        all_val_groups.append(val_group)\n",
    "\n",
    "    all_test_groups=[]\n",
    "    for index in range(num_PCs):\n",
    "        test_group=pd.read_csv(run+'test_top_'+str(index)+'.csv')\n",
    "        all_test_groups.append(test_group)\n",
    "\n",
    "    branches=['Global Flux', 'Local Flux', 'Centroid', 'Odd Even', 'Secondary', 'Stellar', 'DV']\n",
    "    train_statistics=apply_statistics(branches, all_train_groups, num_PCs)\n",
    "    val_statistics=apply_statistics(branches, all_val_groups, num_PCs)\n",
    "    test_statistics=apply_statistics(branches, all_test_groups, num_PCs)\n",
    "    return train_statistics[['Global Flux Min', 'Local Flux Min', 'Centroid Min', 'Odd Even Min',\n",
    "                                         'Secondary Min', 'Stellar Min', 'DV Min']], val_statistics[['Global Flux Min', 'Local Flux Min', 'Centroid Min', 'Odd Even Min',\n",
    "                                         'Secondary Min', 'Stellar Min', 'DV Min']], test_statistics[['Global Flux Min', 'Local Flux Min', 'Centroid Min', 'Odd Even Min',\n",
    "                                         'Secondary Min', 'Stellar Min', 'DV Min']]"
   ]
  },
  {
   "cell_type": "code",
   "execution_count": 159,
   "id": "13d91266",
   "metadata": {},
   "outputs": [],
   "source": [
    "num_PCs=np.shape(np.where(test_csv['original_label']=='PC')[0])[0]\n",
    "total_test=np.shape(test_csv)[0]\n",
    "threshold_vals=np.logspace(-9, 0, 1000)"
   ]
  },
  {
   "cell_type": "code",
   "execution_count": 160,
   "id": "26cf39ca",
   "metadata": {},
   "outputs": [],
   "source": [
    "num_flagged=[]\n",
    "for i in threshold_vals:\n",
    "    threshold_flagged=np.shape(np.unique(np.where(test_csv[test_csv.columns[8:15]]>i)[0]))[0]\n",
    "    num_flagged.append(threshold_flagged)\n",
    "num_flagged=np.array(num_flagged)"
   ]
  },
  {
   "cell_type": "code",
   "execution_count": 161,
   "id": "23c443db",
   "metadata": {},
   "outputs": [],
   "source": [
    "test_new_exp=get_csv_with_stat(15, 2)[2]"
   ]
  },
  {
   "cell_type": "code",
   "execution_count": 162,
   "id": "756473fd",
   "metadata": {},
   "outputs": [],
   "source": [
    "num_flagged_new_exp=[]\n",
    "for i in threshold_vals:\n",
    "    threshold_flagged=np.shape(np.unique(np.where(test_new_exp<-1*i)[0]))[0]\n",
    "    num_flagged_new_exp.append(threshold_flagged)\n",
    "num_flagged_new_exp=np.array(num_flagged_new_exp)"
   ]
  },
  {
   "cell_type": "code",
   "execution_count": 168,
   "id": "fec168c0",
   "metadata": {},
   "outputs": [
    {
     "data": {
      "text/plain": [
       "<matplotlib.legend.Legend at 0x2aab5f810910>"
      ]
     },
     "execution_count": 168,
     "metadata": {},
     "output_type": "execute_result"
    },
    {
     "data": {
      "image/png": "[encoded data removed]",
      "text/plain": [
       "<Figure size 432x288 with 1 Axes>"
      ]
     },
     "metadata": {
      "needs_background": "light"
     },
     "output_type": "display_data"
    }
   ],
   "source": [
    "plt.title('Percentage of TCEs flagged at Different Thresholds')\n",
    "plt.xlabel('Threshold for Labeling')\n",
    "plt.ylabel('Percentage of TCEs flagged')\n",
    "\n",
    "\n",
    "\n",
    "plt.loglog(threshold_vals, num_flagged_new_exp/total_test, 'o', label='New Explainability')\n",
    "plt.loglog(threshold_vals, num_flagged/total_test, 'o', label='Occlusion')\n",
    "plt.axhline(1-(num_PCs/total_test), color='r', label='Percentage of FPs')\n",
    "plt.legend()\n",
    "#plt.scatter(threshold_vals, num_flagged_new_exp/total_test)\n",
    "#plt.scatter(threshold_vals, num_flagged/total_test)\n"
   ]
  },
  {
   "cell_type": "code",
   "execution_count": 169,
   "id": "30f2c98f",
   "metadata": {},
   "outputs": [],
   "source": [
    "num_PCs=np.shape(np.where(test_csv['original_label']=='PC')[0])[0]\n",
    "total_test=np.shape(test_csv)[0]\n",
    "threshold_vals=np.linspace(0, 1, 10000)"
   ]
  },
  {
   "cell_type": "code",
   "execution_count": 170,
   "id": "3205cf54",
   "metadata": {},
   "outputs": [],
   "source": [
    "num_flagged=[]\n",
    "for i in threshold_vals:\n",
    "    threshold_flagged=np.shape(np.unique(np.where(test_csv[test_csv.columns[8:15]]>i)[0]))[0]\n",
    "    num_flagged.append(threshold_flagged)\n",
    "num_flagged=np.array(num_flagged)"
   ]
  },
  {
   "cell_type": "code",
   "execution_count": 171,
   "id": "15351d5a",
   "metadata": {},
   "outputs": [],
   "source": [
    "test_new_exp=get_csv_with_stat(10, 2)[2]"
   ]
  },
  {
   "cell_type": "code",
   "execution_count": 172,
   "id": "35cbd5e3",
   "metadata": {},
   "outputs": [],
   "source": [
    "num_flagged_new_exp=[]\n",
    "for i in threshold_vals:\n",
    "    threshold_flagged=np.shape(np.unique(np.where(test_new_exp<-1*i)[0]))[0]\n",
    "    num_flagged_new_exp.append(threshold_flagged)\n",
    "num_flagged_new_exp=np.array(num_flagged_new_exp)"
   ]
  },
  {
   "cell_type": "code",
   "execution_count": 174,
   "id": "00747c38",
   "metadata": {},
   "outputs": [
    {
     "data": {
      "text/plain": [
       "<matplotlib.legend.Legend at 0x2aab5f8f8f40>"
      ]
     },
     "execution_count": 174,
     "metadata": {},
     "output_type": "execute_result"
    },
    {
     "data": {
      "image/png": "[encoded data removed]",
      "text/plain": [
       "<Figure size 432x288 with 1 Axes>"
      ]
     },
     "metadata": {
      "needs_background": "light"
     },
     "output_type": "display_data"
    }
   ],
   "source": [
    "plt.title('Percentage of TCEs flagged at Different Thresholds')\n",
    "plt.xlabel('Threshold for Labeling')\n",
    "plt.ylabel('Percentage of TCEs flagged')\n",
    "\n",
    "#plt.loglog(threshold_vals, num_flagged_new_exp/total_test, 'o')\n",
    "#plt.loglog(threshold_vals, num_flagged/total_test, 'o')\n",
    "\n",
    "plt.scatter(threshold_vals, num_flagged_new_exp/total_test, label='New Explainability')\n",
    "plt.scatter(threshold_vals, num_flagged/total_test, label='Occlusion')\n",
    "plt.axhline(1-(num_PCs/total_test), label='Percentage of FPs')\n",
    "plt.legend()"
   ]
  },
  {
   "cell_type": "code",
   "execution_count": null,
   "id": "6014e3d0",
   "metadata": {},
   "outputs": [],
   "source": []
  }
 ],
 "metadata": {
  "kernelspec": {
   "display_name": "Python 3 (ipykernel)",
   "language": "python",
   "name": "python3"
  },
  "language_info": {
   "codemirror_mode": {
    "name": "ipython",
    "version": 3
   },
   "file_extension": ".py",
   "mimetype": "text/x-python",
   "name": "python",
   "nbconvert_exporter": "python",
   "pygments_lexer": "ipython3",
   "version": "3.8.5"
  }
 },
 "nbformat": 4,
 "nbformat_minor": 5
}
