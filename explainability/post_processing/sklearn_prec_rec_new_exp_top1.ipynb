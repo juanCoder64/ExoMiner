{
 "cells": [
  {
   "cell_type": "code",
   "execution_count": 1,
   "id": "0783d163",
   "metadata": {
    "pycharm": {
     "name": "#%%\n"
    }
   },
   "outputs": [
    {
     "name": "stdout",
     "output_type": "stream",
     "text": [
      "Populating the interactive namespace from numpy and matplotlib\n"
     ]
    }
   ],
   "source": [
    "import pandas as pd\n",
    "from sklearn.metrics import precision_score\n",
    "from sklearn.metrics import recall_score\n",
    "from sklearn.metrics import jaccard_score\n",
    "from sklearn.metrics import accuracy_score\n",
    "from sklearn.metrics import hamming_loss\n",
    "%pylab inline"
   ]
  },
  {
   "cell_type": "code",
   "execution_count": 2,
   "id": "c07f3bb3",
   "metadata": {
    "pycharm": {
     "name": "#%%\n"
    }
   },
   "outputs": [],
   "source": [
    "robo_flags=pd.read_csv('/nobackup/khauskne/kdd/robovetter_flags_all_DR25.csv')"
   ]
  },
  {
   "cell_type": "code",
   "execution_count": 3,
   "id": "508e1890",
   "metadata": {
    "pycharm": {
     "name": "#%%\n"
    }
   },
   "outputs": [],
   "source": [
    "def apply_statistics(branches, files, num_PCs):\n",
    "    new_csv=files[0].copy()\n",
    "    new_csv.pop('Unnamed: 0')\n",
    "    for branch in branches:\n",
    "        all_scores=np.zeros(tuple((num_PCs, np.shape(files[0])[0])))\n",
    "        for example in range(len(files)):\n",
    "            all_scores[example]=files[example][branch]\n",
    "        col_index=new_csv.columns.get_loc(branch)\n",
    "        new_csv[branch]=np.mean(all_scores, axis=0)\n",
    "        new_csv.insert(col_index+1, branch+' Std', np.std(all_scores, axis=0))\n",
    "        new_csv.insert(col_index+1, branch+' Max', np.max(all_scores, axis=0))\n",
    "        new_csv.insert(col_index+1, branch+' Min', np.min(all_scores, axis=0))\n",
    "        new_csv.insert(col_index+1, branch+' Med', np.median(all_scores, axis=0))\n",
    "        new_csv.insert(col_index+1, branch+' Mean+Std', np.mean(all_scores, axis=0)+np.std(all_scores, axis=0))\n",
    "        new_csv.insert(col_index+1, branch+' Mean-Std', np.mean(all_scores, axis=0)-np.std(all_scores, axis=0))\n",
    "    return new_csv\n",
    "\n",
    "\n",
    "\n",
    "def evaluate_mean(csv, branches):\n",
    "    csv=pd.merge(csv, robo_flags, on=['target_id', 'tce_plnt_num'])\n",
    "    robo=np.array(csv[csv.columns[-7:]])\n",
    "    reduced_csv=csv\n",
    "    branch_explanation=np.zeros([len(branches), len(csv)])\n",
    "    for i in range(len(branches)):\n",
    "        branch_explanation[i]=(reduced_csv[branches[i]]<-0.5)\n",
    "    branch_explanation=np.moveaxis(branch_explanation, 0, -1)\n",
    "    \n",
    "    mean_dict={'target_id': csv['target_id'], 'tce_plnt_num': csv['tce_plnt_num'], 'original_label':csv['original_label'],\n",
    "              'full_score': csv['full score'], 'minor_flags':csv['Minor_Descriptive_Flags'],'branch_explanations': branch_explanation, 'robo_flags': robo}\n",
    "    return mean_dict\n",
    "\n",
    "def evaluate_min(csv, branches):\n",
    "    csv=pd.merge(csv, robo_flags, on=['target_id', 'tce_plnt_num'])\n",
    "    robo=np.array(csv[csv.columns[-7:]])\n",
    "    reduced_csv=csv\n",
    "    branch_explanation=np.zeros([len(branches), len(csv)])\n",
    "    for i in range(len(branches)):\n",
    "        branch_explanation[i]=(reduced_csv[branches[i]+ ' Min']<-0.5)\n",
    "    branch_explanation=np.moveaxis(branch_explanation, 0, -1)\n",
    "    mean_dict={'target_id': csv['target_id'], 'tce_plnt_num': csv['tce_plnt_num'], 'original_label':csv['original_label'],\n",
    "              'full_score': csv['full score'],  'minor_flags':csv['Minor_Descriptive_Flags'], 'branch_explanations': branch_explanation, 'robo_flags': robo}\n",
    "    return mean_dict\n",
    "\n",
    "def evaluate_max(csv, branches):\n",
    "    csv=pd.merge(csv, robo_flags, on=['target_id', 'tce_plnt_num'])\n",
    "    robo=np.array(csv[csv.columns[-7:]])\n",
    "    reduced_csv=csv\n",
    "    branch_explanation=np.zeros([len(branches), len(csv)])\n",
    "    for i in range(len(branches)):\n",
    "        branch_explanation[i]=(reduced_csv[branches[i]+ ' Max']<-0.5)\n",
    "    branch_explanation=np.moveaxis(branch_explanation, 0, -1)\n",
    "    \n",
    "    mean_dict={'target_id': csv['target_id'], 'tce_plnt_num': csv['tce_plnt_num'], 'original_label':csv['original_label'],\n",
    "              'full_score': csv['full score'],  'minor_flags':csv['Minor_Descriptive_Flags'], 'branch_explanations': branch_explanation, 'robo_flags': robo}\n",
    "    return mean_dict\n",
    "\n",
    "def evaluate_med(csv, branches):\n",
    "    csv=pd.merge(csv, robo_flags, on=['target_id', 'tce_plnt_num'])\n",
    "    robo=np.array(csv[csv.columns[-7:]])\n",
    "    reduced_csv=csv\n",
    "    branch_explanation=np.zeros([len(branches), len(csv)])\n",
    "    for i in range(len(branches)):\n",
    "        branch_explanation[i]=(reduced_csv[branches[i]+ ' Med']<-0.5)\n",
    "    branch_explanation=np.moveaxis(branch_explanation, 0, -1)\n",
    "    csv=pd.merge(csv, robo_flags, on=['target_id', 'tce_plnt_num'])\n",
    "    mean_dict={'target_id': csv['target_id'], 'tce_plnt_num': csv['tce_plnt_num'], 'original_label':csv['original_label'],\n",
    "              'full_score': csv['full score'],  'minor_flags':csv['Minor_Descriptive_Flags'], 'branch_explanations': branch_explanation, 'robo_flags': robo}\n",
    "    return mean_dict\n"
   ]
  },
  {
   "cell_type": "code",
   "execution_count": 4,
   "id": "1916214e",
   "metadata": {
    "pycharm": {
     "name": "#%%\n"
    }
   },
   "outputs": [],
   "source": [
    "def summary_statistics(stat_func, num_PCs, trials):\n",
    "    train=[]\n",
    "    val=[]\n",
    "    test=[]\n",
    "    for trial in range(1, trials+1):\n",
    "        run='/nobackup/khauskne/kdd/explainability_runs/exp_'+str(num_PCs)+'_PCs_trial_'+str(trial)+'/'\n",
    "        #print(run)\n",
    "        all_train_groups=[]\n",
    "        for index in range(num_PCs):\n",
    "            train_group=pd.read_csv(run+'train_top_'+str(index)+'.csv')\n",
    "            all_train_groups.append(train_group)\n",
    "    \n",
    "\n",
    "        all_val_groups=[]\n",
    "        for index in range(num_PCs):\n",
    "            val_group=pd.read_csv(run+'val_top_'+str(index)+'.csv')\n",
    "            all_val_groups.append(val_group)\n",
    "\n",
    "        all_test_groups=[]\n",
    "        for index in range(num_PCs):\n",
    "            test_group=pd.read_csv(run+'test_top_'+str(index)+'.csv')\n",
    "            all_test_groups.append(test_group)\n",
    "\n",
    "        branches=['Global Flux', 'Local Flux', 'Centroid', 'Odd Even', 'Secondary', 'Stellar', 'DV']\n",
    "        train_statistics=apply_statistics(branches, all_train_groups, num_PCs)\n",
    "        val_statistics=apply_statistics(branches, all_val_groups, num_PCs)\n",
    "        test_statistics=apply_statistics(branches, all_test_groups, num_PCs)\n",
    "        \n",
    "        train.append(stat_func(train_statistics, branches))\n",
    "        val.append(stat_func(val_statistics, branches))\n",
    "        test.append(stat_func(test_statistics, branches))\n",
    "\n",
    "    return train, val, test"
   ]
  },
  {
   "cell_type": "code",
   "execution_count": 5,
   "id": "769fca60",
   "metadata": {
    "pycharm": {
     "name": "#%%\n"
    }
   },
   "outputs": [],
   "source": [
    "stats=summary_statistics(evaluate_min, 15, 10)"
   ]
  },
  {
   "cell_type": "code",
   "execution_count": 6,
   "id": "791f4f07",
   "metadata": {
    "pycharm": {
     "name": "#%%\n"
    }
   },
   "outputs": [],
   "source": [
    "def post_process_flags(robo_flags, branch_explanations):\n",
    "    branch_inds_to_keep=[1,2,3,4,6]\n",
    "    \n",
    "    robo_new=np.moveaxis(robo_flags,0, -1)[branch_inds_to_keep]\n",
    "    robo_new=np.moveaxis(robo_new, 0, -1)\n",
    "    \n",
    "    exp_new=np.moveaxis(branch_explanations, 0, -1)\n",
    "    global_flux=exp_new[0]\n",
    "    local_flux=exp_new[1]\n",
    "   # print(np.shape(global_flux))\n",
    "    #added_flux=exp_new[0]+exp_new[1]\n",
    "    #combined_flux=np.where(added_flux>0, 1, 0)\n",
    "    greater_flux=np.amin([global_flux, local_flux], axis=0)\n",
    "   # print(greater_flux)\n",
    "    exp_new=exp_new[branch_inds_to_keep]\n",
    "    exp_new[0]=greater_flux\n",
    "    exp_new=np.moveaxis(exp_new, 0, -1)\n",
    "    \n",
    "    return robo_new, exp_new"
   ]
  },
  {
   "cell_type": "code",
   "execution_count": 7,
   "id": "3a20dfcd",
   "metadata": {
    "pycharm": {
     "name": "#%%\n"
    }
   },
   "outputs": [],
   "source": [
    "def top_n(robo_array, occlusion_array, n, average_type='weighted'):\n",
    "    robo, occlusion=post_process_flags(robo_array, occlusion_array)\n",
    "    for index in range(len(occlusion)):\n",
    "        tce=occlusion[index]\n",
    "        max_contrib=np.argsort(tce)[:n]\n",
    "        #print(max_contrib)\n",
    "        occlusion[index]=np.zeros([5])\n",
    "        occlusion[index][max_contrib]=1\n",
    "        #print(occlusion[index])\n",
    "    weighted_prec=precision_score(robo, occlusion, average=average_type, zero_division=0)\n",
    "    weighted_rec=recall_score(robo,occlusion, average=average_type, zero_division=0)\n",
    "    return weighted_prec, weighted_rec"
   ]
  },
  {
   "cell_type": "code",
   "execution_count": 8,
   "id": "ae1dd334",
   "metadata": {
    "pycharm": {
     "name": "#%%\n"
    }
   },
   "outputs": [],
   "source": [
    "def top_n_hamming(robo_array, occlusion_array, n):\n",
    "    robo, occlusion=post_process_flags(robo_array, occlusion_array)\n",
    "    for index in range(len(occlusion)):\n",
    "        tce=occlusion[index]\n",
    "        max_contrib=np.argsort(tce)[:n]\n",
    "        #print(max_contrib)\n",
    "        occlusion[index]=np.zeros([5])\n",
    "        occlusion[index][max_contrib]=1\n",
    "        #print(occlusion[index])\n",
    "    weighted_prec=hamming_loss(robo, occlusion)\n",
    "    #weighted_rec=recall_score(robo,occlusion, average=average_type)\n",
    "    return weighted_prec#, weighted_rec"
   ]
  },
  {
   "cell_type": "code",
   "execution_count": 9,
   "id": "96d4d319",
   "metadata": {
    "pycharm": {
     "name": "#%%\n"
    }
   },
   "outputs": [],
   "source": [
    "def top_n_acc(robo_array, occlusion_array, n):\n",
    "    robo, occlusion=post_process_flags(robo_array, occlusion_array)\n",
    "    for index in range(len(occlusion)):\n",
    "        tce=occlusion[index]\n",
    "        max_contrib=np.argsort(tce)[:n]\n",
    "        #print(max_contrib)\n",
    "        occlusion[index]=np.zeros([5])\n",
    "        occlusion[index][max_contrib]=1\n",
    "        #print(occlusion[index])\n",
    "    weighted_prec=accuracy_score(robo, occlusion)\n",
    "    #weighted_rec=recall_score(robo,occlusion, average=average_type)\n",
    "    return weighted_prec#, weighted_rec"
   ]
  },
  {
   "cell_type": "code",
   "execution_count": 10,
   "id": "2f80ee05",
   "metadata": {
    "pycharm": {
     "name": "#%%\n"
    }
   },
   "outputs": [],
   "source": [
    "def top_n_jaccard(robo_array, occlusion_array, n, average_type='weighted'):\n",
    "    robo, occlusion=post_process_flags(robo_array, occlusion_array)\n",
    "    for index in range(len(occlusion)):\n",
    "        tce=occlusion[index]\n",
    "        max_contrib=np.argsort(tce)[:n]\n",
    "        #print(max_contrib)\n",
    "        occlusion[index]=np.zeros([5])\n",
    "        occlusion[index][max_contrib]=1\n",
    "        #print(occlusion[index])\n",
    "    weighted_prec=jaccard_score(robo, occlusion, average=average_type)\n",
    "    #weighted_rec=recall_score(robo,occlusion, average=average_type)\n",
    "    return weighted_prec#, weighted_rec"
   ]
  },
  {
   "cell_type": "code",
   "execution_count": 14,
   "id": "99ce48d9",
   "metadata": {
    "pycharm": {
     "name": "#%%\n"
    }
   },
   "outputs": [],
   "source": [
    "def metrics_loop(n):\n",
    "    micro_prec=[]\n",
    "    micro_rec=[]\n",
    "    macro_prec=[]\n",
    "    macro_rec=[]    \n",
    "    weighted_prec=[]\n",
    "    weighted_rec=[]\n",
    "    hamming=[]\n",
    "    acc=[]\n",
    "    jaccard=[]\n",
    "    for i in range(10):\n",
    "        robo_test=stats[2][i]['robo_flags']\n",
    "        exp_test=stats[2][i]['branch_explanations']\n",
    "        micro=top_n(robo_test, exp_test,n,'micro')\n",
    "        micro_prec.append(micro[0])\n",
    "        micro_rec.append(micro[1])\n",
    "        macro=top_n(robo_test, exp_test,n,'macro')\n",
    "        macro_prec.append(macro[0])\n",
    "        macro_rec.append(macro[1])\n",
    "        weighted=top_n(robo_test, exp_test,n,'weighted')\n",
    "        weighted_prec.append(weighted[0])\n",
    "        weighted_rec.append(weighted[1])\n",
    "        hamming.append(top_n_hamming(robo_test,exp_test,n))\n",
    "        acc.append(top_n_acc(robo_test, exp_test,n))\n",
    "        jaccard.append(top_n_jaccard(robo_test,exp_test, n))\n",
    "    return np.mean(micro_prec), np.mean(micro_rec), np.mean(macro_prec), np.mean(macro_rec), np.mean(weighted_prec), np.mean(weighted_rec), np.mean(hamming), np.mean(acc), np.mean(jaccard)"
   ]
  },
  {
   "cell_type": "code",
   "execution_count": 16,
   "id": "eec8c6af",
   "metadata": {
    "pycharm": {
     "name": "#%%\n"
    }
   },
   "outputs": [],
   "source": [
    "top_1=metrics_loop(1)"
   ]
  },
  {
   "cell_type": "code",
   "execution_count": 19,
   "id": "0f64a6c5",
   "metadata": {
    "pycharm": {
     "name": "#%%\n"
    }
   },
   "outputs": [
    {
     "data": {
      "text/plain": [
       "array([0.5405, 0.5456, 0.3176, 0.341 , 0.65  , 0.5456, 0.1819, 0.4247,\n",
       "       0.435 ])"
      ]
     },
     "execution_count": 19,
     "metadata": {},
     "output_type": "execute_result"
    }
   ],
   "source": [
    "np.round(top_1, 4)"
   ]
  },
  {
   "cell_type": "code",
   "execution_count": 20,
   "id": "22c40352",
   "metadata": {
    "pycharm": {
     "name": "#%%\n"
    }
   },
   "outputs": [
    {
     "data": {
      "text/plain": [
       "array([0.3865, 0.7804, 0.2781, 0.5224, 0.5941, 0.7804, 0.2889, 0.0307,\n",
       "       0.5354])"
      ]
     },
     "execution_count": 20,
     "metadata": {},
     "output_type": "execute_result"
    }
   ],
   "source": [
    "np.round(metrics_loop(2),4)"
   ]
  },
  {
   "cell_type": "code",
   "execution_count": 21,
   "id": "c17d50d2",
   "metadata": {
    "pycharm": {
     "name": "#%%\n"
    }
   },
   "outputs": [
    {
     "data": {
      "text/plain": [
       "array([0.3001, 0.9088, 0.2416, 0.7074, 0.5512, 0.9088, 0.438 , 0.0064,\n",
       "       0.536 ])"
      ]
     },
     "execution_count": 21,
     "metadata": {},
     "output_type": "execute_result"
    }
   ],
   "source": [
    "np.round(metrics_loop(3),4)"
   ]
  },
  {
   "cell_type": "code",
   "execution_count": 68,
   "id": "f961423b",
   "metadata": {
    "pycharm": {
     "name": "#%%\n"
    }
   },
   "outputs": [],
   "source": [
    "from sklearn.metrics import precision_score\n",
    "from sklearn.metrics import recall_score"
   ]
  },
  {
   "cell_type": "code",
   "execution_count": 55,
   "id": "3149ae41",
   "metadata": {
    "pycharm": {
     "name": "#%%\n"
    }
   },
   "outputs": [],
   "source": [
    "robo_test=stats[2][5]['robo_flags']\n",
    "exp_test=stats[2][5]['branch_explanations']"
   ]
  },
  {
   "cell_type": "code",
   "execution_count": 56,
   "id": "15503ba2",
   "metadata": {
    "pycharm": {
     "name": "#%%\n"
    }
   },
   "outputs": [
    {
     "data": {
      "text/plain": [
       "(0.6614493843824216, 0.520435069215557)"
      ]
     },
     "execution_count": 56,
     "metadata": {},
     "output_type": "execute_result"
    }
   ],
   "source": [
    "top_n(robo_test, exp_test,1)"
   ]
  },
  {
   "cell_type": "code",
   "execution_count": 58,
   "id": "0055637c",
   "metadata": {
    "pycharm": {
     "name": "#%%\n"
    }
   },
   "outputs": [
    {
     "data": {
      "text/plain": [
       "(0.515507672216781, 0.520435069215557)"
      ]
     },
     "execution_count": 58,
     "metadata": {},
     "output_type": "execute_result"
    }
   ],
   "source": [
    "top_n(robo_test, exp_test,1, 'micro')"
   ]
  },
  {
   "cell_type": "code",
   "execution_count": 59,
   "id": "b891c0d7",
   "metadata": {
    "pycharm": {
     "name": "#%%\n"
    }
   },
   "outputs": [
    {
     "data": {
      "text/plain": [
       "(0.31880208871194926, 0.3361745358255953)"
      ]
     },
     "execution_count": 59,
     "metadata": {},
     "output_type": "execute_result"
    }
   ],
   "source": [
    "top_n(robo_test, exp_test,1, 'macro')"
   ]
  },
  {
   "cell_type": "code",
   "execution_count": 57,
   "id": "64fc63ba",
   "metadata": {
    "pycharm": {
     "name": "#%%\n"
    }
   },
   "outputs": [
    {
     "data": {
      "text/plain": [
       "(0.6037155309820135, 0.7762030323005933)"
      ]
     },
     "execution_count": 57,
     "metadata": {},
     "output_type": "execute_result"
    }
   ],
   "source": [
    "top_n(robo_test, exp_test,2)"
   ]
  },
  {
   "cell_type": "markdown",
   "id": "f7152314",
   "metadata": {
    "pycharm": {
     "name": "#%% md\n"
    }
   },
   "source": [
    "## Loop"
   ]
  },
  {
   "cell_type": "code",
   "execution_count": 11,
   "id": "31407090",
   "metadata": {
    "pycharm": {
     "name": "#%%\n"
    }
   },
   "outputs": [],
   "source": [
    "from sklearn.metrics import jaccard_score\n",
    "from sklearn.metrics import accuracy_score\n",
    "from sklearn.metrics import hamming_loss"
   ]
  },
  {
   "cell_type": "code",
   "execution_count": 40,
   "id": "044aafd8",
   "metadata": {
    "pycharm": {
     "name": "#%%\n"
    }
   },
   "outputs": [],
   "source": [
    "def eval_jaccard(stat_func, num_pcs, trials, average_type='weighted'):\n",
    "    stats=summary_statistics(stat_func, num_pcs,trials)\n",
    "    \n",
    "    precision_list=[]\n",
    "    recall_list=[]\n",
    "    for i in range(trials):\n",
    "        #print(i)\n",
    "        train_exp=stats[0][i]['branch_explanations']\n",
    "        val_exp=stats[1][i]['branch_explanations']\n",
    "        test_exp=stats[2][i]['branch_explanations']\n",
    "        train_robo=stats[0][i]['robo_flags']\n",
    "        val_robo=stats[1][i]['robo_flags']\n",
    "        test_robo=stats[2][i]['robo_flags']\n",
    "        \n",
    "        scores=post_process_flags(test_robo, test_exp)\n",
    "        weighted_prec=jaccard_score(scores[0], scores[1], average=average_type)\n",
    "        #weighted_rec=recall_score(scores[0], scores[1], average=average_type)\n",
    "        precision_list.append(weighted_prec)\n",
    "        #recall_list.append(weighted_rec)\n",
    "        \n",
    "    return np.mean(precision_list), np.std(precision_list)#, np.mean(recall_list), np.std(recall_list)\n",
    "        "
   ]
  },
  {
   "cell_type": "code",
   "execution_count": 41,
   "id": "9ce99cd5",
   "metadata": {
    "pycharm": {
     "name": "#%%\n"
    }
   },
   "outputs": [
    {
     "data": {
      "text/plain": [
       "(0.6071058307411425, 0.004595509247011755)"
      ]
     },
     "execution_count": 41,
     "metadata": {},
     "output_type": "execute_result"
    }
   ],
   "source": [
    "eval_jaccard(evaluate_min, 15, 10)"
   ]
  },
  {
   "cell_type": "code",
   "execution_count": 42,
   "id": "f251b8c4",
   "metadata": {
    "pycharm": {
     "name": "#%%\n"
    }
   },
   "outputs": [],
   "source": [
    "def eval_acc(stat_func, num_pcs, trials):\n",
    "    stats=summary_statistics(stat_func, num_pcs,trials)\n",
    "    \n",
    "    precision_list=[]\n",
    "    recall_list=[]\n",
    "    for i in range(trials):\n",
    "        #print(i)\n",
    "        train_exp=stats[0][i]['branch_explanations']\n",
    "        val_exp=stats[1][i]['branch_explanations']\n",
    "        test_exp=stats[2][i]['branch_explanations']\n",
    "        train_robo=stats[0][i]['robo_flags']\n",
    "        val_robo=stats[1][i]['robo_flags']\n",
    "        test_robo=stats[2][i]['robo_flags']\n",
    "        \n",
    "        scores=post_process_flags(test_robo, test_exp)\n",
    "        weighted_prec=accuracy_score(scores[0], scores[1])\n",
    "        #weighted_rec=recall_score(scores[0], scores[1], average=average_type)\n",
    "        precision_list.append(weighted_prec)\n",
    "        #recall_list.append(weighted_rec)\n",
    "        \n",
    "    return np.mean(precision_list), np.std(precision_list)#, np.mean(recall_list), np.std(recall_list)\n",
    "        "
   ]
  },
  {
   "cell_type": "code",
   "execution_count": 45,
   "id": "5f74a3e0",
   "metadata": {
    "pycharm": {
     "name": "#%%\n"
    }
   },
   "outputs": [
    {
     "data": {
      "text/plain": [
       "(0.1632386549134835, 0.015574712899907084)"
      ]
     },
     "execution_count": 45,
     "metadata": {},
     "output_type": "execute_result"
    }
   ],
   "source": [
    "eval_acc(evaluate_min, 15, 10)"
   ]
  },
  {
   "cell_type": "code",
   "execution_count": 47,
   "id": "8af85ec8",
   "metadata": {
    "pycharm": {
     "name": "#%%\n"
    }
   },
   "outputs": [],
   "source": [
    "def eval_hamming(stat_func, num_pcs, trials):\n",
    "    stats=summary_statistics(stat_func, num_pcs,trials)\n",
    "    \n",
    "    precision_list=[]\n",
    "    recall_list=[]\n",
    "    for i in range(trials):\n",
    "        #print(i)\n",
    "        train_exp=stats[0][i]['branch_explanations']\n",
    "        val_exp=stats[1][i]['branch_explanations']\n",
    "        test_exp=stats[2][i]['branch_explanations']\n",
    "        train_robo=stats[0][i]['robo_flags']\n",
    "        val_robo=stats[1][i]['robo_flags']\n",
    "        test_robo=stats[2][i]['robo_flags']\n",
    "        \n",
    "        scores=post_process_flags(test_robo, test_exp)\n",
    "        weighted_prec=hamming_loss(scores[0], scores[1])\n",
    "        #weighted_rec=recall_score(scores[0], scores[1], average=average_type)\n",
    "        precision_list.append(weighted_prec)\n",
    "        #recall_list.append(weighted_rec)\n",
    "        \n",
    "    return np.mean(precision_list), np.std(precision_list)"
   ]
  },
  {
   "cell_type": "code",
   "execution_count": 48,
   "id": "feebeceb",
   "metadata": {
    "pycharm": {
     "name": "#%%\n"
    }
   },
   "outputs": [
    {
     "data": {
      "text/plain": [
       "(0.3208488410055501, 0.017004016489277678)"
      ]
     },
     "execution_count": 48,
     "metadata": {},
     "output_type": "execute_result"
    }
   ],
   "source": [
    "eval_hamming(evaluate_min, 15, 10)"
   ]
  },
  {
   "cell_type": "code",
   "execution_count": 33,
   "id": "1b8a94bf",
   "metadata": {
    "pycharm": {
     "name": "#%%\n"
    }
   },
   "outputs": [
    {
     "data": {
      "text/plain": [
       "Text(0.5, 1.0, 'Micro Precision and Recall for Top n labeled with Occlusion')"
      ]
     },
     "execution_count": 33,
     "metadata": {},
     "output_type": "execute_result"
    },
    {
     "data": {
      "image/png": "[encoded data removed]",
      "text/plain": [
       "<Figure size 432x288 with 1 Axes>"
      ]
     },
     "metadata": {
      "needs_background": "light"
     },
     "output_type": "display_data"
    }
   ],
   "source": [
    "plt.scatter(np.arange(1,6), prec_vals, label='Precision')\n",
    "plt.scatter(np.arange(1,6), rec_vals, label='Recall')\n",
    "plt.legend()\n",
    "plt.xlabel('Top n')\n",
    "plt.title('Micro Precision and Recall for Top n labeled with Occlusion')"
   ]
  },
  {
   "cell_type": "code",
   "execution_count": 11,
   "id": "f9c5ffb3",
   "metadata": {
    "pycharm": {
     "name": "#%%\n"
    }
   },
   "outputs": [],
   "source": [
    "def eval_weighted_metrics(stat_func, num_pcs, trials, average_type='weighted'):\n",
    "    stats=summary_statistics(stat_func, num_pcs,trials)\n",
    "    \n",
    "    precision_list=[]\n",
    "    recall_list=[]\n",
    "    for i in range(trials):\n",
    "        #print(i)\n",
    "        train_exp=stats[0][i]['branch_explanations']\n",
    "        val_exp=stats[1][i]['branch_explanations']\n",
    "        test_exp=stats[2][i]['branch_explanations']\n",
    "        train_robo=stats[0][i]['robo_flags']\n",
    "        val_robo=stats[1][i]['robo_flags']\n",
    "        test_robo=stats[2][i]['robo_flags']\n",
    "        \n",
    "        scores=post_process_flags(test_robo, test_exp)\n",
    "        weighted_prec=precision_score(scores[0], scores[1], average=average_type)\n",
    "        weighted_rec=recall_score(scores[0], scores[1], average=average_type)\n",
    "        precision_list.append(weighted_prec)\n",
    "        recall_list.append(weighted_rec)\n",
    "        \n",
    "    return np.mean(precision_list), np.std(precision_list), np.mean(recall_list), np.std(recall_list)\n",
    "        \n",
    "    "
   ]
  },
  {
   "cell_type": "code",
   "execution_count": 27,
   "id": "68e8e13e",
   "metadata": {
    "pycharm": {
     "name": "#%%\n"
    }
   },
   "outputs": [
    {
     "data": {
      "text/plain": [
       "(0.37073388742158797,\n",
       " 0.012440694861750186,\n",
       " 0.8837837837837839,\n",
       " 0.00987826378110965)"
      ]
     },
     "execution_count": 27,
     "metadata": {},
     "output_type": "execute_result"
    }
   ],
   "source": [
    "eval_weighted_metrics(evaluate_min, 15, 10, 'micro')"
   ]
  },
  {
   "cell_type": "code",
   "execution_count": 28,
   "id": "ad876bc3",
   "metadata": {
    "pycharm": {
     "name": "#%%\n"
    }
   },
   "outputs": [
    {
     "data": {
      "text/plain": [
       "(0.2878941480122471,\n",
       " 0.0122323037374948,\n",
       " 0.656210469741655,\n",
       " 0.020502829569494337)"
      ]
     },
     "execution_count": 28,
     "metadata": {},
     "output_type": "execute_result"
    }
   ],
   "source": [
    "eval_weighted_metrics(evaluate_min, 15, 10, 'macro')"
   ]
  },
  {
   "cell_type": "code",
   "execution_count": 29,
   "id": "71b0a175",
   "metadata": {
    "pycharm": {
     "name": "#%%\n"
    }
   },
   "outputs": [
    {
     "data": {
      "text/plain": [
       "(0.6322190998781286,\n",
       " 0.009061035361970586,\n",
       " 0.8837837837837839,\n",
       " 0.00987826378110965)"
      ]
     },
     "execution_count": 29,
     "metadata": {},
     "output_type": "execute_result"
    }
   ],
   "source": [
    "eval_weighted_metrics(evaluate_min, 15, 10, 'weighted')"
   ]
  },
  {
   "cell_type": "code",
   "execution_count": 20,
   "id": "9e34d542",
   "metadata": {
    "pycharm": {
     "name": "#%%\n"
    }
   },
   "outputs": [
    {
     "name": "stdout",
     "output_type": "stream",
     "text": [
      "0.6914361457363418\n",
      "0.7648648648648648\n",
      "0.6823358207003833\n",
      "0.7767303889255108\n",
      "0.6739085814518725\n",
      "0.7998352010547133\n",
      "0.6775304477251631\n",
      "0.7992748846407383\n",
      "0.6589163905248137\n",
      "0.8352999340804217\n",
      "0.6642665692164897\n",
      "0.8293012524719842\n",
      "0.6523468803830351\n",
      "0.8563612392880685\n",
      "0.6544627931175311\n",
      "0.8520105471324984\n",
      "0.6463386628671931\n",
      "0.86430454845089\n",
      "0.6414684250369782\n",
      "0.872874093605801\n",
      "0.649133026763153\n",
      "0.8624917600527355\n",
      "0.6416260217316718\n",
      "0.8718852999340804\n",
      "0.6573194966990561\n",
      "0.8457811470006593\n",
      "0.6520411646776982\n",
      "0.860744891232696\n"
     ]
    }
   ],
   "source": [
    "prec_vals=[]\n",
    "prec_vals_std=[]\n",
    "rec_vals=[]\n",
    "rec_vals_std=[]\n",
    "for i in range(1,15):\n",
    "    vals=eval_weighted_metrics(evaluate_min, i, 10)\n",
    "    prec_vals.append(vals[0])\n",
    "    prec_vals_std.append(vals[1])\n",
    "    rec_vals.append(vals[2])\n",
    "    rec_vals_std.append(vals[3])\n",
    "    print(vals[0])\n",
    "    print(vals[2])"
   ]
  },
  {
   "cell_type": "code",
   "execution_count": 23,
   "id": "9785b73f",
   "metadata": {
    "pycharm": {
     "name": "#%%\n"
    }
   },
   "outputs": [
    {
     "data": {
      "text/plain": [
       "Text(0.5, 0, 'Number of PCs')"
      ]
     },
     "execution_count": 23,
     "metadata": {},
     "output_type": "execute_result"
    },
    {
     "data": {
      "image/png": "[encoded data removed]",
      "text/plain": [
       "<Figure size 432x288 with 1 Axes>"
      ]
     },
     "metadata": {
      "needs_background": "light"
     },
     "output_type": "display_data"
    }
   ],
   "source": [
    "plt.errorbar(np.arange(1, 15), prec_vals, prec_vals_std, fmt='o', label='Weighted Precision')\n",
    "plt.errorbar(np.arange(1, 15), rec_vals, rec_vals_std, fmt='o', label='Weighted Recall')\n",
    "plt.ylim([0.5, 1])\n",
    "plt.legend()\n",
    "plt.title('Weighted Precision and Recall for the Minimum Statistic')\n",
    "plt.xlabel('Number of PCs')"
   ]
  },
  {
   "cell_type": "code",
   "execution_count": 24,
   "id": "1dbabc48",
   "metadata": {
    "pycharm": {
     "name": "#%%\n"
    }
   },
   "outputs": [
    {
     "name": "stdout",
     "output_type": "stream",
     "text": [
      "0.6914361457363418\n",
      "0.7648648648648648\n",
      "0.6998123314196992\n",
      "0.734838497033619\n",
      "0.704380275201921\n",
      "0.734377059986816\n",
      "0.7034886123904975\n",
      "0.7337837837837837\n",
      "0.7025187611662151\n",
      "0.7362228081740277\n",
      "0.7043089044030836\n",
      "0.7342122610415294\n",
      "0.6994183794811865\n",
      "0.7448912326961107\n",
      "0.7043634725307653\n",
      "0.7344759393539882\n",
      "0.7018664947342482\n",
      "0.740870138431114\n",
      "0.6993940788069164\n",
      "0.7442979564930785\n",
      "0.7011568638023479\n",
      "0.7393210283454186\n",
      "0.6997470206799836\n",
      "0.7429136453526698\n",
      "0.7079035434006837\n",
      "0.7210283454185893\n",
      "0.7052881699117487\n",
      "0.7254779169413315\n"
     ]
    }
   ],
   "source": [
    "prec_vals_mean=[]\n",
    "prec_vals_std_mean=[]\n",
    "rec_vals_mean=[]\n",
    "rec_vals_std_mean=[]\n",
    "for i in range(1,15):\n",
    "    vals=eval_weighted_metrics(evaluate_mean, i, 10)\n",
    "    prec_vals_mean.append(vals[0])\n",
    "    prec_vals_std_mean.append(vals[1])\n",
    "    rec_vals_mean.append(vals[2])\n",
    "    rec_vals_std_mean.append(vals[3])\n",
    "    print(vals[0])\n",
    "    print(vals[2])"
   ]
  },
  {
   "cell_type": "code",
   "execution_count": 25,
   "id": "ed96efd3",
   "metadata": {
    "pycharm": {
     "name": "#%%\n"
    }
   },
   "outputs": [
    {
     "data": {
      "text/plain": [
       "Text(0.5, 0, 'Number of PCs')"
      ]
     },
     "execution_count": 25,
     "metadata": {},
     "output_type": "execute_result"
    },
    {
     "data": {
      "image/png": "[encoded data removed]",
      "text/plain": [
       "<Figure size 432x288 with 1 Axes>"
      ]
     },
     "metadata": {
      "needs_background": "light"
     },
     "output_type": "display_data"
    }
   ],
   "source": [
    "plt.errorbar(np.arange(1, 15), prec_vals_mean, prec_vals_std_mean, fmt='o', label='Weighted Precision')\n",
    "plt.errorbar(np.arange(1, 15), rec_vals_mean, rec_vals_std_mean, fmt='o', label='Weighted Recall')\n",
    "plt.ylim([0.5, 1])\n",
    "plt.legend()\n",
    "plt.title('Weighted Precision and Recall for the Mean Statistic')\n",
    "plt.xlabel('Number of PCs')"
   ]
  },
  {
   "cell_type": "code",
   "execution_count": 18,
   "id": "1eead1bf",
   "metadata": {
    "pycharm": {
     "name": "#%%\n"
    }
   },
   "outputs": [
    {
     "data": {
      "text/plain": [
       "0.27614933540189074"
      ]
     },
     "execution_count": 18,
     "metadata": {},
     "output_type": "execute_result"
    }
   ],
   "source": [
    "precision_score(scores[0], scores[1], average='macro')"
   ]
  },
  {
   "cell_type": "code",
   "execution_count": 14,
   "id": "560f5ed1",
   "metadata": {
    "pycharm": {
     "name": "#%%\n"
    }
   },
   "outputs": [
    {
     "name": "stdout",
     "output_type": "stream",
     "text": [
      "0.3438930545038723\n",
      "0.5326448740386679\n",
      "0.3331627617201214\n",
      "0.5556952513560893\n",
      "0.32825827742709385\n",
      "0.5642998595583089\n",
      "0.32752495826365646\n",
      "0.572632353322183\n",
      "0.3131478012585049\n",
      "0.6047652950777751\n",
      "0.3155076961783013\n",
      "0.6101187964424084\n",
      "0.3064775856863642\n",
      "0.6318879349682265\n",
      "0.31633564533786374\n",
      "0.6175501617994267\n",
      "0.30538352839712457\n",
      "0.6327764354338316\n",
      "0.29368299432328915\n",
      "0.6519198890364836\n",
      "0.3052081256415134\n",
      "0.6360308718161021\n",
      "0.29029654736716715\n",
      "0.651474119672746\n",
      "0.31092775078998935\n",
      "0.61910589304962\n",
      "0.3013403275624606\n",
      "0.6481680329645114\n"
     ]
    }
   ],
   "source": [
    "prec_vals_micro=[]\n",
    "prec_vals_std_micro=[]\n",
    "rec_vals_micro=[]\n",
    "rec_vals_std_micro=[]\n",
    "for i in range(1,15):\n",
    "    vals=eval_weighted_metrics(evaluate_min, i, 10, average_type='macro')\n",
    "    prec_vals_micro.append(vals[0])\n",
    "    prec_vals_std_micro.append(vals[1])\n",
    "    rec_vals_micro.append(vals[2])\n",
    "    rec_vals_std_micro.append(vals[3])\n",
    "    print(vals[0])\n",
    "    print(vals[2])"
   ]
  },
  {
   "cell_type": "code",
   "execution_count": 16,
   "id": "f3f9f365",
   "metadata": {
    "pycharm": {
     "name": "#%%\n"
    }
   },
   "outputs": [
    {
     "data": {
      "text/plain": [
       "Text(0.5, 0, 'Number of PCs')"
      ]
     },
     "execution_count": 16,
     "metadata": {},
     "output_type": "execute_result"
    },
    {
     "data": {
      "image/png": "[encoded data removed]",
      "text/plain": [
       "<Figure size 432x288 with 1 Axes>"
      ]
     },
     "metadata": {
      "needs_background": "light"
     },
     "output_type": "display_data"
    }
   ],
   "source": [
    "plt.errorbar(np.arange(1, 15), prec_vals_micro, prec_vals_std_micro, fmt='o', label='Macro Precision')\n",
    "plt.errorbar(np.arange(1, 15), rec_vals_micro, rec_vals_std_micro, fmt='o', label='Macro Recall')\n",
    "plt.ylim([0, 1])\n",
    "plt.legend()\n",
    "plt.title('Macro Precision and Recall for the Minimum Statistic')\n",
    "plt.xlabel('Number of PCs')"
   ]
  },
  {
   "cell_type": "code",
   "execution_count": 48,
   "id": "9083e86d",
   "metadata": {
    "pycharm": {
     "name": "#%%\n"
    }
   },
   "outputs": [
    {
     "data": {
      "text/plain": [
       "1452"
      ]
     },
     "execution_count": 48,
     "metadata": {},
     "output_type": "execute_result"
    }
   ],
   "source": [
    "np.sum(robo_flags['Centroid Flag'].iloc[np.where(robo_flags['Not_Transit-Like_Flag']==1)])"
   ]
  },
  {
   "cell_type": "code",
   "execution_count": 49,
   "id": "96ec16bc",
   "metadata": {
    "pycharm": {
     "name": "#%%\n"
    }
   },
   "outputs": [
    {
     "data": {
      "text/plain": [
       "1136"
      ]
     },
     "execution_count": 49,
     "metadata": {},
     "output_type": "execute_result"
    }
   ],
   "source": [
    "np.sum(robo_flags['Secondary Flag'].iloc[np.where(robo_flags['Not_Transit-Like_Flag']==1)])"
   ]
  },
  {
   "cell_type": "code",
   "execution_count": 50,
   "id": "c9d76d39",
   "metadata": {
    "pycharm": {
     "name": "#%%\n"
    }
   },
   "outputs": [
    {
     "data": {
      "text/plain": [
       "0"
      ]
     },
     "execution_count": 50,
     "metadata": {},
     "output_type": "execute_result"
    }
   ],
   "source": [
    "np.sum(robo_flags['Odd Even Flag'].iloc[np.where(robo_flags['Not_Transit-Like_Flag']==1)])"
   ]
  },
  {
   "cell_type": "code",
   "execution_count": 61,
   "id": "8f9665d3",
   "metadata": {
    "pycharm": {
     "name": "#%%\n"
    }
   },
   "outputs": [
    {
     "data": {
      "text/plain": [
       "array(['LPP_DV---LPP_ALT---MOD_NONUNIQ_DV---MOD_NONUNIQ_ALT---CENT_RESOLVED_OFFSET'],\n",
       "      dtype=object)"
      ]
     },
     "execution_count": 61,
     "metadata": {},
     "output_type": "execute_result"
    }
   ],
   "source": [
    "np.array(robo_flags.iloc[np.where(robo_flags['Not_Transit-Like_Flag']==1)][33:34]['Minor_Descriptive_Flags'])"
   ]
  },
  {
   "cell_type": "code",
   "execution_count": 7,
   "id": "5aa7db14",
   "metadata": {
    "pycharm": {
     "name": "#%%\n"
    }
   },
   "outputs": [],
   "source": [
    "def eval_branch(stat_func, num_pcs, trials,branch_ind):\n",
    "    stats=summary_statistics(stat_func, num_pcs,trials)\n",
    "    \n",
    "    precision_list=[]\n",
    "    recall_list=[]\n",
    "    for i in range(trials):\n",
    "        #print(i)\n",
    "        train_exp=stats[0][i]['branch_explanations']\n",
    "        val_exp=stats[1][i]['branch_explanations']\n",
    "        test_exp=stats[2][i]['branch_explanations']\n",
    "        train_robo=stats[0][i]['robo_flags']\n",
    "        val_robo=stats[1][i]['robo_flags']\n",
    "        test_robo=stats[2][i]['robo_flags']\n",
    "        \n",
    "        scores=post_process_flags(test_robo, test_exp)\n",
    "        true=np.moveaxis(scores[0], 0, -1)[branch_ind]    \n",
    "        pred=np.moveaxis(scores[1], 0, -1)[branch_ind]\n",
    "        prec=precision_score(true, pred)\n",
    "        rec=recall_score(true, pred)\n",
    "        precision_list.append(prec)\n",
    "        recall_list.append(rec)\n",
    "        \n",
    "    return np.mean(precision_list), np.std(precision_list), np.mean(recall_list), np.std(recall_list)"
   ]
  },
  {
   "cell_type": "code",
   "execution_count": 11,
   "id": "bbb0d43a",
   "metadata": {
    "pycharm": {
     "name": "#%%\n"
    }
   },
   "outputs": [
    {
     "data": {
      "text/plain": [
       "(0.8191767103967671,\n",
       " 0.010625133857475592,\n",
       " 0.9570557899671824,\n",
       " 0.013763296565654079)"
      ]
     },
     "execution_count": 11,
     "metadata": {},
     "output_type": "execute_result"
    }
   ],
   "source": [
    "eval_branch(evaluate_min, 15, 10, 0)"
   ]
  },
  {
   "cell_type": "code",
   "execution_count": 20,
   "id": "dec5e6ae",
   "metadata": {
    "pycharm": {
     "name": "#%%\n"
    }
   },
   "outputs": [
    {
     "data": {
      "text/plain": [
       "(0.35918196835178573,\n",
       " 0.05508055252226271,\n",
       " 0.7665399239543726,\n",
       " 0.023939279450490025)"
      ]
     },
     "execution_count": 20,
     "metadata": {},
     "output_type": "execute_result"
    }
   ],
   "source": [
    "eval_branch(evaluate_min, 15, 10, 1)"
   ]
  },
  {
   "cell_type": "code",
   "execution_count": 13,
   "id": "d5f12306",
   "metadata": {
    "pycharm": {
     "name": "#%%\n"
    }
   },
   "outputs": [
    {
     "data": {
      "text/plain": [
       "(0.0030115842238315725, 0.0002617315043909363, 0.03333333333333333, 0.0)"
      ]
     },
     "execution_count": 13,
     "metadata": {},
     "output_type": "execute_result"
    }
   ],
   "source": [
    "eval_branch(evaluate_min, 15, 10, 2)"
   ]
  },
  {
   "cell_type": "code",
   "execution_count": 23,
   "id": "1fab5da9",
   "metadata": {
    "pycharm": {
     "name": "#%%\n"
    }
   },
   "outputs": [
    {
     "data": {
      "text/plain": [
       "(0.10385906439894468,\n",
       " 0.003425237810001112,\n",
       " 0.82568093385214,\n",
       " 0.010265296465582054)"
      ]
     },
     "execution_count": 23,
     "metadata": {},
     "output_type": "execute_result"
    }
   ],
   "source": [
    "eval_branch(evaluate_min, 15, 10, 3)"
   ]
  },
  {
   "cell_type": "code",
   "execution_count": 15,
   "id": "6b97f4fd",
   "metadata": {
    "pycharm": {
     "name": "#%%\n"
    }
   },
   "outputs": [
    {
     "data": {
      "text/plain": [
       "(0.15424141268990627,\n",
       " 0.005524624959212785,\n",
       " 0.6984423676012461,\n",
       " 0.1026317829328936)"
      ]
     },
     "execution_count": 15,
     "metadata": {},
     "output_type": "execute_result"
    }
   ],
   "source": [
    "eval_branch(evaluate_min, 15, 10, 4)"
   ]
  },
  {
   "cell_type": "code",
   "execution_count": 12,
   "id": "0eb660d3",
   "metadata": {
    "pycharm": {
     "name": "#%%\n"
    }
   },
   "outputs": [],
   "source": [
    "def eval_PCs(stat_func, num_pcs, trials):\n",
    "    stats=summary_statistics(stat_func, num_pcs,trials)\n",
    "    precision_list=[]\n",
    "    recall_list=[]\n",
    "    for i in range(trials):\n",
    "        #print(i)\n",
    "        train_exp=stats[0][i]['branch_explanations']\n",
    "        val_exp=stats[1][i]['branch_explanations']\n",
    "        test_exp=stats[2][i]['branch_explanations']\n",
    "        train_robo=stats[0][i]['robo_flags']\n",
    "        val_robo=stats[1][i]['robo_flags']\n",
    "        test_robo=stats[2][i]['robo_flags']\n",
    "        label=np.zeros(3063)\n",
    "        label[np.where(stats[2][i]['original_label']=='PC')]=1\n",
    "        \n",
    "        \n",
    "        scores=post_process_flags(test_robo, test_exp)\n",
    "        sum_scores=np.sum(scores[1], axis=1)\n",
    "        sum_scores[np.where(sum_scores>0)]=-1\n",
    "        sum_scores[np.where(sum_scores==0)]=1\n",
    "        sum_scores[np.where(sum_scores==-1)]=0\n",
    "        true=label   \n",
    "        pred=sum_scores\n",
    "        prec=precision_score(true, pred)\n",
    "        rec=recall_score(true, pred)\n",
    "        precision_list.append(prec)\n",
    "        recall_list.append(rec)\n",
    "        \n",
    "    return np.mean(precision_list), np.std(precision_list), np.mean(recall_list), np.std(recall_list)"
   ]
  },
  {
   "cell_type": "code",
   "execution_count": 59,
   "id": "44d5cfac",
   "metadata": {
    "pycharm": {
     "name": "#%%\n"
    }
   },
   "outputs": [
    {
     "data": {
      "text/plain": [
       "(0.7087772929251324,\n",
       " 0.07142571848974358,\n",
       " 0.9615942028985508,\n",
       " 0.015388956943185006)"
      ]
     },
     "execution_count": 59,
     "metadata": {},
     "output_type": "execute_result"
    }
   ],
   "source": [
    "eval_PCs(evaluate_min, 15, 10)"
   ]
  },
  {
   "cell_type": "code",
   "execution_count": 60,
   "id": "922d793f",
   "metadata": {
    "pycharm": {
     "name": "#%%\n"
    }
   },
   "outputs": [
    {
     "data": {
      "text/plain": [
       "(1, 276)"
      ]
     },
     "execution_count": 60,
     "metadata": {},
     "output_type": "execute_result"
    }
   ],
   "source": [
    "np.shape(np.where(label==1))"
   ]
  },
  {
   "cell_type": "markdown",
   "id": "0605bfbc",
   "metadata": {
    "pycharm": {
     "name": "#%% md\n"
    }
   },
   "source": [
    "# Thresholding\n"
   ]
  },
  {
   "cell_type": "code",
   "execution_count": 14,
   "id": "8f587ba1",
   "metadata": {
    "pycharm": {
     "name": "#%%\n"
    }
   },
   "outputs": [],
   "source": [
    "def evaluate_min_thresh(csv, branches, threshold):\n",
    "    csv=pd.merge(csv, robo_flags, on=['target_id', 'tce_plnt_num'])\n",
    "    robo=np.array(csv[csv.columns[-7:]])\n",
    "    reduced_csv=csv\n",
    "    branch_explanation=np.zeros([len(branches), len(csv)])\n",
    "    for i in range(len(branches)):\n",
    "        branch_explanation[i]=(reduced_csv[branches[i]+ ' Min']<-1*threshold)\n",
    "    branch_explanation=np.moveaxis(branch_explanation, 0, -1)\n",
    "    mean_dict={'target_id': csv['target_id'], 'tce_plnt_num': csv['tce_plnt_num'], 'original_label':csv['original_label'],\n",
    "              'full_score': csv['full score'],  'minor_flags':csv['Minor_Descriptive_Flags'], 'branch_explanations': branch_explanation, 'robo_flags': robo}\n",
    "    return mean_dict"
   ]
  },
  {
   "cell_type": "code",
   "execution_count": 15,
   "id": "545ade8e",
   "metadata": {
    "pycharm": {
     "name": "#%%\n"
    }
   },
   "outputs": [],
   "source": [
    "def evaluate_mean_thresh(csv, branches, threshold):\n",
    "    csv=pd.merge(csv, robo_flags, on=['target_id', 'tce_plnt_num'])\n",
    "    robo=np.array(csv[csv.columns[-7:]])\n",
    "    reduced_csv=csv\n",
    "    branch_explanation=np.zeros([len(branches), len(csv)])\n",
    "    for i in range(len(branches)):\n",
    "        branch_explanation[i]=(reduced_csv[branches[i]+ ' Mean']<-1*threshold)\n",
    "    branch_explanation=np.moveaxis(branch_explanation, 0, -1)\n",
    "    mean_dict={'target_id': csv['target_id'], 'tce_plnt_num': csv['tce_plnt_num'], 'original_label':csv['original_label'],\n",
    "              'full_score': csv['full score'],  'minor_flags':csv['Minor_Descriptive_Flags'], 'branch_explanations': branch_explanation, 'robo_flags': robo}\n",
    "    return mean_dict"
   ]
  },
  {
   "cell_type": "code",
   "execution_count": 16,
   "id": "90b2c1d8",
   "metadata": {
    "pycharm": {
     "name": "#%%\n"
    }
   },
   "outputs": [],
   "source": [
    "def summary_threshold(num_PCs, trials):\n",
    "   # train=[]\n",
    "   # val=[]\n",
    "    test=[]\n",
    "    for trial in range(1, trials+1):\n",
    "        run='/nobackup/khauskne/kdd/explainability_runs/exp_'+str(num_PCs)+'_PCs_trial_'+str(trial)+'/'\n",
    "        #print(run)\n",
    "\n",
    "        all_test_groups=[]\n",
    "        for index in range(num_PCs):\n",
    "            test_group=pd.read_csv(run+'test_top_'+str(index)+'.csv')\n",
    "            all_test_groups.append(test_group)\n",
    "\n",
    "        branches=['Global Flux', 'Local Flux', 'Centroid', 'Odd Even', 'Secondary', 'Stellar', 'DV']\n",
    "       # train_statistics=apply_statistics(branches, all_train_groups, num_PCs)\n",
    "        #val_statistics=apply_statistics(branches, all_val_groups, num_PCs)\n",
    "        test_statistics=apply_statistics(branches, all_test_groups, num_PCs)\n",
    "        \n",
    "       # train.append(train_statistics)\n",
    "        #val.append(val_statistics)\n",
    "        test.append(test_statistics)\n",
    "\n",
    "    return test"
   ]
  },
  {
   "cell_type": "code",
   "execution_count": 17,
   "id": "da9ee66d",
   "metadata": {
    "pycharm": {
     "name": "#%%\n"
    }
   },
   "outputs": [],
   "source": [
    "branches=['Global Flux', 'Local Flux', 'Centroid', 'Odd Even', 'Secondary', 'Stellar', 'DV']"
   ]
  },
  {
   "cell_type": "code",
   "execution_count": 22,
   "id": "30049499",
   "metadata": {
    "pycharm": {
     "name": "#%%\n"
    }
   },
   "outputs": [],
   "source": [
    "def eval_thresh(num_PCs,trials):\n",
    "    prec_arr=[]\n",
    "    rec_arr=[]\n",
    "    all_15=summary_threshold(num_PCs, trials)\n",
    "    for threshold in np.linspace(0, 1, 200):\n",
    "        precision_list=[]\n",
    "        recall_list=[]\n",
    "        for i in range(trials):\n",
    "            trial_val=evaluate_min_thresh(all_15[i], branches, threshold)\n",
    "            test_exp=trial_val['branch_explanations']\n",
    "            test_robo=trial_val['robo_flags']\n",
    "\n",
    "            scores=post_process_flags(test_robo, test_exp)\n",
    "            weighted_prec=precision_score(scores[0], scores[1], average='weighted', zero_division=0)\n",
    "            weighted_rec=recall_score(scores[0], scores[1], average='weighted', zero_division=0)\n",
    "            precision_list.append(weighted_prec)\n",
    "            recall_list.append(weighted_rec)\n",
    "        prec_arr.append(np.mean(precision_list))\n",
    "        rec_arr.append(np.mean(recall_list))\n",
    "    return prec_arr, rec_arr\n"
   ]
  },
  {
   "cell_type": "code",
   "execution_count": 19,
   "id": "f03fba72",
   "metadata": {
    "pycharm": {
     "name": "#%%\n"
    }
   },
   "outputs": [],
   "source": [
    "thresholding_1=eval_thresh(1, 10)\n",
    "thresholding_5=eval_thresh(5, 10)\n",
    "thresholding_10=eval_thresh(10, 10)\n",
    "thresholding_15=eval_thresh(15, 10)"
   ]
  },
  {
   "cell_type": "code",
   "execution_count": 32,
   "id": "da3cd6e2",
   "metadata": {
    "pycharm": {
     "name": "#%%\n"
    }
   },
   "outputs": [],
   "source": [
    "def eval_thresh_PC(num_PCs,trials):\n",
    "    prec_arr=[]\n",
    "    rec_arr=[]\n",
    "    all_15=summary_threshold(num_PCs, trials)\n",
    "    for threshold in np.linspace(0, 1, 200):\n",
    "        precision_list=[]\n",
    "        recall_list=[]\n",
    "        for i in range(trials):\n",
    "            trial_val=evaluate_min_thresh(all_15[i], branches, threshold)\n",
    "            test_exp=trial_val['branch_explanations']\n",
    "            test_robo=trial_val['robo_flags']\n",
    "            label=np.zeros(3063)\n",
    "            label[np.where(trial_val['original_label']=='PC')]=1\n",
    "\n",
    "            scores=post_process_flags(test_robo, test_exp)\n",
    "            sum_scores=np.sum(scores[1], axis=1)\n",
    "            sum_scores[np.where(sum_scores>0)]=-1\n",
    "            sum_scores[np.where(sum_scores==0)]=1\n",
    "            sum_scores[np.where(sum_scores==-1)]=0\n",
    "            true=label   \n",
    "            pred=sum_scores\n",
    "            prec=precision_score(true, pred, zero_division=0)\n",
    "            rec=recall_score(true, pred, zero_division=0)\n",
    "            precision_list.append(prec)\n",
    "            recall_list.append(rec)\n",
    "        prec_arr.append(np.mean(precision_list))\n",
    "        rec_arr.append(np.mean(recall_list))\n",
    "    return prec_arr, rec_arr"
   ]
  },
  {
   "cell_type": "code",
   "execution_count": 39,
   "id": "3953848c",
   "metadata": {
    "pycharm": {
     "name": "#%%\n"
    }
   },
   "outputs": [],
   "source": [
    "tested=eval_thresh_PC(15,10)"
   ]
  },
  {
   "cell_type": "code",
   "execution_count": 47,
   "id": "3a6a4dcb",
   "metadata": {
    "pycharm": {
     "name": "#%%\n"
    }
   },
   "outputs": [
    {
     "data": {
      "image/png": "[encoded data removed]",
      "text/plain": [
       "<Figure size 360x288 with 1 Axes>"
      ]
     },
     "metadata": {
      "needs_background": "light"
     },
     "output_type": "display_data"
    }
   ],
   "source": [
    "plt.figure(figsize(5,4))\n",
    "plt.plot(np.linspace(0, 1, 200)[2:], tested[0][2:])\n",
    "plt.plot(np.linspace(0, 1, 200)[2:], tested[1][2:])\n",
    "plt.xlabel('Threshold')\n",
    "plt.ylabel('Precision/Recall')\n",
    "plt.title('Precision/Recall of PC Selection with New Explainability')\n",
    "plt.savefig('PC_selection_newexp.pdf')"
   ]
  },
  {
   "cell_type": "code",
   "execution_count": 45,
   "id": "f737057c",
   "metadata": {
    "pycharm": {
     "name": "#%%\n"
    }
   },
   "outputs": [
    {
     "name": "stderr",
     "output_type": "stream",
     "text": [
      "/home4/khauskne/.conda/envs/ML_env/lib/python3.8/site-packages/numpy/core/_asarray.py:171: VisibleDeprecationWarning: Creating an ndarray from ragged nested sequences (which is a list-or-tuple of lists-or-tuples-or ndarrays with different lengths or shapes) is deprecated. If you meant to do this, you must specify 'dtype=object' when creating the ndarray.\n",
      "  return array(a, dtype, copy=False, order=order, subok=True)\n"
     ]
    }
   ],
   "source": [
    "np.save('/nobackup/khauskne/kdd/prec_thresh_PC_newexp.npy',[np.linspace(0, 1, 200)[2:], tested[0][:2]])\n",
    "np.save('/nobackup/khauskne/kdd/rec_thresh_PC_newexp.npy',[np.linspace(0, 1, 200)[2:], tested[1][:2]])"
   ]
  },
  {
   "cell_type": "code",
   "execution_count": 30,
   "id": "470bfddf",
   "metadata": {
    "pycharm": {
     "name": "#%%\n"
    }
   },
   "outputs": [
    {
     "data": {
      "text/plain": [
       "Text(0.5, 1.0, 'Recall of Classifier for Different Number of PCs')"
      ]
     },
     "execution_count": 30,
     "metadata": {},
     "output_type": "execute_result"
    },
    {
     "data": {
      "image/png": "[encoded data removed]",
      "text/plain": [
       "<Figure size 432x288 with 1 Axes>"
      ]
     },
     "metadata": {
      "needs_background": "light"
     },
     "output_type": "display_data"
    }
   ],
   "source": [
    "plt.plot(np.linspace(0, 1, 200), thresholding_1[0], label='1 PC')\n",
    "plt.plot(np.linspace(0, 1, 200), thresholding_5[0], label='5 PCs')\n",
    "#plt.plot(np.linspace(0, 1, 200), thresholding_1[1], label='Recall')\n",
    "plt.plot(np.linspace(0, 1, 200), thresholding_10[0], label='10 PCs')\n",
    "plt.plot(np.linspace(0, 1, 200), thresholding_15[0], label='15 PCs')\n",
    "#plt.plot(np.linspace(0, 1, 200), thresholding_10[1], label='Recall')\n",
    "plt.legend()\n",
    "#plt.ylim([0, 1])\n",
    "plt.xlabel('Threshold')\n",
    "plt.title('Recall of Classifier for Different Number of PCs')"
   ]
  },
  {
   "cell_type": "code",
   "execution_count": 31,
   "id": "f63b1e3d",
   "metadata": {
    "pycharm": {
     "name": "#%%\n"
    }
   },
   "outputs": [
    {
     "data": {
      "text/plain": [
       "Text(0.5, 1.0, 'Weighted Precision and Recall vs. Threshold for Proposed Method')"
      ]
     },
     "execution_count": 31,
     "metadata": {},
     "output_type": "execute_result"
    },
    {
     "data": {
      "image/png": "[encoded data removed]",
      "text/plain": [
       "<Figure size 432x288 with 1 Axes>"
      ]
     },
     "metadata": {
      "needs_background": "light"
     },
     "output_type": "display_data"
    }
   ],
   "source": [
    "plt.plot(np.linspace(0, 1, 200), thresholding[0], label='Precision')\n",
    "plt.plot(np.linspace(0, 1, 200), thresholding[1], label='Recall')\n",
    "plt.legend()\n",
    "#plt.ylim([0, 1])\n",
    "plt.xlabel('Threshold')\n",
    "plt.title('Weighted Precision and Recall vs. Threshold for Proposed Method')"
   ]
  },
  {
   "cell_type": "code",
   "execution_count": 32,
   "id": "4b991315",
   "metadata": {
    "pycharm": {
     "name": "#%%\n"
    }
   },
   "outputs": [],
   "source": [
    "np.save('/nobackup/khauskne/kdd/prec_thresh_new_exp.npy',[np.linspace(0, 1, 200), thresholding[0]])"
   ]
  },
  {
   "cell_type": "code",
   "execution_count": 33,
   "id": "c0cfd611",
   "metadata": {
    "pycharm": {
     "name": "#%%\n"
    }
   },
   "outputs": [],
   "source": [
    "np.save('/nobackup/khauskne/kdd/rec_thresh_new_exp.npy',[np.linspace(0, 1, 200), thresholding[1]])"
   ]
  },
  {
   "cell_type": "code",
   "execution_count": null,
   "id": "8b7deb39",
   "metadata": {
    "pycharm": {
     "name": "#%%\n"
    }
   },
   "outputs": [],
   "source": []
  }
 ],
 "metadata": {
  "kernelspec": {
   "display_name": "Python 3 (ipykernel)",
   "language": "python",
   "name": "python3"
  },
  "language_info": {
   "codemirror_mode": {
    "name": "ipython",
    "version": 3
   },
   "file_extension": ".py",
   "mimetype": "text/x-python",
   "name": "python",
   "nbconvert_exporter": "python",
   "pygments_lexer": "ipython3",
   "version": "3.8.5"
  }
 },
 "nbformat": 4,
 "nbformat_minor": 5
}