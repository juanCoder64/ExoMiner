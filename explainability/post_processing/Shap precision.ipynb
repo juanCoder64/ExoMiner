{
 "cells": [
  {
   "cell_type": "code",
   "execution_count": 2,
   "id": "6ace5b6b",
   "metadata": {
    "pycharm": {
     "name": "#%%\n"
    }
   },
   "outputs": [
    {
     "name": "stdout",
     "output_type": "stream",
     "text": [
      "Populating the interactive namespace from numpy and matplotlib\n"
     ]
    }
   ],
   "source": [
    "# 3rd party\n",
    "import pandas as pd\n",
    "import numpy as np\n",
    "%pylab inline"
   ]
  },
  {
   "cell_type": "code",
   "execution_count": 3,
   "id": "08a1bb30",
   "metadata": {
    "pycharm": {
     "name": "#%%\n"
    }
   },
   "outputs": [],
   "source": [
    "# Read SHAP scores\n",
    "test=pd.read_csv('/nobackup/khauskne/kdd/all_shap_scores.csv')"
   ]
  },
  {
   "cell_type": "code",
   "execution_count": 4,
   "id": "03a0be8a",
   "metadata": {
    "pycharm": {
     "name": "#%%\n"
    }
   },
   "outputs": [],
   "source": [
    "# Read Robovetter Minor Flags\n",
    "robo_flags=pd.read_csv('/nobackup/khauskne/kdd/robovetter_flags_all_DR25.csv')"
   ]
  },
  {
   "cell_type": "code",
   "execution_count": 5,
   "id": "6ede296b",
   "metadata": {
    "pycharm": {
     "name": "#%%\n"
    }
   },
   "outputs": [
    {
     "data": {
      "text/html": [
       "<div>\n",
       "<style scoped>\n",
       "    .dataframe tbody tr th:only-of-type {\n",
       "        vertical-align: middle;\n",
       "    }\n",
       "\n",
       "    .dataframe tbody tr th {\n",
       "        vertical-align: top;\n",
       "    }\n",
       "\n",
       "    .dataframe thead th {\n",
       "        text-align: right;\n",
       "    }\n",
       "</style>\n",
       "<table border=\"1\" class=\"dataframe\">\n",
       "  <thead>\n",
       "    <tr style=\"text-align: right;\">\n",
       "      <th></th>\n",
       "      <th>Unnamed: 0</th>\n",
       "      <th>target_id</th>\n",
       "      <th>tce_plnt_num</th>\n",
       "      <th>TCE</th>\n",
       "      <th>Robovetter_Score</th>\n",
       "      <th>Disposition</th>\n",
       "      <th>Not_Transit-Like_Flag</th>\n",
       "      <th>Stellar_Eclipse_Flag</th>\n",
       "      <th>Centroid_Offset_Flag</th>\n",
       "      <th>Ephemeris_Match_Flag</th>\n",
       "      <th>Minor_Descriptive_Flags</th>\n",
       "      <th>Global Flux Flag</th>\n",
       "      <th>Local Flux Flag</th>\n",
       "      <th>Centroid Flag</th>\n",
       "      <th>Odd Even Flag</th>\n",
       "      <th>Secondary Flag</th>\n",
       "      <th>Stellar Flag</th>\n",
       "      <th>DV Flag</th>\n",
       "    </tr>\n",
       "  </thead>\n",
       "  <tbody>\n",
       "    <tr>\n",
       "      <th>0</th>\n",
       "      <td>0</td>\n",
       "      <td>757099</td>\n",
       "      <td>1</td>\n",
       "      <td>000757099-01</td>\n",
       "      <td>0.000</td>\n",
       "      <td>FP</td>\n",
       "      <td>1</td>\n",
       "      <td>0</td>\n",
       "      <td>0</td>\n",
       "      <td>0</td>\n",
       "      <td>LPP_DV---LPP_ALT---MOD_NONUNIQ_DV</td>\n",
       "      <td>0</td>\n",
       "      <td>1</td>\n",
       "      <td>0</td>\n",
       "      <td>0</td>\n",
       "      <td>0</td>\n",
       "      <td>0</td>\n",
       "      <td>0</td>\n",
       "    </tr>\n",
       "    <tr>\n",
       "      <th>1</th>\n",
       "      <td>1</td>\n",
       "      <td>757450</td>\n",
       "      <td>1</td>\n",
       "      <td>000757450-01</td>\n",
       "      <td>0.999</td>\n",
       "      <td>PC</td>\n",
       "      <td>0</td>\n",
       "      <td>0</td>\n",
       "      <td>0</td>\n",
       "      <td>0</td>\n",
       "      <td>NO_COMMENT</td>\n",
       "      <td>0</td>\n",
       "      <td>0</td>\n",
       "      <td>0</td>\n",
       "      <td>0</td>\n",
       "      <td>0</td>\n",
       "      <td>0</td>\n",
       "      <td>0</td>\n",
       "    </tr>\n",
       "    <tr>\n",
       "      <th>2</th>\n",
       "      <td>2</td>\n",
       "      <td>892376</td>\n",
       "      <td>1</td>\n",
       "      <td>000892376-01</td>\n",
       "      <td>0.000</td>\n",
       "      <td>FP</td>\n",
       "      <td>1</td>\n",
       "      <td>0</td>\n",
       "      <td>0</td>\n",
       "      <td>0</td>\n",
       "      <td>INDIV_TRANS_CHASES_MARSHALL---LPP_DV---ALL_TRA...</td>\n",
       "      <td>0</td>\n",
       "      <td>1</td>\n",
       "      <td>0</td>\n",
       "      <td>0</td>\n",
       "      <td>0</td>\n",
       "      <td>0</td>\n",
       "      <td>0</td>\n",
       "    </tr>\n",
       "    <tr>\n",
       "      <th>3</th>\n",
       "      <td>3</td>\n",
       "      <td>892376</td>\n",
       "      <td>2</td>\n",
       "      <td>000892376-02</td>\n",
       "      <td>0.000</td>\n",
       "      <td>FP</td>\n",
       "      <td>1</td>\n",
       "      <td>0</td>\n",
       "      <td>0</td>\n",
       "      <td>0</td>\n",
       "      <td>LPP_DV---MOD_NONUNIQ_DV---CENT_KIC_POS</td>\n",
       "      <td>0</td>\n",
       "      <td>1</td>\n",
       "      <td>0</td>\n",
       "      <td>0</td>\n",
       "      <td>0</td>\n",
       "      <td>0</td>\n",
       "      <td>0</td>\n",
       "    </tr>\n",
       "    <tr>\n",
       "      <th>4</th>\n",
       "      <td>4</td>\n",
       "      <td>892376</td>\n",
       "      <td>3</td>\n",
       "      <td>000892376-03</td>\n",
       "      <td>0.000</td>\n",
       "      <td>FP</td>\n",
       "      <td>1</td>\n",
       "      <td>0</td>\n",
       "      <td>0</td>\n",
       "      <td>0</td>\n",
       "      <td>INDIV_TRANS_RUBBLE---TRANS_GAPPED---LPP_DV---L...</td>\n",
       "      <td>0</td>\n",
       "      <td>1</td>\n",
       "      <td>0</td>\n",
       "      <td>0</td>\n",
       "      <td>0</td>\n",
       "      <td>0</td>\n",
       "      <td>0</td>\n",
       "    </tr>\n",
       "    <tr>\n",
       "      <th>...</th>\n",
       "      <td>...</td>\n",
       "      <td>...</td>\n",
       "      <td>...</td>\n",
       "      <td>...</td>\n",
       "      <td>...</td>\n",
       "      <td>...</td>\n",
       "      <td>...</td>\n",
       "      <td>...</td>\n",
       "      <td>...</td>\n",
       "      <td>...</td>\n",
       "      <td>...</td>\n",
       "      <td>...</td>\n",
       "      <td>...</td>\n",
       "      <td>...</td>\n",
       "      <td>...</td>\n",
       "      <td>...</td>\n",
       "      <td>...</td>\n",
       "      <td>...</td>\n",
       "    </tr>\n",
       "    <tr>\n",
       "      <th>32529</th>\n",
       "      <td>32529</td>\n",
       "      <td>12885212</td>\n",
       "      <td>1</td>\n",
       "      <td>012885212-01</td>\n",
       "      <td>0.001</td>\n",
       "      <td>FP</td>\n",
       "      <td>0</td>\n",
       "      <td>0</td>\n",
       "      <td>1</td>\n",
       "      <td>0</td>\n",
       "      <td>CENT_RESOLVED_OFFSET</td>\n",
       "      <td>0</td>\n",
       "      <td>0</td>\n",
       "      <td>1</td>\n",
       "      <td>0</td>\n",
       "      <td>0</td>\n",
       "      <td>0</td>\n",
       "      <td>0</td>\n",
       "    </tr>\n",
       "    <tr>\n",
       "      <th>32530</th>\n",
       "      <td>32530</td>\n",
       "      <td>12885212</td>\n",
       "      <td>2</td>\n",
       "      <td>012885212-02</td>\n",
       "      <td>0.638</td>\n",
       "      <td>PC</td>\n",
       "      <td>0</td>\n",
       "      <td>0</td>\n",
       "      <td>0</td>\n",
       "      <td>0</td>\n",
       "      <td>NO_COMMENT</td>\n",
       "      <td>0</td>\n",
       "      <td>0</td>\n",
       "      <td>0</td>\n",
       "      <td>0</td>\n",
       "      <td>0</td>\n",
       "      <td>0</td>\n",
       "      <td>0</td>\n",
       "    </tr>\n",
       "    <tr>\n",
       "      <th>32531</th>\n",
       "      <td>32531</td>\n",
       "      <td>12885505</td>\n",
       "      <td>1</td>\n",
       "      <td>012885505-01</td>\n",
       "      <td>0.000</td>\n",
       "      <td>FP</td>\n",
       "      <td>1</td>\n",
       "      <td>0</td>\n",
       "      <td>0</td>\n",
       "      <td>0</td>\n",
       "      <td>INDIV_TRANS_MARSHALL---LPP_DV---INCONSISTENT_T...</td>\n",
       "      <td>0</td>\n",
       "      <td>1</td>\n",
       "      <td>0</td>\n",
       "      <td>0</td>\n",
       "      <td>0</td>\n",
       "      <td>0</td>\n",
       "      <td>0</td>\n",
       "    </tr>\n",
       "    <tr>\n",
       "      <th>32532</th>\n",
       "      <td>32532</td>\n",
       "      <td>12935144</td>\n",
       "      <td>1</td>\n",
       "      <td>012935144-01</td>\n",
       "      <td>0.000</td>\n",
       "      <td>FP</td>\n",
       "      <td>0</td>\n",
       "      <td>0</td>\n",
       "      <td>1</td>\n",
       "      <td>0</td>\n",
       "      <td>CENT_RESOLVED_OFFSET---HALO_GHOST</td>\n",
       "      <td>0</td>\n",
       "      <td>0</td>\n",
       "      <td>1</td>\n",
       "      <td>0</td>\n",
       "      <td>0</td>\n",
       "      <td>0</td>\n",
       "      <td>1</td>\n",
       "    </tr>\n",
       "    <tr>\n",
       "      <th>32533</th>\n",
       "      <td>32533</td>\n",
       "      <td>100001645</td>\n",
       "      <td>1</td>\n",
       "      <td>100001645-01</td>\n",
       "      <td>0.000</td>\n",
       "      <td>FP</td>\n",
       "      <td>1</td>\n",
       "      <td>0</td>\n",
       "      <td>0</td>\n",
       "      <td>0</td>\n",
       "      <td>LPP_DV---LPP_ALT---ALL_TRANS_CHASES---MOD_NONU...</td>\n",
       "      <td>0</td>\n",
       "      <td>1</td>\n",
       "      <td>0</td>\n",
       "      <td>0</td>\n",
       "      <td>0</td>\n",
       "      <td>0</td>\n",
       "      <td>0</td>\n",
       "    </tr>\n",
       "  </tbody>\n",
       "</table>\n",
       "<p>32534 rows × 18 columns</p>\n",
       "</div>"
      ],
      "text/plain": [
       "       Unnamed: 0  target_id  tce_plnt_num           TCE  Robovetter_Score  \\\n",
       "0               0     757099             1  000757099-01             0.000   \n",
       "1               1     757450             1  000757450-01             0.999   \n",
       "2               2     892376             1  000892376-01             0.000   \n",
       "3               3     892376             2  000892376-02             0.000   \n",
       "4               4     892376             3  000892376-03             0.000   \n",
       "...           ...        ...           ...           ...               ...   \n",
       "32529       32529   12885212             1  012885212-01             0.001   \n",
       "32530       32530   12885212             2  012885212-02             0.638   \n",
       "32531       32531   12885505             1  012885505-01             0.000   \n",
       "32532       32532   12935144             1  012935144-01             0.000   \n",
       "32533       32533  100001645             1  100001645-01             0.000   \n",
       "\n",
       "      Disposition  Not_Transit-Like_Flag  Stellar_Eclipse_Flag  \\\n",
       "0              FP                      1                     0   \n",
       "1              PC                      0                     0   \n",
       "2              FP                      1                     0   \n",
       "3              FP                      1                     0   \n",
       "4              FP                      1                     0   \n",
       "...           ...                    ...                   ...   \n",
       "32529          FP                      0                     0   \n",
       "32530          PC                      0                     0   \n",
       "32531          FP                      1                     0   \n",
       "32532          FP                      0                     0   \n",
       "32533          FP                      1                     0   \n",
       "\n",
       "       Centroid_Offset_Flag  Ephemeris_Match_Flag  \\\n",
       "0                         0                     0   \n",
       "1                         0                     0   \n",
       "2                         0                     0   \n",
       "3                         0                     0   \n",
       "4                         0                     0   \n",
       "...                     ...                   ...   \n",
       "32529                     1                     0   \n",
       "32530                     0                     0   \n",
       "32531                     0                     0   \n",
       "32532                     1                     0   \n",
       "32533                     0                     0   \n",
       "\n",
       "                                 Minor_Descriptive_Flags  Global Flux Flag  \\\n",
       "0                      LPP_DV---LPP_ALT---MOD_NONUNIQ_DV                 0   \n",
       "1                                             NO_COMMENT                 0   \n",
       "2      INDIV_TRANS_CHASES_MARSHALL---LPP_DV---ALL_TRA...                 0   \n",
       "3                 LPP_DV---MOD_NONUNIQ_DV---CENT_KIC_POS                 0   \n",
       "4      INDIV_TRANS_RUBBLE---TRANS_GAPPED---LPP_DV---L...                 0   \n",
       "...                                                  ...               ...   \n",
       "32529                               CENT_RESOLVED_OFFSET                 0   \n",
       "32530                                         NO_COMMENT                 0   \n",
       "32531  INDIV_TRANS_MARSHALL---LPP_DV---INCONSISTENT_T...                 0   \n",
       "32532                  CENT_RESOLVED_OFFSET---HALO_GHOST                 0   \n",
       "32533  LPP_DV---LPP_ALT---ALL_TRANS_CHASES---MOD_NONU...                 0   \n",
       "\n",
       "       Local Flux Flag  Centroid Flag  Odd Even Flag  Secondary Flag  \\\n",
       "0                    1              0              0               0   \n",
       "1                    0              0              0               0   \n",
       "2                    1              0              0               0   \n",
       "3                    1              0              0               0   \n",
       "4                    1              0              0               0   \n",
       "...                ...            ...            ...             ...   \n",
       "32529                0              1              0               0   \n",
       "32530                0              0              0               0   \n",
       "32531                1              0              0               0   \n",
       "32532                0              1              0               0   \n",
       "32533                1              0              0               0   \n",
       "\n",
       "       Stellar Flag  DV Flag  \n",
       "0                 0        0  \n",
       "1                 0        0  \n",
       "2                 0        0  \n",
       "3                 0        0  \n",
       "4                 0        0  \n",
       "...             ...      ...  \n",
       "32529             0        0  \n",
       "32530             0        0  \n",
       "32531             0        0  \n",
       "32532             0        1  \n",
       "32533             0        0  \n",
       "\n",
       "[32534 rows x 18 columns]"
      ]
     },
     "execution_count": 5,
     "metadata": {},
     "output_type": "execute_result"
    }
   ],
   "source": [
    "robo_flags"
   ]
  },
  {
   "cell_type": "code",
   "execution_count": 6,
   "id": "d8af83e3",
   "metadata": {
    "pycharm": {
     "name": "#%%\n"
    }
   },
   "outputs": [],
   "source": [
    "# Merge Robovetter Minor Flags with SHAP scores\n",
    "test_csv=pd.merge(test, robo_flags, on=['target_id', 'tce_plnt_num'])"
   ]
  },
  {
   "cell_type": "code",
   "execution_count": 7,
   "id": "4049ba4f",
   "metadata": {
    "pycharm": {
     "name": "#%%\n"
    }
   },
   "outputs": [],
   "source": [
    "# choose only columns of interest\n",
    "shap_array=np.array(test_csv[test_csv.columns[4:11]])\n",
    "robo_array=np.array(test_csv[test_csv.columns[20:]])"
   ]
  },
  {
   "cell_type": "code",
   "execution_count": 8,
   "id": "9afa9408",
   "metadata": {
    "pycharm": {
     "name": "#%%\n"
    }
   },
   "outputs": [],
   "source": [
    "def post_process_flags(robo_flags, branch_explanations):\n",
    "    branch_inds_to_keep=[1,2,3,4,6]\n",
    "    \n",
    "    robo_new=np.moveaxis(robo_flags ,0, -1)[branch_inds_to_keep]\n",
    "    robo_new=np.moveaxis(robo_new, 0, -1)\n",
    "    \n",
    "    exp_new=np.moveaxis(branch_explanations, 0, -1)\n",
    "    global_flux=exp_new[0]\n",
    "    local_flux=exp_new[1]\n",
    "    greater_flux=np.amax(test_csv[test_csv.columns[4:6]], axis=1)\n",
    "    #combined_flux=np.where(added_flux>0, 1, 0)\n",
    "    exp_new=exp_new[branch_inds_to_keep]\n",
    "    exp_new[0]=greater_flux\n",
    "    exp_new=np.moveaxis(exp_new, 0, -1)\n",
    "    \n",
    "    return robo_new, exp_new"
   ]
  },
  {
   "cell_type": "code",
   "execution_count": 9,
   "id": "00b7456f",
   "metadata": {
    "pycharm": {
     "name": "#%%\n"
    }
   },
   "outputs": [],
   "source": [
    "robo, shap=post_process_flags(robo_array, shap_array)"
   ]
  },
  {
   "cell_type": "code",
   "execution_count": 10,
   "id": "92f66850",
   "metadata": {
    "pycharm": {
     "name": "#%%\n"
    }
   },
   "outputs": [
    {
     "data": {
      "text/plain": [
       "array([[-3.57547000e-11,  6.60000000e-12, -3.46600000e-11, ...,\n",
       "        -3.57970500e-11, -3.57918700e-11, -3.57908800e-11],\n",
       "       [-1.43685000e-09, -1.42500000e-09,  1.38600000e-08, ...,\n",
       "         4.50000000e-09, -1.43999866e-09, -1.44000000e-09],\n",
       "       [-4.74000000e-10,  2.29800000e-08,  7.08000000e-09, ...,\n",
       "        -7.22000000e-10, -1.21100000e-09, -1.24070000e-09],\n",
       "       ...,\n",
       "       [-2.16104000e-04,  1.05337000e-04,  1.57937000e-03, ...,\n",
       "        -3.11854000e-04,  1.26875000e-04,  4.69460000e-05],\n",
       "       [ 3.32000000e-05, -2.67197000e-03, -4.99094000e-03, ...,\n",
       "        -1.62670000e-04, -1.01460000e-04, -1.16015000e-03],\n",
       "       [ 1.86810000e-08,  2.04100000e-09,  3.99100000e-09, ...,\n",
       "        -1.18968500e-10, -5.70000000e-11, -1.11600000e-10]])"
      ]
     },
     "execution_count": 10,
     "metadata": {},
     "output_type": "execute_result"
    }
   ],
   "source": [
    "shap_array"
   ]
  },
  {
   "cell_type": "code",
   "execution_count": 11,
   "id": "1464273d",
   "metadata": {
    "pycharm": {
     "name": "#%%\n"
    }
   },
   "outputs": [],
   "source": [
    "from sklearn.metrics import precision_score\n",
    "from sklearn.metrics import recall_score\n",
    "from sklearn.metrics import jaccard_score\n",
    "from sklearn.metrics import accuracy_score\n",
    "from sklearn.metrics import hamming_loss"
   ]
  },
  {
   "cell_type": "code",
   "execution_count": 12,
   "id": "725c5b37",
   "metadata": {
    "pycharm": {
     "name": "#%%\n"
    }
   },
   "outputs": [],
   "source": [
    "def top_n(robo, occlusion_array, n, average_type='weighted'):\n",
    "    robo, occlusion=post_process_flags(robo_array, occlusion_array)\n",
    "    for index in range(len(occlusion)):\n",
    "        tce=occlusion[index]\n",
    "        max_contrib=np.argsort(tce)[-1*n:]\n",
    "        #print(max_contrib)\n",
    "        occlusion[index]=np.zeros([5])\n",
    "        occlusion[index][max_contrib]=1\n",
    "        #print(occlusion[index])\n",
    "    weighted_prec=precision_score(robo, occlusion, average=average_type)\n",
    "    weighted_rec=recall_score(robo,occlusion, average=average_type)\n",
    "    print(str(np.round(weighted_prec, 4))+' \\& '+str(np.round(weighted_rec, 4)) )\n",
    "    return weighted_prec, weighted_rec"
   ]
  },
  {
   "cell_type": "code",
   "execution_count": 13,
   "id": "7aaa6732",
   "metadata": {
    "pycharm": {
     "name": "#%%\n"
    }
   },
   "outputs": [
    {
     "name": "stdout",
     "output_type": "stream",
     "text": [
      "0.4414 \\& 0.4456\n"
     ]
    },
    {
     "data": {
      "text/plain": [
       "(0.44139732288605943, 0.4456163480553724)"
      ]
     },
     "execution_count": 13,
     "metadata": {},
     "output_type": "execute_result"
    }
   ],
   "source": [
    "top_n(robo_array, shap_array, 1, 'micro')"
   ]
  },
  {
   "cell_type": "code",
   "execution_count": 14,
   "id": "d80c464e",
   "metadata": {
    "pycharm": {
     "name": "#%%\n"
    }
   },
   "outputs": [
    {
     "name": "stdout",
     "output_type": "stream",
     "text": [
      "0.3152 \\& 0.3349\n"
     ]
    },
    {
     "data": {
      "text/plain": [
       "(0.3152116115500066, 0.33487916735242707)"
      ]
     },
     "execution_count": 14,
     "metadata": {},
     "output_type": "execute_result"
    }
   ],
   "source": [
    "top_n(robo_array, shap_array, 1, 'macro')"
   ]
  },
  {
   "cell_type": "code",
   "execution_count": 15,
   "id": "97a51efc",
   "metadata": {
    "pycharm": {
     "name": "#%%\n"
    }
   },
   "outputs": [
    {
     "name": "stdout",
     "output_type": "stream",
     "text": [
      "0.6439 \\& 0.4456\n"
     ]
    },
    {
     "data": {
      "text/plain": [
       "(0.6438573473919966, 0.4456163480553724)"
      ]
     },
     "execution_count": 15,
     "metadata": {},
     "output_type": "execute_result"
    }
   ],
   "source": [
    "top_n(robo_array, shap_array, 1, 'weighted')"
   ]
  },
  {
   "cell_type": "code",
   "execution_count": 16,
   "id": "782fef74",
   "metadata": {
    "pycharm": {
     "name": "#%%\n"
    }
   },
   "outputs": [
    {
     "name": "stdout",
     "output_type": "stream",
     "text": [
      "0.3221 \\& 0.6503\n"
     ]
    },
    {
     "data": {
      "text/plain": [
       "(0.322069866144303, 0.6502966381015162)"
      ]
     },
     "execution_count": 16,
     "metadata": {},
     "output_type": "execute_result"
    }
   ],
   "source": [
    "top_n(robo_array, shap_array, 2, 'micro')"
   ]
  },
  {
   "cell_type": "code",
   "execution_count": 17,
   "id": "d6614e7d",
   "metadata": {
    "pycharm": {
     "name": "#%%\n"
    }
   },
   "outputs": [
    {
     "name": "stdout",
     "output_type": "stream",
     "text": [
      "0.2695 \\& 0.532\n"
     ]
    },
    {
     "data": {
      "text/plain": [
       "(0.269508868949565, 0.5320143220886986)"
      ]
     },
     "execution_count": 17,
     "metadata": {},
     "output_type": "execute_result"
    }
   ],
   "source": [
    "top_n(robo_array, shap_array, 2, 'macro')"
   ]
  },
  {
   "cell_type": "code",
   "execution_count": 18,
   "id": "e46abf9c",
   "metadata": {
    "pycharm": {
     "name": "#%%\n"
    }
   },
   "outputs": [
    {
     "name": "stdout",
     "output_type": "stream",
     "text": [
      "0.5846 \\& 0.6503\n"
     ]
    },
    {
     "data": {
      "text/plain": [
       "(0.5846349362193997, 0.6502966381015162)"
      ]
     },
     "execution_count": 18,
     "metadata": {},
     "output_type": "execute_result"
    }
   ],
   "source": [
    "top_n(robo_array, shap_array, 2, 'weighted')"
   ]
  },
  {
   "cell_type": "code",
   "execution_count": 19,
   "id": "4ce6c5bd",
   "metadata": {
    "pycharm": {
     "name": "#%%\n"
    }
   },
   "outputs": [
    {
     "name": "stdout",
     "output_type": "stream",
     "text": [
      "0.273 \\& 0.827\n"
     ]
    },
    {
     "data": {
      "text/plain": [
       "(0.27304385678528675, 0.8269611074489124)"
      ]
     },
     "execution_count": 19,
     "metadata": {},
     "output_type": "execute_result"
    }
   ],
   "source": [
    "top_n(robo_array, shap_array, 3, 'micro')"
   ]
  },
  {
   "cell_type": "code",
   "execution_count": 20,
   "id": "d8254fa3",
   "metadata": {
    "pycharm": {
     "name": "#%%\n"
    }
   },
   "outputs": [
    {
     "name": "stdout",
     "output_type": "stream",
     "text": [
      "0.2488 \\& 0.7384\n"
     ]
    },
    {
     "data": {
      "text/plain": [
       "(0.2488478932054722, 0.7384010016103654)"
      ]
     },
     "execution_count": 20,
     "metadata": {},
     "output_type": "execute_result"
    }
   ],
   "source": [
    "top_n(robo_array, shap_array, 3, 'macro')"
   ]
  },
  {
   "cell_type": "code",
   "execution_count": 21,
   "id": "5a7ee979",
   "metadata": {
    "pycharm": {
     "name": "#%%\n"
    }
   },
   "outputs": [
    {
     "name": "stdout",
     "output_type": "stream",
     "text": [
      "0.5558 \\& 0.827\n"
     ]
    },
    {
     "data": {
      "text/plain": [
       "(0.5558431842025855, 0.8269611074489124)"
      ]
     },
     "execution_count": 21,
     "metadata": {},
     "output_type": "execute_result"
    }
   ],
   "source": [
    "top_n(robo_array, shap_array, 3, 'weighted')"
   ]
  },
  {
   "cell_type": "code",
   "execution_count": 22,
   "id": "8f9363fb",
   "metadata": {
    "pycharm": {
     "name": "#%%\n"
    }
   },
   "outputs": [],
   "source": [
    "def top_n_hamming(robo, occlusion_array, n):\n",
    "    robo, occlusion=post_process_flags(robo_array, occlusion_array)\n",
    "    for index in range(len(occlusion)):\n",
    "        tce=occlusion[index]\n",
    "        max_contrib=np.argsort(tce)[-1*n:]\n",
    "        #print(max_contrib)\n",
    "        occlusion[index]=np.zeros([5])\n",
    "        occlusion[index][max_contrib]=1\n",
    "        #print(occlusion[index])\n",
    "    weighted_prec=hamming_loss(robo, occlusion)\n",
    "    #weighted_rec=recall_score(robo,occlusion, average=average_type)\n",
    "    print(str(np.round(weighted_prec, 4)))\n",
    "    return weighted_prec#, weighted_rec"
   ]
  },
  {
   "cell_type": "code",
   "execution_count": 23,
   "id": "d1b1c09e",
   "metadata": {
    "pycharm": {
     "name": "#%%\n"
    }
   },
   "outputs": [
    {
     "name": "stdout",
     "output_type": "stream",
     "text": [
      "0.2215\n"
     ]
    },
    {
     "data": {
      "text/plain": [
       "0.22154750244857982"
      ]
     },
     "execution_count": 23,
     "metadata": {},
     "output_type": "execute_result"
    }
   ],
   "source": [
    "top_n_hamming(robo_array, shap_array, 1)"
   ]
  },
  {
   "cell_type": "code",
   "execution_count": 24,
   "id": "54d0a327",
   "metadata": {
    "pycharm": {
     "name": "#%%\n"
    }
   },
   "outputs": [
    {
     "name": "stdout",
     "output_type": "stream",
     "text": [
      "0.3405\n"
     ]
    },
    {
     "data": {
      "text/plain": [
       "0.3404505386875612"
      ]
     },
     "execution_count": 24,
     "metadata": {},
     "output_type": "execute_result"
    }
   ],
   "source": [
    "top_n_hamming(robo_array, shap_array, 2)"
   ]
  },
  {
   "cell_type": "code",
   "execution_count": 25,
   "id": "f26fb76f",
   "metadata": {
    "pycharm": {
     "name": "#%%\n"
    }
   },
   "outputs": [
    {
     "name": "stdout",
     "output_type": "stream",
     "text": [
      "0.4705\n"
     ]
    },
    {
     "data": {
      "text/plain": [
       "0.47045380346065946"
      ]
     },
     "execution_count": 25,
     "metadata": {},
     "output_type": "execute_result"
    }
   ],
   "source": [
    "top_n_hamming(robo_array, shap_array, 3)"
   ]
  },
  {
   "cell_type": "code",
   "execution_count": 26,
   "id": "6564eb3a",
   "metadata": {
    "pycharm": {
     "name": "#%%\n"
    }
   },
   "outputs": [],
   "source": [
    "def top_n_acc(robo, occlusion_array, n):\n",
    "    robo, occlusion=post_process_flags(robo_array, occlusion_array)\n",
    "    for index in range(len(occlusion)):\n",
    "        tce=occlusion[index]\n",
    "        max_contrib=np.argsort(tce)[-1*n:]\n",
    "        #print(max_contrib)\n",
    "        occlusion[index]=np.zeros([5])\n",
    "        occlusion[index][max_contrib]=1\n",
    "        #print(occlusion[index])\n",
    "    weighted_prec=accuracy_score(robo, occlusion)\n",
    "    #weighted_rec=recall_score(robo,occlusion, average=average_type)\n",
    "    print(str(np.round(weighted_prec, 4)))\n",
    "    return weighted_prec#, weighted_rec"
   ]
  },
  {
   "cell_type": "code",
   "execution_count": 27,
   "id": "c60ac8f1",
   "metadata": {
    "pycharm": {
     "name": "#%%\n"
    }
   },
   "outputs": [
    {
     "name": "stdout",
     "output_type": "stream",
     "text": [
      "0.3369\n"
     ]
    },
    {
     "data": {
      "text/plain": [
       "0.33692458374143"
      ]
     },
     "execution_count": 27,
     "metadata": {},
     "output_type": "execute_result"
    }
   ],
   "source": [
    "top_n_acc(robo_array, shap_array, 1)"
   ]
  },
  {
   "cell_type": "code",
   "execution_count": 28,
   "id": "7cb54696",
   "metadata": {
    "pycharm": {
     "name": "#%%\n"
    }
   },
   "outputs": [
    {
     "name": "stdout",
     "output_type": "stream",
     "text": [
      "0.0268\n"
     ]
    },
    {
     "data": {
      "text/plain": [
       "0.026771139405811297"
      ]
     },
     "execution_count": 28,
     "metadata": {},
     "output_type": "execute_result"
    }
   ],
   "source": [
    "top_n_acc(robo_array, shap_array, 2)"
   ]
  },
  {
   "cell_type": "code",
   "execution_count": 29,
   "id": "7241591b",
   "metadata": {
    "pycharm": {
     "name": "#%%\n"
    }
   },
   "outputs": [
    {
     "name": "stdout",
     "output_type": "stream",
     "text": [
      "0.0059\n"
     ]
    },
    {
     "data": {
      "text/plain": [
       "0.005876591576885406"
      ]
     },
     "execution_count": 29,
     "metadata": {},
     "output_type": "execute_result"
    }
   ],
   "source": [
    "top_n_acc(robo_array, shap_array, 3)"
   ]
  },
  {
   "cell_type": "code",
   "execution_count": 30,
   "id": "a8a97101",
   "metadata": {
    "pycharm": {
     "name": "#%%\n"
    }
   },
   "outputs": [],
   "source": [
    "def top_n_jaccard(robo, occlusion_array, n, average_type='weighted'):\n",
    "    robo, occlusion=post_process_flags(robo_array, occlusion_array)\n",
    "    for index in range(len(occlusion)):\n",
    "        tce=occlusion[index]\n",
    "        max_contrib=np.argsort(tce)[-1*n:]\n",
    "        #print(max_contrib)\n",
    "        occlusion[index]=np.zeros([5])\n",
    "        occlusion[index][max_contrib]=1\n",
    "        #print(occlusion[index])\n",
    "    weighted_prec=jaccard_score(robo, occlusion, average=average_type)\n",
    "    print(str(np.round(weighted_prec, 4)))\n",
    "    #weighted_rec=recall_score(robo,occlusion, average=average_type)\n",
    "    return weighted_prec#, weighted_rec"
   ]
  },
  {
   "cell_type": "code",
   "execution_count": 31,
   "id": "f58e9234",
   "metadata": {
    "pycharm": {
     "name": "#%%\n"
    }
   },
   "outputs": [
    {
     "name": "stdout",
     "output_type": "stream",
     "text": [
      "0.3637\n"
     ]
    },
    {
     "data": {
      "text/plain": [
       "0.3637119049141223"
      ]
     },
     "execution_count": 31,
     "metadata": {},
     "output_type": "execute_result"
    }
   ],
   "source": [
    "top_n_jaccard(robo_array, shap_array, 1)"
   ]
  },
  {
   "cell_type": "code",
   "execution_count": 32,
   "id": "04671ce5",
   "metadata": {
    "pycharm": {
     "name": "#%%\n"
    }
   },
   "outputs": [
    {
     "name": "stdout",
     "output_type": "stream",
     "text": [
      "0.4554\n"
     ]
    },
    {
     "data": {
      "text/plain": [
       "0.4554386010073555"
      ]
     },
     "execution_count": 32,
     "metadata": {},
     "output_type": "execute_result"
    }
   ],
   "source": [
    "top_n_jaccard(robo_array, shap_array, 2)"
   ]
  },
  {
   "cell_type": "code",
   "execution_count": 33,
   "id": "3db07870",
   "metadata": {
    "pycharm": {
     "name": "#%%\n"
    }
   },
   "outputs": [
    {
     "name": "stdout",
     "output_type": "stream",
     "text": [
      "0.5153\n"
     ]
    },
    {
     "data": {
      "text/plain": [
       "0.5153345585124672"
      ]
     },
     "execution_count": 33,
     "metadata": {},
     "output_type": "execute_result"
    }
   ],
   "source": [
    "top_n_jaccard(robo_array, shap_array, 3)"
   ]
  },
  {
   "cell_type": "code",
   "execution_count": 34,
   "id": "98bb330b",
   "metadata": {
    "pycharm": {
     "name": "#%%\n"
    }
   },
   "outputs": [
    {
     "data": {
      "text/plain": [
       "array([0, 1, 0, 0, 0, 0, 0])"
      ]
     },
     "execution_count": 34,
     "metadata": {},
     "output_type": "execute_result"
    }
   ],
   "source": [
    "robo_array[0]"
   ]
  },
  {
   "cell_type": "code",
   "execution_count": 35,
   "id": "9cb649fd",
   "metadata": {
    "pycharm": {
     "name": "#%%\n"
    }
   },
   "outputs": [],
   "source": [
    "def per_class_prec_rec_top_n(robo, occlusion_array, n, branch_ind):\n",
    "    robo, occlusion=post_process_flags(robo_array, occlusion_array)\n",
    "    for index in range(len(occlusion)):\n",
    "        tce=occlusion[index]\n",
    "        max_contrib=np.argsort(tce)[-1*n:]\n",
    "        occlusion[index]=np.zeros([5])\n",
    "        occlusion[index][max_contrib]=1\n",
    "    robo_branch=np.moveaxis(robo, 0, -1)[branch_ind]\n",
    "    occ_branch=np.moveaxis(occlusion, 0, -1)[branch_ind]\n",
    "    weighted_prec=precision_score(robo_branch, occ_branch)\n",
    "    weighted_rec=recall_score(robo_branch,occ_branch)\n",
    "    print(str(np.round(weighted_prec, 4))+' \\& '+str(np.round(weighted_rec, 4)) )\n",
    "    return weighted_prec, weighted_rec"
   ]
  },
  {
   "cell_type": "code",
   "execution_count": 36,
   "id": "81386b04",
   "metadata": {
    "pycharm": {
     "name": "#%%\n"
    }
   },
   "outputs": [
    {
     "name": "stdout",
     "output_type": "stream",
     "text": [
      "0.8217 \\& 0.5035\n"
     ]
    },
    {
     "data": {
      "text/plain": [
       "(0.8217291507268554, 0.5035161744022504)"
      ]
     },
     "execution_count": 36,
     "metadata": {},
     "output_type": "execute_result"
    }
   ],
   "source": [
    "per_class_prec_rec_top_n(robo_array, shap_array, 1, 0)"
   ]
  },
  {
   "cell_type": "code",
   "execution_count": 37,
   "id": "0f7ac2c0",
   "metadata": {
    "pycharm": {
     "name": "#%%\n"
    }
   },
   "outputs": [
    {
     "name": "stdout",
     "output_type": "stream",
     "text": [
      "0.2442 \\& 0.4411\n"
     ]
    },
    {
     "data": {
      "text/plain": [
       "(0.24421052631578946, 0.44106463878326996)"
      ]
     },
     "execution_count": 37,
     "metadata": {},
     "output_type": "execute_result"
    }
   ],
   "source": [
    "per_class_prec_rec_top_n(robo_array, shap_array, 1, 1)"
   ]
  },
  {
   "cell_type": "code",
   "execution_count": 38,
   "id": "35ebba6e",
   "metadata": {
    "pycharm": {
     "name": "#%%\n"
    }
   },
   "outputs": [
    {
     "name": "stdout",
     "output_type": "stream",
     "text": [
      "0.0118 \\& 0.15\n"
     ]
    },
    {
     "data": {
      "text/plain": [
       "(0.011795543905635648, 0.15)"
      ]
     },
     "execution_count": 38,
     "metadata": {},
     "output_type": "execute_result"
    }
   ],
   "source": [
    "per_class_prec_rec_top_n(robo_array, shap_array, 1, 2)"
   ]
  },
  {
   "cell_type": "code",
   "execution_count": 39,
   "id": "5d27b502",
   "metadata": {
    "pycharm": {
     "name": "#%%\n"
    }
   },
   "outputs": [
    {
     "name": "stdout",
     "output_type": "stream",
     "text": [
      "0.3778 \\& 0.5175\n"
     ]
    },
    {
     "data": {
      "text/plain": [
       "(0.3778409090909091, 0.5175097276264592)"
      ]
     },
     "execution_count": 39,
     "metadata": {},
     "output_type": "execute_result"
    }
   ],
   "source": [
    "per_class_prec_rec_top_n(robo_array, shap_array, 1, 3)"
   ]
  },
  {
   "cell_type": "code",
   "execution_count": 40,
   "id": "a0756706",
   "metadata": {
    "pycharm": {
     "name": "#%%\n"
    }
   },
   "outputs": [
    {
     "name": "stdout",
     "output_type": "stream",
     "text": [
      "0.1205 \\& 0.0623\n"
     ]
    },
    {
     "data": {
      "text/plain": [
       "(0.12048192771084337, 0.06230529595015576)"
      ]
     },
     "execution_count": 40,
     "metadata": {},
     "output_type": "execute_result"
    }
   ],
   "source": [
    "per_class_prec_rec_top_n(robo_array, shap_array, 1, 4)"
   ]
  },
  {
   "cell_type": "code",
   "execution_count": 41,
   "id": "d2a87c64",
   "metadata": {
    "pycharm": {
     "name": "#%%\n"
    }
   },
   "outputs": [
    {
     "name": "stdout",
     "output_type": "stream",
     "text": [
      "0.7573 \\& 0.7271\n"
     ]
    },
    {
     "data": {
      "text/plain": [
       "(0.75732421875, 0.7271448663853727)"
      ]
     },
     "execution_count": 41,
     "metadata": {},
     "output_type": "execute_result"
    }
   ],
   "source": [
    "per_class_prec_rec_top_n(robo_array, shap_array, 2, 0)"
   ]
  },
  {
   "cell_type": "code",
   "execution_count": 42,
   "id": "76f21113",
   "metadata": {
    "pycharm": {
     "name": "#%%\n"
    }
   },
   "outputs": [
    {
     "name": "stdout",
     "output_type": "stream",
     "text": [
      "0.142 \\& 0.7529\n"
     ]
    },
    {
     "data": {
      "text/plain": [
       "(0.14203730272596843, 0.752851711026616)"
      ]
     },
     "execution_count": 42,
     "metadata": {},
     "output_type": "execute_result"
    }
   ],
   "source": [
    "per_class_prec_rec_top_n(robo_array, shap_array, 2, 1)"
   ]
  },
  {
   "cell_type": "code",
   "execution_count": 43,
   "id": "a9d1d62d",
   "metadata": {
    "pycharm": {
     "name": "#%%\n"
    }
   },
   "outputs": [
    {
     "name": "stdout",
     "output_type": "stream",
     "text": [
      "0.0147 \\& 0.45\n"
     ]
    },
    {
     "data": {
      "text/plain": [
       "(0.014713896457765668, 0.45)"
      ]
     },
     "execution_count": 43,
     "metadata": {},
     "output_type": "execute_result"
    }
   ],
   "source": [
    "per_class_prec_rec_top_n(robo_array, shap_array, 2, 2)"
   ]
  },
  {
   "cell_type": "code",
   "execution_count": 44,
   "id": "bb7fbf39",
   "metadata": {
    "pycharm": {
     "name": "#%%\n"
    }
   },
   "outputs": [
    {
     "name": "stdout",
     "output_type": "stream",
     "text": [
      "0.2964 \\& 0.5837\n"
     ]
    },
    {
     "data": {
      "text/plain": [
       "(0.2964426877470356, 0.5836575875486382)"
      ]
     },
     "execution_count": 44,
     "metadata": {},
     "output_type": "execute_result"
    }
   ],
   "source": [
    "per_class_prec_rec_top_n(robo_array, shap_array, 2, 3)"
   ]
  },
  {
   "cell_type": "code",
   "execution_count": 45,
   "id": "e6f6cc9b",
   "metadata": {
    "pycharm": {
     "name": "#%%\n"
    }
   },
   "outputs": [
    {
     "name": "stdout",
     "output_type": "stream",
     "text": [
      "0.137 \\& 0.1464\n"
     ]
    },
    {
     "data": {
      "text/plain": [
       "(0.13702623906705538, 0.14641744548286603)"
      ]
     },
     "execution_count": 45,
     "metadata": {},
     "output_type": "execute_result"
    }
   ],
   "source": [
    "per_class_prec_rec_top_n(robo_array, shap_array, 2, 4)"
   ]
  },
  {
   "cell_type": "code",
   "execution_count": 46,
   "id": "f7e29c85",
   "metadata": {
    "pycharm": {
     "name": "#%%\n"
    }
   },
   "outputs": [
    {
     "name": "stdout",
     "output_type": "stream",
     "text": [
      "0.7248 \\& 0.9114\n"
     ]
    },
    {
     "data": {
      "text/plain": [
       "(0.7248322147651006, 0.9113924050632911)"
      ]
     },
     "execution_count": 46,
     "metadata": {},
     "output_type": "execute_result"
    }
   ],
   "source": [
    "per_class_prec_rec_top_n(robo_array, shap_array, 3, 0)"
   ]
  },
  {
   "cell_type": "code",
   "execution_count": 47,
   "id": "ee3640c0",
   "metadata": {
    "pycharm": {
     "name": "#%%\n"
    }
   },
   "outputs": [
    {
     "name": "stdout",
     "output_type": "stream",
     "text": [
      "0.0988 \\& 0.943\n"
     ]
    },
    {
     "data": {
      "text/plain": [
       "(0.09876543209876543, 0.9429657794676806)"
      ]
     },
     "execution_count": 47,
     "metadata": {},
     "output_type": "execute_result"
    }
   ],
   "source": [
    "per_class_prec_rec_top_n(robo_array, shap_array, 3, 1)"
   ]
  },
  {
   "cell_type": "code",
   "execution_count": 48,
   "id": "e893a1ed",
   "metadata": {
    "pycharm": {
     "name": "#%%\n"
    }
   },
   "outputs": [
    {
     "name": "stdout",
     "output_type": "stream",
     "text": [
      "0.0196 \\& 0.8833\n"
     ]
    },
    {
     "data": {
      "text/plain": [
       "(0.019615099925980754, 0.8833333333333333)"
      ]
     },
     "execution_count": 48,
     "metadata": {},
     "output_type": "execute_result"
    }
   ],
   "source": [
    "per_class_prec_rec_top_n(robo_array, shap_array, 3, 2)"
   ]
  },
  {
   "cell_type": "code",
   "execution_count": 49,
   "id": "8f14ac6a",
   "metadata": {
    "pycharm": {
     "name": "#%%\n"
    }
   },
   "outputs": [
    {
     "name": "stdout",
     "output_type": "stream",
     "text": [
      "0.2425 \\& 0.6615\n"
     ]
    },
    {
     "data": {
      "text/plain": [
       "(0.24251069900142652, 0.6614785992217899)"
      ]
     },
     "execution_count": 49,
     "metadata": {},
     "output_type": "execute_result"
    }
   ],
   "source": [
    "per_class_prec_rec_top_n(robo_array, shap_array, 3, 3)"
   ]
  },
  {
   "cell_type": "code",
   "execution_count": 50,
   "id": "621fec00",
   "metadata": {
    "pycharm": {
     "name": "#%%\n"
    }
   },
   "outputs": [
    {
     "name": "stdout",
     "output_type": "stream",
     "text": [
      "0.1585 \\& 0.2928\n"
     ]
    },
    {
     "data": {
      "text/plain": [
       "(0.15851602023608768, 0.29283489096573206)"
      ]
     },
     "execution_count": 50,
     "metadata": {},
     "output_type": "execute_result"
    }
   ],
   "source": [
    "per_class_prec_rec_top_n(robo_array, shap_array, 3, 4)"
   ]
  },
  {
   "cell_type": "code",
   "execution_count": 51,
   "id": "503e323d",
   "metadata": {
    "pycharm": {
     "name": "#%%\n"
    }
   },
   "outputs": [
    {
     "name": "stdout",
     "output_type": "stream",
     "text": [
      "0.4414 \\& 0.4456\n",
      "0.3221 \\& 0.6503\n",
      "0.273 \\& 0.827\n",
      "0.2315 \\& 0.9347\n",
      "0.1981 \\& 1.0\n"
     ]
    }
   ],
   "source": [
    "prec_vals=[]\n",
    "rec_vals=[]\n",
    "for n in range(1,6):\n",
    "    prec, rec=top_n(robo_array, shap_array, n, 'micro')\n",
    "    prec_vals.append(prec)\n",
    "    rec_vals.append(rec)"
   ]
  },
  {
   "cell_type": "code",
   "execution_count": 53,
   "id": "c164ef82",
   "metadata": {
    "pycharm": {
     "name": "#%%\n"
    }
   },
   "outputs": [
    {
     "data": {
      "text/plain": [
       "Text(0.5, 1.0, 'Micro Precision and Recall for Top n labeled with Simple Shap')"
      ]
     },
     "execution_count": 53,
     "metadata": {},
     "output_type": "execute_result"
    },
    {
     "data": {
      "image/png": "[encoded data removed]",
      "text/plain": [
       "<Figure size 432x288 with 1 Axes>"
      ]
     },
     "metadata": {
      "needs_background": "light"
     },
     "output_type": "display_data"
    }
   ],
   "source": [
    "plt.scatter(np.arange(1,6), prec_vals, label='Precision')\n",
    "plt.scatter(np.arange(1,6), rec_vals, label='Recall')\n",
    "plt.legend()\n",
    "plt.xlabel('Top n')\n",
    "plt.title('Micro Precision and Recall for Top n labeled with Simple Shap')"
   ]
  },
  {
   "cell_type": "code",
   "execution_count": 56,
   "id": "3ef11cdf",
   "metadata": {
    "pycharm": {
     "name": "#%%\n"
    }
   },
   "outputs": [],
   "source": [
    "def threshold_occlusion(threshold, average_type='weighted'):\n",
    "    shap_array=np.array(test_csv[test_csv.columns[4:11]])\n",
    "    robo_array=np.array(test_csv[test_csv.columns[20:]])\n",
    "    robo, occlusion=post_process_flags(robo_array, shap_array)\n",
    "    for index in range(len(occlusion)):\n",
    "        tce=occlusion[index]\n",
    "       # print(tce)\n",
    "        occlusion[index]=np.where(occlusion[index]>threshold, 1, 0)\n",
    "        \n",
    "    #$print(occlusion)\n",
    "    weighted_prec=precision_score(robo, occlusion, average=average_type, zero_division=0)\n",
    "    weighted_rec=recall_score(robo,occlusion, average=average_type, zero_division=0)\n",
    "    return weighted_prec, weighted_rec"
   ]
  },
  {
   "cell_type": "code",
   "execution_count": 59,
   "id": "f6bea358",
   "metadata": {
    "pycharm": {
     "name": "#%%\n"
    }
   },
   "outputs": [],
   "source": [
    "prec_vals=[]\n",
    "rec_vals=[]\n",
    "for i in np.linspace(0, 1, 5000):\n",
    "    prec, rec=threshold_occlusion(i)\n",
    "    prec_vals.append(prec)\n",
    "    rec_vals.append(rec)"
   ]
  },
  {
   "cell_type": "code",
   "execution_count": 65,
   "id": "0da0fbd1",
   "metadata": {
    "pycharm": {
     "name": "#%%\n"
    }
   },
   "outputs": [
    {
     "data": {
      "text/plain": [
       "Text(0.5, 1.0, 'Weighted Precision and Recall vs. Threshold for Simple Shap')"
      ]
     },
     "execution_count": 65,
     "metadata": {},
     "output_type": "execute_result"
    },
    {
     "data": {
      "image/png": "[encoded data removed]",
      "text/plain": [
       "<Figure size 432x288 with 1 Axes>"
      ]
     },
     "metadata": {
      "needs_background": "light"
     },
     "output_type": "display_data"
    }
   ],
   "source": [
    "plt.plot(np.linspace(0, 1, 5000), prec_vals, label='Precision')\n",
    "plt.plot(np.linspace(0, 1, 5000), rec_vals, label='Recall')\n",
    "plt.legend()\n",
    "#plt.ylim([0, 1])\n",
    "plt.xlabel('Threshold')\n",
    "plt.title('Weighted Precision and Recall vs. Threshold for Simple Shap')"
   ]
  },
  {
   "cell_type": "code",
   "execution_count": 66,
   "id": "d6a8bde2",
   "metadata": {
    "pycharm": {
     "name": "#%%\n"
    }
   },
   "outputs": [],
   "source": [
    "prec_vals=[]\n",
    "rec_vals=[]\n",
    "for i in np.logspace(-10, 0, 5000):\n",
    "    prec, rec=threshold_occlusion(i)\n",
    "    prec_vals.append(prec)\n",
    "    rec_vals.append(rec)"
   ]
  },
  {
   "cell_type": "code",
   "execution_count": 68,
   "id": "fcf515c9",
   "metadata": {
    "pycharm": {
     "name": "#%%\n"
    }
   },
   "outputs": [
    {
     "data": {
      "text/plain": [
       "Text(0.5, 1.0, 'Weighted Precision and Recall vs. Threshold for Simple Shap')"
      ]
     },
     "execution_count": 68,
     "metadata": {},
     "output_type": "execute_result"
    },
    {
     "data": {
      "image/png": "[encoded data removed]",
      "text/plain": [
       "<Figure size 432x288 with 1 Axes>"
      ]
     },
     "metadata": {
      "needs_background": "light"
     },
     "output_type": "display_data"
    }
   ],
   "source": [
    "plt.plot(np.logspace(-10, 0, 5000), prec_vals, label='Precision')\n",
    "plt.plot(np.logspace(-10, 0, 5000), rec_vals, label='Recall')\n",
    "plt.legend()\n",
    "plt.xscale('log')\n",
    "plt.ylim([0, 1])\n",
    "plt.xlabel('Threshold')\n",
    "plt.title('Weighted Precision and Recall vs. Threshold for Simple Shap')"
   ]
  },
  {
   "cell_type": "markdown",
   "id": "61463f53",
   "metadata": {
    "pycharm": {
     "name": "#%% md\n"
    }
   },
   "source": [
    "Issue of what if no branches are flagged by Robovetter? \n",
    "1) should we change/add a new metric to look only at cases where robovetter flags something\n",
    "2) should we change the way we're doing this by introducing a threshold so that it can be completely analogous to the way we're doing our explainability?\n",
    "3) should we add a new metric to analyze our explainability with where we only look at the maximally contributing branch in every case?"
   ]
  },
  {
   "cell_type": "markdown",
   "id": "1a4dc694",
   "metadata": {
    "pycharm": {
     "name": "#%% md\n"
    }
   },
   "source": [
    "# Percentage of cases where there is at least one robovetter flag on that the maximally contributing branch (found via occlusion) agrees with one of the Robovetter flags"
   ]
  },
  {
   "cell_type": "code",
   "execution_count": 26,
   "id": "6a7b4da0",
   "metadata": {
    "pycharm": {
     "name": "#%%\n"
    }
   },
   "outputs": [
    {
     "name": "stdout",
     "output_type": "stream",
     "text": [
      "0.5834677419354839\n"
     ]
    }
   ],
   "source": [
    "occlusion_array=np.array(test_csv[test_csv.columns[8:15]])\n",
    "robo_array=np.array(test_csv[test_csv.columns[24:]])\n",
    "num=0\n",
    "denom=0\n",
    "for index in range(len(occlusion_array)):\n",
    "    tce=occlusion_array[index]\n",
    "    max_contrib=np.argmax(tce)\n",
    "    #print(max_contrib)\n",
    "    robo_flags_on=np.where(robo_array[index]==1)[0]\n",
    "    if (np.shape(robo_flags_on)[0]>0):\n",
    "        denom=denom+1\n",
    "        if (max_contrib in robo_flags_on):\n",
    "            num=num+1\n",
    "        elif (1 in robo_flags_on):\n",
    "            if (max_contrib==0):\n",
    "                num=num+1\n",
    "print(num/denom)"
   ]
  },
  {
   "cell_type": "code",
   "execution_count": null,
   "id": "142edeaf",
   "metadata": {
    "pycharm": {
     "name": "#%%\n"
    }
   },
   "outputs": [],
   "source": []
  },
  {
   "cell_type": "markdown",
   "id": "4933d59b",
   "metadata": {
    "pycharm": {
     "name": "#%% md\n"
    }
   },
   "source": [
    "# Percentage of cases where there is at least one robovetter flag on that the top two maximally contributing branch (found via occlusion) agrees with one of the Robovetter flags"
   ]
  },
  {
   "cell_type": "code",
   "execution_count": 36,
   "id": "9feb52da",
   "metadata": {
    "pycharm": {
     "name": "#%%\n"
    }
   },
   "outputs": [
    {
     "name": "stdout",
     "output_type": "stream",
     "text": [
      "0.8330645161290322\n"
     ]
    }
   ],
   "source": [
    "occlusion_array=np.array(test_csv[test_csv.columns[8:15]])\n",
    "robo_array=np.array(test_csv[test_csv.columns[24:]])\n",
    "num=0\n",
    "denom=0\n",
    "for index in range(len(occlusion_array)):\n",
    "    tce=occlusion_array[index]\n",
    "    max_contrib=np.argsort(tce)[-2:]\n",
    "    robo_flags_on=np.where(robo_array[index]==1)[0]\n",
    "    \n",
    "    if (np.shape(robo_flags_on)[0]>0):\n",
    "        denom=denom+1\n",
    "        common_flags=np.intersect1d(robo_flags_on, max_contrib)\n",
    "        if (np.shape(common_flags)[0]>0):\n",
    "            num=num+1\n",
    "        elif (1 in robo_flags_on):\n",
    "            #print(robo_flags_on)\n",
    "            if (0 in max_contrib):\n",
    "               # print(max_contrib)\n",
    "                num=num+1\n",
    "print(num/denom)"
   ]
  },
  {
   "cell_type": "markdown",
   "id": "a7e0867f",
   "metadata": {
    "pycharm": {
     "name": "#%% md\n"
    }
   },
   "source": [
    "## Comparison of Occlusion and Our Methodology"
   ]
  },
  {
   "cell_type": "code",
   "execution_count": 70,
   "id": "b959355e",
   "metadata": {
    "pycharm": {
     "name": "#%%\n"
    }
   },
   "outputs": [],
   "source": [
    "def apply_statistics(branches, files, num_PCs):\n",
    "    new_csv=files[0].copy()\n",
    "    new_csv.pop('Unnamed: 0')\n",
    "    for branch in branches:\n",
    "        all_scores=np.zeros(tuple((num_PCs, np.shape(files[0])[0])))\n",
    "        for example in range(len(files)):\n",
    "            all_scores[example]=files[example][branch]\n",
    "        col_index=new_csv.columns.get_loc(branch)\n",
    "        new_csv[branch]=np.mean(all_scores, axis=0)\n",
    "        new_csv.insert(col_index+1, branch+' Std', np.std(all_scores, axis=0))\n",
    "        new_csv.insert(col_index+1, branch+' Max', np.max(all_scores, axis=0))\n",
    "        new_csv.insert(col_index+1, branch+' Min', np.min(all_scores, axis=0))\n",
    "        new_csv.insert(col_index+1, branch+' Med', np.median(all_scores, axis=0))\n",
    "        new_csv.insert(col_index+1, branch+' Mean+Std', np.mean(all_scores, axis=0)+np.std(all_scores, axis=0))\n",
    "        new_csv.insert(col_index+1, branch+' Mean-Std', np.mean(all_scores, axis=0)-np.std(all_scores, axis=0))\n",
    "    return new_csv\n",
    "\n",
    "\n",
    "\n",
    "def evaluate_mean(csv, branches):\n",
    "    csv=pd.merge(csv, robo_flags, on=['target_id', 'tce_plnt_num'])\n",
    "    robo=np.array(csv[csv.columns[-7:]])\n",
    "    reduced_csv=csv\n",
    "    branch_explanation=np.zeros([len(branches), len(csv)])\n",
    "    for i in range(len(branches)):\n",
    "        branch_explanation[i]=(reduced_csv[branches[i]]<-0.5)\n",
    "    branch_explanation=np.moveaxis(branch_explanation, 0, -1)\n",
    "    \n",
    "    mean_dict={'target_id': csv['target_id'], 'tce_plnt_num': csv['tce_plnt_num'], 'original_label':csv['original_label'],\n",
    "              'full_score': csv['full score'], 'minor_flags':csv['Minor_Descriptive_Flags'],'branch_explanations': branch_explanation, 'robo_flags': robo}\n",
    "    return mean_dict\n",
    "\n",
    "def evaluate_min(csv, branches):\n",
    "    csv=pd.merge(csv, robo_flags, on=['target_id', 'tce_plnt_num'])\n",
    "    robo=np.array(csv[csv.columns[-7:]])\n",
    "    reduced_csv=csv\n",
    "    branch_explanation=np.zeros([len(branches), len(csv)])\n",
    "    for i in range(len(branches)):\n",
    "        branch_explanation[i]=(reduced_csv[branches[i]+ ' Min']<-0.5)\n",
    "    branch_explanation=np.moveaxis(branch_explanation, 0, -1)\n",
    "    mean_dict={'target_id': csv['target_id'], 'tce_plnt_num': csv['tce_plnt_num'], 'original_label':csv['original_label'],\n",
    "              'full_score': csv['full score'],  'minor_flags':csv['Minor_Descriptive_Flags'], 'branch_explanations': branch_explanation, 'robo_flags': robo}\n",
    "    return mean_dict\n",
    "\n",
    "def evaluate_max(csv, branches):\n",
    "    csv=pd.merge(csv, robo_flags, on=['target_id', 'tce_plnt_num'])\n",
    "    robo=np.array(csv[csv.columns[-7:]])\n",
    "    reduced_csv=csv\n",
    "    branch_explanation=np.zeros([len(branches), len(csv)])\n",
    "    for i in range(len(branches)):\n",
    "        branch_explanation[i]=(reduced_csv[branches[i]+ ' Max']<-0.5)\n",
    "    branch_explanation=np.moveaxis(branch_explanation, 0, -1)\n",
    "    \n",
    "    mean_dict={'target_id': csv['target_id'], 'tce_plnt_num': csv['tce_plnt_num'], 'original_label':csv['original_label'],\n",
    "              'full_score': csv['full score'],  'minor_flags':csv['Minor_Descriptive_Flags'], 'branch_explanations': branch_explanation, 'robo_flags': robo}\n",
    "    return mean_dict\n",
    "\n",
    "def evaluate_med(csv, branches):\n",
    "    csv=pd.merge(csv, robo_flags, on=['target_id', 'tce_plnt_num'])\n",
    "    robo=np.array(csv[csv.columns[-7:]])\n",
    "    reduced_csv=csv\n",
    "    branch_explanation=np.zeros([len(branches), len(csv)])\n",
    "    for i in range(len(branches)):\n",
    "        branch_explanation[i]=(reduced_csv[branches[i]+ ' Med']<-0.5)\n",
    "    branch_explanation=np.moveaxis(branch_explanation, 0, -1)\n",
    "    csv=pd.merge(csv, robo_flags, on=['target_id', 'tce_plnt_num'])\n",
    "    mean_dict={'target_id': csv['target_id'], 'tce_plnt_num': csv['tce_plnt_num'], 'original_label':csv['original_label'],\n",
    "              'full_score': csv['full score'],  'minor_flags':csv['Minor_Descriptive_Flags'], 'branch_explanations': branch_explanation, 'robo_flags': robo}\n",
    "    return mean_dict\n"
   ]
  },
  {
   "cell_type": "code",
   "execution_count": 85,
   "id": "9e4e9384",
   "metadata": {
    "pycharm": {
     "name": "#%%\n"
    }
   },
   "outputs": [],
   "source": [
    "def get_csv_with_stat(num_PCs, trial):\n",
    "    run='/nobackup/khauskne/kdd/explainability_runs/exp_'+str(num_PCs)+'_PCs_trial_'+str(trial)+'/'\n",
    "    all_train_groups=[]\n",
    "    for index in range(num_PCs):\n",
    "        train_group=pd.read_csv(run+'train_top_'+str(index)+'.csv')\n",
    "        all_train_groups.append(train_group)\n",
    "    \n",
    "\n",
    "    all_val_groups=[]\n",
    "    for index in range(num_PCs):\n",
    "        val_group=pd.read_csv(run+'val_top_'+str(index)+'.csv')\n",
    "        all_val_groups.append(val_group)\n",
    "\n",
    "    all_test_groups=[]\n",
    "    for index in range(num_PCs):\n",
    "        test_group=pd.read_csv(run+'test_top_'+str(index)+'.csv')\n",
    "        all_test_groups.append(test_group)\n",
    "\n",
    "    branches=['Global Flux', 'Local Flux', 'Centroid', 'Odd Even', 'Secondary', 'Stellar', 'DV']\n",
    "    train_statistics=apply_statistics(branches, all_train_groups, num_PCs)\n",
    "    val_statistics=apply_statistics(branches, all_val_groups, num_PCs)\n",
    "    test_statistics=apply_statistics(branches, all_test_groups, num_PCs)\n",
    "    return train_statistics[['Global Flux Min', 'Local Flux Min', 'Centroid Min', 'Odd Even Min',\n",
    "                                         'Secondary Min', 'Stellar Min', 'DV Min']], val_statistics[['Global Flux Min', 'Local Flux Min', 'Centroid Min', 'Odd Even Min',\n",
    "                                         'Secondary Min', 'Stellar Min', 'DV Min']], test_statistics[['Global Flux Min', 'Local Flux Min', 'Centroid Min', 'Odd Even Min',\n",
    "                                         'Secondary Min', 'Stellar Min', 'DV Min']]"
   ]
  },
  {
   "cell_type": "code",
   "execution_count": 159,
   "id": "3687dac5",
   "metadata": {
    "pycharm": {
     "name": "#%%\n"
    }
   },
   "outputs": [],
   "source": [
    "num_PCs=np.shape(np.where(test_csv['original_label']=='PC')[0])[0]\n",
    "total_test=np.shape(test_csv)[0]\n",
    "threshold_vals=np.logspace(-9, 0, 1000)"
   ]
  },
  {
   "cell_type": "code",
   "execution_count": 160,
   "id": "1ed9e589",
   "metadata": {
    "pycharm": {
     "name": "#%%\n"
    }
   },
   "outputs": [],
   "source": [
    "num_flagged=[]\n",
    "for i in threshold_vals:\n",
    "    threshold_flagged=np.shape(np.unique(np.where(test_csv[test_csv.columns[8:15]]>i)[0]))[0]\n",
    "    num_flagged.append(threshold_flagged)\n",
    "num_flagged=np.array(num_flagged)"
   ]
  },
  {
   "cell_type": "code",
   "execution_count": 161,
   "id": "b0f8bf0f",
   "metadata": {
    "pycharm": {
     "name": "#%%\n"
    }
   },
   "outputs": [],
   "source": [
    "test_new_exp=get_csv_with_stat(15, 2)[2]"
   ]
  },
  {
   "cell_type": "code",
   "execution_count": 162,
   "id": "f3ebf79c",
   "metadata": {
    "pycharm": {
     "name": "#%%\n"
    }
   },
   "outputs": [],
   "source": [
    "num_flagged_new_exp=[]\n",
    "for i in threshold_vals:\n",
    "    threshold_flagged=np.shape(np.unique(np.where(test_new_exp<-1*i)[0]))[0]\n",
    "    num_flagged_new_exp.append(threshold_flagged)\n",
    "num_flagged_new_exp=np.array(num_flagged_new_exp)"
   ]
  },
  {
   "cell_type": "code",
   "execution_count": 168,
   "id": "7ce2fc22",
   "metadata": {
    "pycharm": {
     "name": "#%%\n"
    }
   },
   "outputs": [
    {
     "data": {
      "text/plain": [
       "<matplotlib.legend.Legend at 0x2aab5f810910>"
      ]
     },
     "execution_count": 168,
     "metadata": {},
     "output_type": "execute_result"
    },
    {
     "data": {
      "image/png": "[encoded data removed]",
      "text/plain": [
       "<Figure size 432x288 with 1 Axes>"
      ]
     },
     "metadata": {
      "needs_background": "light"
     },
     "output_type": "display_data"
    }
   ],
   "source": [
    "plt.title('Percentage of TCEs flagged at Different Thresholds')\n",
    "plt.xlabel('Threshold for Labeling')\n",
    "plt.ylabel('Percentage of TCEs flagged')\n",
    "\n",
    "\n",
    "\n",
    "plt.loglog(threshold_vals, num_flagged_new_exp/total_test, 'o', label='New Explainability')\n",
    "plt.loglog(threshold_vals, num_flagged/total_test, 'o', label='Occlusion')\n",
    "plt.axhline(1-(num_PCs/total_test), color='r', label='Percentage of FPs')\n",
    "plt.legend()\n",
    "#plt.scatter(threshold_vals, num_flagged_new_exp/total_test)\n",
    "#plt.scatter(threshold_vals, num_flagged/total_test)\n"
   ]
  },
  {
   "cell_type": "code",
   "execution_count": 169,
   "id": "e0ac1628",
   "metadata": {
    "pycharm": {
     "name": "#%%\n"
    }
   },
   "outputs": [],
   "source": [
    "num_PCs=np.shape(np.where(test_csv['original_label']=='PC')[0])[0]\n",
    "total_test=np.shape(test_csv)[0]\n",
    "threshold_vals=np.linspace(0, 1, 10000)"
   ]
  },
  {
   "cell_type": "code",
   "execution_count": 170,
   "id": "457ef7a0",
   "metadata": {
    "pycharm": {
     "name": "#%%\n"
    }
   },
   "outputs": [],
   "source": [
    "num_flagged=[]\n",
    "for i in threshold_vals:\n",
    "    threshold_flagged=np.shape(np.unique(np.where(test_csv[test_csv.columns[8:15]]>i)[0]))[0]\n",
    "    num_flagged.append(threshold_flagged)\n",
    "num_flagged=np.array(num_flagged)"
   ]
  },
  {
   "cell_type": "code",
   "execution_count": 171,
   "id": "8d51a83b",
   "metadata": {
    "pycharm": {
     "name": "#%%\n"
    }
   },
   "outputs": [],
   "source": [
    "test_new_exp=get_csv_with_stat(10, 2)[2]"
   ]
  },
  {
   "cell_type": "code",
   "execution_count": 172,
   "id": "b4fd684a",
   "metadata": {
    "pycharm": {
     "name": "#%%\n"
    }
   },
   "outputs": [],
   "source": [
    "num_flagged_new_exp=[]\n",
    "for i in threshold_vals:\n",
    "    threshold_flagged=np.shape(np.unique(np.where(test_new_exp<-1*i)[0]))[0]\n",
    "    num_flagged_new_exp.append(threshold_flagged)\n",
    "num_flagged_new_exp=np.array(num_flagged_new_exp)"
   ]
  },
  {
   "cell_type": "code",
   "execution_count": 174,
   "id": "b1698092",
   "metadata": {
    "pycharm": {
     "name": "#%%\n"
    }
   },
   "outputs": [
    {
     "data": {
      "text/plain": [
       "<matplotlib.legend.Legend at 0x2aab5f8f8f40>"
      ]
     },
     "execution_count": 174,
     "metadata": {},
     "output_type": "execute_result"
    },
    {
     "data": {
      "image/png": "[encoded data removed]",
      "text/plain": [
       "<Figure size 432x288 with 1 Axes>"
      ]
     },
     "metadata": {
      "needs_background": "light"
     },
     "output_type": "display_data"
    }
   ],
   "source": [
    "plt.title('Percentage of TCEs flagged at Different Thresholds')\n",
    "plt.xlabel('Threshold for Labeling')\n",
    "plt.ylabel('Percentage of TCEs flagged')\n",
    "\n",
    "#plt.loglog(threshold_vals, num_flagged_new_exp/total_test, 'o')\n",
    "#plt.loglog(threshold_vals, num_flagged/total_test, 'o')\n",
    "\n",
    "plt.scatter(threshold_vals, num_flagged_new_exp/total_test, label='New Explainability')\n",
    "plt.scatter(threshold_vals, num_flagged/total_test, label='Occlusion')\n",
    "plt.axhline(1-(num_PCs/total_test), label='Percentage of FPs')\n",
    "plt.legend()"
   ]
  },
  {
   "cell_type": "code",
   "execution_count": null,
   "id": "f50ba961",
   "metadata": {
    "pycharm": {
     "name": "#%%\n"
    }
   },
   "outputs": [],
   "source": []
  }
 ],
 "metadata": {
  "kernelspec": {
   "display_name": "Python 3 (ipykernel)",
   "language": "python",
   "name": "python3"
  },
  "language_info": {
   "codemirror_mode": {
    "name": "ipython",
    "version": 3
   },
   "file_extension": ".py",
   "mimetype": "text/x-python",
   "name": "python",
   "nbconvert_exporter": "python",
   "pygments_lexer": "ipython3",
   "version": "3.8.5"
  }
 },
 "nbformat": 4,
 "nbformat_minor": 5
}