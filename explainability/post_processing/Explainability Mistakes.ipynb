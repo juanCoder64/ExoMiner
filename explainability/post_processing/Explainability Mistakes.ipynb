{
 "cells": [
  {
   "cell_type": "code",
   "execution_count": 1,
   "id": "f199fd1c",
   "metadata": {
    "pycharm": {
     "name": "#%%\n"
    }
   },
   "outputs": [],
   "source": [
    "# 3rd party\n",
    "import pandas as pd\n",
    "import numpy as np\n"
   ]
  },
  {
   "cell_type": "code",
   "execution_count": 2,
   "id": "2bfa1d4f",
   "metadata": {
    "pycharm": {
     "name": "#%%\n"
    }
   },
   "outputs": [],
   "source": [
    "def concat_csv( num_PCs, trials, stat_func):\n",
    "    \"\"\"\n",
    "    :param num_PCs: int, number of representative PCs used\n",
    "    :param trials: int, number of trials performed\n",
    "    :param stat_func: statistic used to aggregate results from different trials\n",
    "    :return: tuple, (train, val, test) statistics\n",
    "    \"\"\"\n",
    "\n",
    "    # train=[]\n",
    "    # val=[]\n",
    "    # test=[]\n",
    "    branches=['Global Flux', 'Local Flux', 'Centroid', 'Odd Even', 'Secondary', 'Stellar', 'DV']\n",
    "    run='/nobackup/khauskne/kdd/explainability_runs/exp_'+str(num_PCs)+'_PCs_trial'\n",
    "\n",
    "    for trial in range(1, trials+1):\n",
    "\n",
    "        run_trial = f'{run}_{trial}/'\n",
    "\n",
    "        all_train_groups=[]\n",
    "        for index in range(num_PCs):\n",
    "            train_group=pd.read_csv(run_trial+'train_top_'+str(index)+'.csv')\n",
    "            all_train_groups.append(train_group)\n",
    "\n",
    "        all_val_groups=[]\n",
    "        for index in range(num_PCs):\n",
    "            val_group=pd.read_csv(run_trial+'val_top_'+str(index)+'.csv')\n",
    "            all_val_groups.append(val_group)\n",
    "\n",
    "        all_test_groups=[]\n",
    "        for index in range(num_PCs):\n",
    "            test_group=pd.read_csv(run_trial+'test_top_'+str(index)+'.csv')\n",
    "            all_test_groups.append(test_group)\n",
    "\n",
    "        train_statistics=apply_statistics(branches, all_train_groups, num_PCs)\n",
    "        val_statistics=apply_statistics(branches, all_val_groups, num_PCs)\n",
    "        test_statistics=apply_statistics(branches, all_test_groups, num_PCs)\n",
    "\n",
    "    return stat_func(train_statistics, branches),  stat_func(val_statistics, branches), stat_func(test_statistics, branches)"
   ]
  },
  {
   "cell_type": "code",
   "execution_count": 3,
   "id": "a3badecc",
   "metadata": {
    "pycharm": {
     "name": "#%%\n"
    }
   },
   "outputs": [],
   "source": [
    "def apply_statistics(branches, files, num_PCs):\n",
    "    \"\"\"\n",
    "    :param branches: list, groupings of features\n",
    "    :param files:\n",
    "    :param num_PCs: int, number of representative PCs used\n",
    "    :return: pandas DataFrame,\n",
    "    \"\"\"\n",
    "\n",
    "    new_csv=files[0].copy()\n",
    "    new_csv.pop('Unnamed: 0')\n",
    "\n",
    "    for branch in branches:\n",
    "\n",
    "        all_scores=np.zeros(tuple((num_PCs, np.shape(files[0])[0])))\n",
    "\n",
    "        for example in range(len(files)):\n",
    "            all_scores[example]=files[example][branch]\n",
    "        col_index=new_csv.columns.get_loc(branch)\n",
    "        new_csv[branch]=np.mean(all_scores, axis=0)\n",
    "        new_csv.insert(col_index+1, branch+' Min', np.min(all_scores, axis=0))\n",
    "\n",
    "    return new_csv\n",
    "\n",
    "\n",
    "def evaluate_mean(csv, branches):\n",
    "    \"\"\" Sets of features whose mean score change is\n",
    "\n",
    "    :param csv:\n",
    "    :param branches: list, groupings of features\n",
    "    :return: dict,\n",
    "    \"\"\"\n",
    "\n",
    "    reduced_csv=csv\n",
    "    branch_explanation=np.zeros([len(branches), len(csv)])\n",
    "\n",
    "    for i in range(len(branches)):\n",
    "        branch_explanation[i]=(reduced_csv[branches[i]]<-0.5)\n",
    "    branch_explanation=np.moveaxis(branch_explanation, 0, -1)\n",
    "    \n",
    "    mean_dict={'target_id': csv['target_id'], 'tce_plnt_num': csv['tce_plnt_num'], 'original_label':csv['original_label'],\n",
    "              'full_score': csv['full score'], 'branch_explanations': branch_explanation}\n",
    "\n",
    "    return mean_dict\n",
    "\n",
    "def evaluate_min(csv, branches):\n",
    "    reduced_csv=csv\n",
    "    branch_explanation=np.zeros([len(branches), len(csv)])\n",
    "    for i in range(len(branches)):\n",
    "        branch_explanation[i]=(reduced_csv[branches[i]+ ' Min']<-0.5)\n",
    "    branch_explanation=np.moveaxis(branch_explanation, 0, -1)\n",
    "    \n",
    "    mean_dict={'target_id': csv['target_id'], 'tce_plnt_num': csv['tce_plnt_num'], 'original_label':csv['original_label'],\n",
    "              'full_score': csv['full score'], 'branch_explanations': branch_explanation}\n",
    "    return mean_dict\n",
    "\n",
    "def evaluate_max(csv, branches):\n",
    "    reduced_csv=csv\n",
    "    branch_explanation=np.zeros([len(branches), len(csv)])\n",
    "    for i in range(len(branches)):\n",
    "        branch_explanation[i]=(reduced_csv[branches[i]+ ' Max']<-0.5)\n",
    "    branch_explanation=np.moveaxis(branch_explanation, 0, -1)\n",
    "    \n",
    "    mean_dict={'target_id': csv['target_id'], 'tce_plnt_num': csv['tce_plnt_num'], 'original_label':csv['original_label'],\n",
    "              'full_score': csv['full score'], 'branch_explanations': branch_explanation}\n",
    "    return mean_dict\n",
    "\n",
    "def evaluate_med(csv, branches):\n",
    "    reduced_csv=csv\n",
    "    branch_explanation=np.zeros([len(branches), len(csv)])\n",
    "    for i in range(len(branches)):\n",
    "        branch_explanation[i]=(reduced_csv[branches[i]+ ' Med']<-0.5)\n",
    "    branch_explanation=np.moveaxis(branch_explanation, 0, -1)\n",
    "    \n",
    "    mean_dict={'target_id': csv['target_id'], 'tce_plnt_num': csv['tce_plnt_num'], 'original_label':csv['original_label'],\n",
    "              'full_score': csv['full score'], 'branch_explanations': branch_explanation}\n",
    "    return mean_dict\n",
    "\n"
   ]
  },
  {
   "cell_type": "code",
   "execution_count": 22,
   "id": "d63d44f3",
   "metadata": {
    "pycharm": {
     "name": "#%%\n"
    }
   },
   "outputs": [],
   "source": [
    "def find_unexplained_FPs(dictionary):\n",
    "    \n",
    "    ind_of_fp=np.where(dictionary['full_score']<0.5)[0]\n",
    "    num_of_contributing_branches_fp=np.sum(dictionary['branch_explanations'][ind_of_fp], axis=1)\n",
    "    inds=np.where(num_of_contributing_branches_fp==0)[0]\n",
    "    unexplained_fps=(np.array(dictionary['target_id'][ind_of_fp])[inds], np.array(dictionary['tce_plnt_num'][ind_of_fp])[inds]) \n",
    "    \n",
    "    return unexplained_fps\n"
   ]
  },
  {
   "cell_type": "code",
   "execution_count": 23,
   "id": "74a97766",
   "metadata": {
    "pycharm": {
     "name": "#%%\n"
    }
   },
   "outputs": [],
   "source": [
    "def find_explained_PCs(dictionary):\n",
    "    num_of_contributing_branches_total=np.sum(dictionary['branch_explanations'], axis=1)\n",
    "    ind_of_explained=np.where(num_of_contributing_branches_total>0)[0]\n",
    "    num_of_explained=np.shape(ind_of_explained)[0]\n",
    "    inds_of_PCs=np.where(dictionary['full_score'][ind_of_explained]>0.5)[0]\n",
    "    explained_PCs=(np.array(dictionary['target_id'][inds_of_PCs]), np.array(dictionary['tce_plnt_num'][inds_of_PCs]))\n",
    "    \n",
    "    return explained_PCs"
   ]
  },
  {
   "cell_type": "code",
   "execution_count": 46,
   "id": "f9b55dbe",
   "metadata": {
    "pycharm": {
     "name": "#%%\n"
    }
   },
   "outputs": [],
   "source": [
    "ids=[]\n",
    "plnts=[]\n",
    "for i in range(1,11):\n",
    "    csvs=concat_csv(10, i, evaluate_min)\n",
    "    ids.append(find_unexplained_FPs(csvs[2])[0])\n",
    "    plnts.append(find_unexplained_FPs(csvs[2])[1])\n",
    "ids=np.concatenate(ids)\n",
    "plnts=np.concatenate(plnts)"
   ]
  },
  {
   "cell_type": "code",
   "execution_count": 52,
   "id": "b1ed180c",
   "metadata": {
    "pycharm": {
     "name": "#%%\n"
    }
   },
   "outputs": [],
   "source": [
    "mistakes=np.moveaxis([ids[np.argsort(ids)], plnts[np.argsort(ids)]], -1, 0)"
   ]
  },
  {
   "cell_type": "code",
   "execution_count": 58,
   "id": "1c322a30",
   "metadata": {
    "pycharm": {
     "name": "#%%\n"
    }
   },
   "outputs": [],
   "source": [
    "unique_vals=np.unique(mistakes, axis=0, return_counts=True)"
   ]
  },
  {
   "cell_type": "code",
   "execution_count": 60,
   "id": "f9322495",
   "metadata": {
    "pycharm": {
     "name": "#%%\n"
    }
   },
   "outputs": [
    {
     "data": {
      "text/plain": [
       "array([[3246984,       1],\n",
       "       [5309353,       1],\n",
       "       [9777793,       1]])"
      ]
     },
     "execution_count": 60,
     "metadata": {},
     "output_type": "execute_result"
    }
   ],
   "source": [
    "unique_vals[0][np.where(unique_vals[1]==9)]"
   ]
  },
  {
   "cell_type": "code",
   "execution_count": 49,
   "id": "3e1e2f50",
   "metadata": {
    "pycharm": {
     "name": "#%%\n"
    }
   },
   "outputs": [
    {
     "data": {
      "text/plain": [
       "(array([ 2708286,  3221310,  3246984,  3353679,  3429707,  3560301,\n",
       "         4357985,  4386607,  4845555,  5265699,  5299861,  5302881,\n",
       "         5309353,  5353738,  5524881,  5716330,  5881893,  5983410,\n",
       "         6289897,  6365321,  6367260,  6381309,  6386784,  6387819,\n",
       "         6425135,  6522242,  6780367,  6890040,  6963171,  7045685,\n",
       "         7465661,  7523340,  7708418,  7839814,  7955708,  7971540,\n",
       "         8381693,  8692983,  8823893,  9025557,  9216810,  9334893,\n",
       "         9777793,  9824928, 10135362, 10154994, 10221153, 10485250,\n",
       "        10614845, 10989859, 10990092, 11071278, 11358392, 11390941,\n",
       "        11494130, 11656840, 11673686, 11811140, 12217403, 12783196]),\n",
       " array([ 1,  1,  9,  1,  2,  3,  2,  7,  5,  5,  1,  2,  9,  1,  8,  4,  4,\n",
       "         3,  8,  8,  3,  5,  5,  1,  5,  5,  8,  5,  1,  1,  2,  4,  9,  5,\n",
       "         2, 17,  2,  9,  8,  5,  2,  6,  9,  3,  2,  4,  1,  2,  1,  4,  3,\n",
       "         1,  3,  2,  3,  1,  1,  8,  2,  4]))"
      ]
     },
     "execution_count": 49,
     "metadata": {},
     "output_type": "execute_result"
    }
   ],
   "source": [
    "np.unique(ids[np.argsort(ids)], return_counts=True)"
   ]
  },
  {
   "cell_type": "code",
   "execution_count": 24,
   "id": "a9946fc6",
   "metadata": {
    "pycharm": {
     "name": "#%%\n"
    }
   },
   "outputs": [],
   "source": [
    "csvs=concat_csv(15, 9, evaluate_min)"
   ]
  },
  {
   "cell_type": "code",
   "execution_count": 37,
   "id": "c884eacc",
   "metadata": {
    "pycharm": {
     "name": "#%%\n"
    }
   },
   "outputs": [
    {
     "data": {
      "text/plain": [
       "(array([ 9777256, 10661976, 10717591, 11912932,  7599004, 11494130,\n",
       "         6292162,  8748659, 11071278,  6119608, 10000547,  7971540,\n",
       "        11390838,  7871315,  6115025, 10472112,  8108551,  7465661,\n",
       "         3560301,  8057693,  9824928,  3955026,  4274480,  8174821,\n",
       "        11501492, 11673686,  9216810, 11253627,  5299861, 11656840,\n",
       "        11442793,  6600515,  9138680,  5036761,  6685533, 11254601,\n",
       "         8939843, 10614845,  5982073, 11358392,  8544169,  6963171,\n",
       "         8023238,  8298725,  6387819,  3555678,  9142053,  3336476,\n",
       "         3120397,  8044016,  8175925, 10990092,  6367260, 11811140,\n",
       "         6381309,  7523340,  6369539,  4845555,  8264623, 11390941,\n",
       "         8702874,  6701459,  8885132,  6367260,  1435448,  7765677,\n",
       "        10154994,  9895004,  8240890,  9340460,  8160316, 10978737,\n",
       "        11082830,  5309353,  8950952, 10221153,  6890040, 10959320,\n",
       "         5473535,  7621172,  7708418,  7839814,  7819674,  7293769,\n",
       "         6425135, 10337859,  8106610,  7971540,  4845555,  9111849,\n",
       "         6225475,  6222079,  2452185,  3973549,  9518651,  9777793,\n",
       "         8692983, 10205598,  9025557,  3429707,  8684570,  8432151,\n",
       "         3644649, 11446422,  8164615,  8941279,  1435448,  8687209,\n",
       "        10555365,  3221310,  6289897,  7045685, 10920420,  8870286,\n",
       "         3547523,  7839814,  5617535,  6042031, 10989859, 10135362,\n",
       "         6516932,  9300285,  6665570,  8747619,  8230809, 10485250,\n",
       "         6463499,  8490980,  9754973, 11962541,  7971540, 11876098,\n",
       "         4386607,  9291368,  6678472,  6364195, 12783196, 12405425,\n",
       "         9718641,  5524881,  8106730,  8542993, 11811140,  8823893,\n",
       "         5716330,  6522242,  5881893,  3439096,  2581452,  9289828,\n",
       "         4864734,  7708418,  8297017,  5176446, 10220950,  8218274,\n",
       "         6369539,  3547523,  7973419,  6946819,  9693885, 10360907,\n",
       "        10206169,  9763796, 12217403,  6365321,  5387211,  8482263,\n",
       "         5881893,  3353679, 10753922,  3534076, 10405482, 12783196,\n",
       "         8229411,  7839814, 10154994,  5179232,  3456780,  5814613,\n",
       "         6600515,  7515103,  9111849,  8381693,  6196431,  4357985,\n",
       "         8311110,  6530892,  9411943,  7971540,  4946049,  8740744,\n",
       "         4375101,  8295843,  9837578,  7732458, 10360907,  6381309,\n",
       "         4820642,  9910942,  5370302,  6061119,  8547328,  5473535,\n",
       "         7955708,  7538450,  9025557,  7765677,  4730442,  9790034,\n",
       "         4638393,  8692983,  3246984, 10155321,  2708286,  7972926,\n",
       "         8194874,  6386784,  2452185, 10670830,  4370956,  9850843,\n",
       "        11232745,  7601633, 11252512, 11922648,  8035632,  8546551,\n",
       "         8242769,  5983410,  7809755,  8542993, 11152625,  5811937,\n",
       "         4171302,  8687080,  7117178,  7839814,  9959492,  7033713,\n",
       "         2452185,  5302881,  4772953, 10337258,  9994771,  5353738,\n",
       "        10154994,  7881991,  5794713,  6029302,  6285094,  8107283,\n",
       "        10812504,  6967430,  3955026,  6780367,  7770901,  5895238,\n",
       "         5265699]),\n",
       " array([1, 1, 1, 1, 1, 1, 1, 1, 1, 2, 1, 7, 4, 1, 3, 1, 1, 4, 4, 2, 1, 5,\n",
       "        3, 2, 1, 3, 2, 1, 1, 1, 1, 2, 1, 3, 1, 1, 1, 2, 2, 1, 1, 1, 1, 1,\n",
       "        1, 1, 1, 1, 1, 2, 1, 2, 7, 8, 6, 3, 3, 4, 1, 2, 1, 8, 1, 4, 1, 1,\n",
       "        5, 1, 1, 1, 1, 1, 8, 1, 2, 1, 1, 5, 1, 1, 3, 2, 1, 3, 5, 1, 3, 6,\n",
       "        7, 8, 1, 6, 4, 1, 1, 1, 6, 2, 4, 1, 1, 1, 1, 1, 1, 2, 3, 1, 1, 3,\n",
       "        1, 8, 3, 1, 2, 4, 6, 2, 3, 2, 1, 1, 1, 1, 1, 1, 1, 1, 5, 1, 3, 1,\n",
       "        1, 3, 1, 1, 3, 1, 1, 1, 1, 2, 3, 1, 2, 1, 2, 1, 4, 1, 1, 5, 4, 1,\n",
       "        1, 1, 2, 8, 1, 1, 1, 2, 1, 1, 1, 1, 4, 2, 3, 1, 1, 1, 3, 1, 1, 6,\n",
       "        6, 1, 4, 1, 1, 1, 4, 1, 1, 1, 2, 1, 1, 9, 1, 1, 3, 1, 3, 2, 6, 2,\n",
       "        3, 1, 1, 1, 1, 2, 1, 1, 6, 2, 1, 2, 1, 4, 1, 3, 1, 1, 1, 1, 2, 1,\n",
       "        4, 1, 1, 1, 1, 1, 1, 1, 1, 1, 1, 3, 5, 1, 1, 1, 3, 3, 1, 1, 3, 5,\n",
       "        1, 2, 1, 1, 9, 1, 1, 1, 1, 2, 1, 1, 6, 1, 2, 4, 6]))"
      ]
     },
     "execution_count": 37,
     "metadata": {},
     "output_type": "execute_result"
    }
   ],
   "source": [
    "unexp=find_unexplained_FPs(csvs[2])\n",
    "unexp"
   ]
  },
  {
   "cell_type": "code",
   "execution_count": 29,
   "id": "491773f4",
   "metadata": {
    "pycharm": {
     "name": "#%%\n"
    }
   },
   "outputs": [
    {
     "data": {
      "text/plain": [
       "array([1, 1, 1, 1, 3, 2])"
      ]
     },
     "execution_count": 29,
     "metadata": {},
     "output_type": "execute_result"
    }
   ],
   "source": [
    "unexp[1][np.argsort(unexp[0])]"
   ]
  },
  {
   "cell_type": "code",
   "execution_count": 52,
   "id": "1c4ae4dd",
   "metadata": {
    "pycharm": {
     "name": "#%%\n"
    }
   },
   "outputs": [
    {
     "data": {
      "text/plain": [
       "(3027, 1)"
      ]
     },
     "execution_count": 52,
     "metadata": {},
     "output_type": "execute_result"
    }
   ],
   "source": [
    "np.shape(all_test['even_se_oot_norm'])"
   ]
  },
  {
   "cell_type": "code",
   "execution_count": 46,
   "id": "0dea293f",
   "metadata": {
    "pycharm": {
     "name": "#%%\n"
    }
   },
   "outputs": [
    {
     "data": {
      "text/plain": [
       "numpy.ndarray"
      ]
     },
     "execution_count": 46,
     "metadata": {},
     "output_type": "execute_result"
    }
   ],
   "source": [
    "type(all_test)"
   ]
  },
  {
   "cell_type": "code",
   "execution_count": 39,
   "id": "1e9ce867",
   "metadata": {
    "pycharm": {
     "name": "#%%\n"
    }
   },
   "outputs": [
    {
     "data": {
      "text/plain": [
       "array([1, 1, 1, 1, 1, 1, 1, 1, 1, 2, 1, 7, 4, 1, 3, 1, 1, 4, 4, 2, 1, 5,\n",
       "       3, 2, 1, 3, 2, 1, 1, 1, 1, 2, 1, 3, 1, 1, 1, 2, 2, 1, 1, 1, 1, 1,\n",
       "       1, 1, 1, 1, 1, 2, 1, 2, 7, 8, 6, 3, 3, 4, 1, 2, 1, 8, 1, 4, 1, 1,\n",
       "       5, 1, 1, 1, 1, 1, 8, 1, 2, 1, 1, 5, 1, 1, 3, 2, 1, 3, 5, 1, 3, 6,\n",
       "       7, 8, 1, 6, 4, 1, 1, 1, 6, 2, 4, 1, 1, 1, 1, 1, 1, 2, 3, 1, 1, 3,\n",
       "       1, 8, 3, 1, 2, 4, 6, 2, 3, 2, 1, 1, 1, 1, 1, 1, 1, 1, 5, 1, 3, 1,\n",
       "       1, 3, 1, 1, 3, 1, 1, 1, 1, 2, 3, 1, 2, 1, 2, 1, 4, 1, 1, 5, 4, 1,\n",
       "       1, 1, 2, 8, 1, 1, 1, 2, 1, 1, 1, 1, 4, 2, 3, 1, 1, 1, 3, 1, 1, 6,\n",
       "       6, 1, 4, 1, 1, 1, 4, 1, 1, 1, 2, 1, 1, 9, 1, 1, 3, 1, 3, 2, 6, 2,\n",
       "       3, 1, 1, 1, 1, 2, 1, 1, 6, 2, 1, 2, 1, 4, 1, 3, 1, 1, 1, 1, 2, 1,\n",
       "       4, 1, 1, 1, 1, 1, 1, 1, 1, 1, 1, 3, 5, 1, 1, 1, 3, 3, 1, 1, 3, 5,\n",
       "       1, 2, 1, 1, 9, 1, 1, 1, 1, 2, 1, 1, 6, 1, 2, 4, 6])"
      ]
     },
     "execution_count": 39,
     "metadata": {},
     "output_type": "execute_result"
    }
   ],
   "source": [
    "unexp[1]"
   ]
  },
  {
   "cell_type": "code",
   "execution_count": null,
   "id": "7e32f736",
   "metadata": {
    "pycharm": {
     "name": "#%%\n"
    }
   },
   "outputs": [],
   "source": []
  }
 ],
 "metadata": {
  "kernelspec": {
   "display_name": "Python 3 (ipykernel)",
   "language": "python",
   "name": "python3"
  },
  "language_info": {
   "codemirror_mode": {
    "name": "ipython",
    "version": 3
   },
   "file_extension": ".py",
   "mimetype": "text/x-python",
   "name": "python",
   "nbconvert_exporter": "python",
   "pygments_lexer": "ipython3",
   "version": "3.8.5"
  }
 },
 "nbformat": 4,
 "nbformat_minor": 5
}