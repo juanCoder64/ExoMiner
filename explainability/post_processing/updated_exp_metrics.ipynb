{
 "cells": [
  {
   "cell_type": "code",
   "execution_count": 1,
   "id": "c7a0f86e",
   "metadata": {
    "ExecuteTime": {
     "start_time": "2023-04-21T14:42:52.552479Z",
     "end_time": "2023-04-21T14:42:54.050124Z"
    }
   },
   "outputs": [
    {
     "name": "stdout",
     "output_type": "stream",
     "text": [
      "Populating the interactive namespace from numpy and matplotlib\n"
     ]
    }
   ],
   "source": [
    "import pandas as pd\n",
    "import numpy as np\n",
    "%pylab inline"
   ]
  },
  {
   "cell_type": "code",
   "execution_count": 6,
   "id": "2b35066c",
   "metadata": {},
   "outputs": [],
   "source": [
    "robo_flags=pd.read_csv('/nobackup/khauskne/kdd/robovetter_flags_all_DR25.csv')"
   ]
  },
  {
   "cell_type": "code",
   "execution_count": 7,
   "id": "229abc59",
   "metadata": {},
   "outputs": [
    {
     "data": {
      "text/html": [
       "<div>\n",
       "<style scoped>\n",
       "    .dataframe tbody tr th:only-of-type {\n",
       "        vertical-align: middle;\n",
       "    }\n",
       "\n",
       "    .dataframe tbody tr th {\n",
       "        vertical-align: top;\n",
       "    }\n",
       "\n",
       "    .dataframe thead th {\n",
       "        text-align: right;\n",
       "    }\n",
       "</style>\n",
       "<table border=\"1\" class=\"dataframe\">\n",
       "  <thead>\n",
       "    <tr style=\"text-align: right;\">\n",
       "      <th></th>\n",
       "      <th>Unnamed: 0</th>\n",
       "      <th>target_id</th>\n",
       "      <th>tce_plnt_num</th>\n",
       "      <th>TCE</th>\n",
       "      <th>Robovetter_Score</th>\n",
       "      <th>Disposition</th>\n",
       "      <th>Not_Transit-Like_Flag</th>\n",
       "      <th>Stellar_Eclipse_Flag</th>\n",
       "      <th>Centroid_Offset_Flag</th>\n",
       "      <th>Ephemeris_Match_Flag</th>\n",
       "      <th>Minor_Descriptive_Flags</th>\n",
       "      <th>Global Flux Flag</th>\n",
       "      <th>Local Flux Flag</th>\n",
       "      <th>Centroid Flag</th>\n",
       "      <th>Odd Even Flag</th>\n",
       "      <th>Secondary Flag</th>\n",
       "      <th>Stellar Flag</th>\n",
       "      <th>DV Flag</th>\n",
       "    </tr>\n",
       "  </thead>\n",
       "  <tbody>\n",
       "    <tr>\n",
       "      <th>0</th>\n",
       "      <td>0</td>\n",
       "      <td>757099</td>\n",
       "      <td>1</td>\n",
       "      <td>000757099-01</td>\n",
       "      <td>0.000</td>\n",
       "      <td>FP</td>\n",
       "      <td>1</td>\n",
       "      <td>0</td>\n",
       "      <td>0</td>\n",
       "      <td>0</td>\n",
       "      <td>LPP_DV---LPP_ALT---MOD_NONUNIQ_DV</td>\n",
       "      <td>0</td>\n",
       "      <td>1</td>\n",
       "      <td>0</td>\n",
       "      <td>0</td>\n",
       "      <td>0</td>\n",
       "      <td>0</td>\n",
       "      <td>0</td>\n",
       "    </tr>\n",
       "    <tr>\n",
       "      <th>1</th>\n",
       "      <td>1</td>\n",
       "      <td>757450</td>\n",
       "      <td>1</td>\n",
       "      <td>000757450-01</td>\n",
       "      <td>0.999</td>\n",
       "      <td>PC</td>\n",
       "      <td>0</td>\n",
       "      <td>0</td>\n",
       "      <td>0</td>\n",
       "      <td>0</td>\n",
       "      <td>NO_COMMENT</td>\n",
       "      <td>0</td>\n",
       "      <td>0</td>\n",
       "      <td>0</td>\n",
       "      <td>0</td>\n",
       "      <td>0</td>\n",
       "      <td>0</td>\n",
       "      <td>0</td>\n",
       "    </tr>\n",
       "    <tr>\n",
       "      <th>2</th>\n",
       "      <td>2</td>\n",
       "      <td>892376</td>\n",
       "      <td>1</td>\n",
       "      <td>000892376-01</td>\n",
       "      <td>0.000</td>\n",
       "      <td>FP</td>\n",
       "      <td>1</td>\n",
       "      <td>0</td>\n",
       "      <td>0</td>\n",
       "      <td>0</td>\n",
       "      <td>INDIV_TRANS_CHASES_MARSHALL---LPP_DV---ALL_TRA...</td>\n",
       "      <td>0</td>\n",
       "      <td>1</td>\n",
       "      <td>0</td>\n",
       "      <td>0</td>\n",
       "      <td>0</td>\n",
       "      <td>0</td>\n",
       "      <td>0</td>\n",
       "    </tr>\n",
       "    <tr>\n",
       "      <th>3</th>\n",
       "      <td>3</td>\n",
       "      <td>892376</td>\n",
       "      <td>2</td>\n",
       "      <td>000892376-02</td>\n",
       "      <td>0.000</td>\n",
       "      <td>FP</td>\n",
       "      <td>1</td>\n",
       "      <td>0</td>\n",
       "      <td>0</td>\n",
       "      <td>0</td>\n",
       "      <td>LPP_DV---MOD_NONUNIQ_DV---CENT_KIC_POS</td>\n",
       "      <td>0</td>\n",
       "      <td>1</td>\n",
       "      <td>0</td>\n",
       "      <td>0</td>\n",
       "      <td>0</td>\n",
       "      <td>0</td>\n",
       "      <td>0</td>\n",
       "    </tr>\n",
       "    <tr>\n",
       "      <th>4</th>\n",
       "      <td>4</td>\n",
       "      <td>892376</td>\n",
       "      <td>3</td>\n",
       "      <td>000892376-03</td>\n",
       "      <td>0.000</td>\n",
       "      <td>FP</td>\n",
       "      <td>1</td>\n",
       "      <td>0</td>\n",
       "      <td>0</td>\n",
       "      <td>0</td>\n",
       "      <td>INDIV_TRANS_RUBBLE---TRANS_GAPPED---LPP_DV---L...</td>\n",
       "      <td>0</td>\n",
       "      <td>1</td>\n",
       "      <td>0</td>\n",
       "      <td>0</td>\n",
       "      <td>0</td>\n",
       "      <td>0</td>\n",
       "      <td>0</td>\n",
       "    </tr>\n",
       "    <tr>\n",
       "      <th>...</th>\n",
       "      <td>...</td>\n",
       "      <td>...</td>\n",
       "      <td>...</td>\n",
       "      <td>...</td>\n",
       "      <td>...</td>\n",
       "      <td>...</td>\n",
       "      <td>...</td>\n",
       "      <td>...</td>\n",
       "      <td>...</td>\n",
       "      <td>...</td>\n",
       "      <td>...</td>\n",
       "      <td>...</td>\n",
       "      <td>...</td>\n",
       "      <td>...</td>\n",
       "      <td>...</td>\n",
       "      <td>...</td>\n",
       "      <td>...</td>\n",
       "      <td>...</td>\n",
       "    </tr>\n",
       "    <tr>\n",
       "      <th>32529</th>\n",
       "      <td>32529</td>\n",
       "      <td>12885212</td>\n",
       "      <td>1</td>\n",
       "      <td>012885212-01</td>\n",
       "      <td>0.001</td>\n",
       "      <td>FP</td>\n",
       "      <td>0</td>\n",
       "      <td>0</td>\n",
       "      <td>1</td>\n",
       "      <td>0</td>\n",
       "      <td>CENT_RESOLVED_OFFSET</td>\n",
       "      <td>0</td>\n",
       "      <td>0</td>\n",
       "      <td>1</td>\n",
       "      <td>0</td>\n",
       "      <td>0</td>\n",
       "      <td>0</td>\n",
       "      <td>0</td>\n",
       "    </tr>\n",
       "    <tr>\n",
       "      <th>32530</th>\n",
       "      <td>32530</td>\n",
       "      <td>12885212</td>\n",
       "      <td>2</td>\n",
       "      <td>012885212-02</td>\n",
       "      <td>0.638</td>\n",
       "      <td>PC</td>\n",
       "      <td>0</td>\n",
       "      <td>0</td>\n",
       "      <td>0</td>\n",
       "      <td>0</td>\n",
       "      <td>NO_COMMENT</td>\n",
       "      <td>0</td>\n",
       "      <td>0</td>\n",
       "      <td>0</td>\n",
       "      <td>0</td>\n",
       "      <td>0</td>\n",
       "      <td>0</td>\n",
       "      <td>0</td>\n",
       "    </tr>\n",
       "    <tr>\n",
       "      <th>32531</th>\n",
       "      <td>32531</td>\n",
       "      <td>12885505</td>\n",
       "      <td>1</td>\n",
       "      <td>012885505-01</td>\n",
       "      <td>0.000</td>\n",
       "      <td>FP</td>\n",
       "      <td>1</td>\n",
       "      <td>0</td>\n",
       "      <td>0</td>\n",
       "      <td>0</td>\n",
       "      <td>INDIV_TRANS_MARSHALL---LPP_DV---INCONSISTENT_T...</td>\n",
       "      <td>0</td>\n",
       "      <td>1</td>\n",
       "      <td>0</td>\n",
       "      <td>0</td>\n",
       "      <td>0</td>\n",
       "      <td>0</td>\n",
       "      <td>0</td>\n",
       "    </tr>\n",
       "    <tr>\n",
       "      <th>32532</th>\n",
       "      <td>32532</td>\n",
       "      <td>12935144</td>\n",
       "      <td>1</td>\n",
       "      <td>012935144-01</td>\n",
       "      <td>0.000</td>\n",
       "      <td>FP</td>\n",
       "      <td>0</td>\n",
       "      <td>0</td>\n",
       "      <td>1</td>\n",
       "      <td>0</td>\n",
       "      <td>CENT_RESOLVED_OFFSET---HALO_GHOST</td>\n",
       "      <td>0</td>\n",
       "      <td>0</td>\n",
       "      <td>1</td>\n",
       "      <td>0</td>\n",
       "      <td>0</td>\n",
       "      <td>0</td>\n",
       "      <td>1</td>\n",
       "    </tr>\n",
       "    <tr>\n",
       "      <th>32533</th>\n",
       "      <td>32533</td>\n",
       "      <td>100001645</td>\n",
       "      <td>1</td>\n",
       "      <td>100001645-01</td>\n",
       "      <td>0.000</td>\n",
       "      <td>FP</td>\n",
       "      <td>1</td>\n",
       "      <td>0</td>\n",
       "      <td>0</td>\n",
       "      <td>0</td>\n",
       "      <td>LPP_DV---LPP_ALT---ALL_TRANS_CHASES---MOD_NONU...</td>\n",
       "      <td>0</td>\n",
       "      <td>1</td>\n",
       "      <td>0</td>\n",
       "      <td>0</td>\n",
       "      <td>0</td>\n",
       "      <td>0</td>\n",
       "      <td>0</td>\n",
       "    </tr>\n",
       "  </tbody>\n",
       "</table>\n",
       "<p>32534 rows × 18 columns</p>\n",
       "</div>"
      ],
      "text/plain": [
       "       Unnamed: 0  target_id  tce_plnt_num           TCE  Robovetter_Score  \\\n",
       "0               0     757099             1  000757099-01             0.000   \n",
       "1               1     757450             1  000757450-01             0.999   \n",
       "2               2     892376             1  000892376-01             0.000   \n",
       "3               3     892376             2  000892376-02             0.000   \n",
       "4               4     892376             3  000892376-03             0.000   \n",
       "...           ...        ...           ...           ...               ...   \n",
       "32529       32529   12885212             1  012885212-01             0.001   \n",
       "32530       32530   12885212             2  012885212-02             0.638   \n",
       "32531       32531   12885505             1  012885505-01             0.000   \n",
       "32532       32532   12935144             1  012935144-01             0.000   \n",
       "32533       32533  100001645             1  100001645-01             0.000   \n",
       "\n",
       "      Disposition  Not_Transit-Like_Flag  Stellar_Eclipse_Flag  \\\n",
       "0              FP                      1                     0   \n",
       "1              PC                      0                     0   \n",
       "2              FP                      1                     0   \n",
       "3              FP                      1                     0   \n",
       "4              FP                      1                     0   \n",
       "...           ...                    ...                   ...   \n",
       "32529          FP                      0                     0   \n",
       "32530          PC                      0                     0   \n",
       "32531          FP                      1                     0   \n",
       "32532          FP                      0                     0   \n",
       "32533          FP                      1                     0   \n",
       "\n",
       "       Centroid_Offset_Flag  Ephemeris_Match_Flag  \\\n",
       "0                         0                     0   \n",
       "1                         0                     0   \n",
       "2                         0                     0   \n",
       "3                         0                     0   \n",
       "4                         0                     0   \n",
       "...                     ...                   ...   \n",
       "32529                     1                     0   \n",
       "32530                     0                     0   \n",
       "32531                     0                     0   \n",
       "32532                     1                     0   \n",
       "32533                     0                     0   \n",
       "\n",
       "                                 Minor_Descriptive_Flags  Global Flux Flag  \\\n",
       "0                      LPP_DV---LPP_ALT---MOD_NONUNIQ_DV                 0   \n",
       "1                                             NO_COMMENT                 0   \n",
       "2      INDIV_TRANS_CHASES_MARSHALL---LPP_DV---ALL_TRA...                 0   \n",
       "3                 LPP_DV---MOD_NONUNIQ_DV---CENT_KIC_POS                 0   \n",
       "4      INDIV_TRANS_RUBBLE---TRANS_GAPPED---LPP_DV---L...                 0   \n",
       "...                                                  ...               ...   \n",
       "32529                               CENT_RESOLVED_OFFSET                 0   \n",
       "32530                                         NO_COMMENT                 0   \n",
       "32531  INDIV_TRANS_MARSHALL---LPP_DV---INCONSISTENT_T...                 0   \n",
       "32532                  CENT_RESOLVED_OFFSET---HALO_GHOST                 0   \n",
       "32533  LPP_DV---LPP_ALT---ALL_TRANS_CHASES---MOD_NONU...                 0   \n",
       "\n",
       "       Local Flux Flag  Centroid Flag  Odd Even Flag  Secondary Flag  \\\n",
       "0                    1              0              0               0   \n",
       "1                    0              0              0               0   \n",
       "2                    1              0              0               0   \n",
       "3                    1              0              0               0   \n",
       "4                    1              0              0               0   \n",
       "...                ...            ...            ...             ...   \n",
       "32529                0              1              0               0   \n",
       "32530                0              0              0               0   \n",
       "32531                1              0              0               0   \n",
       "32532                0              1              0               0   \n",
       "32533                1              0              0               0   \n",
       "\n",
       "       Stellar Flag  DV Flag  \n",
       "0                 0        0  \n",
       "1                 0        0  \n",
       "2                 0        0  \n",
       "3                 0        0  \n",
       "4                 0        0  \n",
       "...             ...      ...  \n",
       "32529             0        0  \n",
       "32530             0        0  \n",
       "32531             0        0  \n",
       "32532             0        1  \n",
       "32533             0        0  \n",
       "\n",
       "[32534 rows x 18 columns]"
      ]
     },
     "execution_count": 7,
     "metadata": {},
     "output_type": "execute_result"
    }
   ],
   "source": [
    "robo_flags"
   ]
  },
  {
   "cell_type": "code",
   "execution_count": 8,
   "id": "b64fdc15",
   "metadata": {},
   "outputs": [],
   "source": [
    "def apply_statistics(branches, files, num_PCs):\n",
    "    \"\"\" Compute statistics for scores across `num_PCs` results for each branch for a given data set and trial run.\n",
    "\n",
    "    :param branches: list, groupings of features\n",
    "    :param files: list, list of DataFrames that contain the scores for the different data sets (train, val, and test) [n_examples x (n_branches + other info cols)]\n",
    "    :param num_PCs: int, number of representative PCs used\n",
    "\n",
    "    :return: pandas DataFrame, mean and minimum scores across num_PCs for each branch for a given data set and trial run [n_examples x (n_branches + other info cols)]\n",
    "    \"\"\"\n",
    "\n",
    "    new_csv=files[0].copy()\n",
    "    new_csv.pop('Unnamed: 0')\n",
    "    for branch in branches:\n",
    "        all_scores=np.zeros(tuple((num_PCs, np.shape(files[0])[0])))\n",
    "        for example in range(len(files)):\n",
    "            all_scores[example]=files[example][branch]\n",
    "        col_index=new_csv.columns.get_loc(branch)\n",
    "        new_csv[branch]=np.mean(all_scores, axis=0)\n",
    "        new_csv.insert(col_index+1, branch+' Std', np.std(all_scores, axis=0))\n",
    "        new_csv.insert(col_index+1, branch+' Max', np.max(all_scores, axis=0))\n",
    "        new_csv.insert(col_index+1, branch+' Min', np.min(all_scores, axis=0))\n",
    "        new_csv.insert(col_index+1, branch+' Med', np.median(all_scores, axis=0))\n",
    "        new_csv.insert(col_index+1, branch+' Mean+Std', np.mean(all_scores, axis=0)+np.std(all_scores, axis=0))\n",
    "        new_csv.insert(col_index+1, branch+' Mean-Std', np.mean(all_scores, axis=0)-np.std(all_scores, axis=0))\n",
    "    return new_csv\n",
    "\n",
    "\n",
    "\n",
    "def evaluate_mean(csv, branches):\n",
    "    csv=pd.merge(csv, robo_flags, on=['target_id', 'tce_plnt_num'])\n",
    "    robo=np.array(csv[csv.columns[-7:]])\n",
    "    reduced_csv=csv\n",
    "    branch_explanation=np.zeros([len(branches), len(csv)])\n",
    "    for i in range(len(branches)):\n",
    "        branch_explanation[i]=(reduced_csv[branches[i]]<-0.5)\n",
    "    branch_explanation=np.moveaxis(branch_explanation, 0, -1)\n",
    "    \n",
    "    mean_dict={'target_id': csv['target_id'], 'tce_plnt_num': csv['tce_plnt_num'], 'original_label':csv['original_label'],\n",
    "              'full_score': csv['full score'], 'minor_flags':csv['Minor_Descriptive_Flags'],'branch_explanations': branch_explanation, 'robo_flags': robo}\n",
    "    return mean_dict\n",
    "\n",
    "def evaluate_min(csv, branches):\n",
    "    csv=pd.merge(csv, robo_flags, on=['target_id', 'tce_plnt_num'])\n",
    "    robo=np.array(csv[csv.columns[-7:]])\n",
    "    reduced_csv=csv\n",
    "    branch_explanation=np.zeros([len(branches), len(csv)])\n",
    "    for i in range(len(branches)):\n",
    "        branch_explanation[i]=(reduced_csv[branches[i]+ ' Min']<-0.5)\n",
    "    branch_explanation=np.moveaxis(branch_explanation, 0, -1)\n",
    "    mean_dict={'target_id': csv['target_id'], 'tce_plnt_num': csv['tce_plnt_num'], 'original_label':csv['original_label'],\n",
    "              'full_score': csv['full score'],  'minor_flags':csv['Minor_Descriptive_Flags'], 'branch_explanations': branch_explanation, 'robo_flags': robo}\n",
    "    return mean_dict\n",
    "\n",
    "def evaluate_max(csv, branches):\n",
    "    csv=pd.merge(csv, robo_flags, on=['target_id', 'tce_plnt_num'])\n",
    "    robo=np.array(csv[csv.columns[-7:]])\n",
    "    reduced_csv=csv\n",
    "    branch_explanation=np.zeros([len(branches), len(csv)])\n",
    "    for i in range(len(branches)):\n",
    "        branch_explanation[i]=(reduced_csv[branches[i]+ ' Max']<-0.5)\n",
    "    branch_explanation=np.moveaxis(branch_explanation, 0, -1)\n",
    "    \n",
    "    mean_dict={'target_id': csv['target_id'], 'tce_plnt_num': csv['tce_plnt_num'], 'original_label':csv['original_label'],\n",
    "              'full_score': csv['full score'],  'minor_flags':csv['Minor_Descriptive_Flags'], 'branch_explanations': branch_explanation, 'robo_flags': robo}\n",
    "    return mean_dict\n",
    "\n",
    "def evaluate_med(csv, branches):\n",
    "    csv=pd.merge(csv, robo_flags, on=['target_id', 'tce_plnt_num'])\n",
    "    robo=np.array(csv[csv.columns[-7:]])\n",
    "    reduced_csv=csv\n",
    "    branch_explanation=np.zeros([len(branches), len(csv)])\n",
    "    for i in range(len(branches)):\n",
    "        branch_explanation[i]=(reduced_csv[branches[i]+ ' Med']<-0.5)\n",
    "    branch_explanation=np.moveaxis(branch_explanation, 0, -1)\n",
    "    csv=pd.merge(csv, robo_flags, on=['target_id', 'tce_plnt_num'])\n",
    "    mean_dict={'target_id': csv['target_id'], 'tce_plnt_num': csv['tce_plnt_num'], 'original_label':csv['original_label'],\n",
    "              'full_score': csv['full score'],  'minor_flags':csv['Minor_Descriptive_Flags'], 'branch_explanations': branch_explanation, 'robo_flags': robo}\n",
    "    return mean_dict\n"
   ]
  },
  {
   "cell_type": "code",
   "execution_count": 9,
   "id": "0778ecbc",
   "metadata": {},
   "outputs": [],
   "source": [
    "def summary_statistics(stat_func, num_PCs, trials):\n",
    "    train=[]\n",
    "    val=[]\n",
    "    test=[]\n",
    "    for trial in range(1, trials+1):\n",
    "        run='/nobackup/khauskne/kdd/explainability_runs/exp_'+str(num_PCs)+'_PCs_trial_'+str(trial)+'/'\n",
    "        #print(run)\n",
    "        all_train_groups=[]\n",
    "        for index in range(num_PCs):\n",
    "            train_group=pd.read_csv(run+'train_top_'+str(index)+'.csv')\n",
    "            all_train_groups.append(train_group)\n",
    "    \n",
    "\n",
    "        all_val_groups=[]\n",
    "        for index in range(num_PCs):\n",
    "            val_group=pd.read_csv(run+'val_top_'+str(index)+'.csv')\n",
    "            all_val_groups.append(val_group)\n",
    "\n",
    "        all_test_groups=[]\n",
    "        for index in range(num_PCs):\n",
    "            test_group=pd.read_csv(run+'test_top_'+str(index)+'.csv')\n",
    "            all_test_groups.append(test_group)\n",
    "\n",
    "        branches=['Global Flux', 'Local Flux', 'Centroid', 'Odd Even', 'Secondary', 'Stellar', 'DV']\n",
    "        train_statistics=apply_statistics(branches, all_train_groups, num_PCs)\n",
    "        val_statistics=apply_statistics(branches, all_val_groups, num_PCs)\n",
    "        test_statistics=apply_statistics(branches, all_test_groups, num_PCs)\n",
    "        \n",
    "        train.append(stat_func(train_statistics, branches))\n",
    "        val.append(stat_func(val_statistics, branches))\n",
    "        test.append(stat_func(test_statistics, branches))\n",
    "\n",
    "    return train, val, test"
   ]
  },
  {
   "cell_type": "code",
   "execution_count": 6,
   "id": "624ce6ca",
   "metadata": {},
   "outputs": [],
   "source": [
    "stats=summary_statistics(evaluate_min, 1, 10)"
   ]
  },
  {
   "cell_type": "code",
   "execution_count": 16,
   "id": "4a0a2763",
   "metadata": {},
   "outputs": [],
   "source": [
    "def metric_1(stat_func, num_pcs, trials):\n",
    "    #at least one robovetter flag is identified\n",
    "    stats=summary_statistics(stat_func, num_pcs,trials)\n",
    "    metrics_list=[]\n",
    "    loc_flux_mistakes=[]\n",
    "    for i in range(trials):\n",
    "        train_exp=stats[0][i]['branch_explanations']\n",
    "        val_exp=stats[1][i]['branch_explanations']\n",
    "        test_exp=stats[2][i]['branch_explanations']\n",
    "        train_robo=stats[0][i]['robo_flags']\n",
    "        val_robo=stats[1][i]['robo_flags']\n",
    "        test_robo=stats[2][i]['robo_flags']\n",
    "        test_comments=stats[2][i]['minor_flags'].str.split(pat='---')\n",
    "    \n",
    "        num=0\n",
    "        denom=0\n",
    "        #loc_flux_mistake_num=0\n",
    "        #loc_flux_mistake_denom=0\n",
    "        #all_mistake_flags=[]\n",
    "        for ind in range(len(test_robo)):\n",
    "            denom=denom+1\n",
    "            robo_flags_on=np.where(test_robo[ind]==1)[0]\n",
    "            exp_flags_on=np.where(test_exp[ind]==1)[0]\n",
    "            if (np.shape(robo_flags_on)[0]>0):\n",
    "                if (np.shape(np.intersect1d(robo_flags_on, exp_flags_on))[0]>0):\n",
    "                    num=num+1\n",
    "                else:\n",
    "                    #print(robo_flags)\n",
    "                    #print(exp_flags)\n",
    "                    #all_mistake_flags.append(test_comments[ind])\n",
    "                    \n",
    "                    if (1 in robo_flags_on):\n",
    "                        if (0 in exp_flags_on):\n",
    "                            num=num+1\n",
    "                        #else:\n",
    "                        #print(exp_flags_on)\n",
    "            elif (np.shape(robo_flags_on)[0]==0):\n",
    "                if (np.shape(exp_flags_on)[0]==0):\n",
    "                    num=num+1\n",
    "        metrics_list.append(num/denom)\n",
    "        #loc_flux_mistakes.append([loc_flux_mistake_num, loc_flux_mistake_denom, loc_flux_mistake_num/loc_flux_mistake_denom])\n",
    "    return np.mean(metrics_list), np.std(metrics_list)#, loc_flux_mistakes, np.unique(np.concatenate(all_mistake_flags, axis=0), return_counts=True)"
   ]
  },
  {
   "cell_type": "code",
   "execution_count": 18,
   "id": "70c97d3b",
   "metadata": {},
   "outputs": [],
   "source": [
    "def metric_2(stat_func, num_pcs, trials):\n",
    "    #Percent of total robovetter flags found\n",
    "    stats=summary_statistics(stat_func, num_pcs,trials)\n",
    "    \n",
    "    metrics_list=[]\n",
    "    for i in range(trials):\n",
    "        #print(i)\n",
    "        train_exp=stats[0][i]['branch_explanations']\n",
    "        val_exp=stats[1][i]['branch_explanations']\n",
    "        test_exp=stats[2][i]['branch_explanations']\n",
    "        train_robo=stats[0][i]['robo_flags']\n",
    "        val_robo=stats[1][i]['robo_flags']\n",
    "        test_robo=stats[2][i]['robo_flags']\n",
    "\n",
    "        num=0\n",
    "        denom=0\n",
    "        for ind in range(len(test_robo)):\n",
    "            robo_flags_on=np.where(test_robo[ind]==1)[0]\n",
    "            exp_flags_on=np.where(test_exp[ind]==1)[0]\n",
    "            num_robo_flags=np.shape(robo_flags_on)[0]\n",
    "            denom=denom+num_robo_flags\n",
    "            if (np.shape(robo_flags_on)[0]>0):\n",
    "                num_intersect=np.shape(np.intersect1d(robo_flags_on, exp_flags_on))[0]\n",
    "                if (num_intersect>0):\n",
    "                    num=num+num_intersect\n",
    "                if (1 in robo_flags_on):\n",
    "                    if (1 not in exp_flags_on):\n",
    "                        if (0 in exp_flags_on):\n",
    "                            num=num+1\n",
    "        metrics_list.append(num/denom)\n",
    "\n",
    "    return np.mean(metrics_list), np.std(metrics_list)"
   ]
  },
  {
   "cell_type": "code",
   "execution_count": 34,
   "id": "286ac082",
   "metadata": {},
   "outputs": [],
   "source": [
    "def acc_for_flag(stat_func, num_pcs, trials):\n",
    "    #at least one robovetter flag is identified\n",
    "    stats=summary_statistics(stat_func, num_pcs,trials)\n",
    "    metrics_list=np.zeros([10, 7])\n",
    "    loc_flux_mistakes=[]\n",
    "    for i in range(trials):\n",
    "        #print(i)\n",
    "        train_exp=stats[0][i]['branch_explanations']\n",
    "        val_exp=stats[1][i]['branch_explanations']\n",
    "        test_exp=stats[2][i]['branch_explanations']\n",
    "        train_robo=stats[0][i]['robo_flags']\n",
    "        val_robo=stats[1][i]['robo_flags']\n",
    "        test_robo=stats[2][i]['robo_flags']\n",
    "        test_comments=stats[2][i]['minor_flags'].str.split(pat='---')\n",
    "    \n",
    "        for flag_num in [1,2,3,4,6]:\n",
    "            #flag_ind=0\n",
    "            #indiv_flag=[]\n",
    "            num=0\n",
    "            denom=0\n",
    "            for ind in range(len(test_robo)):\n",
    "                robo_flags_on=np.where(test_robo[ind]==1)[0]\n",
    "                exp_flags_on=np.where(test_exp[ind]==1)[0]\n",
    "                if (flag_num in robo_flags_on):\n",
    "                    denom=denom+1\n",
    "                    if (flag_num in exp_flags_on):\n",
    "                        num=num+1\n",
    "            metrics_list[i][flag_num]=num/denom\n",
    "            #indiv_flag.append(num/denom)\n",
    "            #indiv_flag=np.moveaxis(indiv_flag, 0, -1)[0]\n",
    "    metrics_list=np.moveaxis(metrics_list, 0, -1)\n",
    "    print(metrics_list)\n",
    "    mean_std=[np.mean(metrics_list, axis=1), np.std(metrics_list, axis=1)]\n",
    "    print('____')\n",
    "    print(mean_std)\n",
    "    return mean_std#np.mean(metrics_list), np.std(metrics_list)"
   ]
  },
  {
   "cell_type": "code",
   "execution_count": null,
   "id": "3c23afa5",
   "metadata": {},
   "outputs": [],
   "source": [
    "#It's one thing to randomly choose examples and show that our explainability works, should we randomly choose some Robovetter examples and look at the flagging accuracy?"
   ]
  },
  {
   "cell_type": "code",
   "execution_count": 20,
   "id": "e9ba9f9c",
   "metadata": {},
   "outputs": [
    {
     "name": "stdout",
     "output_type": "stream",
     "text": [
      "0.8013385569702904\n",
      "0.8008488410055501\n",
      "0.8204701273261508\n",
      "0.8135161606268364\n",
      "0.8326803787136795\n",
      "0.8237675481554032\n",
      "0.8397975840679074\n",
      "0.8397649363369245\n",
      "0.8455762324518448\n",
      "0.8449232778321907\n",
      "0.8433888344760041\n",
      "0.8457068233757752\n",
      "0.8346392425726412\n",
      "0.8359451518119491\n"
     ]
    }
   ],
   "source": [
    "min_vals=[]\n",
    "min_vals_std=[]\n",
    "for i in range(1,15):\n",
    "    vals=metric_1(evaluate_min, i, 10)\n",
    "    min_vals.append(vals[0])\n",
    "    min_vals_std.append(vals[1])\n",
    "    print(vals[0])"
   ]
  },
  {
   "cell_type": "code",
   "execution_count": 21,
   "id": "b82c5cbe",
   "metadata": {},
   "outputs": [
    {
     "data": {
      "text/plain": [
       "Text(0.5, 1.0, 'Metric 1 Analysis with Minimum Criteria')"
      ]
     },
     "execution_count": 21,
     "metadata": {},
     "output_type": "execute_result"
    },
    {
     "data": {
      "image/png": "[encoded data removed]",
      "text/plain": [
       "<Figure size 432x288 with 1 Axes>"
      ]
     },
     "metadata": {
      "needs_background": "light"
     },
     "output_type": "display_data"
    }
   ],
   "source": [
    "plt.errorbar(np.arange(1,15), min_vals, min_vals_std, fmt='o')\n",
    "plt.xlabel('Number of PCs')\n",
    "plt.ylabel('Metric 1')\n",
    "plt.title('Metric 1 Analysis with Minimum Criteria')"
   ]
  },
  {
   "cell_type": "code",
   "execution_count": 19,
   "id": "96efff01",
   "metadata": {},
   "outputs": [
    {
     "name": "stdout",
     "output_type": "stream",
     "text": [
      "0.7648648648648648\n",
      "0.7767303889255108\n",
      "0.7998352010547133\n",
      "0.7992748846407383\n",
      "0.8352999340804217\n",
      "0.8293012524719842\n",
      "0.8563612392880685\n",
      "0.8520105471324984\n",
      "0.86430454845089\n",
      "0.872874093605801\n",
      "0.8624917600527355\n",
      "0.8718852999340804\n",
      "0.8457811470006593\n",
      "0.860744891232696\n"
     ]
    }
   ],
   "source": [
    "min_vals_2=[]\n",
    "min_vals_std_2=[]\n",
    "for i in range(1,15):\n",
    "    vals=metric_2(evaluate_min, i, 10)\n",
    "    min_vals_2.append(vals[0])\n",
    "    min_vals_std_2.append(vals[1])\n",
    "    print(vals[0])"
   ]
  },
  {
   "cell_type": "code",
   "execution_count": 22,
   "id": "1bfee861",
   "metadata": {},
   "outputs": [
    {
     "data": {
      "text/plain": [
       "Text(0.5, 1.0, 'Metric 2 Analysis with Minimum Criteria')"
      ]
     },
     "execution_count": 22,
     "metadata": {},
     "output_type": "execute_result"
    },
    {
     "data": {
      "image/png": "[encoded data removed]",
      "text/plain": [
       "<Figure size 432x288 with 1 Axes>"
      ]
     },
     "metadata": {
      "needs_background": "light"
     },
     "output_type": "display_data"
    }
   ],
   "source": [
    "plt.errorbar(np.arange(1,15), min_vals_2, min_vals_std_2, fmt='o')\n",
    "plt.xlabel('Number of PCs')\n",
    "plt.ylabel('Metric 2')\n",
    "plt.title('Metric 2 Analysis with Minimum Criteria')"
   ]
  },
  {
   "cell_type": "code",
   "execution_count": 37,
   "id": "cca64a6a",
   "metadata": {},
   "outputs": [
    {
     "name": "stdout",
     "output_type": "stream",
     "text": [
      "[[0.         0.         0.         0.         0.         0.\n",
      "  0.         0.         0.         0.        ]\n",
      " [0.87669948 0.86075949 0.9517112  0.88560713 0.79324895 0.87201125\n",
      "  0.75058603 0.76652602 0.87810595 0.84950774]\n",
      " [0.79087452 0.75285171 0.83269962 0.7756654  0.66920152 0.77946768\n",
      "  0.72243346 0.82509506 0.77186312 0.76806084]\n",
      " [0.03333333 0.03333333 0.05       0.03333333 0.03333333 0.03333333\n",
      "  0.03333333 0.03333333 0.03333333 0.03333333]\n",
      " [0.83268482 0.81712062 0.80933852 0.81712062 0.81712062 0.82879377\n",
      "  0.80933852 0.83657588 0.81712062 0.81712062]\n",
      " [0.         0.         0.         0.         0.         0.\n",
      "  0.         0.         0.         0.        ]\n",
      " [0.72897196 0.64797508 0.80685358 0.76635514 0.66043614 0.57320872\n",
      "  0.63551402 0.85981308 0.63551402 0.61370717]]\n",
      "____\n",
      "[array([0.        , 0.84847632, 0.76882129, 0.035     , 0.82023346,\n",
      "       0.        , 0.69283489]), array([0.        , 0.05810754, 0.04498277, 0.005     , 0.00883877,\n",
      "       0.        , 0.08820326])]\n"
     ]
    },
    {
     "data": {
      "text/plain": [
       "[array([0.        , 0.84847632, 0.76882129, 0.035     , 0.82023346,\n",
       "        0.        , 0.69283489]),\n",
       " array([0.        , 0.05810754, 0.04498277, 0.005     , 0.00883877,\n",
       "        0.        , 0.08820326])]"
      ]
     },
     "execution_count": 37,
     "metadata": {},
     "output_type": "execute_result"
    }
   ],
   "source": [
    "acc_for_flag(evaluate_min, 10, 10)"
   ]
  },
  {
   "cell_type": "code",
   "execution_count": 12,
   "id": "a46e38b4",
   "metadata": {},
   "outputs": [],
   "source": [
    "def metric_4(stat_func, num_pcs, trials):\n",
    "    stats=summary_statistics(stat_func, num_pcs,trials)\n",
    "    \n",
    "    metrics_list=[]\n",
    "    for i in range(trials):\n",
    "        #print(i)\n",
    "        train_exp=stats[0][i]['branch_explanations']\n",
    "        val_exp=stats[1][i]['branch_explanations']\n",
    "        test_exp=stats[2][i]['branch_explanations']\n",
    "        train_robo=stats[0][i]['robo_flags']\n",
    "        val_robo=stats[1][i]['robo_flags']\n",
    "        test_robo=stats[2][i]['robo_flags']\n",
    "\n",
    "        exp_new_total=0\n",
    "        robo_total=0\n",
    "        for ind in range(len(test_robo)):\n",
    "            robo_flags_on=np.where(test_robo[ind]==1)[0]\n",
    "            exp_flags_on=np.where(test_exp[ind]==1)[0]\n",
    "            num_robo_flags=np.shape(robo_flags_on)[0]\n",
    "            num_exp_flags=np.shape(exp_flags_on)[0]\n",
    "            robo_total=robo_total+num_robo_flags\n",
    "            exp_new_total=exp_new_total+num_exp_flags\n",
    "            metrics_list.append(exp_new_total)\n",
    "    print(robo_total)\n",
    "    return np.mean(metrics_list), np.std(metrics_list)"
   ]
  },
  {
   "cell_type": "code",
   "execution_count": 13,
   "id": "858110d0",
   "metadata": {},
   "outputs": [
    {
     "name": "stdout",
     "output_type": "stream",
     "text": [
      "3034\n",
      "3125.5973555337905\n",
      "3034\n",
      "3249.282598759386\n",
      "3034\n",
      "3450.2316030035913\n",
      "3034\n",
      "3502.1667646098595\n",
      "3034\n",
      "3815.775612144956\n",
      "3034\n",
      "3813.730395037545\n",
      "3034\n",
      "4044.1172053542277\n",
      "3034\n",
      "3925.943258243552\n",
      "3034\n",
      "4140.263891609533\n",
      "3034\n",
      "4356.088834476004\n",
      "3034\n",
      "4104.3939928175\n",
      "3034\n",
      "4306.079562520405\n",
      "3034\n",
      "3919.773294156056\n",
      "3034\n",
      "4261.080378713679\n"
     ]
    }
   ],
   "source": [
    "num_vals=[]\n",
    "num_vals_std=[]\n",
    "for i in range(1,15):\n",
    "    vals=metric_4(evaluate_min, i, 10)\n",
    "    num_vals.append(vals[0])\n",
    "    num_vals_std.append(vals[1])\n",
    "    print(vals[0])"
   ]
  },
  {
   "cell_type": "markdown",
   "id": "0c83f35f",
   "metadata": {},
   "source": [
    "## Below Plots are from before fixing the global/local flux issue"
   ]
  },
  {
   "cell_type": "code",
   "execution_count": 60,
   "id": "024b28a3",
   "metadata": {},
   "outputs": [
    {
     "data": {
      "text/plain": [
       "<BarContainer object of 19 artists>"
      ]
     },
     "execution_count": 60,
     "metadata": {},
     "output_type": "execute_result"
    },
    {
     "data": {
      "image/png": "[encoded data removed]",
      "text/plain": [
       "<Figure size 2880x360 with 1 Axes>"
      ]
     },
     "metadata": {
      "needs_background": "light"
     },
     "output_type": "display_data"
    }
   ],
   "source": [
    "plt.figure(figsize=(40,5))\n",
    "plt.bar(mets[2][0][43:], mets[2][1][43:])"
   ]
  },
  {
   "cell_type": "code",
   "execution_count": 66,
   "id": "d39f529e",
   "metadata": {},
   "outputs": [
    {
     "name": "stdout",
     "output_type": "stream",
     "text": [
      "[0.6938731091522473]\n",
      "[0.6938731091522473, 0.7010556099684405]\n",
      "[0.6938731091522473, 0.7010556099684405, 0.7363514346864004]\n",
      "[0.6938731091522473, 0.7010556099684405, 0.7363514346864004, 0.723473718576559]\n",
      "[0.6938731091522473, 0.7010556099684405, 0.7363514346864004, 0.723473718576559, 0.7597489752239998]\n",
      "[0.6938731091522473, 0.7010556099684405, 0.7363514346864004, 0.723473718576559, 0.7597489752239998, 0.7517684187615628]\n",
      "[0.6938731091522473, 0.7010556099684405, 0.7363514346864004, 0.723473718576559, 0.7597489752239998, 0.7517684187615628, 0.7854318569303879]\n",
      "[0.6938731091522473, 0.7010556099684405, 0.7363514346864004, 0.723473718576559, 0.7597489752239998, 0.7517684187615628, 0.7854318569303879, 0.7840896724344325]\n",
      "[0.6938731091522473, 0.7010556099684405, 0.7363514346864004, 0.723473718576559, 0.7597489752239998, 0.7517684187615628, 0.7854318569303879, 0.7840896724344325, 0.7971487648275112]\n",
      "[0.6938731091522473, 0.7010556099684405, 0.7363514346864004, 0.723473718576559, 0.7597489752239998, 0.7517684187615628, 0.7854318569303879, 0.7840896724344325, 0.7971487648275112, 0.790474117604382]\n",
      "[0.6938731091522473, 0.7010556099684405, 0.7363514346864004, 0.723473718576559, 0.7597489752239998, 0.7517684187615628, 0.7854318569303879, 0.7840896724344325, 0.7971487648275112, 0.790474117604382, 0.786266187833279]\n",
      "[0.6938731091522473, 0.7010556099684405, 0.7363514346864004, 0.723473718576559, 0.7597489752239998, 0.7517684187615628, 0.7854318569303879, 0.7840896724344325, 0.7971487648275112, 0.790474117604382, 0.786266187833279, 0.7946820473754851]\n",
      "[0.6938731091522473, 0.7010556099684405, 0.7363514346864004, 0.723473718576559, 0.7597489752239998, 0.7517684187615628, 0.7854318569303879, 0.7840896724344325, 0.7971487648275112, 0.790474117604382, 0.786266187833279, 0.7946820473754851, 0.7722276635107194]\n",
      "[0.6938731091522473, 0.7010556099684405, 0.7363514346864004, 0.723473718576559, 0.7597489752239998, 0.7517684187615628, 0.7854318569303879, 0.7840896724344325, 0.7971487648275112, 0.790474117604382, 0.786266187833279, 0.7946820473754851, 0.7722276635107194, 0.7762904922552327]\n"
     ]
    }
   ],
   "source": [
    "min_vals=[]\n",
    "min_vals_std=[]\n",
    "for i in range(1,15):\n",
    "    vals=metric_1(evaluate_min, i, 10)\n",
    "    min_vals.append(vals[0])\n",
    "    min_vals_std.append(vals[1])\n",
    "    print(vals[0])\n"
   ]
  },
  {
   "cell_type": "code",
   "execution_count": 69,
   "id": "f25294e9",
   "metadata": {},
   "outputs": [
    {
     "data": {
      "text/plain": [
       "Text(0.5, 1.0, 'Metric 1 Analysis with Minimum Criteria')"
      ]
     },
     "execution_count": 69,
     "metadata": {},
     "output_type": "execute_result"
    },
    {
     "data": {
      "image/png": "[encoded data removed]",
      "text/plain": [
       "<Figure size 432x288 with 1 Axes>"
      ]
     },
     "metadata": {
      "needs_background": "light"
     },
     "output_type": "display_data"
    }
   ],
   "source": [
    "plt.errorbar(np.arange(1,15), min_vals, min_vals_std, fmt='o')\n",
    "plt.xlabel('Number of PCs')\n",
    "plt.ylabel('Metric 1')\n",
    "plt.title('Metric 1 Analysis with Minimum Criteria')"
   ]
  },
  {
   "cell_type": "code",
   "execution_count": 70,
   "id": "cd968132",
   "metadata": {},
   "outputs": [
    {
     "name": "stdout",
     "output_type": "stream",
     "text": [
      "0.6938731091522473\n",
      "0.664308774984583\n",
      "0.670149091304821\n",
      "0.6706206696412377\n",
      "0.6768600137845975\n",
      "0.6757717560851744\n",
      "0.6809953930424057\n",
      "0.6745746726158086\n",
      "0.6718177531106034\n",
      "0.6766060869880653\n",
      "0.6719991293938405\n",
      "0.6838974135742011\n",
      "0.6627126636920956\n",
      "0.6587949359741719\n"
     ]
    }
   ],
   "source": [
    "mean_vals=[]\n",
    "mean_vals_std=[]\n",
    "for i in range(1,15):\n",
    "    vals=metric_1(evaluate_mean, i, 10)\n",
    "    mean_vals.append(vals[0])\n",
    "    mean_vals_std.append(vals[1])\n",
    "    print(vals[0])"
   ]
  },
  {
   "cell_type": "code",
   "execution_count": 72,
   "id": "54ea4e37",
   "metadata": {},
   "outputs": [
    {
     "name": "stdout",
     "output_type": "stream",
     "text": [
      "0.6419102028858127\n",
      "0.6659708488976782\n",
      "0.7038379843257893\n",
      "0.6977953563319416\n",
      "0.7502380429209697\n",
      "0.7451109646231597\n",
      "0.7905222295466198\n",
      "0.7838570277594668\n",
      "0.8049512927561708\n",
      "0.8036695231817182\n",
      "0.7923167069508534\n",
      "0.8080275397348569\n",
      "0.7697209404526477\n",
      "0.7872628726287263\n"
     ]
    }
   ],
   "source": [
    "min_vals_2=[]\n",
    "min_vals_std_2=[]\n",
    "for i in range(1,15):\n",
    "    vals=metric_2(evaluate_min, i, 10)\n",
    "    min_vals_2.append(vals[0])\n",
    "    min_vals_std_2.append(vals[1])\n",
    "    print(vals[0])"
   ]
  },
  {
   "cell_type": "code",
   "execution_count": 73,
   "id": "1eb747ab",
   "metadata": {},
   "outputs": [
    {
     "data": {
      "text/plain": [
       "Text(0.5, 1.0, 'Metric 1 Analysis with Minimum Criteria')"
      ]
     },
     "execution_count": 73,
     "metadata": {},
     "output_type": "execute_result"
    },
    {
     "data": {
      "image/png": "[encoded data removed]",
      "text/plain": [
       "<Figure size 432x288 with 1 Axes>"
      ]
     },
     "metadata": {
      "needs_background": "light"
     },
     "output_type": "display_data"
    }
   ],
   "source": [
    "plt.errorbar(np.arange(1,15), min_vals_2, min_vals_std_2, fmt='o')\n",
    "plt.xlabel('Number of PCs')\n",
    "plt.ylabel('Metric 2')\n",
    "plt.title('Metric 1 Analysis with Minimum Criteria')"
   ]
  },
  {
   "cell_type": "code",
   "execution_count": 74,
   "id": "8011dc2f",
   "metadata": {},
   "outputs": [
    {
     "name": "stdout",
     "output_type": "stream",
     "text": [
      "0.6419102028858127\n",
      "0.6083644620229987\n",
      "0.6047388852266901\n",
      "0.6116238189408921\n",
      "0.6141507361019557\n",
      "0.6173368490441661\n",
      "0.6226104152933422\n",
      "0.6099025855123416\n",
      "0.6124661246612466\n",
      "0.6178129348861057\n",
      "0.6116604409287336\n",
      "0.6271515417856882\n",
      "0.5942283747161796\n",
      "0.5959862301325717\n"
     ]
    }
   ],
   "source": [
    "mean_vals_2=[]\n",
    "mean_vals_std_2=[]\n",
    "for i in range(1,15):\n",
    "    vals=metric_2(evaluate_mean, i, 10)\n",
    "    mean_vals_2.append(vals[0])\n",
    "    mean_vals_std_2.append(vals[1])\n",
    "    print(vals[0])"
   ]
  },
  {
   "cell_type": "code",
   "execution_count": 165,
   "id": "1ec2d32c",
   "metadata": {},
   "outputs": [],
   "source": [
    "def acc_for_flag(stat_func, num_pcs, trials):\n",
    "    #at least one robovetter flag is identified\n",
    "    stats=summary_statistics(stat_func, num_pcs,trials)\n",
    "    metrics_list=np.zeros([10, 5])\n",
    "    loc_flux_mistakes=[]\n",
    "    for i in range(trials):\n",
    "        print(i)\n",
    "        train_exp=stats[0][i]['branch_explanations']\n",
    "        val_exp=stats[1][i]['branch_explanations']\n",
    "        test_exp=stats[2][i]['branch_explanations']\n",
    "        train_robo=stats[0][i]['robo_flags']\n",
    "        val_robo=stats[1][i]['robo_flags']\n",
    "        test_robo=stats[2][i]['robo_flags']\n",
    "        test_comments=stats[2][i]['minor_flags'].str.split(pat='---')\n",
    "    \n",
    "        for flag_num in [1,2,3,4,6]:\n",
    "            flag_ind=0\n",
    "            indiv_flag=[]\n",
    "            num=0\n",
    "            denom=0\n",
    "            for ind in range(len(test_robo)):\n",
    "                robo_flags_on=np.where(test_robo[ind]==1)[0]\n",
    "                exp_flags_on=np.where(test_exp[ind]==1)[0]\n",
    "                if (flag_num in robo_flags_on):\n",
    "                    denom=denom+1\n",
    "                    if (flag_num in exp_flags_on):\n",
    "                        num=num+1\n",
    "            \n",
    "            indiv_flag.append(num/denom)\n",
    "            indiv_flag=np.moveaxis(indiv_flag, 0, -1)[0]\n",
    "        metrics_list[i]=indiv_flag\n",
    "    return metrics_list#np.mean(metrics_list), np.std(metrics_list)"
   ]
  },
  {
   "cell_type": "code",
   "execution_count": 166,
   "id": "e439147b",
   "metadata": {},
   "outputs": [
    {
     "name": "stdout",
     "output_type": "stream",
     "text": [
      "0\n",
      "1\n",
      "2\n",
      "3\n",
      "4\n",
      "5\n",
      "6\n",
      "7\n",
      "8\n",
      "9\n"
     ]
    },
    {
     "data": {
      "text/plain": [
       "array([[0.53582555, 0.53582555, 0.53582555, 0.53582555, 0.53582555],\n",
       "       [0.40186916, 0.40186916, 0.40186916, 0.40186916, 0.40186916],\n",
       "       [0.70716511, 0.70716511, 0.70716511, 0.70716511, 0.70716511],\n",
       "       [0.30218069, 0.30218069, 0.30218069, 0.30218069, 0.30218069],\n",
       "       [0.64797508, 0.64797508, 0.64797508, 0.64797508, 0.64797508],\n",
       "       [0.26479751, 0.26479751, 0.26479751, 0.26479751, 0.26479751],\n",
       "       [0.3364486 , 0.3364486 , 0.3364486 , 0.3364486 , 0.3364486 ],\n",
       "       [0.56697819, 0.56697819, 0.56697819, 0.56697819, 0.56697819],\n",
       "       [0.36137072, 0.36137072, 0.36137072, 0.36137072, 0.36137072],\n",
       "       [0.25545171, 0.25545171, 0.25545171, 0.25545171, 0.25545171]])"
      ]
     },
     "execution_count": 166,
     "metadata": {},
     "output_type": "execute_result"
    }
   ],
   "source": [
    "acc_for_flag(evaluate_min, 1, 10)"
   ]
  },
  {
   "cell_type": "code",
   "execution_count": 89,
   "id": "e75185c6",
   "metadata": {},
   "outputs": [
    {
     "name": "stdout",
     "output_type": "stream",
     "text": [
      "0.6848465906131165\n",
      "0.6985466479137364\n",
      "0.7532947856435901\n",
      "0.7344376725530031\n",
      "0.7924675730582903\n",
      "0.7808511746627077\n",
      "0.8348179403031725\n",
      "0.837370422461843\n",
      "0.8585716518205969\n",
      "0.8453404177736104\n",
      "0.8363806844819502\n",
      "0.8513830285982185\n",
      "0.8142418086159295\n",
      "0.8203365109131635\n"
     ]
    }
   ],
   "source": [
    "local_flux_acc=[]\n",
    "local_flux_acc_std=[]\n",
    "for i in range(1,15):    \n",
    "    acc=acc_for_flag(evaluate_min, i, 10, 1)\n",
    "    local_flux_acc.append(acc[0])\n",
    "    local_flux_acc_std.append(acc[1])\n",
    "    print(acc[0])"
   ]
  }
 ],
 "metadata": {
  "kernelspec": {
   "display_name": "Python 3 (ipykernel)",
   "language": "python",
   "name": "python3"
  },
  "language_info": {
   "codemirror_mode": {
    "name": "ipython",
    "version": 3
   },
   "file_extension": ".py",
   "mimetype": "text/x-python",
   "name": "python",
   "nbconvert_exporter": "python",
   "pygments_lexer": "ipython3",
   "version": "3.8.5"
  }
 },
 "nbformat": 4,
 "nbformat_minor": 5
}
