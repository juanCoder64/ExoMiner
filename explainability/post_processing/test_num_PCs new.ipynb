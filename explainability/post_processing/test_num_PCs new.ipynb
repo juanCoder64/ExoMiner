{
 "cells": [
  {
   "cell_type": "code",
   "execution_count": 15,
   "id": "ecac2569",
   "metadata": {
    "pycharm": {
     "name": "#%%\n"
    }
   },
   "outputs": [
    {
     "name": "stdout",
     "output_type": "stream",
     "text": [
      "Populating the interactive namespace from numpy and matplotlib\n"
     ]
    }
   ],
   "source": [
    "import pandas as pd\n",
    "import numpy as np\n",
    "%pylab inline"
   ]
  },
  {
   "cell_type": "code",
   "execution_count": 16,
   "id": "f682fd7f",
   "metadata": {
    "pycharm": {
     "name": "#%%\n"
    }
   },
   "outputs": [],
   "source": [
    "def apply_statistics(branches, files, num_PCs):\n",
    "    new_csv=files[0].copy()\n",
    "    new_csv.pop('Unnamed: 0')\n",
    "    for branch in branches:\n",
    "        all_scores=np.zeros(tuple((num_PCs, np.shape(files[0])[0])))\n",
    "        for example in range(len(files)):\n",
    "            all_scores[example]=files[example][branch]\n",
    "        col_index=new_csv.columns.get_loc(branch)\n",
    "        new_csv[branch]=np.mean(all_scores, axis=0)\n",
    "        new_csv.insert(col_index+1, branch+' Std', np.std(all_scores, axis=0))\n",
    "        new_csv.insert(col_index+1, branch+' Max', np.max(all_scores, axis=0))\n",
    "        new_csv.insert(col_index+1, branch+' Min', np.min(all_scores, axis=0))\n",
    "        new_csv.insert(col_index+1, branch+' Med', np.median(all_scores, axis=0))\n",
    "        new_csv.insert(col_index+1, branch+' Mean+Std', np.mean(all_scores, axis=0)+np.std(all_scores, axis=0))\n",
    "        new_csv.insert(col_index+1, branch+' Mean-Std', np.mean(all_scores, axis=0)-np.std(all_scores, axis=0))\n",
    "    return new_csv\n",
    "\n",
    "\n",
    "\n",
    "def evaluate_mean(csv, branches):\n",
    "    reduced_csv=csv\n",
    "    branch_explanation=np.zeros([len(branches), len(csv)])\n",
    "    for i in range(len(branches)):\n",
    "        branch_explanation[i]=(reduced_csv[branches[i]]<-0.5)\n",
    "    branch_explanation=np.moveaxis(branch_explanation, 0, -1)\n",
    "    \n",
    "    mean_dict={'target_id': csv['target_id'], 'tce_plnt_num': csv['tce_plnt_num'], 'original_label':csv['original_label'],\n",
    "              'full_score': csv['full score'], 'branch_explanations': branch_explanation}\n",
    "    return mean_dict\n",
    "\n",
    "def evaluate_min(csv, branches):\n",
    "    reduced_csv=csv\n",
    "    branch_explanation=np.zeros([len(branches), len(csv)])\n",
    "    for i in range(len(branches)):\n",
    "        branch_explanation[i]=(reduced_csv[branches[i]+ ' Min']<-0.5)\n",
    "    branch_explanation=np.moveaxis(branch_explanation, 0, -1)\n",
    "    \n",
    "    mean_dict={'target_id': csv['target_id'], 'tce_plnt_num': csv['tce_plnt_num'], 'original_label':csv['original_label'],\n",
    "              'full_score': csv['full score'], 'branch_explanations': branch_explanation}\n",
    "    return mean_dict\n",
    "\n",
    "def evaluate_max(csv, branches):\n",
    "    reduced_csv=csv\n",
    "    branch_explanation=np.zeros([len(branches), len(csv)])\n",
    "    for i in range(len(branches)):\n",
    "        branch_explanation[i]=(reduced_csv[branches[i]+ ' Max']<-0.5)\n",
    "    branch_explanation=np.moveaxis(branch_explanation, 0, -1)\n",
    "    \n",
    "    mean_dict={'target_id': csv['target_id'], 'tce_plnt_num': csv['tce_plnt_num'], 'original_label':csv['original_label'],\n",
    "              'full_score': csv['full score'], 'branch_explanations': branch_explanation}\n",
    "    return mean_dict\n",
    "\n",
    "def evaluate_med(csv, branches):\n",
    "    reduced_csv=csv\n",
    "    branch_explanation=np.zeros([len(branches), len(csv)])\n",
    "    for i in range(len(branches)):\n",
    "        branch_explanation[i]=(reduced_csv[branches[i]+ ' Med']<-0.5)\n",
    "    branch_explanation=np.moveaxis(branch_explanation, 0, -1)\n",
    "    \n",
    "    mean_dict={'target_id': csv['target_id'], 'tce_plnt_num': csv['tce_plnt_num'], 'original_label':csv['original_label'],\n",
    "              'full_score': csv['full score'], 'branch_explanations': branch_explanation}\n",
    "    return mean_dict\n",
    "\n"
   ]
  },
  {
   "cell_type": "code",
   "execution_count": 17,
   "id": "e753d3e0",
   "metadata": {
    "pycharm": {
     "name": "#%%\n"
    }
   },
   "outputs": [],
   "source": [
    "def precision_recall(dictionary):\n",
    "    \n",
    "    ind_of_fp=np.where(dictionary['full_score']<0.5)\n",
    "    num_of_fps=np.shape(ind_of_fp)[1]\n",
    "    num_of_contributing_branches_fp=np.sum(dictionary['branch_explanations'][ind_of_fp], axis=1)\n",
    "    num_of_unexplained_fps=np.shape(np.where(num_of_contributing_branches_fp==0))[1]\n",
    "    recall_fp=np.round((num_of_fps-num_of_unexplained_fps)/num_of_fps,5)\n",
    "\n",
    "    \n",
    "    num_of_contributing_branches_total=np.sum(dictionary['branch_explanations'], axis=1)\n",
    "    ind_of_explained=np.where(num_of_contributing_branches_total>0)[0]\n",
    "    num_of_explained=np.shape(ind_of_explained)[0]\n",
    "    \n",
    "   # np.shape(np.where(dictionary['original_label'][ind_of_explained]=='PC')\n",
    "             \n",
    "    num_of_explained_PCs=np.shape(np.where(dictionary['full_score'][ind_of_explained]>0.5))[1]\n",
    "    precision_fp=np.round((num_of_explained-num_of_explained_PCs)/num_of_explained, 5)\n",
    "    \n",
    "   # print(dictionary['original_label'].iloc[np.where(dictionary['full_score']>0.5)])\n",
    "    #print('P denominator: '+ str(num_of_explained))\n",
    "    #print('P numerator: ' +str((num_of_explained-num_of_explained_PCs)))\n",
    "    \n",
    "    return [recall_fp, precision_fp]\n"
   ]
  },
  {
   "cell_type": "code",
   "execution_count": 18,
   "id": "5263c24e",
   "metadata": {
    "pycharm": {
     "name": "#%%\n"
    }
   },
   "outputs": [],
   "source": [
    "trials=10\n",
    "for trial in range(1, trials+1):\n",
    "    run='/nobackup/khauskne/kdd/explainability_runs/exp_'+str(5)+'_PCs_trial_'+str(trial)+'/'\n",
    "    all_test_groups=[]\n",
    "    for index in range(5):\n",
    "        test_group=pd.read_csv(run+'test_top_'+str(index)+'.csv')\n",
    "        all_test_groups.append(test_group)\n",
    "    branches=['Global Flux', 'Local Flux', 'Centroid', 'Odd Even', 'Secondary', 'Stellar', 'DV']\n",
    "    test_statistics=apply_statistics(branches, all_test_groups, 5)"
   ]
  },
  {
   "cell_type": "code",
   "execution_count": 19,
   "id": "309bb04e",
   "metadata": {
    "pycharm": {
     "name": "#%%\n"
    }
   },
   "outputs": [],
   "source": [
    "def summary_statistics(stat_func, num_PCs, trials):\n",
    "    train=[]\n",
    "    val=[]\n",
    "    test=[]\n",
    "    for trial in range(1, trials+1):\n",
    "        run='/nobackup/khauskne/kdd/explainability_runs/exp_'+str(num_PCs)+'_PCs_trial_'+str(trial)+'/'\n",
    "        all_train_groups=[]\n",
    "        for index in range(num_PCs):\n",
    "            train_group=pd.read_csv(run+'train_top_'+str(index)+'.csv')\n",
    "            all_train_groups.append(train_group)\n",
    "\n",
    "        all_val_groups=[]\n",
    "        for index in range(num_PCs):\n",
    "            val_group=pd.read_csv(run+'val_top_'+str(index)+'.csv')\n",
    "            all_val_groups.append(val_group)\n",
    "\n",
    "        all_test_groups=[]\n",
    "        for index in range(num_PCs):\n",
    "            test_group=pd.read_csv(run+'test_top_'+str(index)+'.csv')\n",
    "            all_test_groups.append(test_group)\n",
    "\n",
    "        branches=['Global Flux', 'Local Flux', 'Centroid', 'Odd Even', 'Secondary', 'Stellar', 'DV']\n",
    "        train_statistics=apply_statistics(branches, all_train_groups, num_PCs)\n",
    "        val_statistics=apply_statistics(branches, all_val_groups, num_PCs)\n",
    "        test_statistics=apply_statistics(branches, all_test_groups, num_PCs)\n",
    "\n",
    "        train_stat=precision_recall(stat_func(train_statistics, branches))\n",
    "        val_stat=precision_recall(stat_func(val_statistics, branches))\n",
    "        test_stat=precision_recall(stat_func(test_statistics, branches))\n",
    "        train.append(train_stat)\n",
    "        val.append(val_stat)\n",
    "        test.append(test_stat)\n",
    "\n",
    "    train=np.moveaxis(train, 0, -1)\n",
    "    val=np.moveaxis(val, 0, -1)\n",
    "    test=np.moveaxis(test, 0, -1)\n",
    "    train_dict={'dataset':'train', 'recall_fp':train[0], 'precision_fp':train[1]}\n",
    "    val_dict={'dataset':'val', 'recall_fp':val[0], 'precision_fp':val[1]}\n",
    "    test_dict={'dataset':'test', 'recall_fp':test[0], 'precision_fp':test[1]}\n",
    "    return train_dict, val_dict, test_dict"
   ]
  },
  {
   "cell_type": "code",
   "execution_count": 20,
   "id": "6c446e7b",
   "metadata": {
    "pycharm": {
     "name": "#%%\n"
    }
   },
   "outputs": [],
   "source": [
    "def plot_statistics(data_arrays, statistic):\n",
    "    mean_statistics=[]\n",
    "    std_statistics=[]\n",
    "    for array in data_arrays:\n",
    "        mean=np.mean(array[statistic])\n",
    "        mean_statistics.append(mean)\n",
    "        std=np.std(array[statistic])\n",
    "        std_statistics.append(std)\n",
    "    return mean_statistics, std_statistics"
   ]
  },
  {
   "cell_type": "code",
   "execution_count": 21,
   "id": "5b755eee",
   "metadata": {
    "pycharm": {
     "name": "#%%\n"
    }
   },
   "outputs": [],
   "source": [
    "pc_1=summary_statistics(evaluate_min, 1, 10)[2]\n",
    "pc_2=summary_statistics(evaluate_min, 2, 10)[2]\n",
    "pc_3=summary_statistics(evaluate_min, 3, 10)[2]\n",
    "pc_4=summary_statistics(evaluate_min, 4, 10)[2]\n",
    "pc_5=summary_statistics(evaluate_min, 5, 10)[2]\n",
    "pc_6=summary_statistics(evaluate_min, 6, 10)[2]\n",
    "pc_7=summary_statistics(evaluate_min, 7, 10)[2]\n",
    "pc_8=summary_statistics(evaluate_min, 8, 10)[2]\n",
    "pc_9=summary_statistics(evaluate_min, 9, 10)[2]\n",
    "pc_10=summary_statistics(evaluate_min, 10, 10)[2]\n",
    "pc_11=summary_statistics(evaluate_min, 11, 10)[2]\n",
    "pc_12=summary_statistics(evaluate_min, 12, 10)[2]\n",
    "pc_13=summary_statistics(evaluate_min, 13, 10)[2]\n",
    "pc_14=summary_statistics(evaluate_min, 14, 10)[2]\n",
    "pc_15=summary_statistics(evaluate_min, 15, 10)[2]"
   ]
  },
  {
   "cell_type": "code",
   "execution_count": 22,
   "id": "11fce106",
   "metadata": {
    "pycharm": {
     "name": "#%%\n"
    }
   },
   "outputs": [],
   "source": [
    "recall_fp=plot_statistics([pc_1,pc_2,pc_3, pc_4, pc_5,pc_6, pc_7, pc_8, \n",
    "                           pc_9,pc_10, pc_11, pc_12, pc_13, pc_14 , pc_15], 'recall_fp')\n",
    "precision_fp=plot_statistics([pc_1,pc_2,pc_3, pc_4, pc_5, pc_6, pc_7, pc_8, \n",
    "                              pc_9,pc_10, pc_11, pc_12, pc_13, pc_14 , pc_15], 'precision_fp')"
   ]
  },
  {
   "cell_type": "code",
   "execution_count": 23,
   "id": "6b562fef",
   "metadata": {
    "pycharm": {
     "name": "#%%\n"
    }
   },
   "outputs": [
    {
     "data": {
      "image/png": "[encoded data removed]",
      "text/plain": [
       "<Figure size 432x288 with 1 Axes>"
      ]
     },
     "metadata": {
      "needs_background": "light"
     },
     "output_type": "display_data"
    }
   ],
   "source": [
    "plt.figure(figsize=(6,4))\n",
    "num_pcs=np.arange(1,16)\n",
    "#plt.errorbar(num_pcs, precision_fp[0], precision_fp[1], fmt='o')\n",
    "plt.errorbar(num_pcs, recall_fp[0], recall_fp[1], fmt='o')\n",
    "plt.xlabel('Number of PCs')\n",
    "plt.ylabel('Recall')\n",
    "plt.title('Explainability Recall vs. Number of PCs Used')\n",
    "plt.savefig('/nobackup/khauskne/kdd/figures/exp_recall_min_stat_new.pdf',format='pdf')"
   ]
  },
  {
   "cell_type": "code",
   "execution_count": 24,
   "id": "e2f4dd46",
   "metadata": {
    "pycharm": {
     "name": "#%%\n"
    }
   },
   "outputs": [
    {
     "data": {
      "image/png": "[encoded data removed]",
      "text/plain": [
       "<Figure size 432x288 with 1 Axes>"
      ]
     },
     "metadata": {
      "needs_background": "light"
     },
     "output_type": "display_data"
    }
   ],
   "source": [
    "plt.figure(figsize=(6,4))\n",
    "num_pcs=np.arange(1,16)\n",
    "plt.errorbar(num_pcs, precision_fp[0], precision_fp[1], fmt='o')\n",
    "#plt.errorbar(num_pcs, recall_fp[0], recall_fp[1], fmt='o')\n",
    "plt.xlabel('Number of PCs')\n",
    "plt.ylabel('Precision')\n",
    "plt.title('Explainability Precision vs. Number of PCs Used')\n",
    "plt.savefig('/nobackup/khauskne/kdd/figures/exp_precision_min_stat_new.pdf',format='pdf')"
   ]
  },
  {
   "cell_type": "code",
   "execution_count": 25,
   "id": "0e98b72e",
   "metadata": {
    "pycharm": {
     "name": "#%%\n"
    }
   },
   "outputs": [],
   "source": [
    "pc_1_mean=summary_statistics(evaluate_mean, 1, 10)[2]\n",
    "pc_2_mean=summary_statistics(evaluate_mean, 2, 10)[2]\n",
    "pc_3_mean=summary_statistics(evaluate_mean, 3, 10)[2]\n",
    "pc_4_mean=summary_statistics(evaluate_mean, 4, 10)[2]\n",
    "pc_5_mean=summary_statistics(evaluate_mean, 5, 10)[2]\n",
    "pc_6_mean=summary_statistics(evaluate_mean, 6, 10)[2]\n",
    "pc_7_mean=summary_statistics(evaluate_mean, 7, 10)[2]\n",
    "pc_8_mean=summary_statistics(evaluate_mean, 8, 10)[2]\n",
    "pc_9_mean=summary_statistics(evaluate_mean, 9, 10)[2]\n",
    "pc_10_mean=summary_statistics(evaluate_mean, 10, 10)[2]\n",
    "pc_11_mean=summary_statistics(evaluate_mean, 11, 10)[2]\n",
    "pc_12_mean=summary_statistics(evaluate_mean, 12, 10)[2]\n",
    "pc_13_mean=summary_statistics(evaluate_mean, 13, 10)[2]\n",
    "pc_14_mean=summary_statistics(evaluate_mean, 14, 10)[2]\n",
    "pc_15_mean=summary_statistics(evaluate_mean, 15, 10)[2]"
   ]
  },
  {
   "cell_type": "code",
   "execution_count": 26,
   "id": "5dfbff95",
   "metadata": {
    "pycharm": {
     "name": "#%%\n"
    }
   },
   "outputs": [],
   "source": [
    "\n",
    "recall_fp_mean=plot_statistics([pc_1_mean,pc_2_mean,pc_3_mean, pc_4_mean, pc_5_mean,pc_6_mean, pc_7_mean, pc_8_mean, \n",
    "                            pc_9_mean,pc_10_mean, pc_11_mean, pc_12_mean, pc_13_mean, pc_14_mean , pc_15_mean], 'recall_fp')\n",
    "\n",
    "precision_fp_mean=plot_statistics([pc_1_mean,pc_2_mean,pc_3_mean, pc_4_mean, pc_5_mean,pc_6_mean, pc_7_mean, pc_8_mean, \n",
    "                            pc_9_mean,pc_10_mean, pc_11_mean, pc_12_mean, pc_13_mean, pc_14_mean , pc_15_mean], 'precision_fp')"
   ]
  },
  {
   "cell_type": "code",
   "execution_count": 27,
   "id": "38d54073",
   "metadata": {
    "pycharm": {
     "name": "#%%\n"
    }
   },
   "outputs": [
    {
     "data": {
      "image/png": "[encoded data removed]",
      "text/plain": [
       "<Figure size 432x288 with 1 Axes>"
      ]
     },
     "metadata": {
      "needs_background": "light"
     },
     "output_type": "display_data"
    }
   ],
   "source": [
    "plt.figure(figsize=(6,4))\n",
    "num_pcs=np.arange(1,16)\n",
    "#plt.errorbar(num_pcs, precision_fp[0], precision_fp[1], fmt='o')\n",
    "plt.errorbar(num_pcs, recall_fp_mean[0], recall_fp_mean[1], fmt='o')\n",
    "plt.xlabel('Number of PCs')\n",
    "plt.ylabel('Recall')\n",
    "plt.title('Explainability Recall vs. Number of PCs Used (Mean Statistic)')\n",
    "plt.savefig('/nobackup/khauskne/kdd/figures/exp_recall_mean_stat_new.pdf',format='pdf')"
   ]
  },
  {
   "cell_type": "code",
   "execution_count": 28,
   "id": "218c0bfa",
   "metadata": {
    "pycharm": {
     "name": "#%%\n"
    }
   },
   "outputs": [
    {
     "data": {
      "image/png": "[encoded data removed]",
      "text/plain": [
       "<Figure size 432x288 with 1 Axes>"
      ]
     },
     "metadata": {
      "needs_background": "light"
     },
     "output_type": "display_data"
    }
   ],
   "source": [
    "plt.figure(figsize=(6,4))\n",
    "num_pcs=np.arange(1,16)\n",
    "#plt.errorbar(num_pcs, precision_fp[0], precision_fp[1], fmt='o')\n",
    "plt.errorbar(num_pcs, precision_fp_mean[0], precision_fp_mean[1], fmt='o')\n",
    "plt.xlabel('Number of PCs')\n",
    "plt.ylabel('Precision')\n",
    "plt.title('Explainability Precision vs. Number of PCs Used (Mean Statistic)')\n",
    "plt.savefig('/nobackup/khauskne/kdd/figures/exp_precision_mean_stat_new.pdf',format='pdf')"
   ]
  },
  {
   "cell_type": "code",
   "execution_count": null,
   "id": "24dfa842",
   "metadata": {
    "pycharm": {
     "name": "#%%\n"
    }
   },
   "outputs": [],
   "source": []
  }
 ],
 "metadata": {
  "kernelspec": {
   "display_name": "Python 3 (ipykernel)",
   "language": "python",
   "name": "python3"
  },
  "language_info": {
   "codemirror_mode": {
    "name": "ipython",
    "version": 3
   },
   "file_extension": ".py",
   "mimetype": "text/x-python",
   "name": "python",
   "nbconvert_exporter": "python",
   "pygments_lexer": "ipython3",
   "version": "3.8.5"
  }
 },
 "nbformat": 4,
 "nbformat_minor": 5
}