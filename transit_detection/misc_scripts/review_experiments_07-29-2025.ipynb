{
 "cells": [
  {
   "cell_type": "code",
   "execution_count": 1,
   "id": "6bc33ba9",
   "metadata": {},
   "outputs": [],
   "source": [
    "# 3rd party\n",
    "import pandas as pd\n",
    "from pathlib import Path\n",
    "import matplotlib.pyplot as plt\n",
    "import numpy as np\n",
    "from matplotlib.colors import LogNorm\n",
    "from mpl_toolkits.axes_grid1 import make_axes_locatable\n",
    "import lightkurve as lk\n",
    "from collections import defaultdict\n",
    "import textwrap\n",
    "import logging"
   ]
  },
  {
   "cell_type": "code",
   "execution_count": 2,
   "id": "c2d42018",
   "metadata": {},
   "outputs": [],
   "source": [
    "logging.basicConfig(level=logging.INFO,\n",
    "                    format='%(levelname)s - %(message)s')\n",
    "\n",
    "logger = logging.getLogger(__name__) "
   ]
  },
  {
   "cell_type": "code",
   "execution_count": 3,
   "id": "1eb7b96c",
   "metadata": {},
   "outputs": [
    {
     "name": "stderr",
     "output_type": "stream",
     "text": [
      "/tmp/ipykernel_22763/3144915935.py:6: DtypeWarning: Columns (364,366,367,370,371) have mixed types. Specify dtype option on import or set low_memory=False.\n",
      "  tce_tbl = pd.read_csv(tce_tbl_fp)\n"
     ]
    }
   ],
   "source": [
    "tce_tbl_fp = Path(\n",
    "    \"/nobackup/jochoa4/work_dir/data/tables/tess_2min_tces_dv_s1-s68_all_msectors_11-29-2023_2157_newlabels_nebs_npcs_bds_ebsntps_to_unks.csv\"\n",
    ")\n",
    "\n",
    "# -------------------- Load Data --------------------\n",
    "tce_tbl = pd.read_csv(tce_tbl_fp)\n",
    "tce_tbl = tce_tbl.rename(columns={\"uid\": \"tce_uid\", \"label\": \"disposition\"})\n",
    "\n",
    "if 'target_id' not in tce_tbl.columns:\n",
    "    logger.debug(\"target_id not in tce_tbl, adding it\")\n",
    "    tce_tbl['target_id'] = (\n",
    "        tce_tbl['tce_uid'].astype(str)\n",
    "               .str.split('-')\n",
    "               .str[0]\n",
    "               .astype(int)\n",
    "    )"
   ]
  },
  {
   "cell_type": "code",
   "execution_count": 6,
   "id": "d3021a4f",
   "metadata": {},
   "outputs": [
    {
     "name": "stderr",
     "output_type": "stream",
     "text": [
      "INFO - Beginning processing data_tbls.\n",
      "INFO - Cumulative shape: (50549, 59)\n",
      "INFO -             tce_uid  n_transit_examples  n_not_transit_examples  \\\n",
      "0    62087766-1-S13                 1.0                     1.0   \n",
      "1  62124646-1-S1-36                 2.0                     1.0   \n",
      "2  62124646-2-S1-36                 2.0                     2.0   \n",
      "3  62124646-3-S1-36                 6.0                     6.0   \n",
      "4    62124646-2-S13                 2.0                     2.0   \n",
      "\n",
      "                       tfrec_fn  target_id  tce_plnt_num  numberOfPlanets  \\\n",
      "0  raw_shard_1121-8593.tfrecord   62087766             1              1.0   \n",
      "1  raw_shard_1121-8593.tfrecord   62124646             1              3.0   \n",
      "2  raw_shard_1121-8593.tfrecord   62124646             2              3.0   \n",
      "3  raw_shard_1121-8593.tfrecord   62124646             3              3.0   \n",
      "4  raw_shard_1121-8593.tfrecord   62124646             2              3.0   \n",
      "\n",
      "   tce_num_transits  tce_num_transits_obs  tce_max_sngle_ev  ...  \\\n",
      "0               2.0                   2.0         10.877036  ...   \n",
      "1               2.0                   2.0         31.691414  ...   \n",
      "2              33.0                   2.0         12.253195  ...   \n",
      "3              67.0                   5.0         12.942176  ...   \n",
      "4               2.0                   2.0         24.971648  ...   \n",
      "\n",
      "   tce_ptemp_stat  tce_insol  tce_cap_stat  tce_hap_stat    wst_depth  \\\n",
      "0        5.727183  24.931542      1.197301      9.800399   206.445709   \n",
      "1       16.923272   0.221638      9.139597      2.342221  4620.746582   \n",
      "2        7.010708  21.431670      7.515303      2.986891  2154.478580   \n",
      "3        1.873226  55.137507      2.563403     -3.277033   916.836730   \n",
      "4        0.000000   0.000000     10.403716      6.404555  2288.557863   \n",
      "\n",
      "       ruwe  mag_shift  disposition  disposition_source  matched_object  \n",
      "0  1.165818     2.7921          NTP     TEC flux triage             NaN  \n",
      "1  1.006460     3.3502          NTP     TEC flux triage             NaN  \n",
      "2  1.006460     3.3502          NTP     TEC flux triage             NaN  \n",
      "3  1.006460     3.3502          NTP     TEC flux triage             NaN  \n",
      "4  1.006460     3.3502          NTP     TEC flux triage             NaN  \n",
      "\n",
      "[5 rows x 59 columns]\n"
     ]
    }
   ],
   "source": [
    "\n",
    "data_tbl_dir = Path(\"/nobackup/jochoa4/work_dir/data/datasets/TESS_exoplanet_dataset_07-24-2025_no_detrend/tfrecords/\")\n",
    "assert data_tbl_dir.exists(), f\"ERROR: data_tbl_dir - {data_tbl_dir} - does not exist.\"\n",
    "\n",
    "data_tbl_fp_pattern = \"data_tbl*.csv\"\n",
    "data_tbl_fp_gen = data_tbl_dir.glob(data_tbl_fp_pattern)\n",
    "\n",
    "logger.info(f\"Beginning processing data_tbls.\")\n",
    "filtered_dfs = []\n",
    "for data_tbl_fp in data_tbl_fp_gen:\n",
    "    df = pd.read_csv(data_tbl_fp)\n",
    "\n",
    "    # Keep rows with at least one transit or not-transit example\n",
    "    mask = (df[\"n_transit_examples\"] > 0) | (df[\"n_not_transit_examples\"] > 0)\n",
    "    filtered = df[mask]\n",
    "\n",
    "    if not filtered.empty:\n",
    "        filtered_dfs.append(filtered)\n",
    "\n",
    "# Concatenate all filtered dataframes\n",
    "cumulative_df = pd.concat(filtered_dfs, ignore_index=True)\n",
    "\n",
    "logger.info(f\"Cumulative shape: {cumulative_df.shape}\")\n",
    "logger.info(cumulative_df.head())"
   ]
  },
  {
   "cell_type": "markdown",
   "id": "97782bd0",
   "metadata": {},
   "source": [
    "### Merging columns"
   ]
  },
  {
   "cell_type": "code",
   "execution_count": null,
   "id": "03a72f1f",
   "metadata": {},
   "outputs": [],
   "source": []
  },
  {
   "cell_type": "code",
   "execution_count": null,
   "id": "bbee900a",
   "metadata": {},
   "outputs": [],
   "source": [
    "merge_cols = ['tce_uid', 'tce_dikco_msky', 'tce_dikco_msky_err',]\n",
    "for col in merge_cols:\n",
    "    if col not in cumulative_df.columns:\n",
    "        logger.info(f\"Column {col} does not exist in cumulative_df\")\n",
    "\n",
    "# cumulative_df = cumulative_df.merge(tce_tbl[merge_cols], how='left', on='tce_uid')"
   ]
  },
  {
   "cell_type": "code",
   "execution_count": null,
   "id": "5528d8a2",
   "metadata": {},
   "outputs": [],
   "source": [
    "def _assert_no_nans_in_cols(df, required_cols):\n",
    "    for col in required_cols:\n",
    "        if df[col].isna().sum() != 0:\n",
    "            print(f\"NaNs found in column: {col}\")"
   ]
  },
  {
   "cell_type": "code",
   "execution_count": null,
   "id": "5eb1c8a8",
   "metadata": {},
   "outputs": [],
   "source": [
    "cumulative_df['tce_dikco_msky']"
   ]
  },
  {
   "cell_type": "code",
   "execution_count": null,
   "id": "2e92992b",
   "metadata": {},
   "outputs": [],
   "source": [
    "\n",
    "# Example threshold: filter EBs with deep transits\n",
    "def no_eb_3sig_offset(df):\n",
    "    df = df.copy()\n",
    "\n",
    "    # Check each for NaNs\n",
    "    _assert_no_nans_in_cols(df, [ \"tce_dikco_msky\",  \"tce_dikco_msky_err\",  \"disposition\" ])\n",
    "    \n",
    "    TESS_PX_SCALE = 21  # arcsec\n",
    "    KEPLER_PX_SCALE = 3.98  # arcsec\n",
    "    tess_lower_bound_err = 2.5\n",
    "    kepler_lower_bound_err = 0.0667\n",
    "    TESS_TO_KEPLER_PX_SCALE_RATIO = TESS_PX_SCALE / KEPLER_PX_SCALE\n",
    "    \n",
    "    df['tce_dikco_msky_original'] = df.apply(lambda r: r['tce_dikco_msky'] * TESS_TO_KEPLER_PX_SCALE_RATIO, axis=1)\n",
    "    df['tce_dikco_msky_err_original'] = df.apply( lambda r:\n",
    "        r['tce_dikco_msky_err'] * TESS_TO_KEPLER_PX_SCALE_RATIO\n",
    "        + tess_lower_bound_err\n",
    "        - TESS_TO_KEPLER_PX_SCALE_RATIO * kepler_lower_bound_err\n",
    "        , axis=1\n",
    "    )\n",
    "    df['tce_dikco_sigma'] = df.apply(lambda r: r['tce_dikco_msky_original'] / r['tce_dikco_msky_err_original'], axis=1)\n",
    "    \n",
    "    condition = ((df['disposition'] == 'EB') & ((df['tce_dikco_sigma'] > 3.0) | (df['tce_dikco_msky_err'] < 0)))\n",
    "    df.loc[condition, \"n_transit_examples\"] = 0\n",
    "\n",
    "    return df\n",
    "\n",
    "def no_ntp(df):\n",
    "    df = df.copy()\n",
    "    _assert_no_nans_in_cols(df, ['disposition'])\n",
    "    condition = (df['disposition'] != 'NTP')\n",
    "    df = df.loc[condition]\n",
    "    return df"
   ]
  },
  {
   "cell_type": "code",
   "execution_count": null,
   "id": "2024a246",
   "metadata": {},
   "outputs": [],
   "source": [
    "# Summarization function\n",
    "def summarize_example_counts(df):\n",
    "    df = df.copy()\n",
    "    group = df.groupby(\"disposition\")[[\"n_transit_examples\", \"n_not_transit_examples\"]].sum()\n",
    "    group[\"total_examples\"] = group[\"n_transit_examples\"] + group[\"n_not_transit_examples\"]\n",
    "    grand_total = group.sum().to_frame().T\n",
    "    grand_total.index = [\"ALL\"]\n",
    "    return pd.concat([group, grand_total])\n",
    "\n",
    "# Create a clear text output\n",
    "def format_summary_text(summary_df):\n",
    "    lines = []\n",
    "    for idx, row in summary_df.iterrows():\n",
    "        line = (\n",
    "            f\"{idx:<8} | \"\n",
    "            f\"Transit: {row['n_transit_examples']:>5.0f} | \"\n",
    "            f\"Not Transit: {row['n_not_transit_examples']:>5.0f} | \"\n",
    "            f\"Total: {row['total_examples']:>5.0f}\"\n",
    "        )\n",
    "        lines.append(line)\n",
    "    return \"\\n\".join(lines)"
   ]
  },
  {
   "cell_type": "code",
   "execution_count": null,
   "id": "d256fe98",
   "metadata": {},
   "outputs": [],
   "source": [
    "filter_func_map = {\n",
    "    \"base\" : [None],\n",
    "    \"no_eb_3sig\" : [no_eb_3sig_offset],\n",
    "    \"no_ntp\" : [no_ntp],\n",
    "    \"no_ntp_no_eb_3sig\" : [no_ntp, no_eb_3sig_offset]\n",
    "}\n",
    "\n",
    "filtered_dfs = {}\n",
    "summaries = {}\n",
    "summary_texts = {}\n",
    "\n",
    "for name, funcs in filter_func_map.items():\n",
    "    filt_df = cumulative_df.copy()\n",
    "    for func in funcs:\n",
    "        if func is not None:\n",
    "            filt_df = func(filt_df.copy())\n",
    "    filtered_dfs[name] = filt_df\n",
    "    summaries[name] = summarize_example_counts(filt_df)\n",
    "    summary_texts[name] = format_summary_text(summaries[name])"
   ]
  },
  {
   "cell_type": "code",
   "execution_count": null,
   "id": "8d176d97",
   "metadata": {},
   "outputs": [],
   "source": [
    "for name in summaries:\n",
    "    print(f\"--- {name.upper()} ---\")\n",
    "    print(summary_texts[name])\n",
    "    print()"
   ]
  },
  {
   "cell_type": "code",
   "execution_count": null,
   "id": "8fcaefc4",
   "metadata": {},
   "outputs": [],
   "source": [
    "n = len(summaries)\n",
    "cols = 2\n",
    "rows = (n + 1) // cols\n",
    "fig, axs = plt.subplots(rows, cols, figsize=(12, 5 * rows))\n",
    "\n",
    "if rows == 1:\n",
    "    axs = axs.reshape(1, -1)  # ensure 2D\n",
    "\n",
    "for ax, (name, summary) in zip(axs.flat, summaries.items()):\n",
    "    summary = summary[:-1]  # remove grand total\n",
    "    summary[['n_transit_examples', 'n_not_transit_examples']].plot(\n",
    "        kind='bar', stacked=True, ax=ax, colormap='viridis'\n",
    "    )\n",
    "    ax.set_title(f\"{name} (absolute)\")\n",
    "    ax.set_ylabel(\"Examples\")\n",
    "    ax.set_xlabel(\"Disposition\")\n",
    "\n",
    "plt.tight_layout()\n"
   ]
  },
  {
   "cell_type": "code",
   "execution_count": null,
   "id": "202e78ef",
   "metadata": {},
   "outputs": [],
   "source": [
    "for (name, summary) in summaries.items():\n",
    "    \n",
    "    # Plotting: Absolute and Normalized Bar Charts\n",
    "    fig, axs = plt.subplots(1, 2, figsize=(12, 5))\n",
    "    title_map = {\n",
    "    \"base\" : 'No Filter (EB/CP/KP/NEB/NPC/NTP)',\n",
    "    \"no_eb_3sig\" : 'Filtered IT EB > 3.0 (EB/CP/KP/NEB/NPC/NTP)',\n",
    "    \"no_ntp\" : 'Filtered all NTP (EB/CP/KP/NEB/NPC)',\n",
    "    \"no_ntp_no_eb_3sig\" : 'Filtered all NTP & IT EB > 3.0 (EB/CP/KP/NEB/NPC)'\n",
    "}\n",
    "\n",
    "    # Absolute count bar chart\n",
    "     \n",
    "    summary[:-1][['n_transit_examples', 'n_not_transit_examples']].plot(\n",
    "        kind='bar', stacked=True, ax=axs[0], colormap='viridis'\n",
    "    )\n",
    "    axs[0].set_title(f'Example Counts by Disposition\\n{title_map[name]}')\n",
    "    axs[0].set_ylabel('Number of Examples')\n",
    "    axs[0].set_xlabel('Disposition')\n",
    "    axs[0].legend(title='Type')\n",
    "\n",
    "    # Normalized bar chart\n",
    "    normalized = summary[:-1][['n_transit_examples', 'n_not_transit_examples']].div(\n",
    "        summary[:-1]['total_examples'], axis=0\n",
    "    )\n",
    "    normalized.plot(kind='bar', stacked=True, ax=axs[1], colormap='viridis')\n",
    "    axs[1].set_title(f'Normalized Example Distribution\\n{title_map[name]} ')\n",
    "    axs[1].set_ylabel('Fraction of Examples')\n",
    "    axs[1].set_xlabel('Disposition')\n",
    "    axs[1].legend(title='Type')\n",
    "\n",
    "    plt.tight_layout()"
   ]
  },
  {
   "cell_type": "markdown",
   "id": "86cb75c9",
   "metadata": {},
   "source": [
    "# Plotting from Preds"
   ]
  },
  {
   "cell_type": "code",
   "execution_count": 4,
   "id": "a96041f2",
   "metadata": {},
   "outputs": [
    {
     "data": {
      "image/png": "[encoded data removed]",
      "text/plain": [
       "<Figure size 1000x600 with 1 Axes>"
      ]
     },
     "metadata": {},
     "output_type": "display_data"
    }
   ],
   "source": [
    "pred_dir = Path(\"/nobackupp27/jochoa4/work_dir/job_runs/predict_model_TESS_exoplanet_dataset_07-24-2025_no_detrend_split_norm_filt_3sig_it_EB_no_ntp_bal_eb_low_lr/\")\n",
    "split_pred_fps = pred_dir.rglob(\"*preds_*.csv\")\n",
    "\n",
    "dfs = [pd.read_csv(fp) for fp in split_pred_fps]\n",
    "df = pd.concat(dfs, ignore_index=True)\n",
    "\n",
    "# Step 2: Group by disposition and tw_flag\n",
    "grouped = (\n",
    "    df.groupby(['disposition', 'tw_flag'])\n",
    "    .size()\n",
    "    .unstack(fill_value=0)\n",
    "    .rename(columns={0: 'n_not_transit_examples', 1: 'n_transit_examples'})\n",
    ")\n",
    "\n",
    "grouped['total_examples'] = grouped.sum(axis=1)\n",
    "grouped = grouped.sort_values('total_examples', ascending=False)\n",
    "\n",
    "# Optional grand total row\n",
    "grand_total = grouped.sum().to_frame().T\n",
    "grand_total.index = [\"ALL\"]\n",
    "summary_df = pd.concat([grouped, grand_total])\n",
    "\n",
    "summary_df[:-1][['n_transit_examples', 'n_not_transit_examples']].plot(\n",
    "    kind='bar', stacked=True, figsize=(10, 6), colormap='viridis'\n",
    ")\n",
    "plt.title(\"Example Counts by Disposition\")\n",
    "plt.ylabel(\"Number of Examples\")\n",
    "plt.xlabel(\"Disposition\")\n",
    "plt.xticks(rotation=45, ha='right')\n",
    "plt.tight_layout()"
   ]
  },
  {
   "cell_type": "code",
   "execution_count": null,
   "id": "92437097",
   "metadata": {},
   "outputs": [],
   "source": []
  }
 ],
 "metadata": {
  "kernelspec": {
   "display_name": "Python 3",
   "language": "python",
   "name": "python3"
  },
  "language_info": {
   "codemirror_mode": {
    "name": "ipython",
    "version": 3
   },
   "file_extension": ".py",
   "mimetype": "text/x-python",
   "name": "python",
   "nbconvert_exporter": "python",
   "pygments_lexer": "ipython3",
   "version": "3.11.4"
  }
 },
 "nbformat": 4,
 "nbformat_minor": 5
}
