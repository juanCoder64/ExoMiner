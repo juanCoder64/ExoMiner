{
 "cells": [
  {
   "cell_type": "code",
   "execution_count": 2,
   "id": "08f1a6c1",
   "metadata": {},
   "outputs": [],
   "source": [
    "# 3rd party\n",
    "import tensorflow as tf\n",
    "import lightkurve as lk\n",
    "import pandas as pd\n",
    "import numpy as np\n",
    "from pathlib import Path\n",
    "\n",
    "import matplotlib.pyplot as plt\n",
    "import matplotlib.gridspec as gridspec\n",
    "from mpl_toolkits.axes_grid1 import make_axes_locatable\n",
    "from matplotlib.colors import LogNorm\n",
    "\n",
    "from scipy.interpolate import interp1d"
   ]
  },
  {
   "cell_type": "code",
   "execution_count": 3,
   "id": "b9c3f4f4",
   "metadata": {},
   "outputs": [
    {
     "name": "stderr",
     "output_type": "stream",
     "text": [
      "/var/folders/_z/srkh35f94rd_6jrkc3kv29hm0000gp/T/ipykernel_97581/4188963064.py:5: DtypeWarning: Columns (364,366,367,370,371) have mixed types. Specify dtype option on import or set low_memory=False.\n",
      "  tce_tbl = pd.read_csv(tce_tbl_fp)\n"
     ]
    }
   ],
   "source": [
    "tce_tbl_fp = Path(\n",
    "    \"/Users/jochoa4/Projects/exoplanet_transit_classification/ephemeris_tables/preprocessing_tce_tables/tess_2min_tces_dv_s1-s68_all_msectors_11-29-2023_2157_newlabels_nebs_npcs_bds_ebsntps_to_unks.csv\"\n",
    ")\n",
    "\n",
    "tce_tbl = pd.read_csv(tce_tbl_fp)\n",
    "tce_tbl = tce_tbl.loc[\n",
    "        tce_tbl[\"label\"].isin([\"EB\", \"KP\", \"CP\", \"NTP\", \"NEB\", \"NPC\"])\n",
    "]\n",
    "tce_tbl = tce_tbl.rename(columns={\"uid\": \"tce_uid\", \"label\": \"disposition\", \"uid\": \"tce_uid\"})"
   ]
  },
  {
   "cell_type": "markdown",
   "id": "dbc1e2d0",
   "metadata": {},
   "source": [
    "### Investigating Neg Dispositions (NTP, NEB, NPC) overlap w/ Pos Dispositions (EB, KP, CP) at the target, sector_run level"
   ]
  },
  {
   "cell_type": "code",
   "execution_count": 6,
   "id": "74eba116",
   "metadata": {},
   "outputs": [],
   "source": [
    "t_sr_groups = tce_tbl.groupby([\"target_id\", \"sector_run\"])"
   ]
  },
  {
   "cell_type": "markdown",
   "id": "05662189",
   "metadata": {},
   "source": [
    "Filter for target, sector_runs that have both Pos and Neg disposition TCEs"
   ]
  },
  {
   "cell_type": "code",
   "execution_count": 9,
   "id": "3293e8d6",
   "metadata": {},
   "outputs": [],
   "source": [
    "mixed_t_sr_groups = t_sr_groups.filter(\n",
    "    lambda g: \n",
    "        (np.isin(np.array([\"EB\", \"CP\", \"KP\"]), g[\"disposition\"].unique()).any())\n",
    "        and \n",
    "        (np.isin(np.array([\"NTP\", \"NEB\", \"NPC\"]), g[\"disposition\"].unique()).any())\n",
    ").groupby([\"target_id\", \"sector_run\"])"
   ]
  },
  {
   "cell_type": "code",
   "execution_count": 10,
   "id": "e249f833",
   "metadata": {},
   "outputs": [
    {
     "data": {
      "text/plain": [
       "(2259, 43054)"
      ]
     },
     "execution_count": 10,
     "metadata": {},
     "output_type": "execute_result"
    }
   ],
   "source": []
  },
  {
   "cell_type": "markdown",
   "id": "ab4ef8fa",
   "metadata": {},
   "source": [
    "### Specific (target, sector_run) pairs"
   ]
  },
  {
   "cell_type": "code",
   "execution_count": 4,
   "id": "88e1bffb",
   "metadata": {},
   "outputs": [],
   "source": [
    "target, sector_run = 198242678, \"14-19\" # 30034081, \"7\""
   ]
  },
  {
   "cell_type": "code",
   "execution_count": 5,
   "id": "db2b6926",
   "metadata": {},
   "outputs": [],
   "source": [
    "sector_run_arr = []\n",
    "\n",
    "if \"-\" in sector_run:\n",
    "    start_sector, end_sector = [\n",
    "        int(sector) for sector in sector_run.split(\"-\")\n",
    "    ]\n",
    "    sector_run_arr = [\n",
    "        sector for sector in range(start_sector, end_sector + 1)\n",
    "    ]\n",
    "else:\n",
    "    sector_run_arr = [int(sector_run)]\n",
    "\n",
    "# find light curve data for target, sector_run pair\n",
    "search_lc_res = lk.search_lightcurve(\n",
    "    target=f\"tic{target}\",\n",
    "    mission=\"TESS\",\n",
    "    author=(\"TESS-SPOC\", \"SPOC\"),\n",
    "    exptime=120,\n",
    "    cadence=\"long\",\n",
    "    sector=sector_run_arr,\n",
    ")"
   ]
  },
  {
   "cell_type": "code",
   "execution_count": 13,
   "id": "7de76b8f",
   "metadata": {},
   "outputs": [],
   "source": [
    "lcfs_def = search_lc_res.download_all(\n",
    "    quality_bitmask=\"default\", flux_column=\"pdcsap_flux\"\n",
    ")\n",
    "\n",
    "lcfs_none = search_lc_res.download_all(\n",
    "    quality_bitmask=\"none\", flux_column=\"pdcsap_flux\"\n",
    ")\n",
    "\n",
    "found_sectors = [int(el.split(' ')[-1]) for el in search_lc_res.table[\"mission\"]]"
   ]
  },
  {
   "cell_type": "code",
   "execution_count": 14,
   "id": "86b23c61",
   "metadata": {},
   "outputs": [
    {
     "data": {
      "text/plain": [
       "[14, 16, 17, 18, 19]"
      ]
     },
     "execution_count": 14,
     "metadata": {},
     "output_type": "execute_result"
    }
   ],
   "source": [
    "found_sectors"
   ]
  },
  {
   "cell_type": "code",
   "execution_count": 17,
   "id": "370acd6f",
   "metadata": {},
   "outputs": [
    {
     "name": "stdout",
     "output_type": "stream",
     "text": [
      "default mask max_diff: 0.9555375604454639\n",
      "no mask max_diff: 0.9499821161348336\n",
      "18424\n",
      "18654\n"
     ]
    }
   ],
   "source": [
    "lcf_def = lcfs_def[0]\n",
    "\n",
    "lcf_def = lk.LightCurve({\"time\": np.array(lcf_def.time.value), \"flux\": np.array(lcf_def.flux.value)})\n",
    "\n",
    "lcf_none = lcfs_none[0]\n",
    "\n",
    "lcf_none = lk.LightCurve({\"time\": np.array(lcf_none.time.value), \"flux\": np.array(lcf_none.flux.value)})\n",
    "\n",
    "print(f\"default mask max_diff: {np.max(np.diff(lcf_def.time.value))}\")\n",
    "print(f\"no mask max_diff: {np.max(np.diff(lcf_none.time.value))}\")\n",
    "print(len(lcf_def.time.value))\n",
    "print(len(lcf_none.time.value))\n"
   ]
  },
  {
   "cell_type": "code",
   "execution_count": null,
   "id": "7ba5326a",
   "metadata": {},
   "outputs": [],
   "source": [
    "lcf_fits_fp = \"/Users/jochoa4/Downloads/MAST_2025-06-09T2246/TESS/tess2019279210107-s0017-0000000198242678-0161-s/tess2019279210107-s0017-0000000198242678-0161-s_lc.fits\"\n"
   ]
  },
  {
   "cell_type": "code",
   "execution_count": 20,
   "id": "76f3d072",
   "metadata": {},
   "outputs": [],
   "source": [
    "import astropy.io.fits as fits\n",
    "lcf = fits.open(lcf_fits_fp)"
   ]
  },
  {
   "cell_type": "code",
   "execution_count": null,
   "id": "d28ee8c1",
   "metadata": {},
   "outputs": [],
   "source": [
    "lcf_def"
   ]
  },
  {
   "cell_type": "code",
   "execution_count": 22,
   "id": "ceede83b",
   "metadata": {},
   "outputs": [
    {
     "name": "stdout",
     "output_type": "stream",
     "text": [
      "Filename: /Users/jochoa4/Downloads/MAST_2025-06-09T2246/TESS/tess2019279210107-s0017-0000000198242678-0161-s/tess2019279210107-s0017-0000000198242678-0161-s_lc.fits\n",
      "No.    Name      Ver    Type      Cards   Dimensions   Format\n",
      "  0  PRIMARY       1 PrimaryHDU      44   ()      \n",
      "  1  LIGHTCURVE    1 BinTableHDU    167   18012R x 20C   [D, E, J, E, E, E, E, E, E, J, D, E, D, E, D, E, D, E, E, E]   \n",
      "  2  APERTURE      1 ImageHDU        49   (11, 13)   int32   \n"
     ]
    }
   ],
   "source": [
    "lcf.info()"
   ]
  },
  {
   "cell_type": "code",
   "execution_count": 23,
   "id": "fe1c5fc0",
   "metadata": {},
   "outputs": [
    {
     "name": "stderr",
     "output_type": "stream",
     "text": [
      "WARNING: UnitsWarning: 'BJD - 2457000, days' did not parse as fits unit: At col 0, Unit 'BJD' not supported by the FITS standard.  If this is meant to be a custom unit, define it with 'u.def_unit'. To have it recognized inside a file reader or other code, enable it with 'u.add_enabled_units'. For details, see https://docs.astropy.org/en/latest/units/combining_and_defining.html [astropy.units.core]\n",
      "WARNING: UnitsWarning: 'e-/s' did not parse as fits unit: At col 0, Unit 'e' not supported by the FITS standard.  If this is meant to be a custom unit, define it with 'u.def_unit'. To have it recognized inside a file reader or other code, enable it with 'u.add_enabled_units'. For details, see https://docs.astropy.org/en/latest/units/combining_and_defining.html [astropy.units.core]\n",
      "WARNING: UnitsWarning: 'pixels' did not parse as fits unit: At col 0, Unit 'pixels' not supported by the FITS standard. Did you mean pixel? If this is meant to be a custom unit, define it with 'u.def_unit'. To have it recognized inside a file reader or other code, enable it with 'u.add_enabled_units'. For details, see https://docs.astropy.org/en/latest/units/combining_and_defining.html [astropy.units.core]\n"
     ]
    }
   ],
   "source": [
    "from astropy.table import Table\n",
    "table = Table.read(lcf_fits_fp)"
   ]
  },
  {
   "cell_type": "code",
   "execution_count": 51,
   "id": "6ad185da",
   "metadata": {},
   "outputs": [
    {
     "data": {
      "text/plain": [
       "astropy.table.column.MaskedColumn"
      ]
     },
     "execution_count": 51,
     "metadata": {},
     "output_type": "execute_result"
    }
   ],
   "source": [
    "type(table[\"TIME\"])"
   ]
  },
  {
   "cell_type": "code",
   "execution_count": 55,
   "id": "11dfd54c",
   "metadata": {},
   "outputs": [
    {
     "data": {
      "text/plain": [
       "True"
      ]
     },
     "execution_count": 55,
     "metadata": {},
     "output_type": "execute_result"
    }
   ],
   "source": [
    "raw_time, np_time = table[\"TIME\"], np.array(table[\"TIME\"])\n",
    "len(raw_time) == len(np_time)"
   ]
  },
  {
   "cell_type": "code",
   "execution_count": null,
   "id": "a44d6052",
   "metadata": {},
   "outputs": [],
   "source": [
    "np.max(np.ma.diff(raw_time)), np.max(np.diff(np_time[np.where(np.isfinite(np_time))[0]))"
   ]
  },
  {
   "cell_type": "code",
   "execution_count": 66,
   "id": "03bf3164",
   "metadata": {},
   "outputs": [
    {
     "data": {
      "text/plain": [
       "18011"
      ]
     },
     "execution_count": 66,
     "metadata": {},
     "output_type": "execute_result"
    }
   ],
   "source": [
    "len(np.ma.diff(raw_time))"
   ]
  },
  {
   "cell_type": "code",
   "execution_count": 69,
   "id": "ab48ebcb",
   "metadata": {},
   "outputs": [
    {
     "data": {
      "text/plain": [
       "18011"
      ]
     },
     "execution_count": 69,
     "metadata": {},
     "output_type": "execute_result"
    }
   ],
   "source": [
    "len(np.diff(np_time))"
   ]
  },
  {
   "cell_type": "code",
   "execution_count": 70,
   "id": "9fd39dcc",
   "metadata": {},
   "outputs": [
    {
     "data": {
      "text/plain": [
       "(1764.6778258441836, 1789.6931248626518)"
      ]
     },
     "execution_count": 70,
     "metadata": {},
     "output_type": "execute_result"
    }
   ],
   "source": [
    "raw_time[0], raw_time[-1]"
   ]
  },
  {
   "cell_type": "code",
   "execution_count": 72,
   "id": "dc3ec947",
   "metadata": {},
   "outputs": [
    {
     "data": {
      "text/plain": [
       "18012"
      ]
     },
     "execution_count": 72,
     "metadata": {},
     "output_type": "execute_result"
    }
   ],
   "source": [
    "exp_num_idxs = len(np.arange(raw_time[0], raw_time[-1], 2 / 1440))\n",
    "exp_num_idxs"
   ]
  },
  {
   "cell_type": "code",
   "execution_count": 73,
   "id": "4cbb46ba",
   "metadata": {},
   "outputs": [
    {
     "data": {
      "text/plain": [
       "16982"
      ]
     },
     "execution_count": 73,
     "metadata": {},
     "output_type": "execute_result"
    }
   ],
   "source": [
    "len(raw_time[np.isfinite(raw_time)])"
   ]
  },
  {
   "cell_type": "code",
   "execution_count": 64,
   "id": "f44494f2",
   "metadata": {},
   "outputs": [
    {
     "data": {
      "text/plain": [
       "(0.001388899230505558, 0.001388881300954381)"
      ]
     },
     "execution_count": 64,
     "metadata": {},
     "output_type": "execute_result"
    }
   ],
   "source": []
  },
  {
   "cell_type": "code",
   "execution_count": 39,
   "id": "e131c582",
   "metadata": {},
   "outputs": [
    {
     "data": {
      "text/plain": [
       "True"
      ]
     },
     "execution_count": 39,
     "metadata": {},
     "output_type": "execute_result"
    }
   ],
   "source": [
    "len(table[\"TIME\"]) == len(np.array(table[\"TIME\"]))\n"
   ]
  },
  {
   "cell_type": "code",
   "execution_count": null,
   "id": "3ed22fb3",
   "metadata": {},
   "outputs": [],
   "source": []
  },
  {
   "cell_type": "code",
   "execution_count": 40,
   "id": "9d84049a",
   "metadata": {},
   "outputs": [],
   "source": [
    "time = np.array(table[\"TIME\"])"
   ]
  },
  {
   "cell_type": "code",
   "execution_count": 41,
   "id": "58fc8baa",
   "metadata": {},
   "outputs": [],
   "source": [
    "time_diff = np.diff(np.array(table[\"TIME\"]))"
   ]
  },
  {
   "cell_type": "code",
   "execution_count": 48,
   "id": "73151931",
   "metadata": {},
   "outputs": [
    {
     "data": {
      "text/plain": [
       "array([ 8364,  8365,  8366, ...,  9391, 17645, 17646])"
      ]
     },
     "execution_count": 48,
     "metadata": {},
     "output_type": "execute_result"
    }
   ],
   "source": [
    "nan_time_idxs = np.where((~np.isfinite(time)))[0]\n",
    "nan_time_idxs"
   ]
  },
  {
   "cell_type": "markdown",
   "id": "7906b40b",
   "metadata": {},
   "source": []
  },
  {
   "cell_type": "code",
   "execution_count": null,
   "id": "6c0008b5",
   "metadata": {},
   "outputs": [],
   "source": [
    "time_nan = "
   ]
  },
  {
   "cell_type": "code",
   "execution_count": 46,
   "id": "2dd9e7ec",
   "metadata": {},
   "outputs": [
    {
     "data": {
      "text/plain": [
       "1030"
      ]
     },
     "execution_count": 46,
     "metadata": {},
     "output_type": "execute_result"
    }
   ],
   "source": [
    "len(nan_time_idxs)"
   ]
  },
  {
   "cell_type": "code",
   "execution_count": null,
   "id": "ca8ea26c",
   "metadata": {},
   "outputs": [],
   "source": [
    "nan_time_idxs = "
   ]
  },
  {
   "cell_type": "code",
   "execution_count": 52,
   "id": "706a444d",
   "metadata": {},
   "outputs": [],
   "source": [
    "nan_time_idxs = np.where(((np.isnan(np.array(table[\"TIME\"]))) == (~np.isfinite(np.array(table[\"TIME\"])))).all())"
   ]
  },
  {
   "cell_type": "code",
   "execution_count": 53,
   "id": "1d7b2e1c",
   "metadata": {},
   "outputs": [
    {
     "data": {
      "text/plain": [
       "(array([0]),)"
      ]
     },
     "execution_count": 53,
     "metadata": {},
     "output_type": "execute_result"
    }
   ],
   "source": []
  },
  {
   "cell_type": "code",
   "execution_count": 37,
   "id": "2cd10926",
   "metadata": {},
   "outputs": [
    {
     "data": {
      "text/plain": [
       "array([ True,  True,  True, ...,  True,  True,  True])"
      ]
     },
     "execution_count": 37,
     "metadata": {},
     "output_type": "execute_result"
    }
   ],
   "source": [
    "np.isfinite(np.array(table[\"TIME\"]))"
   ]
  },
  {
   "cell_type": "code",
   "execution_count": 82,
   "id": "6dfedbe3",
   "metadata": {},
   "outputs": [
    {
     "data": {
      "text/html": [
       "<div><i>TessLightCurve length=16663 LABEL=&quot;TIC 198242678&quot; SECTOR=17 AUTHOR=SPOC FLUX_ORIGIN=pdcsap_flux</i>\n",
       "<table id=\"table5787015696\" class=\"table-striped table-bordered table-condensed\">\n",
       "<thead><tr><th>time</th><th>flux</th><th>flux_err</th><th>timecorr</th><th>cadenceno</th><th>centroid_col</th><th>centroid_row</th><th>sap_flux</th><th>sap_flux_err</th><th>sap_bkg</th><th>sap_bkg_err</th><th>pdcsap_flux</th><th>pdcsap_flux_err</th><th>quality</th><th>psf_centr1</th><th>psf_centr1_err</th><th>psf_centr2</th><th>psf_centr2_err</th><th>mom_centr1</th><th>mom_centr1_err</th><th>mom_centr2</th><th>mom_centr2_err</th><th>pos_corr1</th><th>pos_corr2</th></tr></thead>\n",
       "<thead><tr><th></th><th>electron / s</th><th>electron / s</th><th>d</th><th></th><th>pix</th><th>pix</th><th>electron / s</th><th>electron / s</th><th>electron / s</th><th>electron / s</th><th>electron / s</th><th>electron / s</th><th></th><th>pix</th><th>pix</th><th>pix</th><th>pix</th><th>pix</th><th>pix</th><th>pix</th><th>pix</th><th>pix</th><th>pix</th></tr></thead>\n",
       "<thead><tr><th>Time</th><th>float32</th><th>float32</th><th>float32</th><th>int32</th><th>float64</th><th>float64</th><th>float32</th><th>float32</th><th>float32</th><th>float32</th><th>float32</th><th>float32</th><th>int32</th><th>float64</th><th>float32</th><th>float64</th><th>float32</th><th>float64</th><th>float32</th><th>float64</th><th>float32</th><th>float32</th><th>float32</th></tr></thead>\n",
       "<tr><td>1764.6833813693875</td><td>1.0791109e+05</td><td>4.5149025e+01</td><td>-1.0525171e-03</td><td>386805</td><td>2058.87129</td><td>266.22975</td><td>1.3893019e+05</td><td>4.3232876e+01</td><td>2.1284526e+03</td><td>1.2674622e+01</td><td>1.0791109e+05</td><td>4.5149025e+01</td><td>0</td><td>———</td><td>———</td><td>———</td><td>———</td><td>2058.87129</td><td>2.7773477e-04</td><td>266.22975</td><td>3.1899914e-04</td><td>1.1205494e-02</td><td>5.1924460e-02</td></tr>\n",
       "<tr><td>1764.6847702506886</td><td>1.0790324e+05</td><td>4.5142208e+01</td><td>-1.0525241e-03</td><td>386806</td><td>2058.87123</td><td>266.22698</td><td>1.3892645e+05</td><td>4.3226345e+01</td><td>2.1375220e+03</td><td>1.2644804e+01</td><td>1.0790324e+05</td><td>4.5142208e+01</td><td>0</td><td>———</td><td>———</td><td>———</td><td>———</td><td>2058.87123</td><td>2.7754216e-04</td><td>266.22698</td><td>3.1902394e-04</td><td>1.0921710e-02</td><td>4.9388994e-02</td></tr>\n",
       "<tr><td>1764.6861591319896</td><td>1.0785036e+05</td><td>4.5157101e+01</td><td>-1.0525311e-03</td><td>386807</td><td>2058.86687</td><td>266.22727</td><td>1.3886205e+05</td><td>4.3240608e+01</td><td>2.1504407e+03</td><td>1.2714690e+01</td><td>1.0785036e+05</td><td>4.5157101e+01</td><td>0</td><td>———</td><td>———</td><td>———</td><td>———</td><td>2058.86687</td><td>2.7752231e-04</td><td>266.22727</td><td>3.1904268e-04</td><td>5.0868765e-03</td><td>4.9628641e-02</td></tr>\n",
       "<tr><td>1764.6875480132912</td><td>1.0793118e+05</td><td>4.5155788e+01</td><td>-1.0525380e-03</td><td>386808</td><td>2058.87471</td><td>266.23153</td><td>1.3891358e+05</td><td>4.3239349e+01</td><td>2.1386104e+03</td><td>1.2703175e+01</td><td>1.0793118e+05</td><td>4.5155788e+01</td><td>0</td><td>———</td><td>———</td><td>———</td><td>———</td><td>2058.87471</td><td>2.7761204e-04</td><td>266.23153</td><td>3.1904620e-04</td><td>1.5811194e-02</td><td>5.5337731e-02</td></tr>\n",
       "<tr><td>1764.688936894593</td><td>1.0788295e+05</td><td>4.5142960e+01</td><td>-1.0525450e-03</td><td>386809</td><td>2058.86974</td><td>266.22746</td><td>1.3884225e+05</td><td>4.3227066e+01</td><td>2.1337031e+03</td><td>1.2683372e+01</td><td>1.0788295e+05</td><td>4.5142960e+01</td><td>0</td><td>———</td><td>———</td><td>———</td><td>———</td><td>2058.86974</td><td>2.7781565e-04</td><td>266.22746</td><td>3.1932458e-04</td><td>9.3892375e-03</td><td>5.0588921e-02</td></tr>\n",
       "<tr><td>1764.690325775894</td><td>1.0785216e+05</td><td>4.5153011e+01</td><td>-1.0525520e-03</td><td>386810</td><td>2058.86894</td><td>266.22732</td><td>1.3881416e+05</td><td>4.3236694e+01</td><td>2.1440244e+03</td><td>1.2693469e+01</td><td>1.0785216e+05</td><td>4.5153011e+01</td><td>0</td><td>———</td><td>———</td><td>———</td><td>———</td><td>2058.86894</td><td>2.7796972e-04</td><td>266.22732</td><td>3.1931282e-04</td><td>8.7993387e-03</td><td>4.9752053e-02</td></tr>\n",
       "<tr><td>1764.691714657195</td><td>1.0796320e+05</td><td>4.5167110e+01</td><td>-1.0525590e-03</td><td>386811</td><td>2058.86985</td><td>266.22749</td><td>1.3891070e+05</td><td>4.3250191e+01</td><td>2.1335452e+03</td><td>1.2690621e+01</td><td>1.0796320e+05</td><td>4.5167110e+01</td><td>0</td><td>———</td><td>———</td><td>———</td><td>———</td><td>2058.86985</td><td>2.7767447e-04</td><td>266.22749</td><td>3.1927144e-04</td><td>9.4211334e-03</td><td>4.9416382e-02</td></tr>\n",
       "<tr><td>1764.6931035384962</td><td>1.0797679e+05</td><td>4.5167591e+01</td><td>-1.0525660e-03</td><td>386812</td><td>2058.87411</td><td>266.22865</td><td>1.3890653e+05</td><td>4.3250652e+01</td><td>2.1547676e+03</td><td>1.2702180e+01</td><td>1.0797679e+05</td><td>4.5167591e+01</td><td>0</td><td>———</td><td>———</td><td>———</td><td>———</td><td>2058.87411</td><td>2.7781693e-04</td><td>266.22865</td><td>3.1919411e-04</td><td>1.3968344e-02</td><td>5.1046737e-02</td></tr>\n",
       "<tr><td>1764.6944924196807</td><td>1.0790055e+05</td><td>4.5141834e+01</td><td>-1.0525731e-03</td><td>386813</td><td>2058.87113</td><td>266.23215</td><td>1.3881075e+05</td><td>4.3225986e+01</td><td>2.1400212e+03</td><td>1.2690427e+01</td><td>1.0790055e+05</td><td>4.5141834e+01</td><td>0</td><td>———</td><td>———</td><td>———</td><td>———</td><td>2058.87113</td><td>2.7761681e-04</td><td>266.23215</td><td>3.1924792e-04</td><td>1.1146292e-02</td><td>5.5413593e-02</td></tr>\n",
       "<tr><td>...</td><td>...</td><td>...</td><td>...</td><td>...</td><td>...</td><td>...</td><td>...</td><td>...</td><td>...</td><td>...</td><td>...</td><td>...</td><td>...</td><td>...</td><td>...</td><td>...</td><td>...</td><td>...</td><td>...</td><td>...</td><td>...</td><td>...</td><td>...</td></tr>\n",
       "<tr><td>1789.680624783673</td><td>———</td><td>———</td><td>-1.0204783e-03</td><td>404803</td><td>2058.85451</td><td>266.17375</td><td>1.1195935e+05</td><td>4.7930061e+01</td><td>3.3593816e+04</td><td>2.3054255e+01</td><td>———</td><td>———</td><td>1000000000000</td><td>———</td><td>———</td><td>———</td><td>———</td><td>2058.85451</td><td>3.9896267e-04</td><td>266.17375</td><td>4.5475416e-04</td><td>7.2077168e-03</td><td>-2.8450571e-02</td></tr>\n",
       "<tr><td>1789.6820136813894</td><td>———</td><td>———</td><td>-1.0204689e-03</td><td>404804</td><td>2058.86143</td><td>266.16438</td><td>1.1238141e+05</td><td>4.7829624e+01</td><td>3.2928836e+04</td><td>2.2902714e+01</td><td>———</td><td>———</td><td>1000000000000</td><td>———</td><td>———</td><td>———</td><td>———</td><td>2058.86143</td><td>3.9639912e-04</td><td>266.16438</td><td>4.5238918e-04</td><td>1.6151166e-02</td><td>-3.9205477e-02</td></tr>\n",
       "<tr><td>1789.6834025791063</td><td>———</td><td>———</td><td>-1.0204595e-03</td><td>404805</td><td>2058.85692</td><td>266.16987</td><td>1.1283689e+05</td><td>4.7775494e+01</td><td>3.2334232e+04</td><td>2.2814463e+01</td><td>———</td><td>———</td><td>1000000000000</td><td>———</td><td>———</td><td>———</td><td>———</td><td>2058.85692</td><td>3.9386284e-04</td><td>266.16987</td><td>4.4939585e-04</td><td>1.0099521e-02</td><td>-3.2014526e-02</td></tr>\n",
       "<tr><td>1789.6847914768225</td><td>———</td><td>———</td><td>-1.0204500e-03</td><td>404806</td><td>2058.85189</td><td>266.17077</td><td>1.1322504e+05</td><td>4.7631920e+01</td><td>3.1709057e+04</td><td>2.2595844e+01</td><td>———</td><td>———</td><td>1000000000000</td><td>———</td><td>———</td><td>———</td><td>———</td><td>2058.85189</td><td>3.9115950e-04</td><td>266.17077</td><td>4.4626850e-04</td><td>4.0503149e-03</td><td>-3.0382965e-02</td></tr>\n",
       "<tr><td>1789.6861803744218</td><td>———</td><td>———</td><td>-1.0204407e-03</td><td>404807</td><td>2058.85823</td><td>266.16779</td><td>1.1368850e+05</td><td>4.7619793e+01</td><td>3.1123979e+04</td><td>2.2513388e+01</td><td>———</td><td>———</td><td>1000000000000</td><td>———</td><td>———</td><td>———</td><td>———</td><td>2058.85823</td><td>3.8924557e-04</td><td>266.16779</td><td>4.4442510e-04</td><td>1.1089616e-02</td><td>-3.3875246e-02</td></tr>\n",
       "<tr><td>1789.6875692721374</td><td>———</td><td>———</td><td>-1.0204313e-03</td><td>404808</td><td>2058.85920</td><td>266.16718</td><td>1.1413523e+05</td><td>4.7470451e+01</td><td>3.0577676e+04</td><td>2.2303864e+01</td><td>———</td><td>———</td><td>1000000000000</td><td>———</td><td>———</td><td>———</td><td>———</td><td>2058.85920</td><td>3.8642803e-04</td><td>266.16718</td><td>4.4102932e-04</td><td>1.2853898e-02</td><td>-3.4386195e-02</td></tr>\n",
       "<tr><td>1789.6889581697365</td><td>———</td><td>———</td><td>-1.0204220e-03</td><td>404809</td><td>2058.85274</td><td>266.16974</td><td>1.1454177e+05</td><td>4.7399796e+01</td><td>2.9973975e+04</td><td>2.2180220e+01</td><td>———</td><td>———</td><td>1000000000000</td><td>———</td><td>———</td><td>———</td><td>———</td><td>2058.85274</td><td>3.8420522e-04</td><td>266.16974</td><td>4.3850529e-04</td><td>5.6519425e-03</td><td>-3.0596966e-02</td></tr>\n",
       "<tr><td>1789.6903470674529</td><td>———</td><td>———</td><td>-1.0204125e-03</td><td>404810</td><td>2058.85724</td><td>266.16873</td><td>1.1496865e+05</td><td>4.7333591e+01</td><td>2.9435389e+04</td><td>2.2054342e+01</td><td>———</td><td>———</td><td>1000000000000</td><td>———</td><td>———</td><td>———</td><td>———</td><td>2058.85724</td><td>3.8182779e-04</td><td>266.16873</td><td>4.3628528e-04</td><td>9.7263968e-03</td><td>-3.1945106e-02</td></tr>\n",
       "<tr><td>1789.6917359650527</td><td>———</td><td>———</td><td>-1.0204032e-03</td><td>404811</td><td>2058.85905</td><td>266.16563</td><td>1.1536238e+05</td><td>4.7211388e+01</td><td>2.8882625e+04</td><td>2.1866001e+01</td><td>———</td><td>———</td><td>1000000000000</td><td>———</td><td>———</td><td>———</td><td>———</td><td>2058.85905</td><td>3.7951861e-04</td><td>266.16563</td><td>4.3363275e-04</td><td>1.0358983e-02</td><td>-3.5885680e-02</td></tr>\n",
       "<tr><td>1789.6931248626518</td><td>———</td><td>———</td><td>-1.0203939e-03</td><td>404812</td><td>2058.85762</td><td>266.16642</td><td>1.1583585e+05</td><td>4.7116581e+01</td><td>2.8340857e+04</td><td>2.1698681e+01</td><td>———</td><td>———</td><td>1000000000000</td><td>———</td><td>———</td><td>———</td><td>———</td><td>2058.85762</td><td>3.7701320e-04</td><td>266.16642</td><td>4.3072720e-04</td><td>9.1585042e-03</td><td>-3.4346003e-02</td></tr>\n",
       "</table></div>"
      ],
      "text/plain": [
       "<TessLightCurve length=16663 LABEL=\"TIC 198242678\" SECTOR=17 AUTHOR=SPOC FLUX_ORIGIN=pdcsap_flux>\n",
       "       time             flux      ...   pos_corr1      pos_corr2   \n",
       "                    electron / s  ...      pix            pix      \n",
       "       Time           float32     ...    float32        float32    \n",
       "------------------ -------------- ... -------------- --------------\n",
       "1764.6833813693875  1.0791109e+05 ...  1.1205494e-02  5.1924460e-02\n",
       "1764.6847702506886  1.0790324e+05 ...  1.0921710e-02  4.9388994e-02\n",
       "1764.6861591319896  1.0785036e+05 ...  5.0868765e-03  4.9628641e-02\n",
       "1764.6875480132912  1.0793118e+05 ...  1.5811194e-02  5.5337731e-02\n",
       " 1764.688936894593  1.0788295e+05 ...  9.3892375e-03  5.0588921e-02\n",
       " 1764.690325775894  1.0785216e+05 ...  8.7993387e-03  4.9752053e-02\n",
       " 1764.691714657195  1.0796320e+05 ...  9.4211334e-03  4.9416382e-02\n",
       "1764.6931035384962  1.0797679e+05 ...  1.3968344e-02  5.1046737e-02\n",
       "1764.6944924196807  1.0790055e+05 ...  1.1146292e-02  5.5413593e-02\n",
       "               ...            ... ...            ...            ...\n",
       " 1789.680624783673            ——— ...  7.2077168e-03 -2.8450571e-02\n",
       "1789.6820136813894            ——— ...  1.6151166e-02 -3.9205477e-02\n",
       "1789.6834025791063            ——— ...  1.0099521e-02 -3.2014526e-02\n",
       "1789.6847914768225            ——— ...  4.0503149e-03 -3.0382965e-02\n",
       "1789.6861803744218            ——— ...  1.1089616e-02 -3.3875246e-02\n",
       "1789.6875692721374            ——— ...  1.2853898e-02 -3.4386195e-02\n",
       "1789.6889581697365            ——— ...  5.6519425e-03 -3.0596966e-02\n",
       "1789.6903470674529            ——— ...  9.7263968e-03 -3.1945106e-02\n",
       "1789.6917359650527            ——— ...  1.0358983e-02 -3.5885680e-02\n",
       "1789.6931248626518            ——— ...  9.1585042e-03 -3.4346003e-02"
      ]
     },
     "execution_count": 82,
     "metadata": {},
     "output_type": "execute_result"
    }
   ],
   "source": [
    "lcf_def = lcfs_def[2]\n",
    "lcf_def"
   ]
  },
  {
   "cell_type": "code",
   "execution_count": 78,
   "id": "f41e5ed7",
   "metadata": {},
   "outputs": [
    {
     "data": {
      "text/plain": [
       "True"
      ]
     },
     "execution_count": 78,
     "metadata": {},
     "output_type": "execute_result"
    }
   ],
   "source": [
    "len(lcf_def.time.value) == len(np.array(lcf_def.time.value))"
   ]
  },
  {
   "cell_type": "code",
   "execution_count": 83,
   "id": "e5b1833f",
   "metadata": {},
   "outputs": [
    {
     "data": {
      "text/plain": [
       "<Time object: scale='tdb' format='btjd' value=[1764.68338137 1764.68477025 1764.68615913 ... 1789.69034707 1789.69173597\n",
       " 1789.69312486]>"
      ]
     },
     "execution_count": 83,
     "metadata": {},
     "output_type": "execute_result"
    }
   ],
   "source": [
    "lcf_def.time"
   ]
  },
  {
   "cell_type": "code",
   "execution_count": 84,
   "id": "c9543947",
   "metadata": {},
   "outputs": [
    {
     "data": {
      "text/plain": [
       "numpy.ndarray"
      ]
     },
     "execution_count": 84,
     "metadata": {},
     "output_type": "execute_result"
    }
   ],
   "source": [
    "type(lcf_def.time.value)"
   ]
  },
  {
   "cell_type": "code",
   "execution_count": 86,
   "id": "c3e142c0",
   "metadata": {},
   "outputs": [
    {
     "data": {
      "text/html": [
       "<div><i>TessLightCurve length=16663 LABEL=&quot;TIC 198242678&quot; SECTOR=17 AUTHOR=SPOC FLUX_ORIGIN=pdcsap_flux</i>\n",
       "<table id=\"table5787015696\" class=\"table-striped table-bordered table-condensed\">\n",
       "<thead><tr><th>time</th><th>flux</th><th>flux_err</th><th>timecorr</th><th>cadenceno</th><th>centroid_col</th><th>centroid_row</th><th>sap_flux</th><th>sap_flux_err</th><th>sap_bkg</th><th>sap_bkg_err</th><th>pdcsap_flux</th><th>pdcsap_flux_err</th><th>quality</th><th>psf_centr1</th><th>psf_centr1_err</th><th>psf_centr2</th><th>psf_centr2_err</th><th>mom_centr1</th><th>mom_centr1_err</th><th>mom_centr2</th><th>mom_centr2_err</th><th>pos_corr1</th><th>pos_corr2</th></tr></thead>\n",
       "<thead><tr><th></th><th>electron / s</th><th>electron / s</th><th>d</th><th></th><th>pix</th><th>pix</th><th>electron / s</th><th>electron / s</th><th>electron / s</th><th>electron / s</th><th>electron / s</th><th>electron / s</th><th></th><th>pix</th><th>pix</th><th>pix</th><th>pix</th><th>pix</th><th>pix</th><th>pix</th><th>pix</th><th>pix</th><th>pix</th></tr></thead>\n",
       "<thead><tr><th>Time</th><th>float32</th><th>float32</th><th>float32</th><th>int32</th><th>float64</th><th>float64</th><th>float32</th><th>float32</th><th>float32</th><th>float32</th><th>float32</th><th>float32</th><th>int32</th><th>float64</th><th>float32</th><th>float64</th><th>float32</th><th>float64</th><th>float32</th><th>float64</th><th>float32</th><th>float32</th><th>float32</th></tr></thead>\n",
       "<tr><td>1764.6833813693875</td><td>1.0791109e+05</td><td>4.5149025e+01</td><td>-1.0525171e-03</td><td>386805</td><td>2058.87129</td><td>266.22975</td><td>1.3893019e+05</td><td>4.3232876e+01</td><td>2.1284526e+03</td><td>1.2674622e+01</td><td>1.0791109e+05</td><td>4.5149025e+01</td><td>0</td><td>———</td><td>———</td><td>———</td><td>———</td><td>2058.87129</td><td>2.7773477e-04</td><td>266.22975</td><td>3.1899914e-04</td><td>1.1205494e-02</td><td>5.1924460e-02</td></tr>\n",
       "<tr><td>1764.6847702506886</td><td>1.0790324e+05</td><td>4.5142208e+01</td><td>-1.0525241e-03</td><td>386806</td><td>2058.87123</td><td>266.22698</td><td>1.3892645e+05</td><td>4.3226345e+01</td><td>2.1375220e+03</td><td>1.2644804e+01</td><td>1.0790324e+05</td><td>4.5142208e+01</td><td>0</td><td>———</td><td>———</td><td>———</td><td>———</td><td>2058.87123</td><td>2.7754216e-04</td><td>266.22698</td><td>3.1902394e-04</td><td>1.0921710e-02</td><td>4.9388994e-02</td></tr>\n",
       "<tr><td>1764.6861591319896</td><td>1.0785036e+05</td><td>4.5157101e+01</td><td>-1.0525311e-03</td><td>386807</td><td>2058.86687</td><td>266.22727</td><td>1.3886205e+05</td><td>4.3240608e+01</td><td>2.1504407e+03</td><td>1.2714690e+01</td><td>1.0785036e+05</td><td>4.5157101e+01</td><td>0</td><td>———</td><td>———</td><td>———</td><td>———</td><td>2058.86687</td><td>2.7752231e-04</td><td>266.22727</td><td>3.1904268e-04</td><td>5.0868765e-03</td><td>4.9628641e-02</td></tr>\n",
       "<tr><td>1764.6875480132912</td><td>1.0793118e+05</td><td>4.5155788e+01</td><td>-1.0525380e-03</td><td>386808</td><td>2058.87471</td><td>266.23153</td><td>1.3891358e+05</td><td>4.3239349e+01</td><td>2.1386104e+03</td><td>1.2703175e+01</td><td>1.0793118e+05</td><td>4.5155788e+01</td><td>0</td><td>———</td><td>———</td><td>———</td><td>———</td><td>2058.87471</td><td>2.7761204e-04</td><td>266.23153</td><td>3.1904620e-04</td><td>1.5811194e-02</td><td>5.5337731e-02</td></tr>\n",
       "<tr><td>1764.688936894593</td><td>1.0788295e+05</td><td>4.5142960e+01</td><td>-1.0525450e-03</td><td>386809</td><td>2058.86974</td><td>266.22746</td><td>1.3884225e+05</td><td>4.3227066e+01</td><td>2.1337031e+03</td><td>1.2683372e+01</td><td>1.0788295e+05</td><td>4.5142960e+01</td><td>0</td><td>———</td><td>———</td><td>———</td><td>———</td><td>2058.86974</td><td>2.7781565e-04</td><td>266.22746</td><td>3.1932458e-04</td><td>9.3892375e-03</td><td>5.0588921e-02</td></tr>\n",
       "<tr><td>1764.690325775894</td><td>1.0785216e+05</td><td>4.5153011e+01</td><td>-1.0525520e-03</td><td>386810</td><td>2058.86894</td><td>266.22732</td><td>1.3881416e+05</td><td>4.3236694e+01</td><td>2.1440244e+03</td><td>1.2693469e+01</td><td>1.0785216e+05</td><td>4.5153011e+01</td><td>0</td><td>———</td><td>———</td><td>———</td><td>———</td><td>2058.86894</td><td>2.7796972e-04</td><td>266.22732</td><td>3.1931282e-04</td><td>8.7993387e-03</td><td>4.9752053e-02</td></tr>\n",
       "<tr><td>1764.691714657195</td><td>1.0796320e+05</td><td>4.5167110e+01</td><td>-1.0525590e-03</td><td>386811</td><td>2058.86985</td><td>266.22749</td><td>1.3891070e+05</td><td>4.3250191e+01</td><td>2.1335452e+03</td><td>1.2690621e+01</td><td>1.0796320e+05</td><td>4.5167110e+01</td><td>0</td><td>———</td><td>———</td><td>———</td><td>———</td><td>2058.86985</td><td>2.7767447e-04</td><td>266.22749</td><td>3.1927144e-04</td><td>9.4211334e-03</td><td>4.9416382e-02</td></tr>\n",
       "<tr><td>1764.6931035384962</td><td>1.0797679e+05</td><td>4.5167591e+01</td><td>-1.0525660e-03</td><td>386812</td><td>2058.87411</td><td>266.22865</td><td>1.3890653e+05</td><td>4.3250652e+01</td><td>2.1547676e+03</td><td>1.2702180e+01</td><td>1.0797679e+05</td><td>4.5167591e+01</td><td>0</td><td>———</td><td>———</td><td>———</td><td>———</td><td>2058.87411</td><td>2.7781693e-04</td><td>266.22865</td><td>3.1919411e-04</td><td>1.3968344e-02</td><td>5.1046737e-02</td></tr>\n",
       "<tr><td>1764.6944924196807</td><td>1.0790055e+05</td><td>4.5141834e+01</td><td>-1.0525731e-03</td><td>386813</td><td>2058.87113</td><td>266.23215</td><td>1.3881075e+05</td><td>4.3225986e+01</td><td>2.1400212e+03</td><td>1.2690427e+01</td><td>1.0790055e+05</td><td>4.5141834e+01</td><td>0</td><td>———</td><td>———</td><td>———</td><td>———</td><td>2058.87113</td><td>2.7761681e-04</td><td>266.23215</td><td>3.1924792e-04</td><td>1.1146292e-02</td><td>5.5413593e-02</td></tr>\n",
       "<tr><td>...</td><td>...</td><td>...</td><td>...</td><td>...</td><td>...</td><td>...</td><td>...</td><td>...</td><td>...</td><td>...</td><td>...</td><td>...</td><td>...</td><td>...</td><td>...</td><td>...</td><td>...</td><td>...</td><td>...</td><td>...</td><td>...</td><td>...</td><td>...</td></tr>\n",
       "<tr><td>1789.680624783673</td><td>———</td><td>———</td><td>-1.0204783e-03</td><td>404803</td><td>2058.85451</td><td>266.17375</td><td>1.1195935e+05</td><td>4.7930061e+01</td><td>3.3593816e+04</td><td>2.3054255e+01</td><td>———</td><td>———</td><td>1000000000000</td><td>———</td><td>———</td><td>———</td><td>———</td><td>2058.85451</td><td>3.9896267e-04</td><td>266.17375</td><td>4.5475416e-04</td><td>7.2077168e-03</td><td>-2.8450571e-02</td></tr>\n",
       "<tr><td>1789.6820136813894</td><td>———</td><td>———</td><td>-1.0204689e-03</td><td>404804</td><td>2058.86143</td><td>266.16438</td><td>1.1238141e+05</td><td>4.7829624e+01</td><td>3.2928836e+04</td><td>2.2902714e+01</td><td>———</td><td>———</td><td>1000000000000</td><td>———</td><td>———</td><td>———</td><td>———</td><td>2058.86143</td><td>3.9639912e-04</td><td>266.16438</td><td>4.5238918e-04</td><td>1.6151166e-02</td><td>-3.9205477e-02</td></tr>\n",
       "<tr><td>1789.6834025791063</td><td>———</td><td>———</td><td>-1.0204595e-03</td><td>404805</td><td>2058.85692</td><td>266.16987</td><td>1.1283689e+05</td><td>4.7775494e+01</td><td>3.2334232e+04</td><td>2.2814463e+01</td><td>———</td><td>———</td><td>1000000000000</td><td>———</td><td>———</td><td>———</td><td>———</td><td>2058.85692</td><td>3.9386284e-04</td><td>266.16987</td><td>4.4939585e-04</td><td>1.0099521e-02</td><td>-3.2014526e-02</td></tr>\n",
       "<tr><td>1789.6847914768225</td><td>———</td><td>———</td><td>-1.0204500e-03</td><td>404806</td><td>2058.85189</td><td>266.17077</td><td>1.1322504e+05</td><td>4.7631920e+01</td><td>3.1709057e+04</td><td>2.2595844e+01</td><td>———</td><td>———</td><td>1000000000000</td><td>———</td><td>———</td><td>———</td><td>———</td><td>2058.85189</td><td>3.9115950e-04</td><td>266.17077</td><td>4.4626850e-04</td><td>4.0503149e-03</td><td>-3.0382965e-02</td></tr>\n",
       "<tr><td>1789.6861803744218</td><td>———</td><td>———</td><td>-1.0204407e-03</td><td>404807</td><td>2058.85823</td><td>266.16779</td><td>1.1368850e+05</td><td>4.7619793e+01</td><td>3.1123979e+04</td><td>2.2513388e+01</td><td>———</td><td>———</td><td>1000000000000</td><td>———</td><td>———</td><td>———</td><td>———</td><td>2058.85823</td><td>3.8924557e-04</td><td>266.16779</td><td>4.4442510e-04</td><td>1.1089616e-02</td><td>-3.3875246e-02</td></tr>\n",
       "<tr><td>1789.6875692721374</td><td>———</td><td>———</td><td>-1.0204313e-03</td><td>404808</td><td>2058.85920</td><td>266.16718</td><td>1.1413523e+05</td><td>4.7470451e+01</td><td>3.0577676e+04</td><td>2.2303864e+01</td><td>———</td><td>———</td><td>1000000000000</td><td>———</td><td>———</td><td>———</td><td>———</td><td>2058.85920</td><td>3.8642803e-04</td><td>266.16718</td><td>4.4102932e-04</td><td>1.2853898e-02</td><td>-3.4386195e-02</td></tr>\n",
       "<tr><td>1789.6889581697365</td><td>———</td><td>———</td><td>-1.0204220e-03</td><td>404809</td><td>2058.85274</td><td>266.16974</td><td>1.1454177e+05</td><td>4.7399796e+01</td><td>2.9973975e+04</td><td>2.2180220e+01</td><td>———</td><td>———</td><td>1000000000000</td><td>———</td><td>———</td><td>———</td><td>———</td><td>2058.85274</td><td>3.8420522e-04</td><td>266.16974</td><td>4.3850529e-04</td><td>5.6519425e-03</td><td>-3.0596966e-02</td></tr>\n",
       "<tr><td>1789.6903470674529</td><td>———</td><td>———</td><td>-1.0204125e-03</td><td>404810</td><td>2058.85724</td><td>266.16873</td><td>1.1496865e+05</td><td>4.7333591e+01</td><td>2.9435389e+04</td><td>2.2054342e+01</td><td>———</td><td>———</td><td>1000000000000</td><td>———</td><td>———</td><td>———</td><td>———</td><td>2058.85724</td><td>3.8182779e-04</td><td>266.16873</td><td>4.3628528e-04</td><td>9.7263968e-03</td><td>-3.1945106e-02</td></tr>\n",
       "<tr><td>1789.6917359650527</td><td>———</td><td>———</td><td>-1.0204032e-03</td><td>404811</td><td>2058.85905</td><td>266.16563</td><td>1.1536238e+05</td><td>4.7211388e+01</td><td>2.8882625e+04</td><td>2.1866001e+01</td><td>———</td><td>———</td><td>1000000000000</td><td>———</td><td>———</td><td>———</td><td>———</td><td>2058.85905</td><td>3.7951861e-04</td><td>266.16563</td><td>4.3363275e-04</td><td>1.0358983e-02</td><td>-3.5885680e-02</td></tr>\n",
       "<tr><td>1789.6931248626518</td><td>———</td><td>———</td><td>-1.0203939e-03</td><td>404812</td><td>2058.85762</td><td>266.16642</td><td>1.1583585e+05</td><td>4.7116581e+01</td><td>2.8340857e+04</td><td>2.1698681e+01</td><td>———</td><td>———</td><td>1000000000000</td><td>———</td><td>———</td><td>———</td><td>———</td><td>2058.85762</td><td>3.7701320e-04</td><td>266.16642</td><td>4.3072720e-04</td><td>9.1585042e-03</td><td>-3.4346003e-02</td></tr>\n",
       "</table></div>"
      ],
      "text/plain": [
       "<TessLightCurve length=16663 LABEL=\"TIC 198242678\" SECTOR=17 AUTHOR=SPOC FLUX_ORIGIN=pdcsap_flux>\n",
       "       time             flux      ...   pos_corr1      pos_corr2   \n",
       "                    electron / s  ...      pix            pix      \n",
       "       Time           float32     ...    float32        float32    \n",
       "------------------ -------------- ... -------------- --------------\n",
       "1764.6833813693875  1.0791109e+05 ...  1.1205494e-02  5.1924460e-02\n",
       "1764.6847702506886  1.0790324e+05 ...  1.0921710e-02  4.9388994e-02\n",
       "1764.6861591319896  1.0785036e+05 ...  5.0868765e-03  4.9628641e-02\n",
       "1764.6875480132912  1.0793118e+05 ...  1.5811194e-02  5.5337731e-02\n",
       " 1764.688936894593  1.0788295e+05 ...  9.3892375e-03  5.0588921e-02\n",
       " 1764.690325775894  1.0785216e+05 ...  8.7993387e-03  4.9752053e-02\n",
       " 1764.691714657195  1.0796320e+05 ...  9.4211334e-03  4.9416382e-02\n",
       "1764.6931035384962  1.0797679e+05 ...  1.3968344e-02  5.1046737e-02\n",
       "1764.6944924196807  1.0790055e+05 ...  1.1146292e-02  5.5413593e-02\n",
       "               ...            ... ...            ...            ...\n",
       " 1789.680624783673            ——— ...  7.2077168e-03 -2.8450571e-02\n",
       "1789.6820136813894            ——— ...  1.6151166e-02 -3.9205477e-02\n",
       "1789.6834025791063            ——— ...  1.0099521e-02 -3.2014526e-02\n",
       "1789.6847914768225            ——— ...  4.0503149e-03 -3.0382965e-02\n",
       "1789.6861803744218            ——— ...  1.1089616e-02 -3.3875246e-02\n",
       "1789.6875692721374            ——— ...  1.2853898e-02 -3.4386195e-02\n",
       "1789.6889581697365            ——— ...  5.6519425e-03 -3.0596966e-02\n",
       "1789.6903470674529            ——— ...  9.7263968e-03 -3.1945106e-02\n",
       "1789.6917359650527            ——— ...  1.0358983e-02 -3.5885680e-02\n",
       "1789.6931248626518            ——— ...  9.1585042e-03 -3.4346003e-02"
      ]
     },
     "execution_count": 86,
     "metadata": {},
     "output_type": "execute_result"
    }
   ],
   "source": [
    "lcfs_def[2]"
   ]
  },
  {
   "cell_type": "code",
   "execution_count": 91,
   "id": "64c12422",
   "metadata": {},
   "outputs": [],
   "source": [
    "cadenceno_none = lcfs_none[2].cadenceno"
   ]
  },
  {
   "cell_type": "code",
   "execution_count": 94,
   "id": "56dbf6ed",
   "metadata": {},
   "outputs": [
    {
     "data": {
      "text/html": [
       "&lt;Column name=&apos;cadenceno&apos; dtype=&apos;int32&apos; format=&apos;{:10d}&apos; length=16982&gt;\n",
       "<table>\n",
       "<tr><td>386801</td></tr>\n",
       "<tr><td>386802</td></tr>\n",
       "<tr><td>386803</td></tr>\n",
       "<tr><td>386804</td></tr>\n",
       "<tr><td>386805</td></tr>\n",
       "<tr><td>386806</td></tr>\n",
       "<tr><td>386807</td></tr>\n",
       "<tr><td>386808</td></tr>\n",
       "<tr><td>386809</td></tr>\n",
       "<tr><td>386810</td></tr>\n",
       "<tr><td>386811</td></tr>\n",
       "<tr><td>386812</td></tr>\n",
       "<tr><td>...</td></tr>\n",
       "<tr><td>404801</td></tr>\n",
       "<tr><td>404802</td></tr>\n",
       "<tr><td>404803</td></tr>\n",
       "<tr><td>404804</td></tr>\n",
       "<tr><td>404805</td></tr>\n",
       "<tr><td>404806</td></tr>\n",
       "<tr><td>404807</td></tr>\n",
       "<tr><td>404808</td></tr>\n",
       "<tr><td>404809</td></tr>\n",
       "<tr><td>404810</td></tr>\n",
       "<tr><td>404811</td></tr>\n",
       "<tr><td>404812</td></tr>\n",
       "</table>"
      ],
      "text/plain": [
       "<Column name='cadenceno' dtype='int32' format='{:10d}' length=16982>\n",
       "    386801\n",
       "    386802\n",
       "    386803\n",
       "    386804\n",
       "    386805\n",
       "    386806\n",
       "    386807\n",
       "    386808\n",
       "    386809\n",
       "    386810\n",
       "    386811\n",
       "    386812\n",
       "       ...\n",
       "    404801\n",
       "    404802\n",
       "    404803\n",
       "    404804\n",
       "    404805\n",
       "    404806\n",
       "    404807\n",
       "    404808\n",
       "    404809\n",
       "    404810\n",
       "    404811\n",
       "    404812"
      ]
     },
     "execution_count": 94,
     "metadata": {},
     "output_type": "execute_result"
    }
   ],
   "source": [
    "cadenceno_none"
   ]
  },
  {
   "cell_type": "code",
   "execution_count": 101,
   "id": "63bc577e",
   "metadata": {},
   "outputs": [
    {
     "name": "stdout",
     "output_type": "stream",
     "text": [
      "[1776.2861436  1776.2875325  1776.28892139 1776.29031028 1776.29169918\n",
      " 1776.29308807 1777.72225593 1777.72364481 1777.7250337  1777.72642259] cadenceno \n",
      "----------\n",
      "    395159\n",
      "    395160\n",
      "    395161\n",
      "    395162\n",
      "    395163\n",
      "    395164\n",
      "    396193\n",
      "    396194\n",
      "    396195\n",
      "    396196\n"
     ]
    }
   ],
   "source": [
    "time_skips = np.where(np.diff(lcfs_none[2].time.value) > (10 * 2 / 1440))[0]\n",
    "\n",
    "\n",
    "for skip in time_skips:\n",
    "    print(lcfs_none[2][skip - 5: skip + 5].time, lcfs_none[2][skip - 5: skip + 5].cadenceno)"
   ]
  },
  {
   "cell_type": "code",
   "execution_count": 95,
   "id": "f43c2799",
   "metadata": {},
   "outputs": [
    {
     "data": {
      "text/plain": [
       "16663"
      ]
     },
     "execution_count": 95,
     "metadata": {},
     "output_type": "execute_result"
    }
   ],
   "source": [
    "len(lcfs_def[2].time.value)"
   ]
  },
  {
   "cell_type": "code",
   "execution_count": 102,
   "id": "a9f77895",
   "metadata": {},
   "outputs": [],
   "source": [
    "lcfs_none = search_lc_res.download_all(\n",
    "    quality_bitmask=\"none\", flux_column=\"pdcsap_flux\"\n",
    ")\n",
    "lcfs_zero = search_lc_res.download_all(\n",
    "    quality_bitmask=0, flux_column=\"pdcsap_flux\"\n",
    ")"
   ]
  },
  {
   "cell_type": "code",
   "execution_count": 106,
   "id": "f0b9d265",
   "metadata": {},
   "outputs": [
    {
     "name": "stdout",
     "output_type": "stream",
     "text": [
      "18654\n",
      "18654\n"
     ]
    },
    {
     "data": {
      "text/plain": [
       "0.9499821161348336"
      ]
     },
     "execution_count": 106,
     "metadata": {},
     "output_type": "execute_result"
    }
   ],
   "source": [
    "print(len(lcfs_zero[0].time.value))\n",
    "print(len(lcfs_none[0].time.value))\n",
    "np.max(np.diff(lcfs_zero[0].time.value))"
   ]
  },
  {
   "cell_type": "markdown",
   "id": "83a42d50",
   "metadata": {},
   "source": [
    "## Testing interpolation/extrapolation"
   ]
  },
  {
   "cell_type": "code",
   "execution_count": 107,
   "id": "7289e205",
   "metadata": {},
   "outputs": [
    {
     "data": {
      "image/png": "[encoded data removed]",
      "text/plain": [
       "<Figure size 848.5x400 with 1 Axes>"
      ]
     },
     "metadata": {},
     "output_type": "display_data"
    }
   ],
   "source": [
    "lcf_lk = lk.read(lcf_fits_fp)\n",
    "\n",
    "lcf_lk.plot()\n",
    "\n",
    "time_lk = lcf_lk.time.value\n",
    "flux_lk = lcf_lk.flux.value\n"
   ]
  },
  {
   "cell_type": "code",
   "execution_count": 138,
   "id": "69e5e824",
   "metadata": {},
   "outputs": [],
   "source": [
    "def fill_missing_tess_cadences(\n",
    "    time: np.ndarray, strategy: str = \"\"\n",
    "):\n",
    "\n",
    "    if not isinstance(time, np.ndarray):\n",
    "        print(f\"time: {type(time)}\")\n",
    "        time = np.array(time)\n",
    "\n",
    "    missing_cadence_mask = ~np.isfinite(time)\n",
    "\n",
    "    n_cadences = len(time)\n",
    "    valid_idxs = np.where(np.isfinite(time))[0]  # returns actual idxs, not mask\n",
    "\n",
    "    if n_cadences == len(valid_idxs):\n",
    "        return time, np.zeros_like(time).astype(bool)  # time has no missing values\n",
    "\n",
    "    if strategy == \"average\":\n",
    "        cadence = np.nanmean(np.diff(time[valid_idxs]))\n",
    "    elif strategy == \"median\":\n",
    "        cadence = np.nanmedian(np.diff(time[valid_idxs]))\n",
    "    else:\n",
    "        cadence = 2 / 1440  # 2mins in days for TESS\n",
    "\n",
    "    # if first/last idx are valid, use directly else offset by cadnece * idx dist to start/end\n",
    "    t_start = time[valid_idxs][0] - valid_idxs[0] * cadence\n",
    "    t_end = time[valid_idxs][-1] + ((n_cadences - 1) - valid_idxs[-1]) * cadence\n",
    "\n",
    "    time_filled = np.linspace(t_start, t_end, n_cadences)\n",
    "\n",
    "    return time_filled, missing_cadence_mask"
   ]
  },
  {
   "cell_type": "code",
   "execution_count": 161,
   "id": "dd8a8d2a",
   "metadata": {},
   "outputs": [],
   "source": [
    "def fill_missing_flux(time, flux, cadence_mask):\n",
    "\n",
    "    f = interp1d(\n",
    "        time[(~cadence_mask)],\n",
    "        flux[(~cadence_mask)],\n",
    "        kind=\"linear\",\n",
    "        bounds_error=False,\n",
    "        fill_value=\"extrapolate\",  # assume_sorted=True\n",
    "    )\n",
    "\n",
    "    filled_flux = f(time)\n",
    "\n",
    "    return filled_flux"
   ]
  },
  {
   "cell_type": "code",
   "execution_count": 175,
   "id": "edb11086",
   "metadata": {},
   "outputs": [],
   "source": [
    "def detrend_flux_using_sg_filter(lc, mask_in_transit, win_len, sigma, max_poly_order, penalty_weight, break_tolerance):\n",
    "    \"\"\" Detrend timeseries by applying a Savitzky-Golay filter to a version of the timeseries where in-transit cadences\n",
    "    are masked (i.e., not taken into account).\n",
    "\n",
    "    Args:\n",
    "        lc: lightcurve object, with raw timestamps and timeseries\n",
    "        mask_in_transit: NumPy array, in-transit cadences are flagged as True\n",
    "        win_len: int, number of points considered in the window\n",
    "        sigma: outlier factor used to mask data points before detrending (i.e., x - med(flux) >= sigma * std(flux))\n",
    "        max_poly_order: int, maximum polynomial order tested\n",
    "        penalty_weight: float: weight given to model's complexity when using BIC for model selection\n",
    "        break_tolerance: float, factor used to split the timeseries into smaller segments based on time interval between\n",
    "            cadences (i.e., there's a split if diff(t_x) > break_tolerance * med(diff(T)))\n",
    "\n",
    "    Returns:\n",
    "        - time, NumPy array with timestamps\n",
    "        - detrended_flux, NumPy array with detrended timeseries (i.e., detrended_flux = flux / trend)\n",
    "        - trend, NumPy array with trend\n",
    "        - models_info_df, pandas DataFrame with BIC scores for the fitted models\n",
    "    \"\"\"\n",
    "\n",
    "    if mask_in_transit.all():\n",
    "        time = lc.time.value\n",
    "        trend = np.nanmedian(lc.flux.value) * np.ones_like(lc.flux.value)\n",
    "        detrended_flux = lc.flux.value / trend\n",
    "        trend = np.ones_like(lc.flux.value)\n",
    "        models_info_df = pd.DataFrame({'poly_order': [0], 'bic_score': [np.nan]})\n",
    "\n",
    "        return time, detrended_flux, trend, models_info_df\n",
    "\n",
    "    n_samples = len(lc.flux.value)\n",
    "    poly_order_arr = np.arange(0, max_poly_order + 1)\n",
    "    best_bic, best_model = np.inf, 0\n",
    "    lc_detrended = {poly_order: {'flux': None, 'trend': None, 'bic': np.nan} for poly_order in poly_order_arr}\n",
    "    for poly_order in poly_order_arr:\n",
    "\n",
    "        lc_sector_flatten, lc_sector_trend = lc.flatten(window_length=win_len, polyorder=poly_order, return_trend=True,\n",
    "                                                        sigma=sigma, mask=mask_in_transit,\n",
    "                                                        break_tolerance=break_tolerance)\n",
    "        lc_detrended[poly_order]['flux'] = lc_sector_flatten.copy()\n",
    "        lc_detrended[poly_order]['trend'] = lc_sector_trend.copy()\n",
    "\n",
    "        bic_k = compute_bic(poly_order, n_samples, lc.flux.value, lc_sector_trend.flux.value,\n",
    "                            penalty_weight=penalty_weight)\n",
    "        lc_detrended[poly_order]['bic'] = bic_k\n",
    "        if bic_k < best_bic:\n",
    "            best_bic, best_model = bic_k, poly_order\n",
    "\n",
    "    bic_scores = [lc_detrended[poly_order]['bic'] for poly_order in lc_detrended]\n",
    "    models_info_df = pd.DataFrame({'poly_order': poly_order_arr, 'bic_score': bic_scores})\n",
    "    models_info_df.sort_values(by='bic_score', ascending=True, inplace=True)\n",
    "    models_info_df.set_index('poly_order', inplace=True)\n",
    "\n",
    "    time, detrended_flux = lc_detrended[best_model]['flux'].time.value, lc_detrended[best_model]['flux'].flux.value\n",
    "    trend = lc_detrended[best_model]['trend'].flux.value\n",
    "\n",
    "    # remove median from trend (by time splits)\n",
    "    dt = np.diff(time)\n",
    "    cut = np.where(dt > break_tolerance * np.nanmedian(dt))[0] + 1\n",
    "    low = np.append([0], cut)\n",
    "    high = np.append(cut, len(time))\n",
    "    for low_i, high_i in zip(low, high):\n",
    "        trend[low_i: high_i] /= np.nanmedian(trend[low_i: high_i])\n",
    "\n",
    "    return time, detrended_flux, trend, models_info_df"
   ]
  },
  {
   "cell_type": "code",
   "execution_count": 174,
   "id": "3feeda30",
   "metadata": {},
   "outputs": [
    {
     "name": "stdout",
     "output_type": "stream",
     "text": [
      "max diff mins: 2.0000016982885427\n",
      "18012\n",
      "18012\n",
      "12620\n",
      "18012\n",
      "<class 'numpy.ndarray'>\n"
     ]
    },
    {
     "name": "stderr",
     "output_type": "stream",
     "text": [
      "WARNING: UnitsWarning: 'BJD - 2457000, days' did not parse as fits unit: At col 0, Unit 'BJD' not supported by the FITS standard.  If this is meant to be a custom unit, define it with 'u.def_unit'. To have it recognized inside a file reader or other code, enable it with 'u.add_enabled_units'. For details, see https://docs.astropy.org/en/latest/units/combining_and_defining.html [astropy.units.core]\n",
      "WARNING: UnitsWarning: 'e-/s' did not parse as fits unit: At col 0, Unit 'e' not supported by the FITS standard.  If this is meant to be a custom unit, define it with 'u.def_unit'. To have it recognized inside a file reader or other code, enable it with 'u.add_enabled_units'. For details, see https://docs.astropy.org/en/latest/units/combining_and_defining.html [astropy.units.core]\n",
      "WARNING: UnitsWarning: 'pixels' did not parse as fits unit: At col 0, Unit 'pixels' not supported by the FITS standard. Did you mean pixel? If this is meant to be a custom unit, define it with 'u.def_unit'. To have it recognized inside a file reader or other code, enable it with 'u.add_enabled_units'. For details, see https://docs.astropy.org/en/latest/units/combining_and_defining.html [astropy.units.core]\n"
     ]
    },
    {
     "data": {
      "image/png": "[encoded data removed]",
      "text/plain": [
       "<Figure size 848.5x400 with 1 Axes>"
      ]
     },
     "metadata": {},
     "output_type": "display_data"
    },
    {
     "data": {
      "image/png": "[encoded data removed]",
      "text/plain": [
       "<Figure size 848.5x400 with 1 Axes>"
      ]
     },
     "metadata": {},
     "output_type": "display_data"
    },
    {
     "data": {
      "image/png": "[encoded data removed]",
      "text/plain": [
       "<Figure size 848.5x400 with 1 Axes>"
      ]
     },
     "metadata": {},
     "output_type": "display_data"
    },
    {
     "data": {
      "image/png": "[encoded data removed]",
      "text/plain": [
       "<Figure size 848.5x400 with 1 Axes>"
      ]
     },
     "metadata": {},
     "output_type": "display_data"
    }
   ],
   "source": [
    "lcf_ap_table = Table.read(lcf_fits_fp, format=\"fits\")\n",
    "\n",
    "quality_ap = lcf_ap_table[\"QUALITY\"].value\n",
    "default_bitmask = 17087\n",
    "\n",
    "time_ap_unproc = lcf_ap_table[\"TIME\"].value.filled(np.nan)\n",
    "flux_ap_unproc = lcf_ap_table[\"PDCSAP_FLUX\"].value.filled(np.nan)\n",
    "\n",
    "# lcf_ap_unproc = lk.LightCurve({\"time\": time_ap_unproc, \"flux\": flux_ap_unproc})\n",
    "# lcf_ap_unproc.plot()\n",
    "# time_ap_unproc = np.array(time_ap_unproc)\n",
    "# flux_ap_unproc = np.array(flux_ap_unproc)\n",
    "\n",
    "time_ap_proc, cadence_mask = fill_missing_tess_cadences(time_ap_unproc)\n",
    "print(f\"max diff mins: {np.max(np.diff(time_ap_proc) * 1440)}\")\n",
    "lcf_ap_time_proc = lk.LightCurve({\"time\": time_ap_proc, \"flux\": flux_ap_unproc})\n",
    "lcf_ap_time_proc.plot()\n",
    "\n",
    "valid_quality_idxs_ap = (default_bitmask & quality_ap) == 0\n",
    "valid_flux_idxs_ap = np.isfinite(flux_ap_unproc)\n",
    "\n",
    "cadence_mask |= ~valid_quality_idxs_ap\n",
    "cadence_mask |= ~valid_flux_idxs_ap\n",
    "\n",
    "flux_ap_proc = flux_ap_unproc.copy()\n",
    "flux_ap_proc[cadence_mask] = np.nan\n",
    "\n",
    "lcf_ap_proc = lk.LightCurve({\"time\": time_ap_proc, \"flux\": flux_ap_proc})\n",
    "lcf_ap_proc.plot()\n",
    "print(np.isfinite(lcf_ap_proc.time.value).sum())\n",
    "print(len(lcf_ap_proc.time.value))\n",
    "\n",
    "print(np.isfinite(lcf_ap_proc.flux.value).sum())\n",
    "print(len(lcf_ap_proc.flux.value))\n",
    "\n",
    "interp_flux = fill_missing_flux(time_ap_proc, flux_ap_proc, cadence_mask)\n",
    "print(type(interp_flux))\n",
    "lcf_ap_interp = lk.LightCurve({\"time\": time_ap_proc, \"flux\": interp_flux})\n",
    "\n",
    "lcf_ap_interp.plot()\n",
    "lcf_ap_interp.plot()\n",
    "\n",
    "# plt.scatter(time_ap_proc, interp_flux)\n",
    "# lk.LightCurve({\"time\": time_ap_proc[~cadence_mask], \"flux\": interp_flux[~cadence_mask]}).plot()\n",
    "plt.fill_between(time_ap_proc, np.min(interp_flux), np.max(interp_flux), where=cadence_mask)\n",
    "plt.show()\n",
    "#detrend \n"
   ]
  },
  {
   "cell_type": "code",
   "execution_count": null,
   "id": "5eb8b419",
   "metadata": {},
   "outputs": [],
   "source": [
    "detrend_time, detrend_flux, detrend_trend, _ = detrend_flux_using_sg_filter()"
   ]
  }
 ],
 "metadata": {
  "kernelspec": {
   "display_name": "exoplnt_dl",
   "language": "python",
   "name": "python3"
  },
  "language_info": {
   "codemirror_mode": {
    "name": "ipython",
    "version": 3
   },
   "file_extension": ".py",
   "mimetype": "text/x-python",
   "name": "python",
   "nbconvert_exporter": "python",
   "pygments_lexer": "ipython3",
   "version": "undefined.undefined.undefined"
  }
 },
 "nbformat": 4,
 "nbformat_minor": 5
}
