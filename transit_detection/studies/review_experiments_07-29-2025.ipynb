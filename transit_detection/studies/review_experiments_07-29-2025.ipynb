{
 "cells": [
  {
   "cell_type": "code",
   "execution_count": null,
   "id": "6bc33ba9",
   "metadata": {},
   "outputs": [],
   "source": [
    "# 3rd party\n",
    "import pandas as pd\n",
    "from pathlib import Path\n",
    "import matplotlib.pyplot as plt\n",
    "import numpy as np\n",
    "from matplotlib.colors import LogNorm\n",
    "from mpl_toolkits.axes_grid1 import make_axes_locatable\n",
    "import lightkurve as lk\n",
    "from collections import defaultdict\n",
    "import textwrap\n",
    "import logging"
   ]
  },
  {
   "cell_type": "code",
   "execution_count": null,
   "id": "c2d42018",
   "metadata": {},
   "outputs": [],
   "source": [
    "logging.basicConfig(level=logging.INFO,\n",
    "                    format='%(levelname)s - %(message)s')\n",
    "\n",
    "logger = logging.getLogger(__name__) "
   ]
  },
  {
   "cell_type": "code",
   "execution_count": null,
   "id": "d3021a4f",
   "metadata": {},
   "outputs": [],
   "source": [
    "plot_dir = Path(f\"/Users/jochoa4/Desktop/studies/study_model_preds_07-16-2025\")\n",
    "plot_dir.mkdir(parents=True, exist_ok=True)\n",
    "\n",
    "tce_tbl_fp = Path(\n",
    "    \"/Users/jochoa4/Projects/exoplanet_transit_classification/ephemeris_tables/preprocessing_tce_tables/tess_2min_tces_dv_s1-s68_all_msectors_11-29-2023_2157_newlabels_nebs_npcs_bds_ebsntps_to_unks.csv\"\n",
    ")\n",
    "\n",
    "scores_tbls_dir = Path(\n",
    "    \"/Users/jochoa4/Desktop/pfe_transfers/predict_model_TESS_exoplanet_dataset_07-11-2025_no_ntp_no_detrend_split_norm_filtered\"\n",
    ")\n",
    "\n",
    "show_plots = False\n",
    "# -------------------- Load Data --------------------\n",
    "tce_tbl = pd.read_csv(tce_tbl_fp)\n",
    "tce_tbl = tce_tbl.rename(columns={\"uid\": \"tce_uid\", \"label\": \"disposition\"})\n",
    "\n",
    "if 'target_id' not in tce_tbl.columns:\n",
    "    logger.debug(\"target_id not in tce_tbl, adding it\")\n",
    "    tce_tbl['target_id'] = (\n",
    "        tce_tbl['tce_uid'].astype(str)\n",
    "               .str.split('-')\n",
    "               .str[0]\n",
    "               .astype(int)\n",
    "    )"
   ]
  },
  {
   "cell_type": "code",
   "execution_count": null,
   "id": "541e6fb7",
   "metadata": {},
   "outputs": [],
   "source": [
    "\n",
    "# Assume you have a list of CSV file paths (or use glob)\n",
    "file_paths = list(Path(\"path/to/csvs\").rglob(\"*.csv\"))\n",
    "\n",
    "# List to store filtered DataFrames\n",
    "filtered_dfs = []\n",
    "\n",
    "for fp in file_paths:\n",
    "    df = pd.read_csv(fp)\n",
    "\n",
    "    # Keep rows with at least one transit or not-transit example\n",
    "    mask = (df[\"n_transit_examples\"] > 0) | (df[\"n_not_transit_examples\"] > 0)\n",
    "    filtered = df[mask]\n",
    "\n",
    "    if not filtered.empty:\n",
    "        filtered_dfs.append(filtered)\n",
    "\n",
    "# Concatenate all filtered dataframes\n",
    "cumulative_df = pd.concat(filtered_dfs, ignore_index=True)\n",
    "\n",
    "# Optional: check the result\n",
    "print(f\"Cumulative shape: {cumulative_df.shape}\")\n",
    "print(cumulative_df.head())\n"
   ]
  }
 ],
 "metadata": {
  "language_info": {
   "name": "python"
  }
 },
 "nbformat": 4,
 "nbformat_minor": 5
}
