{
 "cells": [
  {
   "cell_type": "markdown",
   "source": [
    "# Compare CDE loss among experiments"
   ],
   "metadata": {
    "collapsed": false
   }
  },
  {
   "cell_type": "code",
   "execution_count": null,
   "outputs": [],
   "source": [
    "import matplotlib.pyplot as plt"
   ],
   "metadata": {
    "collapsed": false
   }
  },
  {
   "cell_type": "code",
   "execution_count": null,
   "outputs": [],
   "source": [
    "\n",
    "experiment_data_train = {\n",
    "    'single + multi train set': {'mean': cde_loss_training, 'std': std_loss_training},\n",
    "    'multi  train set': {'mean': cde_loss_training_single, 'std': std_loss_training_single},\n",
    "    'single + multi train set w/ stellar ': {'mean': -0.02190727, 'std': 0.00051656},\n",
    "    'multi train set w/ stellar': {'mean': -0.02567745, 'std': 0.00077837},\n",
    "\n",
    "}\n",
    "\n",
    "\n",
    "# Extract the experiment names, mean values, and standard deviation values\n",
    "experiments = list(experiment_data_train.keys())\n",
    "means = [data['mean'] for data in experiment_data_train.values()]\n",
    "stds = [data['std'] for data in experiment_data_train.values()]\n",
    "\n",
    "# Create the bar plot with error bars\n",
    "plt.figure(figsize=(10, 6))  # Adjust the figure size if necessary\n",
    "plt.bar(experiments, means, yerr=stds, align='center', alpha=0.7, capsize=5, color='r', ecolor='black')\n",
    "\n",
    "plt.xlabel('Experiment')\n",
    "plt.ylabel('Mean Value')\n",
    "plt.title('CDE loss train set', fontsize = 20)\n",
    "plt.grid(axis='y')\n",
    "\n",
    "# Flip the graph 180 degrees by reversing the y-axis limits\n",
    "plt.gca().invert_yaxis()\n",
    "\n",
    "#Axis labels\n",
    "plt.xticks(rotation=45, fontsize = 15)\n",
    "plt.yticks( fontsize = 20)\n",
    "\n",
    "\n",
    "plt.show()"
   ],
   "metadata": {
    "collapsed": false
   }
  }
 ],
 "metadata": {
  "kernelspec": {
   "display_name": "Python 3",
   "language": "python",
   "name": "python3"
  },
  "language_info": {
   "codemirror_mode": {
    "name": "ipython",
    "version": 2
   },
   "file_extension": ".py",
   "mimetype": "text/x-python",
   "name": "python",
   "nbconvert_exporter": "python",
   "pygments_lexer": "ipython2",
   "version": "2.7.6"
  }
 },
 "nbformat": 4,
 "nbformat_minor": 0
}
