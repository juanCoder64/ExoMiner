{
 "cells": [
  {
   "cell_type": "markdown",
   "source": [
    "## Run Nearest Neighbor KDE on the data set"
   ],
   "metadata": {
    "collapsed": false
   }
  },
  {
   "cell_type": "code",
   "execution_count": 501,
   "outputs": [],
   "source": [
    "# 3rd party\n",
    "import nnkcde\n",
    "import matplotlib.pyplot as plt\n",
    "from cdetools.cde_loss import cde_loss\n",
    "from pathlib import Path\n",
    "import pandas as pd\n",
    "import numpy as np\n",
    "from scipy.integrate import simps\n",
    "from cdetools.hpd_coverage import hpd_coverage\n",
    "from cdetools.cdf_coverage import cdf_coverage\n",
    "from sklearn.preprocessing import StandardScaler\n",
    "from utils_cde_diagnostics import plot_with_uniform_band"
   ],
   "metadata": {
    "collapsed": false,
    "ExecuteTime": {
     "end_time": "2023-08-02T22:44:20.611679Z",
     "start_time": "2023-08-02T22:44:20.485158Z"
    }
   }
  },
  {
   "cell_type": "code",
   "execution_count": 502,
   "outputs": [],
   "source": [
    "rng = np.random.default_rng(seed=24)  # setting random generator with a given seed for reproducibility and consistency\n",
    "\n",
    "exp_root_dir = Path('/Users/msaragoc/Library/CloudStorage/OneDrive-NASA/Projects/multi_plnt_sys_probing/experiments/')\n",
    "\n",
    "# create experiment directory\n",
    "exp_dir = exp_root_dir / 'all_kois_withstellar_8-2-2023'\n",
    "exp_dir.mkdir(exist_ok=True)\n",
    "\n",
    "singles_in_trainset = True\n",
    "\n",
    "# data sets directories\n",
    "dataset_dir = Path('/Users/msaragoc/Library/CloudStorage/OneDrive-NASA/Projects/multi_plnt_sys_probing/model_dataset/q1q17dr25_koi_5-6-2023/all_kois')"
   ],
   "metadata": {
    "collapsed": false,
    "ExecuteTime": {
     "end_time": "2023-08-02T22:44:20.618611Z",
     "start_time": "2023-08-02T22:44:20.491165Z"
    }
   }
  },
  {
   "cell_type": "code",
   "execution_count": 503,
   "outputs": [],
   "source": [
    "# Load data set\n",
    "\n",
    "train_df = pd.read_csv(dataset_dir / 'train_set.csv')\n",
    "val_df = pd.read_csv(dataset_dir / 'val_set.csv')\n",
    "test_df = pd.read_csv(dataset_dir / 'test_set.csv')"
   ],
   "metadata": {
    "collapsed": false,
    "ExecuteTime": {
     "end_time": "2023-08-02T22:44:20.839285Z",
     "start_time": "2023-08-02T22:44:20.496233Z"
    }
   }
  },
  {
   "cell_type": "markdown",
   "source": [
    "### Filter single-planet examples"
   ],
   "metadata": {
    "collapsed": false
   }
  },
  {
   "cell_type": "code",
   "execution_count": 504,
   "outputs": [],
   "source": [
    "def single_filter(dataset_df):\n",
    "    \"\"\" Filter out single-planet examples from the data set.\n",
    "\n",
    "    Args:\n",
    "        dataset_df: pandas DataFrame, data set with multis and singles.\n",
    "\n",
    "    Returns: \n",
    "        DataFrame, same data set without singles.\n",
    "        DataFrame, singles-only data set.\n",
    "    \"\"\"\n",
    "    \n",
    "    planet_cnts_per_target = dataset_df['kepid'].value_counts()\n",
    "    multis_targets = planet_cnts_per_target.loc[planet_cnts_per_target > 1].index\n",
    "    \n",
    "    return dataset_df.loc[dataset_df['kepid'].isin(multis_targets)], dataset_df.loc[~dataset_df['kepid'].isin(multis_targets)] "
   ],
   "metadata": {
    "collapsed": false,
    "ExecuteTime": {
     "end_time": "2023-08-02T22:44:20.839552Z",
     "start_time": "2023-08-02T22:44:20.603891Z"
    }
   }
  },
  {
   "cell_type": "code",
   "execution_count": 505,
   "outputs": [],
   "source": [
    "# validation and test sets always exclude singles\n",
    "val_df, singles_val_df = single_filter(val_df)\n",
    "test_df, singles_test_df = single_filter(test_df)\n",
    "\n",
    "val_df, test_df = val_df.reset_index(drop=True), test_df.reset_index(drop=True)\n",
    "\n",
    "if singles_in_trainset:\n",
    "    # add singles to training set\n",
    "    train_df = pd.concat([train_df, singles_val_df, singles_test_df], axis=0, ignore_index=True)\n",
    "else:\n",
    "    # filter training set to exclude singles\n",
    "    train_df, _ = single_filter(train_df)\n",
    "    \n",
    "train_df.reset_index(drop=True, inplace=True)\n"
   ],
   "metadata": {
    "collapsed": false,
    "ExecuteTime": {
     "end_time": "2023-08-02T22:44:20.841991Z",
     "start_time": "2023-08-02T22:44:20.612154Z"
    }
   }
  },
  {
   "cell_type": "code",
   "execution_count": 506,
   "outputs": [
    {
     "data": {
      "text/plain": "<Figure size 432x288 with 1 Axes>",
      "image/png": "[encoded data removed]"
     },
     "metadata": {
      "needs_background": "light"
     },
     "output_type": "display_data"
    }
   ],
   "source": [
    "all_dataset_df = pd.concat([train_df, val_df, test_df], axis=0)\n",
    "\n",
    "feature_name = 'koi_prad'\n",
    "\n",
    "f = plt.figure()\n",
    "ax = all_dataset_df[feature_name].hist(bins=np.linspace(0, 100), edgecolor='k')\n",
    "ax.set_yscale('log')\n",
    "ax.set_xlabel('Planet Radius (Earth Radius)')\n",
    "ax.set_ylabel('Counts')\n",
    "f.savefig(exp_dir / 'hist_prad_alldataset.svg')"
   ],
   "metadata": {
    "collapsed": false,
    "ExecuteTime": {
     "end_time": "2023-08-02T22:44:21.276487Z",
     "start_time": "2023-08-02T22:44:20.632280Z"
    }
   }
  },
  {
   "cell_type": "markdown",
   "source": [
    "### Define input and target variables for each data set"
   ],
   "metadata": {
    "collapsed": false
   }
  },
  {
   "cell_type": "code",
   "execution_count": 507,
   "outputs": [],
   "source": [
    "features_columns = [\n",
    "    'koi_prad_i-1',\n",
    "    'koi_incl_i-1',\n",
    "    'koi_period_i-1',\n",
    "    'koi_prad_i+1',\n",
    "    'koi_incl_i+1',\n",
    "    'koi_period_i+1',\n",
    "    'radius',\n",
    "    'mass',\n",
    "    'feh',\n",
    "    'teff'\n",
    "]\n",
    "\n",
    "target_columns = [\n",
    "    'koi_period'\n",
    "]"
   ],
   "metadata": {
    "collapsed": false,
    "ExecuteTime": {
     "end_time": "2023-08-02T22:44:21.276649Z",
     "start_time": "2023-08-02T22:44:21.252892Z"
    }
   }
  },
  {
   "cell_type": "code",
   "execution_count": 508,
   "outputs": [],
   "source": [
    "X_train = train_df[features_columns].to_numpy()  # Feature matrix\n",
    "y_train = train_df[target_columns].to_numpy()  # Target variable\n",
    "\n",
    "X_val = val_df[features_columns].to_numpy()  # Feature matrix\n",
    "y_val = val_df[target_columns].to_numpy()  # Target variable\n",
    "\n",
    "X_test = test_df[features_columns].to_numpy()  # Feature matrix\n",
    "y_test = test_df[target_columns].to_numpy()  # Target variable"
   ],
   "metadata": {
    "collapsed": false,
    "ExecuteTime": {
     "end_time": "2023-08-02T22:44:21.276791Z",
     "start_time": "2023-08-02T22:44:21.259643Z"
    }
   }
  },
  {
   "cell_type": "markdown",
   "source": [
    "### Plot features"
   ],
   "metadata": {
    "collapsed": false
   }
  },
  {
   "cell_type": "code",
   "execution_count": 509,
   "outputs": [
    {
     "data": {
      "text/plain": "<Figure size 432x288 with 1 Axes>",
      "image/png": "[encoded data removed]"
     },
     "metadata": {
      "needs_background": "light"
     },
     "output_type": "display_data"
    },
    {
     "data": {
      "text/plain": "<Figure size 432x288 with 1 Axes>",
      "image/png": "[encoded data removed]"
     },
     "metadata": {
      "needs_background": "light"
     },
     "output_type": "display_data"
    },
    {
     "data": {
      "text/plain": "<Figure size 432x288 with 1 Axes>",
      "image/png": "[encoded data removed]"
     },
     "metadata": {
      "needs_background": "light"
     },
     "output_type": "display_data"
    },
    {
     "data": {
      "text/plain": "<Figure size 432x288 with 1 Axes>",
      "image/png": "[encoded data removed]"
     },
     "metadata": {
      "needs_background": "light"
     },
     "output_type": "display_data"
    },
    {
     "data": {
      "text/plain": "<Figure size 432x288 with 1 Axes>",
      "image/png": "[encoded data removed]"
     },
     "metadata": {
      "needs_background": "light"
     },
     "output_type": "display_data"
    },
    {
     "data": {
      "text/plain": "<Figure size 432x288 with 1 Axes>",
      "image/png": "[encoded data removed]"
     },
     "metadata": {
      "needs_background": "light"
     },
     "output_type": "display_data"
    }
   ],
   "source": [
    "# plotting features of examples in the training set\n",
    "plot_features = [\n",
    "    'koi_prad_i-1',\n",
    "    'koi_incl_i-1',\n",
    "    'koi_period_i-1',\n",
    "    'koi_prad_i+1',\n",
    "    'koi_incl_i+1',\n",
    "    'koi_period_i+1',\n",
    "]\n",
    "\n",
    "bins_prad = np.linspace(0, 10, 100, endpoint=True)\n",
    "bins_incl = np.linspace(0, 90 , 100, endpoint=True)\n",
    "bins_period = np.logspace(-1, 3, 100)\n",
    "\n",
    "for feature in plot_features:\n",
    "\n",
    "    f, ax = plt.subplots()\n",
    "\n",
    "    if 'prad' in feature:\n",
    "        ax.hist(train_df[feature], bins_prad, edgecolor='k')\n",
    "        ax.set_yscale('log')\n",
    "\n",
    "    elif 'incl' in feature:\n",
    "        ax.hist(train_df[feature], bins_incl, edgecolor='k')\n",
    "\n",
    "    elif 'period' in feature:\n",
    "        ax.hist(train_df[feature], bins_period, edgecolor='k')\n",
    "        ax.set_yscale('log')\n",
    "        ax.set_xscale('log')\n",
    "\n",
    "    ax.set_ylabel('Counts')\n",
    "    ax.set_xlabel(feature)\n",
    "    f.savefig(exp_dir / f'hist_{feature}.svg')\n"
   ],
   "metadata": {
    "collapsed": false,
    "ExecuteTime": {
     "end_time": "2023-08-02T22:44:25.196421Z",
     "start_time": "2023-08-02T22:44:21.295720Z"
    }
   }
  },
  {
   "cell_type": "markdown",
   "source": [
    "### Scale features"
   ],
   "metadata": {
    "collapsed": false
   }
  },
  {
   "cell_type": "code",
   "execution_count": 510,
   "outputs": [],
   "source": [
    "# standardize each feature independently using the mean and std estimates from the training set\n",
    "std_scaler = StandardScaler()\n",
    "std_scaler.fit(X_train)\n",
    "\n",
    "X_train = std_scaler.transform(X_train)\n",
    "X_val = std_scaler.transform(X_val)\n",
    "X_test = std_scaler.transform(X_test)"
   ],
   "metadata": {
    "collapsed": false,
    "ExecuteTime": {
     "end_time": "2023-08-02T22:44:25.203441Z",
     "start_time": "2023-08-02T22:44:25.197175Z"
    }
   }
  },
  {
   "cell_type": "markdown",
   "source": [
    "### Define model"
   ],
   "metadata": {
    "collapsed": false
   }
  },
  {
   "cell_type": "code",
   "execution_count": 511,
   "outputs": [],
   "source": [
    "# k = 7  # number of training set neighbors; this can also be specified when predicting\n",
    "model = nnkcde.NNKCDE(k=None)"
   ],
   "metadata": {
    "collapsed": false,
    "ExecuteTime": {
     "end_time": "2023-08-02T22:44:25.207350Z",
     "start_time": "2023-08-02T22:44:25.204178Z"
    }
   }
  },
  {
   "cell_type": "markdown",
   "source": [
    "### Fit model to training data"
   ],
   "metadata": {
    "collapsed": false
   }
  },
  {
   "cell_type": "code",
   "execution_count": 512,
   "outputs": [],
   "source": [
    "model.fit(X_train, y_train)  # basically it just stores the training set (lazy estimator)"
   ],
   "metadata": {
    "collapsed": false,
    "ExecuteTime": {
     "end_time": "2023-08-02T22:44:25.212337Z",
     "start_time": "2023-08-02T22:44:25.209637Z"
    }
   }
  },
  {
   "cell_type": "markdown",
   "source": [
    "### Hyperparameter optimization (grid search) using validation set"
   ],
   "metadata": {
    "collapsed": false
   }
  },
  {
   "cell_type": "code",
   "execution_count": 513,
   "outputs": [
    {
     "name": "stdout",
     "output_type": "stream",
     "text": [
      "Bandwith: 0.10, Neighbors: 1, CDE loss: 2.6026 +- 0.1137\n",
      "Bandwith: 0.10, Neighbors: 3, CDE loss: 0.7741 +- 0.0678\n",
      "Bandwith: 0.10, Neighbors: 5, CDE loss: 0.4738 +- 0.0404\n",
      "Bandwith: 0.10, Neighbors: 7, CDE loss: 0.3206 +- 0.0326\n",
      "Bandwith: 0.10, Neighbors: 10, CDE loss: 0.2191 +- 0.0261\n",
      "Bandwith: 0.10, Neighbors: 25, CDE loss: 0.0572 +- 0.0163\n",
      "Bandwith: 0.10, Neighbors: 50, CDE loss: -0.0040 +- 0.0131\n",
      "Bandwith: 0.10, Neighbors: 100, CDE loss: -0.0292 +- 0.0092\n",
      "Bandwith: 1.00, Neighbors: 1, CDE loss: 0.1793 +- 0.0232\n",
      "Bandwith: 1.00, Neighbors: 3, CDE loss: 0.0079 +- 0.0146\n",
      "Bandwith: 1.00, Neighbors: 5, CDE loss: -0.0119 +- 0.0112\n",
      "Bandwith: 1.00, Neighbors: 7, CDE loss: -0.0260 +- 0.0100\n",
      "Bandwith: 1.00, Neighbors: 10, CDE loss: -0.0327 +- 0.0085\n",
      "Bandwith: 1.00, Neighbors: 25, CDE loss: -0.0482 +- 0.0067\n",
      "Bandwith: 1.00, Neighbors: 50, CDE loss: -0.0546 +- 0.0064\n",
      "Bandwith: 1.00, Neighbors: 100, CDE loss: -0.0546 +- 0.0062\n",
      "Bandwith: 2.50, Neighbors: 1, CDE loss: 0.0168 +- 0.0122\n",
      "Bandwith: 2.50, Neighbors: 3, CDE loss: -0.0381 +- 0.0075\n",
      "Bandwith: 2.50, Neighbors: 5, CDE loss: -0.0437 +- 0.0060\n",
      "Bandwith: 2.50, Neighbors: 7, CDE loss: -0.0480 +- 0.0056\n",
      "Bandwith: 2.50, Neighbors: 10, CDE loss: -0.0493 +- 0.0054\n",
      "Bandwith: 2.50, Neighbors: 25, CDE loss: -0.0510 +- 0.0049\n",
      "Bandwith: 2.50, Neighbors: 50, CDE loss: -0.0522 +- 0.0048\n",
      "Bandwith: 2.50, Neighbors: 100, CDE loss: -0.0513 +- 0.0047\n",
      "Bandwith: 5.00, Neighbors: 1, CDE loss: -0.0245 +- 0.0068\n",
      "Bandwith: 5.00, Neighbors: 3, CDE loss: -0.0439 +- 0.0044\n",
      "Bandwith: 5.00, Neighbors: 5, CDE loss: -0.0449 +- 0.0037\n",
      "Bandwith: 5.00, Neighbors: 7, CDE loss: -0.0459 +- 0.0035\n",
      "Bandwith: 5.00, Neighbors: 10, CDE loss: -0.0464 +- 0.0034\n",
      "Bandwith: 5.00, Neighbors: 25, CDE loss: -0.0455 +- 0.0033\n",
      "Bandwith: 5.00, Neighbors: 50, CDE loss: -0.0446 +- 0.0033\n",
      "Bandwith: 5.00, Neighbors: 100, CDE loss: -0.0434 +- 0.0033\n",
      "Bandwith: 10.00, Neighbors: 1, CDE loss: -0.0274 +- 0.0034\n",
      "Bandwith: 10.00, Neighbors: 3, CDE loss: -0.0337 +- 0.0023\n",
      "Bandwith: 10.00, Neighbors: 5, CDE loss: -0.0343 +- 0.0021\n",
      "Bandwith: 10.00, Neighbors: 7, CDE loss: -0.0345 +- 0.0020\n",
      "Bandwith: 10.00, Neighbors: 10, CDE loss: -0.0346 +- 0.0020\n",
      "Bandwith: 10.00, Neighbors: 25, CDE loss: -0.0342 +- 0.0020\n",
      "Bandwith: 10.00, Neighbors: 50, CDE loss: -0.0334 +- 0.0020\n",
      "Bandwith: 10.00, Neighbors: 100, CDE loss: -0.0324 +- 0.0019\n",
      "Bandwith: 15.00, Neighbors: 1, CDE loss: -0.0231 +- 0.0023\n",
      "Bandwith: 15.00, Neighbors: 3, CDE loss: -0.0262 +- 0.0016\n",
      "Bandwith: 15.00, Neighbors: 5, CDE loss: -0.0268 +- 0.0014\n",
      "Bandwith: 15.00, Neighbors: 7, CDE loss: -0.0271 +- 0.0014\n",
      "Bandwith: 15.00, Neighbors: 10, CDE loss: -0.0271 +- 0.0014\n",
      "Bandwith: 15.00, Neighbors: 25, CDE loss: -0.0269 +- 0.0013\n",
      "Bandwith: 15.00, Neighbors: 50, CDE loss: -0.0265 +- 0.0013\n",
      "Bandwith: 15.00, Neighbors: 100, CDE loss: -0.0258 +- 0.0013\n",
      "Bandwith: 20.00, Neighbors: 1, CDE loss: -0.0195 +- 0.0016\n",
      "Bandwith: 20.00, Neighbors: 3, CDE loss: -0.0215 +- 0.0011\n",
      "Bandwith: 20.00, Neighbors: 5, CDE loss: -0.0220 +- 0.0011\n",
      "Bandwith: 20.00, Neighbors: 7, CDE loss: -0.0223 +- 0.0010\n",
      "Bandwith: 20.00, Neighbors: 10, CDE loss: -0.0223 +- 0.0010\n",
      "Bandwith: 20.00, Neighbors: 25, CDE loss: -0.0222 +- 0.0010\n",
      "Bandwith: 20.00, Neighbors: 50, CDE loss: -0.0219 +- 0.0010\n",
      "Bandwith: 20.00, Neighbors: 100, CDE loss: -0.0215 +- 0.0010\n",
      "\n",
      "Best CDE loss in validation set (-0.0546 +- 0.0064) is achieved using 50 Neighbors and KDE bandwidth=1.00\n",
      "CDE loss for the training set is -0.049860482771103394 +- 0.0011854627197505146\n",
      "CDE loss for the test set is -0.03510099442310656 +- 0.006284672004165778\n"
     ]
    }
   ],
   "source": [
    "bw_vals = [0.1, 1, 2.5, 5, 10, 15, 20]  # bandwidth values to be tested (in period units)\n",
    "k_vals = [1, 3, 5, 7, 10, 25, 50, 100]  # , 11, 20, 30, 50, 80, 100]  # number of neighbors to be considered\n",
    "\n",
    "# create the CDE support, i.e. the grid over which we want the CDE to be predicted. Here we use the training data to inform the y_train minimum and maximum, and generate n_grid linearly separated values between the two.\n",
    "n_grid = 4000  # number of points in the support grid between min and max period\n",
    "y_grid = np.linspace(y_train.min(), y_train.max(), n_grid)\n",
    "\n",
    "# log results into dictionary\n",
    "results_cols = ['bandwidth', 'neighbors', 'Train_mean_cde_loss','Train_std_cde_loss', 'Val_mean_cde_loss', 'Val_std_cde_loss', 'Test_mean_cde_loss', 'Test_std_cde_loss']\n",
    "results_search = {col: [] for col in results_cols}\n",
    "for bw in bw_vals:\n",
    "    for k in k_vals:\n",
    "\n",
    "        results_search['bandwidth'].append(bw)\n",
    "        results_search['neighbors'].append(k)\n",
    "\n",
    "        # evaluate on multiple data sets\n",
    "        for dataset, dataset_name in zip([(X_val, y_val), (X_train, y_train), (X_test, y_test)], ['Val', 'Train', 'Test']):\n",
    "            cde_dataset_temp = model.predict(dataset[0], y_grid, k=k, bandwidth=bw)\n",
    "            cde_loss_temp, std_loss_temp = cde_loss(cde_dataset_temp, y_grid, dataset[1])\n",
    "            results_search[f'{dataset_name}_mean_cde_loss'].append(cde_loss_temp)\n",
    "            results_search[f'{dataset_name}_std_cde_loss'].append(std_loss_temp)\n",
    "\n",
    "\n",
    "        message_out = r'Bandwith: %.2f, Neighbors: %d, CDE loss: %4.4f +- %.4f' % (bw, k, results_search[f'Val_mean_cde_loss'][-1], results_search[f'Val_std_cde_loss'][-1])\n",
    "        print(message_out)\n",
    "\n",
    "# save results into a csv file\n",
    "results_search_df = pd.DataFrame(results_search)\n",
    "results_search_df.to_csv(exp_dir / 'hpo_results.csv', index=False)\n",
    "\n",
    "# get set of hyperparameters with the lowest mean CDE loss on the validation set\n",
    "best_combination = results_search_df.sort_values('Val_mean_cde_loss').iloc[0]\n",
    "print('\\nBest CDE loss in validation set (%4.4f +- %4.4f) is achieved using %d Neighbors and KDE bandwidth=%.2f' % (best_combination['Val_mean_cde_loss'], best_combination['Val_std_cde_loss'], best_combination['neighbors'], best_combination['bandwidth']))\n",
    "\n",
    "# get estimates for the other sets (train and test) - don't use them for model selection!=\n",
    "print(f'CDE loss for the training set is {best_combination[\"Train_mean_cde_loss\"]} +- {best_combination[\"Train_std_cde_loss\"]}')\n",
    "print(f'CDE loss for the test set is {best_combination[\"Test_mean_cde_loss\"]} +- {best_combination[\"Test_std_cde_loss\"]}')"
   ],
   "metadata": {
    "collapsed": false,
    "ExecuteTime": {
     "end_time": "2023-08-02T22:48:54.313218Z",
     "start_time": "2023-08-02T22:44:25.219815Z"
    }
   }
  },
  {
   "cell_type": "markdown",
   "source": [
    "### Check closest k-neighbors"
   ],
   "metadata": {
    "collapsed": false
   }
  },
  {
   "cell_type": "code",
   "execution_count": 514,
   "outputs": [],
   "source": [
    "# query the test set examples\n",
    "neighbors_X_test_dist, neighbors_X_test = model.tree.query(X_test, int(best_combination['neighbors']))\n",
    "# query the training set examples\n",
    "neighbors_X_train_dist, neighbors_X_train = model.tree.query(X_train, int(best_combination['neighbors']))"
   ],
   "metadata": {
    "collapsed": false,
    "ExecuteTime": {
     "end_time": "2023-08-02T22:48:54.431132Z",
     "start_time": "2023-08-02T22:48:54.310735Z"
    }
   }
  },
  {
   "cell_type": "code",
   "execution_count": 515,
   "outputs": [
    {
     "data": {
      "text/plain": "     kepid kepoi_name  koi_period  koi_prad_i-1  koi_incl_i-1  koi_period_i-1  \\\n0  9002278  K00701.05     12.4418          1.33         89.97        5.714897   \n\n   koi_prad_i+1  koi_incl_i+1  koi_period_i+1  radius   mass   feh    teff  \n0          1.98         89.97       18.164073   0.662  0.727 -0.36  4926.0  ",
      "text/html": "<div>\n<style scoped>\n    .dataframe tbody tr th:only-of-type {\n        vertical-align: middle;\n    }\n\n    .dataframe tbody tr th {\n        vertical-align: top;\n    }\n\n    .dataframe thead th {\n        text-align: right;\n    }\n</style>\n<table border=\"1\" class=\"dataframe\">\n  <thead>\n    <tr style=\"text-align: right;\">\n      <th></th>\n      <th>kepid</th>\n      <th>kepoi_name</th>\n      <th>koi_period</th>\n      <th>koi_prad_i-1</th>\n      <th>koi_incl_i-1</th>\n      <th>koi_period_i-1</th>\n      <th>koi_prad_i+1</th>\n      <th>koi_incl_i+1</th>\n      <th>koi_period_i+1</th>\n      <th>radius</th>\n      <th>mass</th>\n      <th>feh</th>\n      <th>teff</th>\n    </tr>\n  </thead>\n  <tbody>\n    <tr>\n      <th>0</th>\n      <td>9002278</td>\n      <td>K00701.05</td>\n      <td>12.4418</td>\n      <td>1.33</td>\n      <td>89.97</td>\n      <td>5.714897</td>\n      <td>1.98</td>\n      <td>89.97</td>\n      <td>18.164073</td>\n      <td>0.662</td>\n      <td>0.727</td>\n      <td>-0.36</td>\n      <td>4926.0</td>\n    </tr>\n  </tbody>\n</table>\n</div>"
     },
     "execution_count": 515,
     "metadata": {},
     "output_type": "execute_result"
    }
   ],
   "source": [
    "# choose example from the test set to check closest k-neighbors\n",
    "# example_idx = test_df.loc[test_df['kepoi_name'] == 'K00904.05'].index[0]\n",
    "# choose example from the training set to check closest k-neighbors\n",
    "example_idx = train_df.loc[train_df['kepoi_name'] == 'K00701.05'].index[0]\n",
    "\n",
    "idx_test_example = [example_idx]  # test examples to be analyzed\n",
    "\n",
    "# for test set example\n",
    "# pd.concat([test_df.loc[idx_test_example, ['kepid', 'kepoi_name', 'koi_period']].reset_index(drop=True), pd.DataFrame(std_scaler.inverse_transform(X_test[idx_test_example].reshape(1, -1)), columns=features_columns)], axis=1)\n",
    "# for training set example\n",
    "pd.concat([train_df.loc[idx_test_example, ['kepid', 'kepoi_name', 'koi_period']].reset_index(drop=True), pd.DataFrame(std_scaler.inverse_transform(X_train[idx_test_example].reshape(1, -1)), columns=features_columns)], axis=1)"
   ],
   "metadata": {
    "collapsed": false,
    "ExecuteTime": {
     "end_time": "2023-08-02T22:48:54.452034Z",
     "start_time": "2023-08-02T22:48:54.431853Z"
    }
   }
  },
  {
   "cell_type": "code",
   "execution_count": 516,
   "outputs": [
    {
     "data": {
      "text/plain": "       kepid kepoi_name  koi_period  distance  koi_prad_i-1  koi_incl_i-1  \\\n0    9002278  K00701.05   12.441800  0.000000          1.33         89.97   \n1   10271806  K00733.01    5.924994  0.412344          1.39         89.29   \n2   11288051  K00241.01   13.821421  0.783481          1.06         70.06   \n3    6278762  K03158.04    7.743478  0.834410          0.65         89.01   \n4    6278762  K03158.03    6.189440  0.975722          0.65         88.05   \n5    6278762  K03158.02    4.545870  1.052459          0.50         89.88   \n6   11192998  K00481.01    7.650244  1.081180          1.59         89.87   \n7   10858691  K01306.03    5.914267  1.094455          1.29         89.28   \n8    9950612  K00719.02   28.122439  1.127076          1.80         88.12   \n9    9950612  K00719.01    9.034191  1.135625          0.86         87.37   \n10   8609450  K01278.04   13.639665  1.196911          1.02         89.85   \n11  10858691  K01306.02    3.468073  1.208776          1.20         89.88   \n12   9489524  K02029.02   10.055503  1.260283          0.72         88.66   \n13   9002278  K00701.01   18.164073  1.260815          0.57         89.91   \n14   5438099  K01567.01    7.240224  1.286297          1.82         83.18   \n15  10328393  K01905.02   15.995604  1.309831          1.21         89.43   \n16  11176127  K01430.02   22.928863  1.365110          2.11         88.61   \n17   6962977  K01364.02    7.055658  1.409066          1.46         88.25   \n18   9006449  K01413.02   21.526296  1.425968          1.55         77.82   \n19   6962977  K01364.04    3.715456  1.432329          1.31         89.00   \n20   5438099  K01567.03   17.326704  1.450912          2.14         88.29   \n21   8609450  K01278.01   24.805678  1.453466          1.10         89.69   \n22  10271806  K00733.02   11.349348  1.464639          3.15         84.90   \n23   8247638  K00907.01   16.514110  1.505606          1.36         89.55   \n24   6962977  K01364.03   11.978844  1.538503          2.13         89.00   \n25  11853878  K01833.03    5.709408  1.540902          1.74         85.88   \n26   5185897  K02693.03    6.834407  1.575432          1.00         82.74   \n27   8478994  K00245.02   21.301819  1.602086          0.27         88.81   \n28   6026438  K02045.03   16.934810  1.628790          2.01         85.82   \n29   3239945  K00490.03    7.406117  1.644771          1.41         89.58   \n30   8962094  K00700.03   14.667229  1.713989          1.42         86.69   \n31   5956342  K01052.01   17.029028  1.749036          1.67         89.71   \n32   9963524  K00720.01    5.690592  1.749700          1.66         85.58   \n33   4644952  K01805.01    6.941358  1.769095          1.76         86.03   \n34  10925104  K00156.01    8.041348  1.786088          1.00         89.39   \n35   4852528  K00500.01    7.053527  1.786807          1.33         89.50   \n36   4852528  K00500.04    4.645382  1.807414          1.30         89.86   \n37   5371776  K01557.01    3.295701  1.835347          1.09         87.54   \n38   5689351  K00505.04    8.348192  1.861138          1.37         87.06   \n39   4139816  K00812.02   20.060363  1.880070          1.20         87.99   \n40  11709124  K00435.01   20.549818  1.884358          1.32         89.47   \n41   4852528  K00500.03    3.072147  1.894068          1.19         89.77   \n42   5689351  K00505.02    6.195460  1.905154          1.19         85.27   \n43  11389771  K01436.03    5.419085  1.908664          1.28         89.94   \n44   7445445  K00567.02   20.303035  1.922746          2.64         86.89   \n45   7287995  K00877.02   12.039875  1.924501          2.33         89.00   \n46   6948054  K00869.01    7.490183  1.937670          1.69         89.72   \n47   4139816  K00812.04    7.825022  1.947729          2.03         87.85   \n48   9471268  K01835.01    4.580346  1.961668          1.25         89.97   \n49   6021275  K00284.02    6.414913  1.973296          1.22         85.28   \n\n    koi_period_i-1  koi_prad_i+1  koi_incl_i+1  koi_period_i+1  radius   mass  \\\n0         5.714897          1.98         89.97       18.164073   0.662  0.727   \n1         3.132954          2.39         89.14       11.349348   0.679  0.743   \n2         3.410460          1.51         86.47       30.950593   0.651  0.715   \n3         6.189440          0.95         87.58        9.740485   0.721  0.692   \n4         4.545870          0.62         89.95        7.743478   0.721  0.692   \n5         3.600117          0.65         89.01        6.189440   0.721  0.692   \n6         1.554004          2.41         89.99       34.259514   0.746  0.835   \n7         3.468073          1.81         88.78       29.221496   0.829  0.800   \n8         9.034191          1.18         89.74       45.902977   0.639  0.643   \n9         4.159817          0.90         89.34       28.122439   0.639  0.643   \n10        9.220769          2.16         89.99       24.805678   0.872  0.793   \n11        1.796321          1.31         89.87        5.914267   0.829  0.800   \n12        6.887311          1.61         88.19       16.332700   0.772  0.796   \n13       12.441800          1.72         89.96      122.385868   0.662  0.727   \n14        4.646224          2.23         88.00       17.326704   0.721  0.774   \n15        7.626355          1.15         89.96       34.211502   0.721  0.774   \n16       10.475481          2.63         89.57       77.474099   0.611  0.662   \n17        3.715456          2.11         89.83       11.978844   0.808  0.821   \n18       12.645043          1.74         85.87       33.884582   0.886  0.800   \n19        2.580833          2.13         89.00        7.055658   0.808  0.821   \n20        7.240224          2.75         88.50       44.841117   0.721  0.774   \n21       13.639665          2.45         89.70       44.347194   0.872  0.793   \n22        5.924994          2.14         89.15       18.643500   0.679  0.743   \n23        4.790908          3.14         88.21       30.132930   0.866  0.841   \n24        7.055658          2.26         89.56       20.834150   0.808  0.821   \n25        3.692986          2.58         86.87        7.684333   0.572  0.575   \n26        4.081412          0.99         85.38       11.419419   0.635  0.698   \n27       13.366931          1.90         89.98       39.792201   0.781  0.829   \n28        5.476658          1.50         89.38       24.210197   0.706  0.704   \n29        4.393158          1.11         89.22       21.803708   0.692  0.776   \n30        9.360597          2.23         88.93       30.864365   0.828  0.920   \n31        6.846192          2.39         89.52       43.131215   1.067  0.881   \n32        2.795900          2.97         87.80       10.041572   0.810  0.826   \n33        4.362732          2.08         89.85       31.782112   0.880  0.875   \n34        5.188564          2.08         88.87       11.776132   0.540  0.560   \n35        4.645382          2.16         89.96        9.521645   0.567  0.584   \n36        3.072147          2.16         89.57        7.053527   0.567  0.584   \n37        1.499144          2.33         88.47        5.315954   0.691  0.760   \n38        6.195460          2.24         87.99       13.767101   0.760  0.806   \n39        7.825022          1.83         89.99       46.184204   0.493  0.502   \n40        9.919377          2.36         89.65       33.040551   0.971  0.895   \n41        0.986786          1.33         89.50        4.645382   0.567  0.584   \n42        3.250582          1.45         86.78        8.348192   0.760  0.806   \n43        2.508553          1.66         89.21       13.751296   0.881  0.944   \n44       10.687582          2.55         88.09       29.022352   0.848  0.877   \n45        5.954900          1.42         89.18       20.837629   0.633  0.640   \n46        3.219815          2.32         89.31       17.460879   0.787  0.823   \n47        3.340219          1.96         89.21       20.060363   0.493  0.502   \n48        2.248288          1.31         88.43        6.766908   0.789  0.820   \n49        6.178174          1.93         85.52       18.010200   1.101  0.929   \n\n     feh    teff  \n0  -0.36  4926.0  \n1  -0.34  5016.0  \n2  -0.44  4983.0  \n3  -0.36  5051.0  \n4  -0.36  5051.0  \n5  -0.36  5051.0  \n6  -0.30  5409.0  \n7  -0.36  5576.0  \n8  -0.26  4499.0  \n9  -0.26  4499.0  \n10 -0.36  5600.0  \n11 -0.36  5576.0  \n12 -0.14  5208.0  \n13 -0.36  4926.0  \n14 -0.10  4955.0  \n15 -0.10  4955.0  \n16 -0.24  4463.0  \n17 -0.10  5296.0  \n18 -0.34  5607.0  \n19 -0.10  5296.0  \n20 -0.10  4955.0  \n21 -0.36  5600.0  \n22 -0.34  5016.0  \n23 -0.18  5527.0  \n24 -0.10  5296.0  \n25 -0.58  4402.0  \n26 -0.08  4498.0  \n27 -0.24  5437.0  \n28 -0.04  4650.0  \n29 -0.02  4799.0  \n30 -0.18  5677.0  \n31 -0.28  5839.0  \n32 -0.04  5244.0  \n33 -0.08  5527.0  \n34 -0.20  3980.0  \n35 -0.14  4041.0  \n36 -0.14  4041.0  \n37  0.02  4723.0  \n38  0.04  5001.0  \n39 -0.46  3950.0  \n40 -0.12  5688.0  \n41 -0.14  4041.0  \n42  0.04  5001.0  \n43 -0.18  5814.0  \n44 -0.34  5788.0  \n45 -0.06  4261.0  \n46  0.04  5103.0  \n47 -0.46  3950.0  \n48  0.04  5103.0  \n49 -0.24  5931.0  ",
      "text/html": "<div>\n<style scoped>\n    .dataframe tbody tr th:only-of-type {\n        vertical-align: middle;\n    }\n\n    .dataframe tbody tr th {\n        vertical-align: top;\n    }\n\n    .dataframe thead th {\n        text-align: right;\n    }\n</style>\n<table border=\"1\" class=\"dataframe\">\n  <thead>\n    <tr style=\"text-align: right;\">\n      <th></th>\n      <th>kepid</th>\n      <th>kepoi_name</th>\n      <th>koi_period</th>\n      <th>distance</th>\n      <th>koi_prad_i-1</th>\n      <th>koi_incl_i-1</th>\n      <th>koi_period_i-1</th>\n      <th>koi_prad_i+1</th>\n      <th>koi_incl_i+1</th>\n      <th>koi_period_i+1</th>\n      <th>radius</th>\n      <th>mass</th>\n      <th>feh</th>\n      <th>teff</th>\n    </tr>\n  </thead>\n  <tbody>\n    <tr>\n      <th>0</th>\n      <td>9002278</td>\n      <td>K00701.05</td>\n      <td>12.441800</td>\n      <td>0.000000</td>\n      <td>1.33</td>\n      <td>89.97</td>\n      <td>5.714897</td>\n      <td>1.98</td>\n      <td>89.97</td>\n      <td>18.164073</td>\n      <td>0.662</td>\n      <td>0.727</td>\n      <td>-0.36</td>\n      <td>4926.0</td>\n    </tr>\n    <tr>\n      <th>1</th>\n      <td>10271806</td>\n      <td>K00733.01</td>\n      <td>5.924994</td>\n      <td>0.412344</td>\n      <td>1.39</td>\n      <td>89.29</td>\n      <td>3.132954</td>\n      <td>2.39</td>\n      <td>89.14</td>\n      <td>11.349348</td>\n      <td>0.679</td>\n      <td>0.743</td>\n      <td>-0.34</td>\n      <td>5016.0</td>\n    </tr>\n    <tr>\n      <th>2</th>\n      <td>11288051</td>\n      <td>K00241.01</td>\n      <td>13.821421</td>\n      <td>0.783481</td>\n      <td>1.06</td>\n      <td>70.06</td>\n      <td>3.410460</td>\n      <td>1.51</td>\n      <td>86.47</td>\n      <td>30.950593</td>\n      <td>0.651</td>\n      <td>0.715</td>\n      <td>-0.44</td>\n      <td>4983.0</td>\n    </tr>\n    <tr>\n      <th>3</th>\n      <td>6278762</td>\n      <td>K03158.04</td>\n      <td>7.743478</td>\n      <td>0.834410</td>\n      <td>0.65</td>\n      <td>89.01</td>\n      <td>6.189440</td>\n      <td>0.95</td>\n      <td>87.58</td>\n      <td>9.740485</td>\n      <td>0.721</td>\n      <td>0.692</td>\n      <td>-0.36</td>\n      <td>5051.0</td>\n    </tr>\n    <tr>\n      <th>4</th>\n      <td>6278762</td>\n      <td>K03158.03</td>\n      <td>6.189440</td>\n      <td>0.975722</td>\n      <td>0.65</td>\n      <td>88.05</td>\n      <td>4.545870</td>\n      <td>0.62</td>\n      <td>89.95</td>\n      <td>7.743478</td>\n      <td>0.721</td>\n      <td>0.692</td>\n      <td>-0.36</td>\n      <td>5051.0</td>\n    </tr>\n    <tr>\n      <th>5</th>\n      <td>6278762</td>\n      <td>K03158.02</td>\n      <td>4.545870</td>\n      <td>1.052459</td>\n      <td>0.50</td>\n      <td>89.88</td>\n      <td>3.600117</td>\n      <td>0.65</td>\n      <td>89.01</td>\n      <td>6.189440</td>\n      <td>0.721</td>\n      <td>0.692</td>\n      <td>-0.36</td>\n      <td>5051.0</td>\n    </tr>\n    <tr>\n      <th>6</th>\n      <td>11192998</td>\n      <td>K00481.01</td>\n      <td>7.650244</td>\n      <td>1.081180</td>\n      <td>1.59</td>\n      <td>89.87</td>\n      <td>1.554004</td>\n      <td>2.41</td>\n      <td>89.99</td>\n      <td>34.259514</td>\n      <td>0.746</td>\n      <td>0.835</td>\n      <td>-0.30</td>\n      <td>5409.0</td>\n    </tr>\n    <tr>\n      <th>7</th>\n      <td>10858691</td>\n      <td>K01306.03</td>\n      <td>5.914267</td>\n      <td>1.094455</td>\n      <td>1.29</td>\n      <td>89.28</td>\n      <td>3.468073</td>\n      <td>1.81</td>\n      <td>88.78</td>\n      <td>29.221496</td>\n      <td>0.829</td>\n      <td>0.800</td>\n      <td>-0.36</td>\n      <td>5576.0</td>\n    </tr>\n    <tr>\n      <th>8</th>\n      <td>9950612</td>\n      <td>K00719.02</td>\n      <td>28.122439</td>\n      <td>1.127076</td>\n      <td>1.80</td>\n      <td>88.12</td>\n      <td>9.034191</td>\n      <td>1.18</td>\n      <td>89.74</td>\n      <td>45.902977</td>\n      <td>0.639</td>\n      <td>0.643</td>\n      <td>-0.26</td>\n      <td>4499.0</td>\n    </tr>\n    <tr>\n      <th>9</th>\n      <td>9950612</td>\n      <td>K00719.01</td>\n      <td>9.034191</td>\n      <td>1.135625</td>\n      <td>0.86</td>\n      <td>87.37</td>\n      <td>4.159817</td>\n      <td>0.90</td>\n      <td>89.34</td>\n      <td>28.122439</td>\n      <td>0.639</td>\n      <td>0.643</td>\n      <td>-0.26</td>\n      <td>4499.0</td>\n    </tr>\n    <tr>\n      <th>10</th>\n      <td>8609450</td>\n      <td>K01278.04</td>\n      <td>13.639665</td>\n      <td>1.196911</td>\n      <td>1.02</td>\n      <td>89.85</td>\n      <td>9.220769</td>\n      <td>2.16</td>\n      <td>89.99</td>\n      <td>24.805678</td>\n      <td>0.872</td>\n      <td>0.793</td>\n      <td>-0.36</td>\n      <td>5600.0</td>\n    </tr>\n    <tr>\n      <th>11</th>\n      <td>10858691</td>\n      <td>K01306.02</td>\n      <td>3.468073</td>\n      <td>1.208776</td>\n      <td>1.20</td>\n      <td>89.88</td>\n      <td>1.796321</td>\n      <td>1.31</td>\n      <td>89.87</td>\n      <td>5.914267</td>\n      <td>0.829</td>\n      <td>0.800</td>\n      <td>-0.36</td>\n      <td>5576.0</td>\n    </tr>\n    <tr>\n      <th>12</th>\n      <td>9489524</td>\n      <td>K02029.02</td>\n      <td>10.055503</td>\n      <td>1.260283</td>\n      <td>0.72</td>\n      <td>88.66</td>\n      <td>6.887311</td>\n      <td>1.61</td>\n      <td>88.19</td>\n      <td>16.332700</td>\n      <td>0.772</td>\n      <td>0.796</td>\n      <td>-0.14</td>\n      <td>5208.0</td>\n    </tr>\n    <tr>\n      <th>13</th>\n      <td>9002278</td>\n      <td>K00701.01</td>\n      <td>18.164073</td>\n      <td>1.260815</td>\n      <td>0.57</td>\n      <td>89.91</td>\n      <td>12.441800</td>\n      <td>1.72</td>\n      <td>89.96</td>\n      <td>122.385868</td>\n      <td>0.662</td>\n      <td>0.727</td>\n      <td>-0.36</td>\n      <td>4926.0</td>\n    </tr>\n    <tr>\n      <th>14</th>\n      <td>5438099</td>\n      <td>K01567.01</td>\n      <td>7.240224</td>\n      <td>1.286297</td>\n      <td>1.82</td>\n      <td>83.18</td>\n      <td>4.646224</td>\n      <td>2.23</td>\n      <td>88.00</td>\n      <td>17.326704</td>\n      <td>0.721</td>\n      <td>0.774</td>\n      <td>-0.10</td>\n      <td>4955.0</td>\n    </tr>\n    <tr>\n      <th>15</th>\n      <td>10328393</td>\n      <td>K01905.02</td>\n      <td>15.995604</td>\n      <td>1.309831</td>\n      <td>1.21</td>\n      <td>89.43</td>\n      <td>7.626355</td>\n      <td>1.15</td>\n      <td>89.96</td>\n      <td>34.211502</td>\n      <td>0.721</td>\n      <td>0.774</td>\n      <td>-0.10</td>\n      <td>4955.0</td>\n    </tr>\n    <tr>\n      <th>16</th>\n      <td>11176127</td>\n      <td>K01430.02</td>\n      <td>22.928863</td>\n      <td>1.365110</td>\n      <td>2.11</td>\n      <td>88.61</td>\n      <td>10.475481</td>\n      <td>2.63</td>\n      <td>89.57</td>\n      <td>77.474099</td>\n      <td>0.611</td>\n      <td>0.662</td>\n      <td>-0.24</td>\n      <td>4463.0</td>\n    </tr>\n    <tr>\n      <th>17</th>\n      <td>6962977</td>\n      <td>K01364.02</td>\n      <td>7.055658</td>\n      <td>1.409066</td>\n      <td>1.46</td>\n      <td>88.25</td>\n      <td>3.715456</td>\n      <td>2.11</td>\n      <td>89.83</td>\n      <td>11.978844</td>\n      <td>0.808</td>\n      <td>0.821</td>\n      <td>-0.10</td>\n      <td>5296.0</td>\n    </tr>\n    <tr>\n      <th>18</th>\n      <td>9006449</td>\n      <td>K01413.02</td>\n      <td>21.526296</td>\n      <td>1.425968</td>\n      <td>1.55</td>\n      <td>77.82</td>\n      <td>12.645043</td>\n      <td>1.74</td>\n      <td>85.87</td>\n      <td>33.884582</td>\n      <td>0.886</td>\n      <td>0.800</td>\n      <td>-0.34</td>\n      <td>5607.0</td>\n    </tr>\n    <tr>\n      <th>19</th>\n      <td>6962977</td>\n      <td>K01364.04</td>\n      <td>3.715456</td>\n      <td>1.432329</td>\n      <td>1.31</td>\n      <td>89.00</td>\n      <td>2.580833</td>\n      <td>2.13</td>\n      <td>89.00</td>\n      <td>7.055658</td>\n      <td>0.808</td>\n      <td>0.821</td>\n      <td>-0.10</td>\n      <td>5296.0</td>\n    </tr>\n    <tr>\n      <th>20</th>\n      <td>5438099</td>\n      <td>K01567.03</td>\n      <td>17.326704</td>\n      <td>1.450912</td>\n      <td>2.14</td>\n      <td>88.29</td>\n      <td>7.240224</td>\n      <td>2.75</td>\n      <td>88.50</td>\n      <td>44.841117</td>\n      <td>0.721</td>\n      <td>0.774</td>\n      <td>-0.10</td>\n      <td>4955.0</td>\n    </tr>\n    <tr>\n      <th>21</th>\n      <td>8609450</td>\n      <td>K01278.01</td>\n      <td>24.805678</td>\n      <td>1.453466</td>\n      <td>1.10</td>\n      <td>89.69</td>\n      <td>13.639665</td>\n      <td>2.45</td>\n      <td>89.70</td>\n      <td>44.347194</td>\n      <td>0.872</td>\n      <td>0.793</td>\n      <td>-0.36</td>\n      <td>5600.0</td>\n    </tr>\n    <tr>\n      <th>22</th>\n      <td>10271806</td>\n      <td>K00733.02</td>\n      <td>11.349348</td>\n      <td>1.464639</td>\n      <td>3.15</td>\n      <td>84.90</td>\n      <td>5.924994</td>\n      <td>2.14</td>\n      <td>89.15</td>\n      <td>18.643500</td>\n      <td>0.679</td>\n      <td>0.743</td>\n      <td>-0.34</td>\n      <td>5016.0</td>\n    </tr>\n    <tr>\n      <th>23</th>\n      <td>8247638</td>\n      <td>K00907.01</td>\n      <td>16.514110</td>\n      <td>1.505606</td>\n      <td>1.36</td>\n      <td>89.55</td>\n      <td>4.790908</td>\n      <td>3.14</td>\n      <td>88.21</td>\n      <td>30.132930</td>\n      <td>0.866</td>\n      <td>0.841</td>\n      <td>-0.18</td>\n      <td>5527.0</td>\n    </tr>\n    <tr>\n      <th>24</th>\n      <td>6962977</td>\n      <td>K01364.03</td>\n      <td>11.978844</td>\n      <td>1.538503</td>\n      <td>2.13</td>\n      <td>89.00</td>\n      <td>7.055658</td>\n      <td>2.26</td>\n      <td>89.56</td>\n      <td>20.834150</td>\n      <td>0.808</td>\n      <td>0.821</td>\n      <td>-0.10</td>\n      <td>5296.0</td>\n    </tr>\n    <tr>\n      <th>25</th>\n      <td>11853878</td>\n      <td>K01833.03</td>\n      <td>5.709408</td>\n      <td>1.540902</td>\n      <td>1.74</td>\n      <td>85.88</td>\n      <td>3.692986</td>\n      <td>2.58</td>\n      <td>86.87</td>\n      <td>7.684333</td>\n      <td>0.572</td>\n      <td>0.575</td>\n      <td>-0.58</td>\n      <td>4402.0</td>\n    </tr>\n    <tr>\n      <th>26</th>\n      <td>5185897</td>\n      <td>K02693.03</td>\n      <td>6.834407</td>\n      <td>1.575432</td>\n      <td>1.00</td>\n      <td>82.74</td>\n      <td>4.081412</td>\n      <td>0.99</td>\n      <td>85.38</td>\n      <td>11.419419</td>\n      <td>0.635</td>\n      <td>0.698</td>\n      <td>-0.08</td>\n      <td>4498.0</td>\n    </tr>\n    <tr>\n      <th>27</th>\n      <td>8478994</td>\n      <td>K00245.02</td>\n      <td>21.301819</td>\n      <td>1.602086</td>\n      <td>0.27</td>\n      <td>88.81</td>\n      <td>13.366931</td>\n      <td>1.90</td>\n      <td>89.98</td>\n      <td>39.792201</td>\n      <td>0.781</td>\n      <td>0.829</td>\n      <td>-0.24</td>\n      <td>5437.0</td>\n    </tr>\n    <tr>\n      <th>28</th>\n      <td>6026438</td>\n      <td>K02045.03</td>\n      <td>16.934810</td>\n      <td>1.628790</td>\n      <td>2.01</td>\n      <td>85.82</td>\n      <td>5.476658</td>\n      <td>1.50</td>\n      <td>89.38</td>\n      <td>24.210197</td>\n      <td>0.706</td>\n      <td>0.704</td>\n      <td>-0.04</td>\n      <td>4650.0</td>\n    </tr>\n    <tr>\n      <th>29</th>\n      <td>3239945</td>\n      <td>K00490.03</td>\n      <td>7.406117</td>\n      <td>1.644771</td>\n      <td>1.41</td>\n      <td>89.58</td>\n      <td>4.393158</td>\n      <td>1.11</td>\n      <td>89.22</td>\n      <td>21.803708</td>\n      <td>0.692</td>\n      <td>0.776</td>\n      <td>-0.02</td>\n      <td>4799.0</td>\n    </tr>\n    <tr>\n      <th>30</th>\n      <td>8962094</td>\n      <td>K00700.03</td>\n      <td>14.667229</td>\n      <td>1.713989</td>\n      <td>1.42</td>\n      <td>86.69</td>\n      <td>9.360597</td>\n      <td>2.23</td>\n      <td>88.93</td>\n      <td>30.864365</td>\n      <td>0.828</td>\n      <td>0.920</td>\n      <td>-0.18</td>\n      <td>5677.0</td>\n    </tr>\n    <tr>\n      <th>31</th>\n      <td>5956342</td>\n      <td>K01052.01</td>\n      <td>17.029028</td>\n      <td>1.749036</td>\n      <td>1.67</td>\n      <td>89.71</td>\n      <td>6.846192</td>\n      <td>2.39</td>\n      <td>89.52</td>\n      <td>43.131215</td>\n      <td>1.067</td>\n      <td>0.881</td>\n      <td>-0.28</td>\n      <td>5839.0</td>\n    </tr>\n    <tr>\n      <th>32</th>\n      <td>9963524</td>\n      <td>K00720.01</td>\n      <td>5.690592</td>\n      <td>1.749700</td>\n      <td>1.66</td>\n      <td>85.58</td>\n      <td>2.795900</td>\n      <td>2.97</td>\n      <td>87.80</td>\n      <td>10.041572</td>\n      <td>0.810</td>\n      <td>0.826</td>\n      <td>-0.04</td>\n      <td>5244.0</td>\n    </tr>\n    <tr>\n      <th>33</th>\n      <td>4644952</td>\n      <td>K01805.01</td>\n      <td>6.941358</td>\n      <td>1.769095</td>\n      <td>1.76</td>\n      <td>86.03</td>\n      <td>4.362732</td>\n      <td>2.08</td>\n      <td>89.85</td>\n      <td>31.782112</td>\n      <td>0.880</td>\n      <td>0.875</td>\n      <td>-0.08</td>\n      <td>5527.0</td>\n    </tr>\n    <tr>\n      <th>34</th>\n      <td>10925104</td>\n      <td>K00156.01</td>\n      <td>8.041348</td>\n      <td>1.786088</td>\n      <td>1.00</td>\n      <td>89.39</td>\n      <td>5.188564</td>\n      <td>2.08</td>\n      <td>88.87</td>\n      <td>11.776132</td>\n      <td>0.540</td>\n      <td>0.560</td>\n      <td>-0.20</td>\n      <td>3980.0</td>\n    </tr>\n    <tr>\n      <th>35</th>\n      <td>4852528</td>\n      <td>K00500.01</td>\n      <td>7.053527</td>\n      <td>1.786807</td>\n      <td>1.33</td>\n      <td>89.50</td>\n      <td>4.645382</td>\n      <td>2.16</td>\n      <td>89.96</td>\n      <td>9.521645</td>\n      <td>0.567</td>\n      <td>0.584</td>\n      <td>-0.14</td>\n      <td>4041.0</td>\n    </tr>\n    <tr>\n      <th>36</th>\n      <td>4852528</td>\n      <td>K00500.04</td>\n      <td>4.645382</td>\n      <td>1.807414</td>\n      <td>1.30</td>\n      <td>89.86</td>\n      <td>3.072147</td>\n      <td>2.16</td>\n      <td>89.57</td>\n      <td>7.053527</td>\n      <td>0.567</td>\n      <td>0.584</td>\n      <td>-0.14</td>\n      <td>4041.0</td>\n    </tr>\n    <tr>\n      <th>37</th>\n      <td>5371776</td>\n      <td>K01557.01</td>\n      <td>3.295701</td>\n      <td>1.835347</td>\n      <td>1.09</td>\n      <td>87.54</td>\n      <td>1.499144</td>\n      <td>2.33</td>\n      <td>88.47</td>\n      <td>5.315954</td>\n      <td>0.691</td>\n      <td>0.760</td>\n      <td>0.02</td>\n      <td>4723.0</td>\n    </tr>\n    <tr>\n      <th>38</th>\n      <td>5689351</td>\n      <td>K00505.04</td>\n      <td>8.348192</td>\n      <td>1.861138</td>\n      <td>1.37</td>\n      <td>87.06</td>\n      <td>6.195460</td>\n      <td>2.24</td>\n      <td>87.99</td>\n      <td>13.767101</td>\n      <td>0.760</td>\n      <td>0.806</td>\n      <td>0.04</td>\n      <td>5001.0</td>\n    </tr>\n    <tr>\n      <th>39</th>\n      <td>4139816</td>\n      <td>K00812.02</td>\n      <td>20.060363</td>\n      <td>1.880070</td>\n      <td>1.20</td>\n      <td>87.99</td>\n      <td>7.825022</td>\n      <td>1.83</td>\n      <td>89.99</td>\n      <td>46.184204</td>\n      <td>0.493</td>\n      <td>0.502</td>\n      <td>-0.46</td>\n      <td>3950.0</td>\n    </tr>\n    <tr>\n      <th>40</th>\n      <td>11709124</td>\n      <td>K00435.01</td>\n      <td>20.549818</td>\n      <td>1.884358</td>\n      <td>1.32</td>\n      <td>89.47</td>\n      <td>9.919377</td>\n      <td>2.36</td>\n      <td>89.65</td>\n      <td>33.040551</td>\n      <td>0.971</td>\n      <td>0.895</td>\n      <td>-0.12</td>\n      <td>5688.0</td>\n    </tr>\n    <tr>\n      <th>41</th>\n      <td>4852528</td>\n      <td>K00500.03</td>\n      <td>3.072147</td>\n      <td>1.894068</td>\n      <td>1.19</td>\n      <td>89.77</td>\n      <td>0.986786</td>\n      <td>1.33</td>\n      <td>89.50</td>\n      <td>4.645382</td>\n      <td>0.567</td>\n      <td>0.584</td>\n      <td>-0.14</td>\n      <td>4041.0</td>\n    </tr>\n    <tr>\n      <th>42</th>\n      <td>5689351</td>\n      <td>K00505.02</td>\n      <td>6.195460</td>\n      <td>1.905154</td>\n      <td>1.19</td>\n      <td>85.27</td>\n      <td>3.250582</td>\n      <td>1.45</td>\n      <td>86.78</td>\n      <td>8.348192</td>\n      <td>0.760</td>\n      <td>0.806</td>\n      <td>0.04</td>\n      <td>5001.0</td>\n    </tr>\n    <tr>\n      <th>43</th>\n      <td>11389771</td>\n      <td>K01436.03</td>\n      <td>5.419085</td>\n      <td>1.908664</td>\n      <td>1.28</td>\n      <td>89.94</td>\n      <td>2.508553</td>\n      <td>1.66</td>\n      <td>89.21</td>\n      <td>13.751296</td>\n      <td>0.881</td>\n      <td>0.944</td>\n      <td>-0.18</td>\n      <td>5814.0</td>\n    </tr>\n    <tr>\n      <th>44</th>\n      <td>7445445</td>\n      <td>K00567.02</td>\n      <td>20.303035</td>\n      <td>1.922746</td>\n      <td>2.64</td>\n      <td>86.89</td>\n      <td>10.687582</td>\n      <td>2.55</td>\n      <td>88.09</td>\n      <td>29.022352</td>\n      <td>0.848</td>\n      <td>0.877</td>\n      <td>-0.34</td>\n      <td>5788.0</td>\n    </tr>\n    <tr>\n      <th>45</th>\n      <td>7287995</td>\n      <td>K00877.02</td>\n      <td>12.039875</td>\n      <td>1.924501</td>\n      <td>2.33</td>\n      <td>89.00</td>\n      <td>5.954900</td>\n      <td>1.42</td>\n      <td>89.18</td>\n      <td>20.837629</td>\n      <td>0.633</td>\n      <td>0.640</td>\n      <td>-0.06</td>\n      <td>4261.0</td>\n    </tr>\n    <tr>\n      <th>46</th>\n      <td>6948054</td>\n      <td>K00869.01</td>\n      <td>7.490183</td>\n      <td>1.937670</td>\n      <td>1.69</td>\n      <td>89.72</td>\n      <td>3.219815</td>\n      <td>2.32</td>\n      <td>89.31</td>\n      <td>17.460879</td>\n      <td>0.787</td>\n      <td>0.823</td>\n      <td>0.04</td>\n      <td>5103.0</td>\n    </tr>\n    <tr>\n      <th>47</th>\n      <td>4139816</td>\n      <td>K00812.04</td>\n      <td>7.825022</td>\n      <td>1.947729</td>\n      <td>2.03</td>\n      <td>87.85</td>\n      <td>3.340219</td>\n      <td>1.96</td>\n      <td>89.21</td>\n      <td>20.060363</td>\n      <td>0.493</td>\n      <td>0.502</td>\n      <td>-0.46</td>\n      <td>3950.0</td>\n    </tr>\n    <tr>\n      <th>48</th>\n      <td>9471268</td>\n      <td>K01835.01</td>\n      <td>4.580346</td>\n      <td>1.961668</td>\n      <td>1.25</td>\n      <td>89.97</td>\n      <td>2.248288</td>\n      <td>1.31</td>\n      <td>88.43</td>\n      <td>6.766908</td>\n      <td>0.789</td>\n      <td>0.820</td>\n      <td>0.04</td>\n      <td>5103.0</td>\n    </tr>\n    <tr>\n      <th>49</th>\n      <td>6021275</td>\n      <td>K00284.02</td>\n      <td>6.414913</td>\n      <td>1.973296</td>\n      <td>1.22</td>\n      <td>85.28</td>\n      <td>6.178174</td>\n      <td>1.93</td>\n      <td>85.52</td>\n      <td>18.010200</td>\n      <td>1.101</td>\n      <td>0.929</td>\n      <td>-0.24</td>\n      <td>5931.0</td>\n    </tr>\n  </tbody>\n</table>\n</div>"
     },
     "execution_count": 516,
     "metadata": {},
     "output_type": "execute_result"
    }
   ],
   "source": [
    "# get closest k-neighbors to X_test examples\n",
    "\n",
    "# pd.concat([train_df.loc[neighbors_X_test[idx_test_example].flatten(), ['kepid', 'kepoi_name', 'koi_period']].reset_index(drop=True), pd.DataFrame(neighbors_X_test_dist[idx_test_example].flatten(), columns=['distance']), pd.DataFrame(std_scaler.inverse_transform(X_train[neighbors_X_test[idx_test_example].flatten()]), columns=features_columns)], axis=1)\n",
    "# get closest k-neighbors to X_train examples\n",
    "pd.concat([train_df.loc[neighbors_X_train[idx_test_example].flatten(), ['kepid', 'kepoi_name', 'koi_period']].reset_index(drop=True), pd.DataFrame(neighbors_X_train_dist[idx_test_example].flatten(), columns=['distance']), pd.DataFrame(std_scaler.inverse_transform(X_train[neighbors_X_train[idx_test_example].flatten()]), columns=features_columns)], axis=1)"
   ],
   "metadata": {
    "collapsed": false,
    "ExecuteTime": {
     "end_time": "2023-08-02T22:48:54.495141Z",
     "start_time": "2023-08-02T22:48:54.488776Z"
    }
   }
  },
  {
   "cell_type": "markdown",
   "source": [
    "### Compute metrics on multiple data sets"
   ],
   "metadata": {
    "collapsed": false
   }
  },
  {
   "cell_type": "code",
   "execution_count": 517,
   "outputs": [],
   "source": [
    "# %%time\n",
    "\n",
    "# hyperparameters\n",
    "bw = best_combination['bandwidth']  # kernel bandwidth\n",
    "k = int(best_combination['neighbors'])  # number of neighbors from the training set\n",
    "\n",
    "# create the CDE support, i.e. the grid over which we want the CDE to be predicted. Here we use the training data to inform the y_train minimum and maximum, and generate n_grid linearly separated values between the two.\n",
    "n_grid = 4000\n",
    "y_grid = np.linspace(y_train.min(), y_train.max(), n_grid)\n",
    "\n",
    "# predict on test set; each row is the prediction of the density function over the y_grid for the corresponding row in X_test\n",
    "res_dict = {'dataset': [], 'mean_cde_loss': [], 'std_cde_loss': []}\n",
    "for dataset_name, dataset in zip(['train', 'val', 'test'], [(X_train, y_train), (X_val, y_val), (X_test, y_test)]):\n",
    "    res_dict['dataset'].append(dataset_name)\n",
    "    \n",
    "    cde_dataset = model.predict(dataset[0], y_grid, k=k ,bandwidth=bw)\n",
    "    \n",
    "    cde_mean_loss, cde_std_loss = cde_loss(cde_dataset, y_grid, dataset[1])\n",
    "    res_dict['mean_cde_loss'].append(cde_mean_loss)\n",
    "    res_dict['std_cde_loss'].append(cde_std_loss)\n",
    "\n",
    "res_df = pd.DataFrame(res_dict)\n",
    "res_df.to_csv(exp_dir / f'metrics_alldatasets.csv', index=False)\n",
    "\n",
    "cde_test = model.predict(X_test, y_grid, k=k ,bandwidth=bw)"
   ],
   "metadata": {
    "collapsed": false,
    "ExecuteTime": {
     "end_time": "2023-08-02T22:49:00.409920Z",
     "start_time": "2023-08-02T22:48:54.494341Z"
    }
   }
  },
  {
   "cell_type": "markdown",
   "source": [
    "### Log results for the different data sets"
   ],
   "metadata": {
    "collapsed": false
   }
  },
  {
   "cell_type": "code",
   "execution_count": 518,
   "outputs": [],
   "source": [
    "def logresults(data, neighbors, bandw, model):\n",
    "    \"\"\" Logs results for a given data set, i.e., mean CDE loss, expected value, and number of planets in the system.\n",
    "\n",
    "    Args:\n",
    "        data: pandas DataFrame, data set\n",
    "        neighbors: int, number of neighbors\n",
    "        bandw: float, bandwidth value\n",
    "        model: CKDE model\n",
    "\n",
    "    Returns: pandas DataFrame, with added results to the data set.\n",
    "\n",
    "    \"\"\"\n",
    "\n",
    "    df_CDE = data[['kepid',\n",
    "                   'kepoi_name',\n",
    "                   'koi_prad_i-1',\n",
    "                   'koi_incl_i-1',\n",
    "                   'koi_period_i-1',\n",
    "                   'koi_prad_i+1',\n",
    "                   'koi_incl_i+1',\n",
    "                   'koi_period_i+1',\n",
    "                   'koi_period',\n",
    "                   'radius',\n",
    "                   'mass',\n",
    "                   'feh',\n",
    "                   'teff']].copy()\n",
    "\n",
    "    df_CDE['CDE_loss'] = np.nan\n",
    "    df_CDE['Y_true'] = df_CDE['koi_period'] # np.nan\n",
    "    df_CDE['N_planets_in_system'] = np.nan\n",
    "\n",
    "    # now we must calculate expected val, CDE loss, Y_true, N_planets_in_system\n",
    "    for index, row in df_CDE.iterrows():\n",
    "\n",
    "        # calculating N planets in system\n",
    "        df_CDE.loc[index, 'N_planets_in_system'] = (df_CDE['kepid'] == row[\"kepid\"]).sum()\n",
    "\n",
    "        # calculating CDE loss, we had to add .values to convert from a panda series and reshaped so that it matches the training set size\n",
    "        X_data_csv = row[features_columns].values.reshape(1, -1)\n",
    "        y_data_csv = row[target_columns].values.reshape(1, -1)\n",
    "\n",
    "        cde_data_temp = model.predict(X_data_csv, y_grid, k=neighbors, bandwidth=bandw)\n",
    "        cde_loss_temp, std_loss_temp = cde_loss(cde_data_temp, y_grid, y_data_csv)\n",
    "        df_CDE.loc[index, 'CDE_loss'] = cde_loss_temp\n",
    "\n",
    "        # calculating expected value\n",
    "        expected_value = np.sum(np.multiply(cde_data_temp, y_grid)) / np.sum(cde_data_temp)\n",
    "        df_CDE.loc[index, 'Expected_value'] = expected_value\n",
    "\n",
    "    return df_CDE"
   ],
   "metadata": {
    "collapsed": false,
    "ExecuteTime": {
     "end_time": "2023-08-02T22:49:00.420102Z",
     "start_time": "2023-08-02T22:49:00.415787Z"
    }
   }
  },
  {
   "cell_type": "code",
   "execution_count": 519,
   "outputs": [],
   "source": [
    "for dataset_name, dataset in zip(['train', 'val', 'test'], [train_df, val_df, test_df]):\n",
    "    dataset_res = logresults(dataset, k, bw, model)\n",
    "    dataset_res.to_csv(exp_dir / f'{dataset_name}_{k}_neighbors_{bw}_bandwidth.csv', index=False)"
   ],
   "metadata": {
    "collapsed": false,
    "ExecuteTime": {
     "end_time": "2023-08-02T22:49:18.546674Z",
     "start_time": "2023-08-02T22:49:00.425823Z"
    }
   }
  },
  {
   "cell_type": "markdown",
   "source": [
    "### The output CDEs are n_grid dimensional densities, stored in a numpy array. They are proper density, i.e. they integrate to ~1."
   ],
   "metadata": {
    "collapsed": false
   }
  },
  {
   "cell_type": "code",
   "execution_count": 520,
   "outputs": [
    {
     "name": "stdout",
     "output_type": "stream",
     "text": [
      "<class 'numpy.ndarray'> (106, 4000)\n",
      "Integral of the first density integrates to: 1.00\n"
     ]
    }
   ],
   "source": [
    "print(type(cde_test), cde_test.shape)\n",
    "#  computing integral for density function estimate of example zero\n",
    "den_integral = simps(cde_test[0, :], x=y_grid)\n",
    "print('Integral of the first density integrates to: %.2f' % den_integral)"
   ],
   "metadata": {
    "collapsed": false,
    "ExecuteTime": {
     "end_time": "2023-08-02T22:49:18.562609Z",
     "start_time": "2023-08-02T22:49:18.551276Z"
    }
   }
  },
  {
   "cell_type": "markdown",
   "source": [
    "### Visualize the conditional density estimates for test set examples"
   ],
   "metadata": {
    "collapsed": false
   }
  },
  {
   "cell_type": "code",
   "execution_count": 521,
   "outputs": [],
   "source": [
    "# plot directory\n",
    "plot_save_dir = Path(exp_dir / 'cde_plots')\n",
    "plot_save_dir.mkdir(exist_ok=True)\n",
    "\n",
    "# choose KOIs that belong to multiplanetary systems (i.e., more than 3 KOIs since \"fake\" KOIs were added to all systems)\n",
    "# idxs_examples_to_plot = test_df.loc[test_df['kepid'].isin((test_df['kepid'].value_counts() > 3).index)].index\n",
    "# choose KOIs that belong to multiplanetary systems (i.e., more than 3 KOIs since \"fake\" KOIs were added to all systems) and with a KOI period larger than 20 days\n",
    "# idxs_examples_to_plot = test_df.loc[((test_df['kepid'].isin((test_df['kepid'].value_counts() > 3).index)) & (test_df['koi_period'] > 20))].index\n",
    "# choose KOIs that do not have fake neighbors\n",
    "# idxs_examples_to_plot = test_df.loc[((~test_df['kepoi_name_i-1'].str.contains('inner')) & (~test_df['kepoi_name_i+1'].str.contains('outer')))].index\n",
    "# do not exclude any\n",
    "idxs_examples_to_plot = np.arange(len(test_df))\n",
    "\n",
    "num_to_plot = min(100, len(idxs_examples_to_plot))  # number of examples too sample from the set\n",
    "sampled_idxs_examples_to_plot = rng.choice(idxs_examples_to_plot, num_to_plot, replace=False)\n",
    "\n",
    "# fig = plt.figure(figsize=(30, 25))\n",
    "# for jj, cde_predicted in enumerate(cde_test[:10,:]):\n",
    "for sampled_idx in sampled_idxs_examples_to_plot:\n",
    "\n",
    "    cde_predicted = cde_test[sampled_idx]\n",
    "    cde_expected_value = (np.sum(np.multiply(cde_predicted, y_grid))) / np.sum(cde_predicted)\n",
    "\n",
    "    # ax = fig.add_subplot(5, 2, jj + 1)\n",
    "    f, ax = plt.subplots(figsize=(12, 6))\n",
    "    ax.plot(y_grid, cde_predicted, label=r'$\\hat{p}(Y| x_{\\rm obs})$')\n",
    "    ax.axvline(y_test[sampled_idx], color='red', label=r'$Y_{\\rm obs}$')\n",
    "    ax.axvline(cde_expected_value, color='orange', label=r'$Y_{\\rm exp}$', zorder=2)\n",
    "    ax.axvline(test_df.loc[sampled_idx, 'koi_period_i-1'], color='green', label=r'$Y_{\\rm i-1}$', zorder=2)\n",
    "    ax.axvline(test_df.loc[sampled_idx, 'koi_period_i+1'], color='yellow', label=r'$Y_{\\rm i+1}$', zorder=2)\n",
    "    # plot all other KOIs for the system\n",
    "    for example_i, example in test_df.loc[((test_df['kepid'] == test_df.loc[sampled_idx, 'kepid']) & (test_df['kepoi_name'] != test_df.loc[sampled_idx, 'kepoi_name']))].iterrows():\n",
    "        ax.axvline(example['koi_period'], color='k', linestyle='--', zorder=1, alpha=0.5)\n",
    "\n",
    "    # ax.set_xticks(size=16)\n",
    "    # ax.set_yticks(size=16)\n",
    "    ax.set_xlabel(r'Planet Period (days)', size=20)\n",
    "    ax.set_ylabel('CDE', size=20)\n",
    "    ax.legend(loc='upper right', prop={'size': 18})\n",
    "    ax.set_xscale('log')\n",
    "    ax.set_title(f'KIC {test_df.loc[sampled_idx, \"kepid\"]} KOI {test_df.loc[sampled_idx, \"kepoi_name\"]}\\nY_pred={y_grid[np.argmax(cde_predicted)]:.3f}, Y_obs={y_test[sampled_idx][0]:.3f}')\n",
    "    # add table with features for this example\n",
    "    ax.table(cellText=np.array([features_columns, test_df.loc[sampled_idx, features_columns].astype('str').to_list()]).T,\n",
    "         loc='right',\n",
    "         bbox=[1, 0, .5, 1]\n",
    "         )\n",
    "    plt.tight_layout()\n",
    "    f.savefig(plot_save_dir / f'cde_koi_{test_df.loc[sampled_idx, \"kepoi_name\"]}.svg')\n",
    "    plt.close()  # don't show plots in the Jupyte notebook\n",
    "# plt.show()"
   ],
   "metadata": {
    "collapsed": false,
    "ExecuteTime": {
     "end_time": "2023-08-02T22:51:03.953059Z",
     "start_time": "2023-08-02T22:49:18.562868Z"
    }
   }
  },
  {
   "cell_type": "markdown",
   "source": [
    "### CDE diagnostics"
   ],
   "metadata": {
    "collapsed": false
   }
  },
  {
   "cell_type": "code",
   "execution_count": 522,
   "outputs": [],
   "source": [
    "# Computing the values\n",
    "y_grid = np.linspace(y_train.min(), y_train.max(), n_grid)\n",
    "pit_values = cdf_coverage(cde_test, y_grid, y_test)\n",
    "hpd_values = hpd_coverage(cde_test, y_grid, y_test)"
   ],
   "metadata": {
    "collapsed": false,
    "ExecuteTime": {
     "end_time": "2023-08-02T22:51:03.977221Z",
     "start_time": "2023-08-02T22:51:03.955227Z"
    }
   }
  },
  {
   "cell_type": "code",
   "execution_count": 523,
   "outputs": [],
   "source": [
    "# Computing the values\n",
    "y_grid = np.linspace(y_train.min(), y_train.max(), n_grid)\n",
    "pit_values = cdf_coverage(cde_test, y_grid, y_test)\n",
    "hpd_values = hpd_coverage(cde_test, y_grid, y_test)"
   ],
   "metadata": {
    "collapsed": false,
    "ExecuteTime": {
     "end_time": "2023-08-02T22:51:04.002928Z",
     "start_time": "2023-08-02T22:51:03.979031Z"
    }
   }
  },
  {
   "cell_type": "markdown",
   "source": [
    "### Computing the number of values per each bin in the histogram under uniformity assumptions. We look at the 99% CI."
   ],
   "metadata": {
    "collapsed": false
   }
  },
  {
   "cell_type": "code",
   "execution_count": 524,
   "outputs": [
    {
     "data": {
      "text/plain": "<Figure size 720x288 with 1 Axes>",
      "image/png": "[encoded data removed]"
     },
     "execution_count": 524,
     "metadata": {},
     "output_type": "execute_result"
    }
   ],
   "source": [
    "fig_pit = plot_with_uniform_band(values=pit_values, ci_level=0.99, x_label='PIT Values', n_bins=30)\n",
    "fig_pit.tight_layout()\n",
    "fig_pit.savefig(exp_dir / 'pit.svg')\n",
    "fig_pit"
   ],
   "metadata": {
    "collapsed": false,
    "ExecuteTime": {
     "end_time": "2023-08-02T22:51:04.364488Z",
     "start_time": "2023-08-02T22:51:04.012457Z"
    }
   }
  },
  {
   "cell_type": "code",
   "execution_count": 525,
   "outputs": [
    {
     "data": {
      "text/plain": "<Figure size 720x288 with 1 Axes>",
      "image/png": "[encoded data removed]"
     },
     "execution_count": 525,
     "metadata": {},
     "output_type": "execute_result"
    }
   ],
   "source": [
    "fig_hpd = plot_with_uniform_band(values=hpd_values, ci_level=0.99, x_label='HPD Values', n_bins=30)\n",
    "fig_hpd.tight_layout()\n",
    "fig_hpd.savefig(exp_dir / 'hpd.svg')\n",
    "fig_hpd"
   ],
   "metadata": {
    "collapsed": false,
    "ExecuteTime": {
     "end_time": "2023-08-02T22:51:04.710621Z",
     "start_time": "2023-08-02T22:51:04.367803Z"
    }
   }
  }
 ],
 "metadata": {
  "kernelspec": {
   "display_name": "Python 3",
   "language": "python",
   "name": "python3"
  },
  "language_info": {
   "codemirror_mode": {
    "name": "ipython",
    "version": 2
   },
   "file_extension": ".py",
   "mimetype": "text/x-python",
   "name": "python",
   "nbconvert_exporter": "python",
   "pygments_lexer": "ipython2",
   "version": "2.7.6"
  }
 },
 "nbformat": 4,
 "nbformat_minor": 0
}
