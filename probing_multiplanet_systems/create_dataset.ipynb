{
 "cells": [
  {
   "cell_type": "markdown",
   "source": [
    "## Create data set for model"
   ],
   "metadata": {
    "collapsed": false
   }
  },
  {
   "cell_type": "code",
   "execution_count": 140,
   "outputs": [],
   "source": [
    "import pandas as pd\n",
    "import numpy as np\n",
    "import matplotlib.pyplot as plt\n",
    "from pathlib import Path"
   ],
   "metadata": {
    "collapsed": false,
    "ExecuteTime": {
     "end_time": "2023-06-05T18:20:30.569131Z",
     "start_time": "2023-06-05T18:20:30.490331Z"
    }
   }
  },
  {
   "cell_type": "code",
   "execution_count": 141,
   "outputs": [],
   "source": [
    "exp_root_dir = Path('/Users/msaragoc/Library/CloudStorage/OneDrive-NASA/Projects/exoplanet_transit_classification/experiments/multi_plnt_sys_probing')"
   ],
   "metadata": {
    "collapsed": false,
    "ExecuteTime": {
     "end_time": "2023-06-05T18:20:30.570806Z",
     "start_time": "2023-06-05T18:20:30.496377Z"
    }
   }
  },
  {
   "cell_type": "markdown",
   "id": "bb22445a",
   "metadata": {},
   "source": [
    "### Importing source dataset"
   ]
  },
  {
   "cell_type": "code",
   "execution_count": 142,
   "id": "a45de20d",
   "metadata": {
    "scrolled": true,
    "ExecuteTime": {
     "end_time": "2023-06-05T18:20:30.619186Z",
     "start_time": "2023-06-05T18:20:30.501810Z"
    }
   },
   "outputs": [
    {
     "data": {
      "text/plain": "         kepid kepoi_name    kepler_name koi_disposition koi_vet_stat  \\\n0     10797460  K00752.01   Kepler-227 b       CONFIRMED         Done   \n1     10797460  K00752.02   Kepler-227 c       CONFIRMED         Done   \n2     10854555  K00755.01   Kepler-664 b       CONFIRMED         Done   \n3     10872983  K00756.01   Kepler-228 d       CONFIRMED         Done   \n4     10872983  K00756.02   Kepler-228 c       CONFIRMED         Done   \n...        ...        ...            ...             ...          ...   \n2657  10736489  K07368.01  Kepler-1974 b       CONFIRMED         Done   \n2658   7350067  K06863.01  Kepler-1646 b       CONFIRMED         Done   \n2659   8311864  K07016.01   Kepler-452 b       CONFIRMED         Done   \n2660   7935997  K05447.02  Kepler-1629 b       CONFIRMED         Done   \n2661   8873450  K07913.01  Kepler-1975 b       CONFIRMED         Done   \n\n     koi_vet_date koi_pdisposition  koi_score  koi_fpflag_nt  koi_fpflag_ss  \\\n0      2018-08-16        CANDIDATE      1.000              0              0   \n1      2018-08-16        CANDIDATE      0.969              0              0   \n2      2018-08-16        CANDIDATE      1.000              0              0   \n3      2018-08-16        CANDIDATE      1.000              0              0   \n4      2018-08-16        CANDIDATE      1.000              0              0   \n...           ...              ...        ...            ...            ...   \n2657   2018-08-16        CANDIDATE      1.000              0              0   \n2658   2018-08-16        CANDIDATE      1.000              0              0   \n2659   2018-08-16        CANDIDATE      0.771              0              0   \n2660   2018-08-16        CANDIDATE      0.000              0              0   \n2661   2018-08-16        CANDIDATE      0.000              0              0   \n\n      ...  mass_err2  prov_sec nconfp nkoi  ntce    jmag    hmag    kmag  \\\n0     ...     -0.046   b'DSEP'      2    2     2  14.082  13.751  13.648   \n1     ...     -0.046   b'DSEP'      2    2     2  14.082  13.751  13.648   \n2     ...     -0.136   b'DSEP'      1    1     1  14.366  14.064  13.952   \n3     ...     -0.150   b'DSEP'      3    3     3  14.528  14.113  14.132   \n4     ...     -0.150   b'DSEP'      3    3     3  14.528  14.113  14.132   \n...   ...        ...       ...    ...  ...   ...     ...     ...     ...   \n2657  ...     -0.077   b'DSEP'      0    1     6  11.296  10.884  10.794   \n2658  ...     -0.025   b'DSEP'      1    1     7  12.872  12.298  12.029   \n2659  ...     -0.109   b'DSEP'      1    1     1  12.263  11.919  11.852   \n2660  ...     -0.073   b'DSEP'      1    2     1  11.595  11.302  11.218   \n2661  ...     -0.054   b'DSEP'      0    1     7  12.274  11.635  11.212   \n\n      planet?  kepler_gaia_mag_diff  \n0     b'conf'             -0.038088  \n1     b'conf'             -0.038088  \n2     b'conf'             -0.023555  \n3     b'conf'             -0.021539  \n4     b'conf'             -0.021539  \n...       ...                   ...  \n2657  b'cand'             -0.088860  \n2658  b'conf'             -0.103955  \n2659  b'conf'             -0.033091  \n2660  b'conf'             -0.046711  \n2661  b'cand'              0.035836  \n\n[2662 rows x 181 columns]",
      "text/html": "<div>\n<style scoped>\n    .dataframe tbody tr th:only-of-type {\n        vertical-align: middle;\n    }\n\n    .dataframe tbody tr th {\n        vertical-align: top;\n    }\n\n    .dataframe thead th {\n        text-align: right;\n    }\n</style>\n<table border=\"1\" class=\"dataframe\">\n  <thead>\n    <tr style=\"text-align: right;\">\n      <th></th>\n      <th>kepid</th>\n      <th>kepoi_name</th>\n      <th>kepler_name</th>\n      <th>koi_disposition</th>\n      <th>koi_vet_stat</th>\n      <th>koi_vet_date</th>\n      <th>koi_pdisposition</th>\n      <th>koi_score</th>\n      <th>koi_fpflag_nt</th>\n      <th>koi_fpflag_ss</th>\n      <th>...</th>\n      <th>mass_err2</th>\n      <th>prov_sec</th>\n      <th>nconfp</th>\n      <th>nkoi</th>\n      <th>ntce</th>\n      <th>jmag</th>\n      <th>hmag</th>\n      <th>kmag</th>\n      <th>planet?</th>\n      <th>kepler_gaia_mag_diff</th>\n    </tr>\n  </thead>\n  <tbody>\n    <tr>\n      <th>0</th>\n      <td>10797460</td>\n      <td>K00752.01</td>\n      <td>Kepler-227 b</td>\n      <td>CONFIRMED</td>\n      <td>Done</td>\n      <td>2018-08-16</td>\n      <td>CANDIDATE</td>\n      <td>1.000</td>\n      <td>0</td>\n      <td>0</td>\n      <td>...</td>\n      <td>-0.046</td>\n      <td>b'DSEP'</td>\n      <td>2</td>\n      <td>2</td>\n      <td>2</td>\n      <td>14.082</td>\n      <td>13.751</td>\n      <td>13.648</td>\n      <td>b'conf'</td>\n      <td>-0.038088</td>\n    </tr>\n    <tr>\n      <th>1</th>\n      <td>10797460</td>\n      <td>K00752.02</td>\n      <td>Kepler-227 c</td>\n      <td>CONFIRMED</td>\n      <td>Done</td>\n      <td>2018-08-16</td>\n      <td>CANDIDATE</td>\n      <td>0.969</td>\n      <td>0</td>\n      <td>0</td>\n      <td>...</td>\n      <td>-0.046</td>\n      <td>b'DSEP'</td>\n      <td>2</td>\n      <td>2</td>\n      <td>2</td>\n      <td>14.082</td>\n      <td>13.751</td>\n      <td>13.648</td>\n      <td>b'conf'</td>\n      <td>-0.038088</td>\n    </tr>\n    <tr>\n      <th>2</th>\n      <td>10854555</td>\n      <td>K00755.01</td>\n      <td>Kepler-664 b</td>\n      <td>CONFIRMED</td>\n      <td>Done</td>\n      <td>2018-08-16</td>\n      <td>CANDIDATE</td>\n      <td>1.000</td>\n      <td>0</td>\n      <td>0</td>\n      <td>...</td>\n      <td>-0.136</td>\n      <td>b'DSEP'</td>\n      <td>1</td>\n      <td>1</td>\n      <td>1</td>\n      <td>14.366</td>\n      <td>14.064</td>\n      <td>13.952</td>\n      <td>b'conf'</td>\n      <td>-0.023555</td>\n    </tr>\n    <tr>\n      <th>3</th>\n      <td>10872983</td>\n      <td>K00756.01</td>\n      <td>Kepler-228 d</td>\n      <td>CONFIRMED</td>\n      <td>Done</td>\n      <td>2018-08-16</td>\n      <td>CANDIDATE</td>\n      <td>1.000</td>\n      <td>0</td>\n      <td>0</td>\n      <td>...</td>\n      <td>-0.150</td>\n      <td>b'DSEP'</td>\n      <td>3</td>\n      <td>3</td>\n      <td>3</td>\n      <td>14.528</td>\n      <td>14.113</td>\n      <td>14.132</td>\n      <td>b'conf'</td>\n      <td>-0.021539</td>\n    </tr>\n    <tr>\n      <th>4</th>\n      <td>10872983</td>\n      <td>K00756.02</td>\n      <td>Kepler-228 c</td>\n      <td>CONFIRMED</td>\n      <td>Done</td>\n      <td>2018-08-16</td>\n      <td>CANDIDATE</td>\n      <td>1.000</td>\n      <td>0</td>\n      <td>0</td>\n      <td>...</td>\n      <td>-0.150</td>\n      <td>b'DSEP'</td>\n      <td>3</td>\n      <td>3</td>\n      <td>3</td>\n      <td>14.528</td>\n      <td>14.113</td>\n      <td>14.132</td>\n      <td>b'conf'</td>\n      <td>-0.021539</td>\n    </tr>\n    <tr>\n      <th>...</th>\n      <td>...</td>\n      <td>...</td>\n      <td>...</td>\n      <td>...</td>\n      <td>...</td>\n      <td>...</td>\n      <td>...</td>\n      <td>...</td>\n      <td>...</td>\n      <td>...</td>\n      <td>...</td>\n      <td>...</td>\n      <td>...</td>\n      <td>...</td>\n      <td>...</td>\n      <td>...</td>\n      <td>...</td>\n      <td>...</td>\n      <td>...</td>\n      <td>...</td>\n      <td>...</td>\n    </tr>\n    <tr>\n      <th>2657</th>\n      <td>10736489</td>\n      <td>K07368.01</td>\n      <td>Kepler-1974 b</td>\n      <td>CONFIRMED</td>\n      <td>Done</td>\n      <td>2018-08-16</td>\n      <td>CANDIDATE</td>\n      <td>1.000</td>\n      <td>0</td>\n      <td>0</td>\n      <td>...</td>\n      <td>-0.077</td>\n      <td>b'DSEP'</td>\n      <td>0</td>\n      <td>1</td>\n      <td>6</td>\n      <td>11.296</td>\n      <td>10.884</td>\n      <td>10.794</td>\n      <td>b'cand'</td>\n      <td>-0.088860</td>\n    </tr>\n    <tr>\n      <th>2658</th>\n      <td>7350067</td>\n      <td>K06863.01</td>\n      <td>Kepler-1646 b</td>\n      <td>CONFIRMED</td>\n      <td>Done</td>\n      <td>2018-08-16</td>\n      <td>CANDIDATE</td>\n      <td>1.000</td>\n      <td>0</td>\n      <td>0</td>\n      <td>...</td>\n      <td>-0.025</td>\n      <td>b'DSEP'</td>\n      <td>1</td>\n      <td>1</td>\n      <td>7</td>\n      <td>12.872</td>\n      <td>12.298</td>\n      <td>12.029</td>\n      <td>b'conf'</td>\n      <td>-0.103955</td>\n    </tr>\n    <tr>\n      <th>2659</th>\n      <td>8311864</td>\n      <td>K07016.01</td>\n      <td>Kepler-452 b</td>\n      <td>CONFIRMED</td>\n      <td>Done</td>\n      <td>2018-08-16</td>\n      <td>CANDIDATE</td>\n      <td>0.771</td>\n      <td>0</td>\n      <td>0</td>\n      <td>...</td>\n      <td>-0.109</td>\n      <td>b'DSEP'</td>\n      <td>1</td>\n      <td>1</td>\n      <td>1</td>\n      <td>12.263</td>\n      <td>11.919</td>\n      <td>11.852</td>\n      <td>b'conf'</td>\n      <td>-0.033091</td>\n    </tr>\n    <tr>\n      <th>2660</th>\n      <td>7935997</td>\n      <td>K05447.02</td>\n      <td>Kepler-1629 b</td>\n      <td>CONFIRMED</td>\n      <td>Done</td>\n      <td>2018-08-16</td>\n      <td>CANDIDATE</td>\n      <td>0.000</td>\n      <td>0</td>\n      <td>0</td>\n      <td>...</td>\n      <td>-0.073</td>\n      <td>b'DSEP'</td>\n      <td>1</td>\n      <td>2</td>\n      <td>1</td>\n      <td>11.595</td>\n      <td>11.302</td>\n      <td>11.218</td>\n      <td>b'conf'</td>\n      <td>-0.046711</td>\n    </tr>\n    <tr>\n      <th>2661</th>\n      <td>8873450</td>\n      <td>K07913.01</td>\n      <td>Kepler-1975 b</td>\n      <td>CONFIRMED</td>\n      <td>Done</td>\n      <td>2018-08-16</td>\n      <td>CANDIDATE</td>\n      <td>0.000</td>\n      <td>0</td>\n      <td>0</td>\n      <td>...</td>\n      <td>-0.054</td>\n      <td>b'DSEP'</td>\n      <td>0</td>\n      <td>1</td>\n      <td>7</td>\n      <td>12.274</td>\n      <td>11.635</td>\n      <td>11.212</td>\n      <td>b'cand'</td>\n      <td>0.035836</td>\n    </tr>\n  </tbody>\n</table>\n<p>2662 rows × 181 columns</p>\n</div>"
     },
     "execution_count": 142,
     "metadata": {},
     "output_type": "execute_result"
    }
   ],
   "source": [
    "df = pd.read_csv('/Users/msaragoc/Library/CloudStorage/OneDrive-NASA/Projects/exoplanet_transit_classification/experiments/multi_plnt_sys_probing/processed_datasets/01-23-2023_1220/confirmed_kois_gaia_stellar.csv')\n",
    "df"
   ]
  },
  {
   "cell_type": "code",
   "execution_count": 143,
   "id": "3bdb3e9e",
   "metadata": {
    "ExecuteTime": {
     "end_time": "2023-06-05T18:20:30.960670Z",
     "start_time": "2023-06-05T18:20:30.645391Z"
    }
   },
   "outputs": [
    {
     "data": {
      "text/plain": "<Figure size 1008x432 with 1 Axes>",
      "image/png": "[encoded data removed]"
     },
     "metadata": {
      "needs_background": "light"
     },
     "output_type": "display_data"
    }
   ],
   "source": [
    "# plot histogram of orbital periods\n",
    "\n",
    "bins = [0, 1, 2, 3, 4, 5, 7.5, 10, 15, 20, 30, 40, 50, 100, 200, 300, 400, 500, 800, 1000]\n",
    "f = plt.figure(figsize=(14, 6))\n",
    "ax = df['koi_period'].hist(bins=bins, edgecolor='k', cumulative=False)\n",
    "ax.set_xlabel('KOI Period (day)')\n",
    "ax.set_xscale('log')\n",
    "ax.set_ylabel('Counts')\n",
    "# ax.set_xscale('log')\n",
    "ax.set_xticks(bins[1:])\n",
    "ax.set_xticklabels(bins[1:]);"
   ]
  },
  {
   "cell_type": "markdown",
   "source": [
    "### Make constrained data set"
   ],
   "metadata": {
    "collapsed": false
   }
  },
  {
   "cell_type": "code",
   "execution_count": 144,
   "id": "108aad69",
   "metadata": {
    "ExecuteTime": {
     "end_time": "2023-06-05T18:20:30.967450Z",
     "start_time": "2023-06-05T18:20:30.964180Z"
    }
   },
   "outputs": [
    {
     "name": "stdout",
     "output_type": "stream",
     "text": [
      "14 2662\n",
      "Number of examples: 2648\n",
      "Max period: 328.240201\n"
     ]
    }
   ],
   "source": [
    "# check how many planets have a period >= 330 days\n",
    "period_cutoff = 330\n",
    "print((df['koi_period'] >= period_cutoff).sum(), len(df))\n",
    "\n",
    "# remove planets with period\n",
    "df = df.loc[df['koi_period'] < period_cutoff]\n",
    "\n",
    "print(f'Number of examples: {len(df)}')\n",
    "# confirm change\n",
    "print(f'Max period: {df[\"koi_period\"].max()}')"
   ]
  },
  {
   "cell_type": "markdown",
   "id": "9a03a834",
   "metadata": {},
   "source": [
    "### Deal with missing values in the data"
   ]
  },
  {
   "cell_type": "code",
   "execution_count": 145,
   "id": "96ab3945",
   "metadata": {
    "ExecuteTime": {
     "end_time": "2023-06-05T18:20:31.058743Z",
     "start_time": "2023-06-05T18:20:30.967865Z"
    }
   },
   "outputs": [
    {
     "name": "stdout",
     "output_type": "stream",
     "text": [
      "Found 2 examples with missing feature koi_prad\n",
      "     kepoi_name  koi_prad\n",
      "1413  K00245.04       NaN\n",
      "2657  K07368.01       NaN\n",
      "Found 0 examples with missing feature koi_period\n",
      "Found 2 examples with missing feature koi_incl\n",
      "     kepoi_name  koi_incl\n",
      "1413  K00245.04       NaN\n",
      "2657  K07368.01       NaN\n",
      "Found 0 examples with missing feature radius\n",
      "Found 0 examples with missing feature mass\n",
      "Found 0 examples with missing feature feh\n",
      "Found 0 examples with missing feature teff\n"
     ]
    }
   ],
   "source": [
    "features_names = [\n",
    "    'koi_prad',\n",
    "    'koi_period',\n",
    "    'koi_incl',\n",
    "    'radius',\n",
    "    'mass',\n",
    "    'feh',\n",
    "    'teff'\n",
    "]\n",
    "\n",
    "for feature_name in features_names:\n",
    "    missing_feat_df = df.loc[df[feature_name].isna(),['kepoi_name', feature_name]]\n",
    "    print(f'Found {len(missing_feat_df)} examples with missing feature {feature_name}')\n",
    "    if len(missing_feat_df) > 0:\n",
    "        print(missing_feat_df)"
   ]
  },
  {
   "cell_type": "markdown",
   "id": "c0ac9bf2",
   "metadata": {},
   "source": [
    "### Impute missing values"
   ]
  },
  {
   "cell_type": "code",
   "execution_count": 146,
   "id": "cdb47b2a",
   "metadata": {
    "ExecuteTime": {
     "end_time": "2023-06-05T18:20:31.059086Z",
     "start_time": "2023-06-05T18:20:30.999043Z"
    }
   },
   "outputs": [
    {
     "name": "stderr",
     "output_type": "stream",
     "text": [
      "/Users/msaragoc/opt/anaconda3/envs/exoplnt_dl/lib/python3.8/site-packages/pandas/core/indexing.py:1797: SettingWithCopyWarning: \n",
      "A value is trying to be set on a copy of a slice from a DataFrame.\n",
      "Try using .loc[row_indexer,col_indexer] = value instead\n",
      "\n",
      "See the caveats in the documentation: https://pandas.pydata.org/pandas-docs/stable/user_guide/indexing.html#returning-a-view-versus-a-copy\n",
      "  self._setitem_single_column(loc, v, pi)\n"
     ]
    },
    {
     "data": {
      "text/plain": "     kepoi_name  koi_prad  koi_incl\n1413  K00245.04    0.3700       0.0\n2657  K07368.01    2.2176       0.0",
      "text/html": "<div>\n<style scoped>\n    .dataframe tbody tr th:only-of-type {\n        vertical-align: middle;\n    }\n\n    .dataframe tbody tr th {\n        vertical-align: top;\n    }\n\n    .dataframe thead th {\n        text-align: right;\n    }\n</style>\n<table border=\"1\" class=\"dataframe\">\n  <thead>\n    <tr style=\"text-align: right;\">\n      <th></th>\n      <th>kepoi_name</th>\n      <th>koi_prad</th>\n      <th>koi_incl</th>\n    </tr>\n  </thead>\n  <tbody>\n    <tr>\n      <th>1413</th>\n      <td>K00245.04</td>\n      <td>0.3700</td>\n      <td>0.0</td>\n    </tr>\n    <tr>\n      <th>2657</th>\n      <td>K07368.01</td>\n      <td>2.2176</td>\n      <td>0.0</td>\n    </tr>\n  </tbody>\n</table>\n</div>"
     },
     "execution_count": 146,
     "metadata": {},
     "output_type": "execute_result"
    }
   ],
   "source": [
    "# found planet radius on public databases on the web\n",
    "# set inclinination to placeholder for missing value...\n",
    "df.loc[df['kepoi_name'] == 'K00245.04', ['koi_prad', 'koi_incl']] = [0.37, 0]\n",
    "df.loc[df['kepoi_name'] == 'K07368.01', ['koi_prad', 'koi_incl']] = [0.198 * 11.2, 0]  # 1 J_rad = 11.2 E_rad\n",
    "\n",
    "# confirm change\n",
    "df.loc[df['kepoi_name'].isin(['K00245.04', 'K07368.01']), ['kepoi_name', 'koi_prad', 'koi_incl']]"
   ]
  },
  {
   "cell_type": "markdown",
   "source": [
    "### Sort data set by KIC ID and period"
   ],
   "metadata": {
    "collapsed": false
   }
  },
  {
   "cell_type": "code",
   "execution_count": 147,
   "id": "9544db6c",
   "metadata": {
    "ExecuteTime": {
     "end_time": "2023-06-05T18:20:31.059523Z",
     "start_time": "2023-06-05T18:20:31.006965Z"
    }
   },
   "outputs": [
    {
     "data": {
      "text/plain": "         kepid kepoi_name  koi_period\n0       757450  K00889.01    8.884923\n1      1026957  K00958.01   21.761298\n2      1161345  K00984.01    4.287467\n3      1432789  K00992.01    9.931463\n4      1718189  K00993.02   13.060794\n...        ...        ...         ...\n2643  12735740  K03663.01  282.525356\n2644  12735830  K03311.01   31.827649\n2645  12784167  K03848.01    1.847893\n2646  12785320  K00298.01   19.963672\n2647  12834874  K00487.01    7.658800\n\n[2648 rows x 3 columns]",
      "text/html": "<div>\n<style scoped>\n    .dataframe tbody tr th:only-of-type {\n        vertical-align: middle;\n    }\n\n    .dataframe tbody tr th {\n        vertical-align: top;\n    }\n\n    .dataframe thead th {\n        text-align: right;\n    }\n</style>\n<table border=\"1\" class=\"dataframe\">\n  <thead>\n    <tr style=\"text-align: right;\">\n      <th></th>\n      <th>kepid</th>\n      <th>kepoi_name</th>\n      <th>koi_period</th>\n    </tr>\n  </thead>\n  <tbody>\n    <tr>\n      <th>0</th>\n      <td>757450</td>\n      <td>K00889.01</td>\n      <td>8.884923</td>\n    </tr>\n    <tr>\n      <th>1</th>\n      <td>1026957</td>\n      <td>K00958.01</td>\n      <td>21.761298</td>\n    </tr>\n    <tr>\n      <th>2</th>\n      <td>1161345</td>\n      <td>K00984.01</td>\n      <td>4.287467</td>\n    </tr>\n    <tr>\n      <th>3</th>\n      <td>1432789</td>\n      <td>K00992.01</td>\n      <td>9.931463</td>\n    </tr>\n    <tr>\n      <th>4</th>\n      <td>1718189</td>\n      <td>K00993.02</td>\n      <td>13.060794</td>\n    </tr>\n    <tr>\n      <th>...</th>\n      <td>...</td>\n      <td>...</td>\n      <td>...</td>\n    </tr>\n    <tr>\n      <th>2643</th>\n      <td>12735740</td>\n      <td>K03663.01</td>\n      <td>282.525356</td>\n    </tr>\n    <tr>\n      <th>2644</th>\n      <td>12735830</td>\n      <td>K03311.01</td>\n      <td>31.827649</td>\n    </tr>\n    <tr>\n      <th>2645</th>\n      <td>12784167</td>\n      <td>K03848.01</td>\n      <td>1.847893</td>\n    </tr>\n    <tr>\n      <th>2646</th>\n      <td>12785320</td>\n      <td>K00298.01</td>\n      <td>19.963672</td>\n    </tr>\n    <tr>\n      <th>2647</th>\n      <td>12834874</td>\n      <td>K00487.01</td>\n      <td>7.658800</td>\n    </tr>\n  </tbody>\n</table>\n<p>2648 rows × 3 columns</p>\n</div>"
     },
     "execution_count": 147,
     "metadata": {},
     "output_type": "execute_result"
    }
   ],
   "source": [
    "df = df.sort_values(by=['kepid','koi_period'], ascending = [True, True])\n",
    "df = df.reset_index(drop=True)\n",
    "df[['kepid', 'kepoi_name', 'koi_period']]"
   ]
  },
  {
   "cell_type": "markdown",
   "source": [
    "### Add fake inner- and outer-most planets to the data set"
   ],
   "metadata": {
    "collapsed": false
   }
  },
  {
   "cell_type": "code",
   "execution_count": 148,
   "id": "7ae9883d",
   "metadata": {
    "ExecuteTime": {
     "end_time": "2023-06-05T18:21:07.980385Z",
     "start_time": "2023-06-05T18:20:31.036298Z"
    }
   },
   "outputs": [],
   "source": [
    "unique_kepids = df['kepid'].unique()\n",
    "\n",
    "# planet parameters for fake planets\n",
    "fake_koi_prad = 0\n",
    "fake_koi_incl = 0\n",
    "fake_inner_period = df[\"koi_period\"].min()\n",
    "fake_outer_period = df[\"koi_period\"].max()\n",
    "\n",
    "df_wfake_kois = []\n",
    "for kepid in unique_kepids:  # iterate through each target\n",
    "\n",
    "    # get all KOIs for the target\n",
    "    kois_in_target_df = df.loc[df['kepid'] == kepid]\n",
    "\n",
    "    # get KOI ID for host star\n",
    "    koi_kepid = kois_in_target_df['kepoi_name'].values[0].split('.')[0]\n",
    "\n",
    "    # create inner- and outer-most fake KOIs\n",
    "    inner_fake_koi = kois_in_target_df.iloc[0].to_frame().T\n",
    "    inner_fake_koi[['koi_prad', 'koi_incl', 'koi_period']] = fake_koi_prad, fake_koi_incl, fake_inner_period\n",
    "    inner_fake_koi['kepoi_name'] = f'{koi_kepid}.inner'\n",
    "\n",
    "    outer_fake_koi = kois_in_target_df.iloc[0].to_frame().T\n",
    "    outer_fake_koi[['koi_prad', 'koi_incl', 'koi_period']] = fake_koi_prad, fake_koi_incl, fake_outer_period\n",
    "    outer_fake_koi['kepoi_name'] = f'{koi_kepid}.outer'\n",
    "\n",
    "    # add fake KOIs to KOI set for the host star\n",
    "    kois_in_target_wfake_df = pd.concat([inner_fake_koi, kois_in_target_df, outer_fake_koi], axis=0)\n",
    "\n",
    "    df_wfake_kois.append(kois_in_target_wfake_df)\n",
    "\n",
    "df_wfake_kois = pd.concat(df_wfake_kois, axis=0)\n",
    "df_wfake_kois.reset_index()\n",
    "df_wfake_kois[['kepid', 'kepoi_name', 'koi_period', 'koi_incl', 'koi_prad']]\n",
    "df_wfake_kois.to_csv(exp_root_dir / 'q1q17_dr25_kois_with_fake.csv', index=False)"
   ]
  },
  {
   "cell_type": "markdown",
   "id": "ce6aff4a",
   "metadata": {},
   "source": [
    "### Building data set"
   ]
  },
  {
   "cell_type": "code",
   "execution_count": 149,
   "outputs": [
    {
     "name": "stderr",
     "output_type": "stream",
     "text": [
      "/Users/msaragoc/opt/anaconda3/envs/exoplnt_dl/lib/python3.8/site-packages/pandas/core/series.py:1056: SettingWithCopyWarning: \n",
      "A value is trying to be set on a copy of a slice from a DataFrame\n",
      "\n",
      "See the caveats in the documentation: https://pandas.pydata.org/pandas-docs/stable/user_guide/indexing.html#returning-a-view-versus-a-copy\n",
      "  cacher_needs_updating = self._check_is_chained_assignment_possible()\n",
      "/Users/msaragoc/opt/anaconda3/envs/exoplnt_dl/lib/python3.8/site-packages/pandas/core/indexing.py:1724: SettingWithCopyWarning: \n",
      "A value is trying to be set on a copy of a slice from a DataFrame\n",
      "\n",
      "See the caveats in the documentation: https://pandas.pydata.org/pandas-docs/stable/user_guide/indexing.html#returning-a-view-versus-a-copy\n",
      "  self._setitem_with_indexer_missing(indexer, value)\n"
     ]
    }
   ],
   "source": [
    "dataset_df = []\n",
    "for kepid in df_wfake_kois['kepid'].unique():\n",
    "\n",
    "    # get all KOIs for the target\n",
    "    kois_in_target_df = df_wfake_kois.loc[df_wfake_kois['kepid'] == kepid]\n",
    "    kois_in_target_df.reset_index(inplace=True)\n",
    "\n",
    "    examples_in_target = []\n",
    "    for koi_i in range(1, len(kois_in_target_df) - 1):  # iterate through the kois for the target except the inner- and outer-most fake kois\n",
    "        # get koi and inner and outer kois adjacent to that koi\n",
    "        inner_koi = kois_in_target_df.iloc[koi_i - 1]\n",
    "        outer_koi = kois_in_target_df.iloc[koi_i + 1]\n",
    "        curr_koi = kois_in_target_df.iloc[koi_i]\n",
    "        for feature in ['kepoi_name', 'koi_prad', 'koi_incl', 'koi_period']:\n",
    "            curr_koi[f'{feature}_i-1'] = inner_koi[feature]\n",
    "            curr_koi[f'{feature}_i+1'] = outer_koi[feature]\n",
    "\n",
    "        examples_in_target.append(curr_koi.to_frame().T.drop(columns='index'))\n",
    "\n",
    "    examples_in_target_df = pd.concat(examples_in_target, axis=0)\n",
    "\n",
    "    dataset_df.append(examples_in_target_df)\n",
    "\n",
    "dataset_df = pd.concat(dataset_df, axis=0)\n",
    "dataset_df.reset_index(drop=True, inplace=True)\n",
    "dataset_df.to_csv(exp_root_dir / 'q1q17dr25_dataset_for_model.csv', index=False)"
   ],
   "metadata": {
    "collapsed": false,
    "ExecuteTime": {
     "end_time": "2023-06-05T18:21:32.080303Z",
     "start_time": "2023-06-05T18:21:08.057558Z"
    }
   }
  },
  {
   "cell_type": "code",
   "execution_count": 150,
   "outputs": [
    {
     "data": {
      "text/plain": "         kepid kepoi_name  koi_period koi_prad koi_incl kepoi_name_i-1  \\\n0       757450  K00889.01    8.884923    10.51    89.89   K00889.inner   \n1      1026957  K00958.01   21.761298     2.53    89.95   K00958.inner   \n2      1161345  K00984.01    4.287467     2.29    88.93   K00984.inner   \n3      1432789  K00992.01    9.931463     2.41    89.84   K00992.inner   \n4      1718189  K00993.02   13.060794     1.45    88.16   K00993.inner   \n...        ...        ...         ...      ...      ...            ...   \n2643  12735740  K03663.01  282.525356     8.98    89.93   K03663.inner   \n2644  12735830  K03311.01   31.827649     4.98    89.54   K03311.inner   \n2645  12784167  K03848.01    1.847893     1.51    89.73   K03848.inner   \n2646  12785320  K00298.01   19.963672      1.5    88.51   K00298.inner   \n2647  12834874  K00487.01      7.6588     2.19    89.95   K00487.inner   \n\n     koi_period_i-1 koi_prad_i-1 koi_incl_i-1 kepoi_name_i+1 koi_period_i+1  \\\n0          0.341842          0.0          0.0   K00889.outer     328.240201   \n1          0.341842          0.0          0.0   K00958.outer     328.240201   \n2          0.341842          0.0          0.0   K00984.outer     328.240201   \n3          0.341842          0.0          0.0   K00992.outer     328.240201   \n4          0.341842          0.0          0.0      K00993.01      21.853629   \n...             ...          ...          ...            ...            ...   \n2643       0.341842          0.0          0.0   K03663.outer     328.240201   \n2644       0.341842          0.0          0.0   K03311.outer     328.240201   \n2645       0.341842          0.0          0.0   K03848.outer     328.240201   \n2646       0.341842          0.0          0.0   K00298.outer     328.240201   \n2647       0.341842          0.0          0.0   K00487.outer     328.240201   \n\n     koi_prad_i+1 koi_incl_i+1  \n0             0.0          0.0  \n1             0.0          0.0  \n2             0.0          0.0  \n3             0.0          0.0  \n4            1.75        88.95  \n...           ...          ...  \n2643          0.0          0.0  \n2644          0.0          0.0  \n2645          0.0          0.0  \n2646          0.0          0.0  \n2647          0.0          0.0  \n\n[2648 rows x 13 columns]",
      "text/html": "<div>\n<style scoped>\n    .dataframe tbody tr th:only-of-type {\n        vertical-align: middle;\n    }\n\n    .dataframe tbody tr th {\n        vertical-align: top;\n    }\n\n    .dataframe thead th {\n        text-align: right;\n    }\n</style>\n<table border=\"1\" class=\"dataframe\">\n  <thead>\n    <tr style=\"text-align: right;\">\n      <th></th>\n      <th>kepid</th>\n      <th>kepoi_name</th>\n      <th>koi_period</th>\n      <th>koi_prad</th>\n      <th>koi_incl</th>\n      <th>kepoi_name_i-1</th>\n      <th>koi_period_i-1</th>\n      <th>koi_prad_i-1</th>\n      <th>koi_incl_i-1</th>\n      <th>kepoi_name_i+1</th>\n      <th>koi_period_i+1</th>\n      <th>koi_prad_i+1</th>\n      <th>koi_incl_i+1</th>\n    </tr>\n  </thead>\n  <tbody>\n    <tr>\n      <th>0</th>\n      <td>757450</td>\n      <td>K00889.01</td>\n      <td>8.884923</td>\n      <td>10.51</td>\n      <td>89.89</td>\n      <td>K00889.inner</td>\n      <td>0.341842</td>\n      <td>0.0</td>\n      <td>0.0</td>\n      <td>K00889.outer</td>\n      <td>328.240201</td>\n      <td>0.0</td>\n      <td>0.0</td>\n    </tr>\n    <tr>\n      <th>1</th>\n      <td>1026957</td>\n      <td>K00958.01</td>\n      <td>21.761298</td>\n      <td>2.53</td>\n      <td>89.95</td>\n      <td>K00958.inner</td>\n      <td>0.341842</td>\n      <td>0.0</td>\n      <td>0.0</td>\n      <td>K00958.outer</td>\n      <td>328.240201</td>\n      <td>0.0</td>\n      <td>0.0</td>\n    </tr>\n    <tr>\n      <th>2</th>\n      <td>1161345</td>\n      <td>K00984.01</td>\n      <td>4.287467</td>\n      <td>2.29</td>\n      <td>88.93</td>\n      <td>K00984.inner</td>\n      <td>0.341842</td>\n      <td>0.0</td>\n      <td>0.0</td>\n      <td>K00984.outer</td>\n      <td>328.240201</td>\n      <td>0.0</td>\n      <td>0.0</td>\n    </tr>\n    <tr>\n      <th>3</th>\n      <td>1432789</td>\n      <td>K00992.01</td>\n      <td>9.931463</td>\n      <td>2.41</td>\n      <td>89.84</td>\n      <td>K00992.inner</td>\n      <td>0.341842</td>\n      <td>0.0</td>\n      <td>0.0</td>\n      <td>K00992.outer</td>\n      <td>328.240201</td>\n      <td>0.0</td>\n      <td>0.0</td>\n    </tr>\n    <tr>\n      <th>4</th>\n      <td>1718189</td>\n      <td>K00993.02</td>\n      <td>13.060794</td>\n      <td>1.45</td>\n      <td>88.16</td>\n      <td>K00993.inner</td>\n      <td>0.341842</td>\n      <td>0.0</td>\n      <td>0.0</td>\n      <td>K00993.01</td>\n      <td>21.853629</td>\n      <td>1.75</td>\n      <td>88.95</td>\n    </tr>\n    <tr>\n      <th>...</th>\n      <td>...</td>\n      <td>...</td>\n      <td>...</td>\n      <td>...</td>\n      <td>...</td>\n      <td>...</td>\n      <td>...</td>\n      <td>...</td>\n      <td>...</td>\n      <td>...</td>\n      <td>...</td>\n      <td>...</td>\n      <td>...</td>\n    </tr>\n    <tr>\n      <th>2643</th>\n      <td>12735740</td>\n      <td>K03663.01</td>\n      <td>282.525356</td>\n      <td>8.98</td>\n      <td>89.93</td>\n      <td>K03663.inner</td>\n      <td>0.341842</td>\n      <td>0.0</td>\n      <td>0.0</td>\n      <td>K03663.outer</td>\n      <td>328.240201</td>\n      <td>0.0</td>\n      <td>0.0</td>\n    </tr>\n    <tr>\n      <th>2644</th>\n      <td>12735830</td>\n      <td>K03311.01</td>\n      <td>31.827649</td>\n      <td>4.98</td>\n      <td>89.54</td>\n      <td>K03311.inner</td>\n      <td>0.341842</td>\n      <td>0.0</td>\n      <td>0.0</td>\n      <td>K03311.outer</td>\n      <td>328.240201</td>\n      <td>0.0</td>\n      <td>0.0</td>\n    </tr>\n    <tr>\n      <th>2645</th>\n      <td>12784167</td>\n      <td>K03848.01</td>\n      <td>1.847893</td>\n      <td>1.51</td>\n      <td>89.73</td>\n      <td>K03848.inner</td>\n      <td>0.341842</td>\n      <td>0.0</td>\n      <td>0.0</td>\n      <td>K03848.outer</td>\n      <td>328.240201</td>\n      <td>0.0</td>\n      <td>0.0</td>\n    </tr>\n    <tr>\n      <th>2646</th>\n      <td>12785320</td>\n      <td>K00298.01</td>\n      <td>19.963672</td>\n      <td>1.5</td>\n      <td>88.51</td>\n      <td>K00298.inner</td>\n      <td>0.341842</td>\n      <td>0.0</td>\n      <td>0.0</td>\n      <td>K00298.outer</td>\n      <td>328.240201</td>\n      <td>0.0</td>\n      <td>0.0</td>\n    </tr>\n    <tr>\n      <th>2647</th>\n      <td>12834874</td>\n      <td>K00487.01</td>\n      <td>7.6588</td>\n      <td>2.19</td>\n      <td>89.95</td>\n      <td>K00487.inner</td>\n      <td>0.341842</td>\n      <td>0.0</td>\n      <td>0.0</td>\n      <td>K00487.outer</td>\n      <td>328.240201</td>\n      <td>0.0</td>\n      <td>0.0</td>\n    </tr>\n  </tbody>\n</table>\n<p>2648 rows × 13 columns</p>\n</div>"
     },
     "execution_count": 150,
     "metadata": {},
     "output_type": "execute_result"
    }
   ],
   "source": [
    "# check data set\n",
    "\n",
    "features_cols_names = [\n",
    "    'kepoi_name',\n",
    "    'koi_period',\n",
    "    'koi_prad',\n",
    "    'koi_incl'\n",
    "]\n",
    "features_cols_names_inner = [f'{feat_name}_i-1' for feat_name in features_cols_names]\n",
    "features_cols_names_outer = [f'{feat_name}_i+1' for feat_name in features_cols_names]\n",
    "features_cols_names_all = features_cols_names + features_cols_names_inner + features_cols_names_outer\n",
    "dataset_df[['kepid'] + features_cols_names_all]"
   ],
   "metadata": {
    "collapsed": false,
    "ExecuteTime": {
     "end_time": "2023-06-05T18:21:32.097728Z",
     "start_time": "2023-06-05T18:21:32.081617Z"
    }
   }
  },
  {
   "cell_type": "markdown",
   "source": [
    "### Comparing distribution of planet properties for singles and multis"
   ],
   "metadata": {
    "collapsed": false
   }
  },
  {
   "cell_type": "code",
   "execution_count": 173,
   "outputs": [
    {
     "data": {
      "text/plain": "<matplotlib.legend.Legend at 0x7fe006c5cf70>"
     },
     "execution_count": 173,
     "metadata": {},
     "output_type": "execute_result"
    },
    {
     "data": {
      "text/plain": "<Figure size 1008x432 with 1 Axes>",
      "image/png": "[encoded data removed]"
     },
     "metadata": {
      "needs_background": "light"
     },
     "output_type": "display_data"
    }
   ],
   "source": [
    "dataset_df = pd.read_csv(exp_root_dir / 'q1q17dr25_dataset_for_model.csv')\n",
    "\n",
    "planet_cnts_per_target = dataset_df['kepid'].value_counts()\n",
    "single_targets = planet_cnts_per_target.loc[planet_cnts_per_target == 3].index\n",
    "singles_df = dataset_df.loc[dataset_df['kepid'].isin(single_targets)]   ## & (dataset_df['kepoi_name'].str.contains('outer')))]\n",
    "multis_targets = planet_cnts_per_target.loc[planet_cnts_per_target > 3].index\n",
    "multis_df = dataset_df.loc[dataset_df['kepid'].isin(multis_targets)]\n",
    "\n",
    "# bins_period = [0, 1, 2, 3, 4, 5, 7.5, 10, 15, 20, 30, 40, 50, 100, 200, 300, 400, 500, 800, 1000]\n",
    "# bins_period = np.linspace(80, 90, 100, endpoint=True)\n",
    "bins_period = np.linspace(0, 5, 100, endpoint=True)  # [0, 1, 2, 3, 4, 5, 7.5, 10, 15, 20, 30, 40, 50, 100, 200, 300, 400, 500, 800, 1000]\n",
    "\n",
    "f, ax = plt.subplots(figsize=(14, 6))\n",
    "ax.hist(singles_df['koi_prad'], bins_period, edgecolor='k', label='Singles', alpha=1, zorder=1)\n",
    "ax.hist(multis_df['koi_prad'], bins_period, edgecolor='k', label='Multis', alpha=0.7, zorder=2)\n",
    "ax.set_xlabel('Period (day)')\n",
    "ax.set_ylabel('Counts')\n",
    "# ax.set_xscale('log')\n",
    "ax.legend()\n",
    "# ax.set_xticks(bins_period[1:])\n",
    "# ax.set_xticklabels(bins_period[1:]);"
   ],
   "metadata": {
    "collapsed": false,
    "ExecuteTime": {
     "end_time": "2023-06-07T19:53:26.449136Z",
     "start_time": "2023-06-07T19:53:25.829774Z"
    }
   }
  },
  {
   "cell_type": "markdown",
   "id": "451fb5fc",
   "metadata": {},
   "source": [
    "### Splitting data set into training, validation, and test sets"
   ]
  },
  {
   "cell_type": "code",
   "execution_count": 157,
   "id": "ec541746",
   "metadata": {
    "ExecuteTime": {
     "end_time": "2023-06-05T18:26:26.873869Z",
     "start_time": "2023-06-05T18:26:26.536767Z"
    }
   },
   "outputs": [],
   "source": [
    "# split by target star\n",
    "unique_kepids = dataset_df['kepid'].unique()\n",
    "np.random.shuffle(unique_kepids)\n",
    "n_kepids = len(unique_kepids)\n",
    "\n",
    "split_ratios = [0.8, 0.1, 0.1]\n",
    "train_kepids = unique_kepids[:int(split_ratios[0] * n_kepids)]\n",
    "val_kepids = unique_kepids[int(split_ratios[0] * n_kepids): int((sum(split_ratios[:2])) * n_kepids)]\n",
    "test_kepids = unique_kepids[int((sum(split_ratios[:2])) * n_kepids):]\n",
    "\n",
    "train_df = dataset_df.loc[dataset_df['kepid'].isin(train_kepids)].reset_index(inplace=False, drop=True)\n",
    "val_df = dataset_df.loc[dataset_df['kepid'].isin(val_kepids)].reset_index(inplace=False, drop=True)\n",
    "test_df = dataset_df.loc[dataset_df['kepid'].isin(test_kepids)].reset_index(inplace=False, drop=True)\n",
    "\n",
    "train_df.to_csv(exp_root_dir / 'train_set.csv', index=False)\n",
    "val_df.to_csv(exp_root_dir / 'val_set.csv', index=False)\n",
    "test_df.to_csv(exp_root_dir / 'test_set.csv', index=False)"
   ]
  },
  {
   "cell_type": "code",
   "execution_count": 158,
   "outputs": [
    {
     "name": "stdout",
     "output_type": "stream",
     "text": [
      "Size of training set: 2147\n",
      "Size of validation set: 244\n",
      "Size of test set: 257\n"
     ]
    }
   ],
   "source": [
    "print(f'Size of training set: {len(train_df)}')\n",
    "print(f'Size of validation set: {len(val_df)}')\n",
    "print(f'Size of test set: {len(test_df)}')"
   ],
   "metadata": {
    "collapsed": false,
    "ExecuteTime": {
     "end_time": "2023-06-05T18:26:29.444365Z",
     "start_time": "2023-06-05T18:26:29.436824Z"
    }
   }
  }
 ],
 "metadata": {
  "kernelspec": {
   "display_name": "Python 3 (ipykernel)",
   "language": "python",
   "name": "python3"
  },
  "language_info": {
   "codemirror_mode": {
    "name": "ipython",
    "version": 3
   },
   "file_extension": ".py",
   "mimetype": "text/x-python",
   "name": "python",
   "nbconvert_exporter": "python",
   "pygments_lexer": "ipython3",
   "version": "3.8.10"
  }
 },
 "nbformat": 4,
 "nbformat_minor": 5
}
